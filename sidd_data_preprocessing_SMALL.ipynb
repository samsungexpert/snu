{
 "cells": [
  {
   "cell_type": "code",
   "execution_count": 153,
   "id": "68d311d0",
   "metadata": {
    "ExecuteTime": {
     "end_time": "2022-11-07T09:37:03.665571Z",
     "start_time": "2022-11-07T09:37:01.698710Z"
    }
   },
   "outputs": [],
   "source": [
    "import os, glob\n",
    "import tqdm\n",
    "import numpy as np\n",
    "import matplotlib.pyplot as plt\n",
    "import PIL.Image as Image\n",
    "from IPython import display\n",
    "import mat73\n",
    "import scipy.io\n",
    "from skimage import io, transform\n",
    "import matplotlib.patches as patches\n",
    "import tensorflow as tf"
   ]
  },
  {
   "cell_type": "markdown",
   "id": "e4d7dde5",
   "metadata": {},
   "source": [
    "# SMALL"
   ]
  },
  {
   "cell_type": "code",
   "execution_count": 63,
   "id": "0885447d",
   "metadata": {
    "ExecuteTime": {
     "end_time": "2022-11-07T06:34:50.778893Z",
     "start_time": "2022-11-07T06:34:50.774956Z"
    }
   },
   "outputs": [],
   "source": [
    "path_sidd_small_raw = '/dataset/SIDD/small/SIDD_Small_Raw_Only/Data'"
   ]
  },
  {
   "cell_type": "code",
   "execution_count": 64,
   "id": "3764f0a7",
   "metadata": {
    "ExecuteTime": {
     "end_time": "2022-11-07T06:34:51.494659Z",
     "start_time": "2022-11-07T06:34:51.475062Z"
    }
   },
   "outputs": [
    {
     "name": "stdout",
     "output_type": "stream",
     "text": [
      "160\n",
      "160\n",
      "160\n",
      " /dataset/SIDD/small/SIDD_Small_Raw_Only/Data/0001_001_S6_00100_00060_3200_L/GT_RAW_010.MAT \n",
      " /dataset/SIDD/small/SIDD_Small_Raw_Only/Data/0001_001_S6_00100_00060_3200_L/NOISY_RAW_010.MAT \n",
      " /dataset/SIDD/small/SIDD_Small_Raw_Only/Data/0001_001_S6_00100_00060_3200_L/METADATA_RAW_010.MAT\n"
     ]
    }
   ],
   "source": [
    "list_raw_gt    = glob.glob(os.path.join(path_sidd_small_raw, '*/*GT_RAW*.MAT'), recursive=True)\n",
    "list_raw_noisy = glob.glob(os.path.join(path_sidd_small_raw, '*/*NOISY_RAW*.MAT'), recursive=True)\n",
    "list_metadata  = glob.glob(os.path.join(path_sidd_small_raw, '*/*METADATA*.MAT'), recursive=True)\n",
    "\n",
    "list_raw_gt.sort()\n",
    "list_raw_noisy.sort()\n",
    "list_metadata.sort()\n",
    "# for l in list_raw_gt:\n",
    "#     print(l)\n",
    "print(len(list_raw_gt))\n",
    "print(len(list_raw_gt))\n",
    "print(len(list_metadata))\n",
    "\n",
    "for g, n, m, in zip(list_raw_gt, list_raw_noisy, list_metadata):\n",
    "    print('', g, '\\n', n, '\\n', m)\n",
    "    break"
   ]
  },
  {
   "cell_type": "code",
   "execution_count": 65,
   "id": "6b337dcc",
   "metadata": {
    "ExecuteTime": {
     "end_time": "2022-11-07T06:34:57.515179Z",
     "start_time": "2022-11-07T06:34:57.512877Z"
    }
   },
   "outputs": [],
   "source": [
    "m = next(iter(list_metadata))\n",
    "# m = '/dataset/SIDD/SIDD_Medium_Raw/Data/0028_001_IP_00100_00160_5500_N/0028_METADATA_RAW_010.MAT'"
   ]
  },
  {
   "cell_type": "code",
   "execution_count": 66,
   "id": "5f57f21a",
   "metadata": {
    "ExecuteTime": {
     "end_time": "2022-11-07T06:34:59.126941Z",
     "start_time": "2022-11-07T06:34:59.122319Z"
    }
   },
   "outputs": [
    {
     "data": {
      "text/plain": [
       "'/dataset/SIDD/small/SIDD_Small_Raw_Only/Data/0001_001_S6_00100_00060_3200_L/METADATA_RAW_010.MAT'"
      ]
     },
     "execution_count": 66,
     "metadata": {},
     "output_type": "execute_result"
    }
   ],
   "source": [
    "m"
   ]
  },
  {
   "cell_type": "code",
   "execution_count": 6,
   "id": "779a6c15",
   "metadata": {
    "ExecuteTime": {
     "end_time": "2022-11-07T02:28:17.839283Z",
     "start_time": "2022-11-07T02:28:17.834750Z"
    }
   },
   "outputs": [],
   "source": [
    "meta = scipy.io.loadmat(m)\n",
    "keys=meta['metadata'][0,0].dtype.names\n",
    "vals=meta['metadata'][0,0]\n",
    "meta = {k:v for k,v in zip(keys, vals)}"
   ]
  },
  {
   "cell_type": "code",
   "execution_count": 7,
   "id": "f81a8a46",
   "metadata": {
    "ExecuteTime": {
     "end_time": "2022-11-07T02:28:18.633857Z",
     "start_time": "2022-11-07T02:28:18.609979Z"
    }
   },
   "outputs": [
    {
     "name": "stdout",
     "output_type": "stream",
     "text": [
      "Filename ['D:\\\\_New_Dataset\\\\0001_001_S6_00100_00060_3200_L\\\\DNG\\\\DSC_9324.DNG']\n",
      "FileModDate ['19-Apr-2018 21:29:50']\n",
      "FileSize [[31993836]]\n",
      "Format ['tif']\n",
      "FormatVersion []\n",
      "Width [[5328]]\n",
      "Height [[3000]]\n",
      "BitDepth [[16]]\n",
      "ColorType ['CFA']\n",
      "FormatSignature [[73 73 42  0]]\n",
      "ByteOrder ['little-endian']\n",
      "NewSubFileType [[0]]\n",
      "BitsPerSample [[16]]\n",
      "Compression ['Uncompressed']\n",
      "PhotometricInterpretation ['CFA']\n",
      "StripOffsets [[   25836    36492    47148 ... 31961868 31972524 31983180]]\n",
      "SamplesPerPixel [[1]]\n",
      "RowsPerStrip [[1]]\n",
      "StripByteCounts [[10656 10656 10656 ... 10656 10656 10656]]\n",
      "XResolution [[72]]\n",
      "YResolution [[72]]\n",
      "ResolutionUnit ['Inch']\n",
      "Colormap []\n",
      "PlanarConfiguration ['Chunky']\n",
      "TileWidth []\n",
      "TileLength []\n",
      "TileOffsets []\n",
      "TileByteCounts []\n",
      "Orientation [[3]]\n",
      "FillOrder [[1]]\n",
      "GrayResponseUnit [[0.01]]\n",
      "MaxSampleValue [[65535]]\n",
      "MinSampleValue [[0]]\n",
      "Thresholding [[1]]\n",
      "Offset [[8]]\n",
      "ImageDescription ['Camera FV-5']\n",
      "Make ['samsung']\n",
      "Model ['SM-G925I']\n",
      "Software ['samsung/zeroltedv/zerolte:7.0/NRD90M/G925IDVU3FQD1:user/release-keys']\n",
      "DateTime ['2017:08:17 19:48:13']\n",
      "Copyright []\n",
      "ExposureTime [[0.01666667]]\n",
      "FNumber [[1.9]]\n",
      "ISOSpeedRatings [[100]]\n",
      "DateTimeOriginal ['2017:08:17 19:48:13']\n",
      "FocalLength [[4.3]]\n",
      "DNGVersion [[1 4 0 0]]\n",
      "DNGBackwardVersion [[1 1 0 0]]\n",
      "UniqueCameraModel ['SM-G925I-samsung-samsung']\n",
      "CFAPlaneColor [[0 1 2]]\n",
      "CFALayout [[1]]\n",
      "BlackLevelRepeatDim [[2 2]]\n",
      "BlackLevel [[0 0 0 0]]\n",
      "WhiteLevel [[1023]]\n",
      "DefaultScale [[1 1]]\n",
      "DefaultCropOrigin [[8 8]]\n",
      "DefaultCropSize [[5312 2984]]\n",
      "ColorMatrix1 [[ 0.6640625  -0.04589844 -0.12011719 -0.54296875  1.43847656  0.07128906\n",
      "  -0.17675781  0.40527344  0.47558594]]\n",
      "ColorMatrix2 [[ 1.23828125 -0.44433594 -0.27832031 -0.45019531  1.46972656  0.06933594\n",
      "  -0.08984375  0.29199219  0.61328125]]\n",
      "CameraCalibration1 [[1 0 0 0 1 0 0 0 1]]\n",
      "CameraCalibration2 [[1 0 0 0 1 0 0 0 1]]\n",
      "AsShotNeutral [[0.55273438 1.         0.484375  ]]\n",
      "CalibrationIlluminant1 [[21]]\n",
      "CalibrationIlluminant2 [[17]]\n",
      "ActiveArea [[   0    0 3000 5328]]\n",
      "UnknownTags [[(array([[33421]], dtype=uint16), array([[0]], dtype=uint8), array([[2, 2]], dtype=uint8))]\n",
      " [(array([[33422]], dtype=uint16), array([[0]], dtype=uint8), array([[1, 0, 2, 1]], dtype=uint8))]\n",
      " [(array([[37398]], dtype=uint16), array([[0]], dtype=uint8), array([[1, 0, 0, 0]], dtype=uint8))]\n",
      " [(array([[50964]], dtype=uint16), array([[25256]], dtype=uint16), array([[ 0.74609375, -0.01953125,  0.23730469,  0.28320312,  0.703125  ,\n",
      "           0.01269531,  0.02539062, -0.45605469,  1.25585938]]))                                                                           ]\n",
      " [(array([[50965]], dtype=uint16), array([[25328]], dtype=uint16), array([[ 0.62988281,  0.01855469,  0.31542969,  0.16503906,  0.77636719,\n",
      "           0.05859375,  0.01855469, -0.84960938,  1.65625   ]]))                                                                           ]\n",
      " [(array([[51009]], dtype=uint16), array([[25400]], dtype=uint16), array([[  0,   0,   0,   4,   0,   0,   0,   9,   1,   3,   0,   0,   0,\n",
      "            0,   0,   1,   0,   0,   0,  80,   0,   0,   0,   0,   0,   0,\n",
      "            0,   1,   0,   0,  11, 183,   0,   0,  20, 207,   0,   0,   0,\n",
      "            0,   0,   0,   0,   1,   0,   0,   0,   2,   0,   0,   0,   2,\n",
      "            0,   0,   0,   1,   0,   0,   0,   1,  63, 240,   0,   0,   0,\n",
      "            0,   0,   0,  63, 240,   0,   0,   0,   0,   0,   0,   0,   0,\n",
      "            0,   0,   0,   0,   0,   0,   0,   0,   0,   0,   0,   0,   0,\n",
      "            0,   0,   0,   0,   1,  63, 128,   0,   0,   0,   0,   0,   9,\n",
      "            1,   3,   0,   0,   0,   0,   0,   1,   0,   0,   0,  80,   0,\n",
      "            0,   0,   0,   0,   0,   0,   0,   0,   0,  11, 183,   0,   0,\n",
      "           20, 207,   0,   0,   0,   0,   0,   0,   0,   1,   0,   0,   0,\n",
      "            2,   0,   0,   0,   2,   0,   0,   0,   1,   0,   0,   0,   1,\n",
      "           63, 240,   0,   0,   0,   0,   0,   0,  63, 240,   0,   0,   0,\n",
      "            0,   0,   0,   0,   0,   0,   0,   0,   0,   0,   0,   0,   0,\n",
      "            0,   0,   0,   0,   0,   0,   0,   0,   0,   1,  63, 128,   0,\n",
      "            0,   0,   0,   0,   9,   1,   3,   0,   0,   0,   0,   0,   1,\n",
      "            0,   0,   0,  80,   0,   0,   0,   1,   0,   0,   0,   1,   0,\n",
      "            0,  11, 183,   0,   0,  20, 207,   0,   0,   0,   0,   0,   0,\n",
      "            0,   1,   0,   0,   0,   2,   0,   0,   0,   2,   0,   0,   0,\n",
      "            1,   0,   0,   0,   1,  63, 240,   0,   0,   0,   0,   0,   0,\n",
      "           63, 240,   0,   0,   0,   0,   0,   0,   0,   0,   0,   0,   0,\n",
      "            0,   0,   0,   0,   0,   0,   0,   0,   0,   0,   0,   0,   0,\n",
      "            0,   1,  63, 128,   0,   0,   0,   0,   0,   9,   1,   3,   0,\n",
      "            0,   0,   0,   0,   1,   0,   0,   0,  80,   0,   0,   0,   1,\n",
      "            0,   0,   0,   0,   0,   0,  11, 183,   0,   0,  20, 207,   0,\n",
      "            0,   0,   0,   0,   0,   0,   1,   0,   0,   0,   2,   0,   0,\n",
      "            0,   2,   0,   0,   0,   1,   0,   0,   0,   1,  63, 240,   0,\n",
      "            0,   0,   0,   0,   0,  63, 240,   0,   0,   0,   0,   0,   0,\n",
      "            0,   0,   0,   0,   0,   0,   0,   0,   0,   0,   0,   0,   0,\n",
      "            0,   0,   0,   0,   0,   0,   1,  63, 128,   0,   0]],\n",
      "        dtype=uint8))                                                                                                                      ]\n",
      " [(array([[51022]], dtype=uint16), array([[0]], dtype=uint8), array([[0, 0, 0, 0]], dtype=uint8))]\n",
      " [(array([[51041]], dtype=uint16), array([[25788]], dtype=uint16), array([[0.00047946, 0.        , 0.00047946, 0.        , 0.00047946,\n",
      "          0.        ]]))                                                                                                              ]]\n"
     ]
    }
   ],
   "source": [
    "for k, v in meta.items():\n",
    "    print(k, v)"
   ]
  },
  {
   "cell_type": "code",
   "execution_count": 8,
   "id": "4efb8b81",
   "metadata": {
    "ExecuteTime": {
     "end_time": "2022-11-07T02:33:08.773032Z",
     "start_time": "2022-11-07T02:33:08.768842Z"
    }
   },
   "outputs": [],
   "source": [
    "meta = scipy.io.loadmat(m)\n",
    "keys=meta['metadata'][0].dtype.names\n",
    "vals=meta['metadata'][0]\n",
    "meta = {k:v for k,v in zip(keys, vals)}\n"
   ]
  },
  {
   "cell_type": "code",
   "execution_count": 9,
   "id": "3cf4ff48",
   "metadata": {
    "ExecuteTime": {
     "end_time": "2022-11-07T02:33:10.285456Z",
     "start_time": "2022-11-07T02:33:10.282120Z"
    }
   },
   "outputs": [
    {
     "data": {
      "text/plain": [
       "1"
      ]
     },
     "execution_count": 9,
     "metadata": {},
     "output_type": "execute_result"
    }
   ],
   "source": [
    "len(meta)"
   ]
  },
  {
   "cell_type": "code",
   "execution_count": 10,
   "id": "0c84ffcb",
   "metadata": {
    "ExecuteTime": {
     "end_time": "2022-11-07T02:33:11.182993Z",
     "start_time": "2022-11-07T02:33:11.179647Z"
    }
   },
   "outputs": [
    {
     "data": {
      "text/plain": [
       "dict"
      ]
     },
     "execution_count": 10,
     "metadata": {},
     "output_type": "execute_result"
    }
   ],
   "source": [
    "type(meta)"
   ]
  },
  {
   "cell_type": "code",
   "execution_count": 11,
   "id": "9d4775d7",
   "metadata": {
    "ExecuteTime": {
     "end_time": "2022-11-07T02:33:13.631812Z",
     "start_time": "2022-11-07T02:33:13.628469Z"
    }
   },
   "outputs": [
    {
     "data": {
      "text/plain": [
       "dict_keys(['Filename'])"
      ]
     },
     "execution_count": 11,
     "metadata": {},
     "output_type": "execute_result"
    }
   ],
   "source": [
    "meta.keys()"
   ]
  },
  {
   "cell_type": "code",
   "execution_count": 12,
   "id": "99b77db9",
   "metadata": {
    "ExecuteTime": {
     "end_time": "2022-11-07T02:33:14.958568Z",
     "start_time": "2022-11-07T02:33:14.955986Z"
    }
   },
   "outputs": [],
   "source": [
    "meta2 = meta['Filename']"
   ]
  },
  {
   "cell_type": "code",
   "execution_count": 13,
   "id": "34793cca",
   "metadata": {
    "ExecuteTime": {
     "end_time": "2022-11-07T02:33:15.476376Z",
     "start_time": "2022-11-07T02:33:15.473043Z"
    }
   },
   "outputs": [
    {
     "data": {
      "text/plain": [
       "66"
      ]
     },
     "execution_count": 13,
     "metadata": {},
     "output_type": "execute_result"
    }
   ],
   "source": [
    "len(meta2)"
   ]
  },
  {
   "cell_type": "code",
   "execution_count": 14,
   "id": "578a709a",
   "metadata": {
    "ExecuteTime": {
     "end_time": "2022-11-07T02:33:17.379801Z",
     "start_time": "2022-11-07T02:33:17.375745Z"
    }
   },
   "outputs": [
    {
     "data": {
      "text/plain": [
       "array(['D:\\\\_New_Dataset\\\\0001_001_S6_00100_00060_3200_L\\\\DNG\\\\DSC_9324.DNG'],\n",
       "      dtype='<U63')"
      ]
     },
     "execution_count": 14,
     "metadata": {},
     "output_type": "execute_result"
    }
   ],
   "source": [
    "meta2[0]"
   ]
  },
  {
   "cell_type": "code",
   "execution_count": 67,
   "id": "8533ae92",
   "metadata": {
    "ExecuteTime": {
     "end_time": "2022-11-07T06:35:46.910789Z",
     "start_time": "2022-11-07T06:35:46.885799Z"
    }
   },
   "outputs": [
    {
     "name": "stdout",
     "output_type": "stream",
     "text": [
      "Filename ['D:\\\\_New_Dataset\\\\0001_001_S6_00100_00060_3200_L\\\\DNG\\\\DSC_9324.DNG']\n",
      "FileModDate ['19-Apr-2018 21:29:50']\n",
      "FileSize [[31993836]]\n",
      "Format ['tif']\n",
      "FormatVersion []\n",
      "Width [[5328]]\n",
      "Height [[3000]]\n",
      "BitDepth [[16]]\n",
      "ColorType ['CFA']\n",
      "FormatSignature [[73 73 42  0]]\n",
      "ByteOrder ['little-endian']\n",
      "NewSubFileType [[0]]\n",
      "BitsPerSample [[16]]\n",
      "Compression ['Uncompressed']\n",
      "PhotometricInterpretation ['CFA']\n",
      "StripOffsets [[   25836    36492    47148 ... 31961868 31972524 31983180]]\n",
      "SamplesPerPixel [[1]]\n",
      "RowsPerStrip [[1]]\n",
      "StripByteCounts [[10656 10656 10656 ... 10656 10656 10656]]\n",
      "XResolution [[72]]\n",
      "YResolution [[72]]\n",
      "ResolutionUnit ['Inch']\n",
      "Colormap []\n",
      "PlanarConfiguration ['Chunky']\n",
      "TileWidth []\n",
      "TileLength []\n",
      "TileOffsets []\n",
      "TileByteCounts []\n",
      "Orientation [[3]]\n",
      "FillOrder [[1]]\n",
      "GrayResponseUnit [[0.01]]\n",
      "MaxSampleValue [[65535]]\n",
      "MinSampleValue [[0]]\n",
      "Thresholding [[1]]\n",
      "Offset [[8]]\n",
      "ImageDescription ['Camera FV-5']\n",
      "Make ['samsung']\n",
      "Model ['SM-G925I']\n",
      "Software ['samsung/zeroltedv/zerolte:7.0/NRD90M/G925IDVU3FQD1:user/release-keys']\n",
      "DateTime ['2017:08:17 19:48:13']\n",
      "Copyright []\n",
      "ExposureTime [[0.01666667]]\n",
      "FNumber [[1.9]]\n",
      "ISOSpeedRatings [[100]]\n",
      "DateTimeOriginal ['2017:08:17 19:48:13']\n",
      "FocalLength [[4.3]]\n",
      "DNGVersion [[1 4 0 0]]\n",
      "DNGBackwardVersion [[1 1 0 0]]\n",
      "UniqueCameraModel ['SM-G925I-samsung-samsung']\n",
      "CFAPlaneColor [[0 1 2]]\n",
      "CFALayout [[1]]\n",
      "BlackLevelRepeatDim [[2 2]]\n",
      "BlackLevel [[0 0 0 0]]\n",
      "WhiteLevel [[1023]]\n",
      "DefaultScale [[1 1]]\n",
      "DefaultCropOrigin [[8 8]]\n",
      "DefaultCropSize [[5312 2984]]\n",
      "ColorMatrix1 [[ 0.6640625  -0.04589844 -0.12011719 -0.54296875  1.43847656  0.07128906\n",
      "  -0.17675781  0.40527344  0.47558594]]\n",
      "ColorMatrix2 [[ 1.23828125 -0.44433594 -0.27832031 -0.45019531  1.46972656  0.06933594\n",
      "  -0.08984375  0.29199219  0.61328125]]\n",
      "CameraCalibration1 [[1 0 0 0 1 0 0 0 1]]\n",
      "CameraCalibration2 [[1 0 0 0 1 0 0 0 1]]\n",
      "AsShotNeutral [[0.55273438 1.         0.484375  ]]\n",
      "CalibrationIlluminant1 [[21]]\n",
      "CalibrationIlluminant2 [[17]]\n",
      "ActiveArea [[   0    0 3000 5328]]\n",
      "UnknownTags [[(array([[33421]], dtype=uint16), array([[0]], dtype=uint8), array([[2, 2]], dtype=uint8))]\n",
      " [(array([[33422]], dtype=uint16), array([[0]], dtype=uint8), array([[1, 0, 2, 1]], dtype=uint8))]\n",
      " [(array([[37398]], dtype=uint16), array([[0]], dtype=uint8), array([[1, 0, 0, 0]], dtype=uint8))]\n",
      " [(array([[50964]], dtype=uint16), array([[25256]], dtype=uint16), array([[ 0.74609375, -0.01953125,  0.23730469,  0.28320312,  0.703125  ,\n",
      "           0.01269531,  0.02539062, -0.45605469,  1.25585938]]))                                                                           ]\n",
      " [(array([[50965]], dtype=uint16), array([[25328]], dtype=uint16), array([[ 0.62988281,  0.01855469,  0.31542969,  0.16503906,  0.77636719,\n",
      "           0.05859375,  0.01855469, -0.84960938,  1.65625   ]]))                                                                           ]\n",
      " [(array([[51009]], dtype=uint16), array([[25400]], dtype=uint16), array([[  0,   0,   0,   4,   0,   0,   0,   9,   1,   3,   0,   0,   0,\n",
      "            0,   0,   1,   0,   0,   0,  80,   0,   0,   0,   0,   0,   0,\n",
      "            0,   1,   0,   0,  11, 183,   0,   0,  20, 207,   0,   0,   0,\n",
      "            0,   0,   0,   0,   1,   0,   0,   0,   2,   0,   0,   0,   2,\n",
      "            0,   0,   0,   1,   0,   0,   0,   1,  63, 240,   0,   0,   0,\n",
      "            0,   0,   0,  63, 240,   0,   0,   0,   0,   0,   0,   0,   0,\n",
      "            0,   0,   0,   0,   0,   0,   0,   0,   0,   0,   0,   0,   0,\n",
      "            0,   0,   0,   0,   1,  63, 128,   0,   0,   0,   0,   0,   9,\n",
      "            1,   3,   0,   0,   0,   0,   0,   1,   0,   0,   0,  80,   0,\n",
      "            0,   0,   0,   0,   0,   0,   0,   0,   0,  11, 183,   0,   0,\n",
      "           20, 207,   0,   0,   0,   0,   0,   0,   0,   1,   0,   0,   0,\n",
      "            2,   0,   0,   0,   2,   0,   0,   0,   1,   0,   0,   0,   1,\n",
      "           63, 240,   0,   0,   0,   0,   0,   0,  63, 240,   0,   0,   0,\n",
      "            0,   0,   0,   0,   0,   0,   0,   0,   0,   0,   0,   0,   0,\n",
      "            0,   0,   0,   0,   0,   0,   0,   0,   0,   1,  63, 128,   0,\n",
      "            0,   0,   0,   0,   9,   1,   3,   0,   0,   0,   0,   0,   1,\n",
      "            0,   0,   0,  80,   0,   0,   0,   1,   0,   0,   0,   1,   0,\n",
      "            0,  11, 183,   0,   0,  20, 207,   0,   0,   0,   0,   0,   0,\n",
      "            0,   1,   0,   0,   0,   2,   0,   0,   0,   2,   0,   0,   0,\n",
      "            1,   0,   0,   0,   1,  63, 240,   0,   0,   0,   0,   0,   0,\n",
      "           63, 240,   0,   0,   0,   0,   0,   0,   0,   0,   0,   0,   0,\n",
      "            0,   0,   0,   0,   0,   0,   0,   0,   0,   0,   0,   0,   0,\n",
      "            0,   1,  63, 128,   0,   0,   0,   0,   0,   9,   1,   3,   0,\n",
      "            0,   0,   0,   0,   1,   0,   0,   0,  80,   0,   0,   0,   1,\n",
      "            0,   0,   0,   0,   0,   0,  11, 183,   0,   0,  20, 207,   0,\n",
      "            0,   0,   0,   0,   0,   0,   1,   0,   0,   0,   2,   0,   0,\n",
      "            0,   2,   0,   0,   0,   1,   0,   0,   0,   1,  63, 240,   0,\n",
      "            0,   0,   0,   0,   0,  63, 240,   0,   0,   0,   0,   0,   0,\n",
      "            0,   0,   0,   0,   0,   0,   0,   0,   0,   0,   0,   0,   0,\n",
      "            0,   0,   0,   0,   0,   0,   1,  63, 128,   0,   0]],\n",
      "        dtype=uint8))                                                                                                                      ]\n",
      " [(array([[51022]], dtype=uint16), array([[0]], dtype=uint8), array([[0, 0, 0, 0]], dtype=uint8))]\n",
      " [(array([[51041]], dtype=uint16), array([[25788]], dtype=uint16), array([[0.00047946, 0.        , 0.00047946, 0.        , 0.00047946,\n",
      "          0.        ]]))                                                                                                              ]]\n"
     ]
    }
   ],
   "source": [
    "keys = meta2.dtype.names\n",
    "vals= meta2\n",
    "meta3 = {k:v for k,v in zip(keys, vals)}\n",
    "for k, v in meta3.items():\n",
    "    print(k, v)"
   ]
  },
  {
   "cell_type": "code",
   "execution_count": null,
   "id": "47f3d47b",
   "metadata": {},
   "outputs": [],
   "source": []
  },
  {
   "cell_type": "code",
   "execution_count": 16,
   "id": "3514e828",
   "metadata": {
    "ExecuteTime": {
     "end_time": "2022-11-07T02:35:11.502361Z",
     "start_time": "2022-11-07T02:35:10.791173Z"
    }
   },
   "outputs": [
    {
     "ename": "NameError",
     "evalue": "name 'metadata' is not defined",
     "output_type": "error",
     "traceback": [
      "\u001b[0;31m---------------------------------------------------------------------------\u001b[0m",
      "\u001b[0;31mNameError\u001b[0m                                 Traceback (most recent call last)",
      "Cell \u001b[0;32mIn [16], line 1\u001b[0m\n\u001b[0;32m----> 1\u001b[0m k \u001b[38;5;241m=\u001b[39m [k[\u001b[38;5;241m0\u001b[39m] \u001b[38;5;28;01mfor\u001b[39;00m k \u001b[38;5;129;01min\u001b[39;00m \u001b[38;5;28mlist\u001b[39m(\u001b[43mmetadata\u001b[49m\u001b[38;5;241m.\u001b[39mdtype)]\n",
      "\u001b[0;31mNameError\u001b[0m: name 'metadata' is not defined"
     ]
    }
   ],
   "source": [
    "k = [k[0] for k in list(metadata.dtype)]"
   ]
  },
  {
   "cell_type": "code",
   "execution_count": null,
   "id": "570d5921",
   "metadata": {
    "ExecuteTime": {
     "end_time": "2022-11-07T02:35:11.506679Z",
     "start_time": "2022-11-07T03:06:37.209Z"
    }
   },
   "outputs": [],
   "source": [
    "for k in metadata.dtype[0]:\n",
    "    print(k)"
   ]
  },
  {
   "cell_type": "code",
   "execution_count": 17,
   "id": "a273e9b5",
   "metadata": {
    "ExecuteTime": {
     "end_time": "2022-11-07T02:35:13.347577Z",
     "start_time": "2022-11-07T02:35:13.331946Z"
    }
   },
   "outputs": [
    {
     "ename": "NameError",
     "evalue": "name 'metadata' is not defined",
     "output_type": "error",
     "traceback": [
      "\u001b[0;31m---------------------------------------------------------------------------\u001b[0m",
      "\u001b[0;31mNameError\u001b[0m                                 Traceback (most recent call last)",
      "Cell \u001b[0;32mIn [17], line 1\u001b[0m\n\u001b[0;32m----> 1\u001b[0m \u001b[43mmetadata\u001b[49m\n",
      "\u001b[0;31mNameError\u001b[0m: name 'metadata' is not defined"
     ]
    }
   ],
   "source": [
    "metadata"
   ]
  },
  {
   "cell_type": "code",
   "execution_count": 18,
   "id": "f4acd387",
   "metadata": {
    "ExecuteTime": {
     "end_time": "2022-11-07T02:35:21.855179Z",
     "start_time": "2022-11-07T02:35:21.838562Z"
    }
   },
   "outputs": [
    {
     "ename": "NameError",
     "evalue": "name 'metadata' is not defined",
     "output_type": "error",
     "traceback": [
      "\u001b[0;31m---------------------------------------------------------------------------\u001b[0m",
      "\u001b[0;31mNameError\u001b[0m                                 Traceback (most recent call last)",
      "Cell \u001b[0;32mIn [18], line 1\u001b[0m\n\u001b[0;32m----> 1\u001b[0m \u001b[38;5;28mlist\u001b[39m(\u001b[43mmetadata\u001b[49m[\u001b[38;5;241m0\u001b[39m,\u001b[38;5;241m0\u001b[39m])\n",
      "\u001b[0;31mNameError\u001b[0m: name 'metadata' is not defined"
     ]
    }
   ],
   "source": [
    "list(metadata[0,0])"
   ]
  },
  {
   "cell_type": "code",
   "execution_count": null,
   "id": "a0c2726e",
   "metadata": {},
   "outputs": [],
   "source": []
  },
  {
   "cell_type": "code",
   "execution_count": null,
   "id": "0918b7ce",
   "metadata": {},
   "outputs": [],
   "source": []
  },
  {
   "cell_type": "markdown",
   "id": "558ce7cd",
   "metadata": {},
   "source": [
    "# Save as numpy"
   ]
  },
  {
   "cell_type": "code",
   "execution_count": 19,
   "id": "8c372e15",
   "metadata": {
    "ExecuteTime": {
     "end_time": "2022-11-07T02:36:44.655032Z",
     "start_time": "2022-11-07T02:36:44.645734Z"
    }
   },
   "outputs": [],
   "source": [
    "class Rect():\n",
    "    def __init__(self, x, y, width, height):\n",
    "        self.x=x\n",
    "        self.y=y\n",
    "        self.width=width\n",
    "        self.height=height\n",
    "\n",
    "def show_image(image, sz=500):\n",
    "    fig, ax = plt.subplots(3, 2, figsize=(15,15))\n",
    "    ax[0][0].imshow(image)\n",
    "    \n",
    "    \n",
    "    colors= ['gray', 'red', 'green', 'blue', 'purple']\n",
    "    \n",
    "    r1 =  Rect(1800, 750, sz, sz)\n",
    "    r2 =  Rect(2800, 1200, sz, sz)\n",
    "    r3 =  Rect(3400, 1200, sz, sz)\n",
    "    r4 =  Rect(4000, 1200, sz, sz)\n",
    "    r5 =  Rect(1800, 2200, sz, sz)\n",
    "    coors = [r1, r2, r3, r4, r5]\n",
    "    \n",
    "    rects = []\n",
    "    for coor, col in zip(coors, colors):\n",
    "        r = patches.Rectangle((coor.x, coor.y), coor.width, coor.height, linewidth=1,\n",
    "                             edgecolor=col, facecolor=\"none\")  \n",
    "        ax[0][0].add_patch(r)\n",
    "    \n",
    "    axs = [ax[0][1], ax[1][0], ax[1][1], ax[2][0], ax[2][1]]\n",
    "    for ax, coor, col in zip(axs, coors, colors):\n",
    "        ax.imshow(image[coor.y:coor.y+coor.height,\n",
    "                        coor.x:coor.x+coor.width,:], filternorm=False, resample=False)\n",
    "\n",
    "    \n",
    "        for spine in ax.spines.values():\n",
    "            spine.set_edgecolor(col)"
   ]
  },
  {
   "cell_type": "code",
   "execution_count": 20,
   "id": "3f9d050f",
   "metadata": {
    "ExecuteTime": {
     "end_time": "2022-11-07T02:36:45.545836Z",
     "start_time": "2022-11-07T02:36:45.532940Z"
    }
   },
   "outputs": [],
   "source": [
    "def load_raw(f):\n",
    "        raw = mat73.loadmat(f) \n",
    "        raw = raw['x']\n",
    "        return raw\n",
    "    \n",
    "def load_metadata(f):\n",
    "    meta = scipy.io.loadmat(f)\n",
    "    keys=meta['metadata'][0,0].dtype.names\n",
    "    vals=meta['metadata'][0,0]\n",
    "    meta = {k:v for k,v in zip(keys, vals)}\n",
    "    return meta\n",
    "\n",
    "\n",
    "def make_raw2grbg(raw, f):\n",
    "    if '_S6' in f:\n",
    "        tag = 'S6'\n",
    "        pass\n",
    "    elif '_IP' in f:\n",
    "        tag = 'IP'\n",
    "        raw    = raw[:, 1:-1]\n",
    "    elif '_GP' in f:\n",
    "        tag = 'GP'\n",
    "        raw    = raw[1:-1, :]\n",
    "    elif '_N6' in f:\n",
    "        tag = 'N6'\n",
    "        raw    = raw[1:-1, :]\n",
    "    elif '_G4' in f:\n",
    "        tag = 'G4'\n",
    "        raw    = raw[1:-1, :]\n",
    "    else:\n",
    "        print('unknown class')\n",
    "        exit()\n",
    "    return raw\n",
    "\n",
    "\n",
    "def apply_wb(raw, wb, f):\n",
    "    import copy\n",
    "    raw2 = copy.deepcopy(raw) \n",
    "    \n",
    "    raw2[0::2, 1::2] = raw2[0::2, 1::2]*wb[0]\n",
    "    raw2[1::2, 0::2] = raw2[1::2, 0::2]*wb[2]\n",
    "        \n",
    "    return raw2\n",
    "\n",
    "\n",
    "    \n",
    "def display(raw, gamma=0.25, title=''):\n",
    "    img_s_gb = raw[0::2, 0::2]\n",
    "    img_s_r  = raw[0::2, 1::2]\n",
    "    img_s_b  = raw[1::2, 0::2]\n",
    "    img_s_gr = raw[1::2, 1::2]\n",
    "\n",
    "    image_r  = transform.resize(img_s_r,  (img_s_r.shape[0]*2,  img_s_r.shape[1]*2),  anti_aliasing=True)\n",
    "    image_b  = transform.resize(img_s_b,  (img_s_b.shape[0]*2,  img_s_b.shape[1]*2),  anti_aliasing=True)\n",
    "    image_gr = transform.resize(img_s_gr, (img_s_gr.shape[0]*2, img_s_gr.shape[1]*2), anti_aliasing=True)\n",
    "    image_gb = transform.resize(img_s_gb, (img_s_gb.shape[0]*2, img_s_gb.shape[1]*2), anti_aliasing=True)\n",
    "    image_g = (image_gr+image_gb)/2\n",
    "\n",
    "    image_restored = np.concatenate((image_r[..., np.newaxis], \n",
    "                                     image_g[..., np.newaxis],\n",
    "                                     image_b[..., np.newaxis], ), \n",
    "                                    axis=2)\n",
    "    plt.figure(figsize=(16,16))\n",
    "    plt.imshow(image_restored**gamma)\n",
    "    plt.title(title)\n",
    "    plt.show()\n",
    "#     show_image(image_restored**.25, sz=100)\n",
    "    \n",
    "    "
   ]
  },
  {
   "cell_type": "code",
   "execution_count": 26,
   "id": "5306f17f",
   "metadata": {
    "ExecuteTime": {
     "end_time": "2022-11-07T02:49:07.407743Z",
     "start_time": "2022-11-07T02:46:23.868632Z"
    },
    "scrolled": true
   },
   "outputs": [
    {
     "name": "stdout",
     "output_type": "stream",
     "text": [
      "0\n",
      "height, width 3000 5328\n",
      "/dataset/SIDD/SIDD_Small_Raw_Only/Data/0001_001_S6_00100_00060_3200_L/GT_RAW_010.MAT\n",
      "/dataset/SIDD/SIDD_Small_Raw_Only/Data/0001_001_S6_00100_00060_3200_L/NOISY_RAW_010.MAT\n",
      "1\n",
      "height, width 3000 5328\n",
      "/dataset/SIDD/SIDD_Small_Raw_Only/Data/0002_001_S6_00100_00020_3200_N/GT_RAW_010.MAT\n",
      "/dataset/SIDD/SIDD_Small_Raw_Only/Data/0002_001_S6_00100_00020_3200_N/NOISY_RAW_010.MAT\n",
      "2\n",
      "height, width 3000 5328\n",
      "/dataset/SIDD/SIDD_Small_Raw_Only/Data/0003_001_S6_00100_00060_3200_H/GT_RAW_010.MAT\n",
      "/dataset/SIDD/SIDD_Small_Raw_Only/Data/0003_001_S6_00100_00060_3200_H/NOISY_RAW_010.MAT\n",
      "3\n",
      "height, width 3000 5328\n",
      "/dataset/SIDD/SIDD_Small_Raw_Only/Data/0004_001_S6_00100_00060_4400_L/GT_RAW_010.MAT\n",
      "/dataset/SIDD/SIDD_Small_Raw_Only/Data/0004_001_S6_00100_00060_4400_L/NOISY_RAW_010.MAT\n",
      "4\n",
      "height, width 3000 5328\n",
      "/dataset/SIDD/SIDD_Small_Raw_Only/Data/0005_001_S6_00100_00060_4400_N/GT_RAW_010.MAT\n",
      "/dataset/SIDD/SIDD_Small_Raw_Only/Data/0005_001_S6_00100_00060_4400_N/NOISY_RAW_010.MAT\n",
      "5\n",
      "height, width 3000 5328\n",
      "/dataset/SIDD/SIDD_Small_Raw_Only/Data/0006_001_S6_00100_00060_4400_H/GT_RAW_010.MAT\n",
      "/dataset/SIDD/SIDD_Small_Raw_Only/Data/0006_001_S6_00100_00060_4400_H/NOISY_RAW_010.MAT\n",
      "6\n",
      "height, width 3000 5328\n",
      "/dataset/SIDD/SIDD_Small_Raw_Only/Data/0007_001_S6_00100_00100_5500_L/GT_RAW_010.MAT\n",
      "/dataset/SIDD/SIDD_Small_Raw_Only/Data/0007_001_S6_00100_00100_5500_L/NOISY_RAW_010.MAT\n",
      "7\n",
      "height, width 3000 5328\n",
      "/dataset/SIDD/SIDD_Small_Raw_Only/Data/0008_001_S6_00100_00100_5500_N/GT_RAW_010.MAT\n",
      "/dataset/SIDD/SIDD_Small_Raw_Only/Data/0008_001_S6_00100_00100_5500_N/NOISY_RAW_010.MAT\n",
      "8\n",
      "height, width 3000 5328\n",
      "/dataset/SIDD/SIDD_Small_Raw_Only/Data/0010_001_S6_00800_00350_3200_N/GT_RAW_010.MAT\n",
      "/dataset/SIDD/SIDD_Small_Raw_Only/Data/0010_001_S6_00800_00350_3200_N/NOISY_RAW_010.MAT\n",
      "9\n",
      "height, width 3000 5328\n",
      "/dataset/SIDD/SIDD_Small_Raw_Only/Data/0011_001_S6_00800_00500_5500_L/GT_RAW_010.MAT\n",
      "/dataset/SIDD/SIDD_Small_Raw_Only/Data/0011_001_S6_00800_00500_5500_L/NOISY_RAW_010.MAT\n",
      "10\n",
      "height, width 3000 5328\n",
      "/dataset/SIDD/SIDD_Small_Raw_Only/Data/0012_001_S6_00800_00500_5500_N/GT_RAW_010.MAT\n",
      "/dataset/SIDD/SIDD_Small_Raw_Only/Data/0012_001_S6_00800_00500_5500_N/NOISY_RAW_010.MAT\n",
      "11\n",
      "height, width 3000 5328\n",
      "/dataset/SIDD/SIDD_Small_Raw_Only/Data/0013_001_S6_03200_01250_3200_L/GT_RAW_010.MAT\n",
      "/dataset/SIDD/SIDD_Small_Raw_Only/Data/0013_001_S6_03200_01250_3200_L/NOISY_RAW_010.MAT\n",
      "12\n",
      "height, width 3000 5328\n",
      "/dataset/SIDD/SIDD_Small_Raw_Only/Data/0014_001_S6_03200_01250_3200_N/GT_RAW_010.MAT\n",
      "/dataset/SIDD/SIDD_Small_Raw_Only/Data/0014_001_S6_03200_01250_3200_N/NOISY_RAW_010.MAT\n",
      "13\n",
      "height, width 3000 5328\n",
      "/dataset/SIDD/SIDD_Small_Raw_Only/Data/0015_001_S6_03200_01600_5500_L/GT_RAW_010.MAT\n",
      "/dataset/SIDD/SIDD_Small_Raw_Only/Data/0015_001_S6_03200_01600_5500_L/NOISY_RAW_010.MAT\n",
      "14\n",
      "height, width 3000 5328\n",
      "/dataset/SIDD/SIDD_Small_Raw_Only/Data/0016_001_S6_03200_01600_5500_N/GT_RAW_010.MAT\n",
      "/dataset/SIDD/SIDD_Small_Raw_Only/Data/0016_001_S6_03200_01600_5500_N/NOISY_RAW_010.MAT\n",
      "15\n",
      "height, width 3044 4048\n",
      "/dataset/SIDD/SIDD_Small_Raw_Only/Data/0017_001_GP_00100_00060_5500_N/GT_RAW_010.MAT\n",
      "/dataset/SIDD/SIDD_Small_Raw_Only/Data/0017_001_GP_00100_00060_5500_N/NOISY_RAW_010.MAT\n",
      "16\n",
      "height, width 3044 4048\n",
      "/dataset/SIDD/SIDD_Small_Raw_Only/Data/0018_001_GP_00100_00160_5500_L/GT_RAW_010.MAT\n",
      "/dataset/SIDD/SIDD_Small_Raw_Only/Data/0018_001_GP_00100_00160_5500_L/NOISY_RAW_010.MAT\n",
      "17\n",
      "height, width 3044 4048\n",
      "/dataset/SIDD/SIDD_Small_Raw_Only/Data/0019_001_GP_00800_00640_5500_L/GT_RAW_010.MAT\n",
      "/dataset/SIDD/SIDD_Small_Raw_Only/Data/0019_001_GP_00800_00640_5500_L/NOISY_RAW_010.MAT\n",
      "18\n",
      "height, width 3044 4048\n",
      "/dataset/SIDD/SIDD_Small_Raw_Only/Data/0020_001_GP_00800_00350_5500_N/GT_RAW_010.MAT\n",
      "/dataset/SIDD/SIDD_Small_Raw_Only/Data/0020_001_GP_00800_00350_5500_N/NOISY_RAW_010.MAT\n",
      "19\n",
      "height, width 3120 4208\n",
      "/dataset/SIDD/SIDD_Small_Raw_Only/Data/0022_001_N6_00100_00060_5500_N/GT_RAW_010.MAT\n",
      "/dataset/SIDD/SIDD_Small_Raw_Only/Data/0022_001_N6_00100_00060_5500_N/NOISY_RAW_010.MAT\n",
      "20\n",
      "height, width 3120 4208\n",
      "/dataset/SIDD/SIDD_Small_Raw_Only/Data/0023_001_N6_00800_00350_5500_N/GT_RAW_010.MAT\n",
      "/dataset/SIDD/SIDD_Small_Raw_Only/Data/0023_001_N6_00800_00350_5500_N/NOISY_RAW_010.MAT\n",
      "21\n",
      "height, width 2988 5312\n",
      "/dataset/SIDD/SIDD_Small_Raw_Only/Data/0025_001_G4_00100_00060_5500_L/GT_RAW_010.MAT\n",
      "/dataset/SIDD/SIDD_Small_Raw_Only/Data/0025_001_G4_00100_00060_5500_L/NOISY_RAW_010.MAT\n",
      "22\n",
      "height, width 2988 5312\n",
      "/dataset/SIDD/SIDD_Small_Raw_Only/Data/0027_001_G4_00800_00350_5500_L/GT_RAW_010.MAT\n",
      "/dataset/SIDD/SIDD_Small_Raw_Only/Data/0027_001_G4_00800_00350_5500_L/NOISY_RAW_010.MAT\n",
      "23\n",
      "height, width 3024 4032\n",
      "/dataset/SIDD/SIDD_Small_Raw_Only/Data/0028_001_IP_00100_00160_5500_N/GT_RAW_010.MAT\n",
      "/dataset/SIDD/SIDD_Small_Raw_Only/Data/0028_001_IP_00100_00160_5500_N/NOISY_RAW_010.MAT\n",
      "24\n",
      "height, width 3024 4032\n",
      "/dataset/SIDD/SIDD_Small_Raw_Only/Data/0029_001_IP_00800_01000_5500_N/GT_RAW_010.MAT\n",
      "/dataset/SIDD/SIDD_Small_Raw_Only/Data/0029_001_IP_00800_01000_5500_N/NOISY_RAW_010.MAT\n",
      "25\n",
      "height, width 3024 4032\n",
      "/dataset/SIDD/SIDD_Small_Raw_Only/Data/0030_001_IP_01600_02000_5500_N/GT_RAW_010.MAT\n",
      "/dataset/SIDD/SIDD_Small_Raw_Only/Data/0030_001_IP_01600_02000_5500_N/NOISY_RAW_010.MAT\n",
      "26\n",
      "height, width 3024 4032\n",
      "/dataset/SIDD/SIDD_Small_Raw_Only/Data/0032_001_IP_00800_01000_3200_N/GT_RAW_010.MAT\n",
      "/dataset/SIDD/SIDD_Small_Raw_Only/Data/0032_001_IP_00800_01000_3200_N/NOISY_RAW_010.MAT\n",
      "27\n",
      "height, width 3024 4032\n",
      "/dataset/SIDD/SIDD_Small_Raw_Only/Data/0033_001_IP_00100_00160_3200_N/GT_RAW_010.MAT\n",
      "/dataset/SIDD/SIDD_Small_Raw_Only/Data/0033_001_IP_00100_00160_3200_N/NOISY_RAW_010.MAT\n",
      "28\n",
      "height, width 3044 4048\n",
      "/dataset/SIDD/SIDD_Small_Raw_Only/Data/0034_002_GP_00100_00160_3200_N/GT_RAW_010.MAT\n",
      "/dataset/SIDD/SIDD_Small_Raw_Only/Data/0034_002_GP_00100_00160_3200_N/NOISY_RAW_010.MAT\n",
      "29\n",
      "height, width 3044 4048\n",
      "/dataset/SIDD/SIDD_Small_Raw_Only/Data/0035_002_GP_00800_00350_3200_N/GT_RAW_010.MAT\n",
      "/dataset/SIDD/SIDD_Small_Raw_Only/Data/0035_002_GP_00800_00350_3200_N/NOISY_RAW_010.MAT\n",
      "30\n",
      "height, width 3044 4048\n",
      "/dataset/SIDD/SIDD_Small_Raw_Only/Data/0036_002_GP_06400_03200_3200_N/GT_RAW_010.MAT\n",
      "/dataset/SIDD/SIDD_Small_Raw_Only/Data/0036_002_GP_06400_03200_3200_N/NOISY_RAW_010.MAT\n",
      "31\n",
      "height, width 3044 4048\n",
      "/dataset/SIDD/SIDD_Small_Raw_Only/Data/0038_002_GP_00800_00640_3200_L/GT_RAW_010.MAT\n",
      "/dataset/SIDD/SIDD_Small_Raw_Only/Data/0038_002_GP_00800_00640_3200_L/NOISY_RAW_010.MAT\n",
      "32\n",
      "height, width 3024 4032\n",
      "/dataset/SIDD/SIDD_Small_Raw_Only/Data/0039_002_IP_00100_00180_5500_L/GT_RAW_010.MAT\n",
      "/dataset/SIDD/SIDD_Small_Raw_Only/Data/0039_002_IP_00100_00180_5500_L/NOISY_RAW_010.MAT\n",
      "33\n",
      "height, width 3024 4032\n",
      "/dataset/SIDD/SIDD_Small_Raw_Only/Data/0040_002_IP_00800_02000_5500_L/GT_RAW_010.MAT\n",
      "/dataset/SIDD/SIDD_Small_Raw_Only/Data/0040_002_IP_00800_02000_5500_L/NOISY_RAW_010.MAT\n",
      "34\n",
      "height, width 3024 4032\n",
      "/dataset/SIDD/SIDD_Small_Raw_Only/Data/0042_002_IP_01600_03100_5500_N/GT_RAW_010.MAT\n",
      "/dataset/SIDD/SIDD_Small_Raw_Only/Data/0042_002_IP_01600_03100_5500_N/NOISY_RAW_010.MAT\n",
      "35\n",
      "height, width 3024 4032\n",
      "/dataset/SIDD/SIDD_Small_Raw_Only/Data/0043_002_IP_00800_01520_5500_N/GT_RAW_010.MAT\n",
      "/dataset/SIDD/SIDD_Small_Raw_Only/Data/0043_002_IP_00800_01520_5500_N/NOISY_RAW_010.MAT\n",
      "36\n",
      "height, width 3024 4032\n",
      "/dataset/SIDD/SIDD_Small_Raw_Only/Data/0044_002_IP_00100_00180_5500_N/GT_RAW_010.MAT\n",
      "/dataset/SIDD/SIDD_Small_Raw_Only/Data/0044_002_IP_00100_00180_5500_N/NOISY_RAW_010.MAT\n",
      "37\n",
      "height, width 2988 5312\n",
      "/dataset/SIDD/SIDD_Small_Raw_Only/Data/0045_002_G4_00100_00060_3200_L/GT_RAW_010.MAT\n",
      "/dataset/SIDD/SIDD_Small_Raw_Only/Data/0045_002_G4_00100_00060_3200_L/NOISY_RAW_010.MAT\n",
      "38\n",
      "height, width 2988 5312\n",
      "/dataset/SIDD/SIDD_Small_Raw_Only/Data/0047_002_G4_00800_00640_3200_L/GT_RAW_010.MAT\n",
      "/dataset/SIDD/SIDD_Small_Raw_Only/Data/0047_002_G4_00800_00640_3200_L/NOISY_RAW_010.MAT\n",
      "39\n",
      "height, width 3120 4208\n",
      "/dataset/SIDD/SIDD_Small_Raw_Only/Data/0048_002_N6_00100_00100_5500_L/GT_RAW_010.MAT\n",
      "/dataset/SIDD/SIDD_Small_Raw_Only/Data/0048_002_N6_00100_00100_5500_L/NOISY_RAW_010.MAT\n",
      "40\n",
      "height, width 3120 4208\n",
      "/dataset/SIDD/SIDD_Small_Raw_Only/Data/0050_002_N6_03200_03200_5500_L/GT_RAW_010.MAT\n",
      "/dataset/SIDD/SIDD_Small_Raw_Only/Data/0050_002_N6_03200_03200_5500_L/NOISY_RAW_010.MAT\n",
      "41\n"
     ]
    },
    {
     "name": "stdout",
     "output_type": "stream",
     "text": [
      "height, width 3000 5328\n",
      "/dataset/SIDD/SIDD_Small_Raw_Only/Data/0051_002_S6_00100_00060_5500_N/GT_RAW_010.MAT\n",
      "/dataset/SIDD/SIDD_Small_Raw_Only/Data/0051_002_S6_00100_00060_5500_N/NOISY_RAW_010.MAT\n",
      "42\n",
      "height, width 3000 5328\n",
      "/dataset/SIDD/SIDD_Small_Raw_Only/Data/0052_002_S6_01600_01000_5500_N/GT_RAW_010.MAT\n",
      "/dataset/SIDD/SIDD_Small_Raw_Only/Data/0052_002_S6_01600_01000_5500_N/NOISY_RAW_010.MAT\n",
      "43\n",
      "height, width 3120 4208\n",
      "/dataset/SIDD/SIDD_Small_Raw_Only/Data/0054_003_N6_00100_00160_5500_N/GT_RAW_010.MAT\n",
      "/dataset/SIDD/SIDD_Small_Raw_Only/Data/0054_003_N6_00100_00160_5500_N/NOISY_RAW_010.MAT\n",
      "44\n",
      "height, width 3120 4208\n",
      "/dataset/SIDD/SIDD_Small_Raw_Only/Data/0055_003_N6_00800_01000_5500_N/GT_RAW_010.MAT\n",
      "/dataset/SIDD/SIDD_Small_Raw_Only/Data/0055_003_N6_00800_01000_5500_N/NOISY_RAW_010.MAT\n",
      "45\n",
      "height, width 2988 5312\n",
      "/dataset/SIDD/SIDD_Small_Raw_Only/Data/0057_003_G4_00100_00125_5500_L/GT_RAW_010.MAT\n",
      "/dataset/SIDD/SIDD_Small_Raw_Only/Data/0057_003_G4_00100_00125_5500_L/NOISY_RAW_010.MAT\n",
      "46\n",
      "height, width 2988 5312\n",
      "/dataset/SIDD/SIDD_Small_Raw_Only/Data/0059_003_G4_00800_01000_5500_L/GT_RAW_010.MAT\n",
      "/dataset/SIDD/SIDD_Small_Raw_Only/Data/0059_003_G4_00800_01000_5500_L/NOISY_RAW_010.MAT\n",
      "47\n",
      "height, width 3000 5328\n",
      "/dataset/SIDD/SIDD_Small_Raw_Only/Data/0060_003_S6_00100_00100_4400_L/GT_RAW_010.MAT\n",
      "/dataset/SIDD/SIDD_Small_Raw_Only/Data/0060_003_S6_00100_00100_4400_L/NOISY_RAW_010.MAT\n",
      "48\n",
      "height, width 3000 5328\n",
      "/dataset/SIDD/SIDD_Small_Raw_Only/Data/0062_003_S6_03200_02500_4400_L/GT_RAW_010.MAT\n",
      "/dataset/SIDD/SIDD_Small_Raw_Only/Data/0062_003_S6_03200_02500_4400_L/NOISY_RAW_010.MAT\n",
      "49\n",
      "height, width 3044 4048\n",
      "/dataset/SIDD/SIDD_Small_Raw_Only/Data/0063_003_GP_00100_00100_4400_N/GT_RAW_010.MAT\n",
      "/dataset/SIDD/SIDD_Small_Raw_Only/Data/0063_003_GP_00100_00100_4400_N/NOISY_RAW_010.MAT\n",
      "50\n",
      "height, width 3044 4048\n",
      "/dataset/SIDD/SIDD_Small_Raw_Only/Data/0064_003_GP_01600_01600_4400_N/GT_RAW_010.MAT\n",
      "/dataset/SIDD/SIDD_Small_Raw_Only/Data/0064_003_GP_01600_01600_4400_N/NOISY_RAW_010.MAT\n",
      "51\n",
      "height, width 3044 4048\n",
      "/dataset/SIDD/SIDD_Small_Raw_Only/Data/0065_003_GP_10000_08460_4400_N/GT_RAW_010.MAT\n",
      "/dataset/SIDD/SIDD_Small_Raw_Only/Data/0065_003_GP_10000_08460_4400_N/NOISY_RAW_010.MAT\n",
      "52\n",
      "height, width 3044 4048\n",
      "/dataset/SIDD/SIDD_Small_Raw_Only/Data/0066_003_GP_00100_00200_3200_L/GT_RAW_010.MAT\n",
      "/dataset/SIDD/SIDD_Small_Raw_Only/Data/0066_003_GP_00100_00200_3200_L/NOISY_RAW_010.MAT\n",
      "53\n",
      "height, width 3024 4032\n",
      "/dataset/SIDD/SIDD_Small_Raw_Only/Data/0068_003_IP_00200_00400_3200_N/GT_RAW_010.MAT\n",
      "/dataset/SIDD/SIDD_Small_Raw_Only/Data/0068_003_IP_00200_00400_3200_N/NOISY_RAW_010.MAT\n",
      "54\n",
      "height, width 3024 4032\n",
      "/dataset/SIDD/SIDD_Small_Raw_Only/Data/0069_003_IP_01000_02000_3200_N/GT_RAW_010.MAT\n",
      "/dataset/SIDD/SIDD_Small_Raw_Only/Data/0069_003_IP_01000_02000_3200_N/NOISY_RAW_010.MAT\n",
      "55\n",
      "height, width 3024 4032\n",
      "/dataset/SIDD/SIDD_Small_Raw_Only/Data/0070_003_IP_02000_04000_3200_N/GT_RAW_010.MAT\n",
      "/dataset/SIDD/SIDD_Small_Raw_Only/Data/0070_003_IP_02000_04000_3200_N/NOISY_RAW_010.MAT\n",
      "56\n",
      "height, width 3024 4032\n",
      "/dataset/SIDD/SIDD_Small_Raw_Only/Data/0072_003_IP_01000_02000_5500_L/GT_RAW_010.MAT\n",
      "/dataset/SIDD/SIDD_Small_Raw_Only/Data/0072_003_IP_01000_02000_5500_L/NOISY_RAW_010.MAT\n",
      "57\n",
      "height, width 3024 4032\n",
      "/dataset/SIDD/SIDD_Small_Raw_Only/Data/0073_003_IP_00200_01000_5500_L/GT_RAW_010.MAT\n",
      "/dataset/SIDD/SIDD_Small_Raw_Only/Data/0073_003_IP_00200_01000_5500_L/NOISY_RAW_010.MAT\n",
      "58\n",
      "height, width 3120 4208\n",
      "/dataset/SIDD/SIDD_Small_Raw_Only/Data/0075_004_N6_00800_00080_3200_L/GT_RAW_010.MAT\n",
      "/dataset/SIDD/SIDD_Small_Raw_Only/Data/0075_004_N6_00800_00080_3200_L/NOISY_RAW_010.MAT\n",
      "59\n",
      "height, width 3120 4208\n",
      "/dataset/SIDD/SIDD_Small_Raw_Only/Data/0076_004_N6_03200_00320_3200_L/GT_RAW_010.MAT\n",
      "/dataset/SIDD/SIDD_Small_Raw_Only/Data/0076_004_N6_03200_00320_3200_L/NOISY_RAW_010.MAT\n",
      "60\n",
      "height, width 2988 5312\n",
      "/dataset/SIDD/SIDD_Small_Raw_Only/Data/0077_004_G4_00100_00025_3200_N/GT_RAW_010.MAT\n",
      "/dataset/SIDD/SIDD_Small_Raw_Only/Data/0077_004_G4_00100_00025_3200_N/NOISY_RAW_010.MAT\n",
      "61\n",
      "height, width 2988 5312\n",
      "/dataset/SIDD/SIDD_Small_Raw_Only/Data/0078_004_G4_00200_00050_3200_N/GT_RAW_010.MAT\n",
      "/dataset/SIDD/SIDD_Small_Raw_Only/Data/0078_004_G4_00200_00050_3200_N/NOISY_RAW_010.MAT\n",
      "62\n",
      "height, width 3000 5328\n",
      "/dataset/SIDD/SIDD_Small_Raw_Only/Data/0080_004_S6_00200_00050_3200_N/GT_RAW_010.MAT\n",
      "/dataset/SIDD/SIDD_Small_Raw_Only/Data/0080_004_S6_00200_00050_3200_N/NOISY_RAW_010.MAT\n",
      "63\n",
      "height, width 3000 5328\n",
      "/dataset/SIDD/SIDD_Small_Raw_Only/Data/0081_004_S6_00800_00160_4400_L/GT_RAW_010.MAT\n",
      "/dataset/SIDD/SIDD_Small_Raw_Only/Data/0081_004_S6_00800_00160_4400_L/NOISY_RAW_010.MAT\n",
      "64\n",
      "height, width 3044 4048\n",
      "/dataset/SIDD/SIDD_Small_Raw_Only/Data/0083_004_GP_00050_00020_4400_N/GT_RAW_010.MAT\n",
      "/dataset/SIDD/SIDD_Small_Raw_Only/Data/0083_004_GP_00050_00020_4400_N/NOISY_RAW_010.MAT\n",
      "65\n",
      "height, width 3044 4048\n",
      "/dataset/SIDD/SIDD_Small_Raw_Only/Data/0084_004_GP_00200_00100_4400_N/GT_RAW_010.MAT\n",
      "/dataset/SIDD/SIDD_Small_Raw_Only/Data/0084_004_GP_00200_00100_4400_N/NOISY_RAW_010.MAT\n",
      "66\n",
      "height, width 3044 4048\n",
      "/dataset/SIDD/SIDD_Small_Raw_Only/Data/0086_004_GP_00100_00100_5500_L/GT_RAW_010.MAT\n",
      "/dataset/SIDD/SIDD_Small_Raw_Only/Data/0086_004_GP_00100_00100_5500_L/NOISY_RAW_010.MAT\n",
      "67\n",
      "height, width 3044 4048\n",
      "/dataset/SIDD/SIDD_Small_Raw_Only/Data/0087_004_GP_00800_00640_5500_L/GT_RAW_010.MAT\n",
      "/dataset/SIDD/SIDD_Small_Raw_Only/Data/0087_004_GP_00800_00640_5500_L/NOISY_RAW_010.MAT\n",
      "68\n",
      "height, width 3024 4032\n",
      "/dataset/SIDD/SIDD_Small_Raw_Only/Data/0088_004_IP_00100_00050_5500_N/GT_RAW_010.MAT\n",
      "/dataset/SIDD/SIDD_Small_Raw_Only/Data/0088_004_IP_00100_00050_5500_N/NOISY_RAW_010.MAT\n",
      "69\n",
      "height, width 3024 4032\n",
      "/dataset/SIDD/SIDD_Small_Raw_Only/Data/0089_004_IP_00500_00250_5500_N/GT_RAW_010.MAT\n",
      "/dataset/SIDD/SIDD_Small_Raw_Only/Data/0089_004_IP_00500_00250_5500_N/NOISY_RAW_010.MAT\n",
      "70\n",
      "height, width 3024 4032\n",
      "/dataset/SIDD/SIDD_Small_Raw_Only/Data/0090_004_IP_01600_00750_5500_N/GT_RAW_010.MAT\n",
      "/dataset/SIDD/SIDD_Small_Raw_Only/Data/0090_004_IP_01600_00750_5500_N/NOISY_RAW_010.MAT\n",
      "71\n",
      "height, width 3024 4032\n",
      "/dataset/SIDD/SIDD_Small_Raw_Only/Data/0091_004_IP_00320_00080_3200_L/GT_RAW_010.MAT\n",
      "/dataset/SIDD/SIDD_Small_Raw_Only/Data/0091_004_IP_00320_00080_3200_L/NOISY_RAW_010.MAT\n",
      "72\n",
      "height, width 3024 4032\n",
      "/dataset/SIDD/SIDD_Small_Raw_Only/Data/0092_004_IP_00640_00125_3200_L/GT_RAW_010.MAT\n",
      "/dataset/SIDD/SIDD_Small_Raw_Only/Data/0092_004_IP_00640_00125_3200_L/NOISY_RAW_010.MAT\n",
      "73\n",
      "height, width 3120 4208\n",
      "/dataset/SIDD/SIDD_Small_Raw_Only/Data/0094_005_N6_00100_00050_3200_L/GT_RAW_010.MAT\n",
      "/dataset/SIDD/SIDD_Small_Raw_Only/Data/0094_005_N6_00100_00050_3200_L/NOISY_RAW_010.MAT\n",
      "74\n",
      "height, width 3120 4208\n",
      "/dataset/SIDD/SIDD_Small_Raw_Only/Data/0096_005_N6_01600_01000_3200_L/GT_RAW_010.MAT\n",
      "/dataset/SIDD/SIDD_Small_Raw_Only/Data/0096_005_N6_01600_01000_3200_L/NOISY_RAW_010.MAT\n",
      "75\n",
      "height, width 3120 4208\n",
      "/dataset/SIDD/SIDD_Small_Raw_Only/Data/0097_005_N6_03200_02000_3200_L/GT_RAW_010.MAT\n",
      "/dataset/SIDD/SIDD_Small_Raw_Only/Data/0097_005_N6_03200_02000_3200_L/NOISY_RAW_010.MAT\n",
      "76\n",
      "height, width 2988 5312\n",
      "/dataset/SIDD/SIDD_Small_Raw_Only/Data/0098_005_G4_00100_00050_3200_N/GT_RAW_010.MAT\n",
      "/dataset/SIDD/SIDD_Small_Raw_Only/Data/0098_005_G4_00100_00050_3200_N/NOISY_RAW_010.MAT\n",
      "77\n",
      "height, width 2988 5312\n",
      "/dataset/SIDD/SIDD_Small_Raw_Only/Data/0099_005_G4_00400_00200_3200_N/GT_RAW_010.MAT\n",
      "/dataset/SIDD/SIDD_Small_Raw_Only/Data/0099_005_G4_00400_00200_3200_N/NOISY_RAW_010.MAT\n",
      "78\n",
      "height, width 3000 5328\n",
      "/dataset/SIDD/SIDD_Small_Raw_Only/Data/0101_005_S6_00100_00050_4400_L/GT_RAW_010.MAT\n",
      "/dataset/SIDD/SIDD_Small_Raw_Only/Data/0101_005_S6_00100_00050_4400_L/NOISY_RAW_010.MAT\n",
      "79\n",
      "height, width 3000 5328\n",
      "/dataset/SIDD/SIDD_Small_Raw_Only/Data/0102_005_S6_00400_00200_4400_L/GT_RAW_010.MAT\n",
      "/dataset/SIDD/SIDD_Small_Raw_Only/Data/0102_005_S6_00400_00200_4400_L/NOISY_RAW_010.MAT\n",
      "80\n",
      "height, width 3000 5328\n",
      "/dataset/SIDD/SIDD_Small_Raw_Only/Data/0104_005_S6_03200_01600_4400_L/GT_RAW_010.MAT\n",
      "/dataset/SIDD/SIDD_Small_Raw_Only/Data/0104_005_S6_03200_01600_4400_L/NOISY_RAW_010.MAT\n",
      "81\n",
      "height, width 3044 4048\n",
      "/dataset/SIDD/SIDD_Small_Raw_Only/Data/0105_005_GP_00100_00100_4400_N/GT_RAW_010.MAT\n",
      "/dataset/SIDD/SIDD_Small_Raw_Only/Data/0105_005_GP_00100_00100_4400_N/NOISY_RAW_010.MAT\n"
     ]
    },
    {
     "name": "stdout",
     "output_type": "stream",
     "text": [
      "82\n",
      "height, width 3044 4048\n",
      "/dataset/SIDD/SIDD_Small_Raw_Only/Data/0106_005_GP_00400_00400_4400_N/GT_RAW_010.MAT\n",
      "/dataset/SIDD/SIDD_Small_Raw_Only/Data/0106_005_GP_00400_00400_4400_N/NOISY_RAW_010.MAT\n",
      "83\n",
      "height, width 3044 4048\n",
      "/dataset/SIDD/SIDD_Small_Raw_Only/Data/0107_005_GP_01600_01600_4400_N/GT_RAW_010.MAT\n",
      "/dataset/SIDD/SIDD_Small_Raw_Only/Data/0107_005_GP_01600_01600_4400_N/NOISY_RAW_010.MAT\n",
      "84\n",
      "height, width 3044 4048\n",
      "/dataset/SIDD/SIDD_Small_Raw_Only/Data/0108_005_GP_06400_06400_4400_N/GT_RAW_010.MAT\n",
      "/dataset/SIDD/SIDD_Small_Raw_Only/Data/0108_005_GP_06400_06400_4400_N/NOISY_RAW_010.MAT\n",
      "85\n",
      "height, width 3024 4032\n",
      "/dataset/SIDD/SIDD_Small_Raw_Only/Data/0110_005_IP_00100_00100_5500_L/GT_RAW_010.MAT\n",
      "/dataset/SIDD/SIDD_Small_Raw_Only/Data/0110_005_IP_00100_00100_5500_L/NOISY_RAW_010.MAT\n",
      "86\n",
      "height, width 3024 4032\n",
      "/dataset/SIDD/SIDD_Small_Raw_Only/Data/0111_005_IP_00400_00400_5500_L/GT_RAW_010.MAT\n",
      "/dataset/SIDD/SIDD_Small_Raw_Only/Data/0111_005_IP_00400_00400_5500_L/NOISY_RAW_010.MAT\n",
      "87\n",
      "height, width 3024 4032\n",
      "/dataset/SIDD/SIDD_Small_Raw_Only/Data/0113_005_IP_01600_01520_5500_L/GT_RAW_010.MAT\n",
      "/dataset/SIDD/SIDD_Small_Raw_Only/Data/0113_005_IP_01600_01520_5500_L/NOISY_RAW_010.MAT\n",
      "88\n",
      "height, width 3024 4032\n",
      "/dataset/SIDD/SIDD_Small_Raw_Only/Data/0114_005_IP_00100_00200_5500_N/GT_RAW_010.MAT\n",
      "/dataset/SIDD/SIDD_Small_Raw_Only/Data/0114_005_IP_00100_00200_5500_N/NOISY_RAW_010.MAT\n",
      "89\n",
      "height, width 3024 4032\n",
      "/dataset/SIDD/SIDD_Small_Raw_Only/Data/0115_005_IP_00400_00750_5500_N/GT_RAW_010.MAT\n",
      "/dataset/SIDD/SIDD_Small_Raw_Only/Data/0115_005_IP_00400_00750_5500_N/NOISY_RAW_010.MAT\n",
      "90\n",
      "height, width 3024 4032\n",
      "/dataset/SIDD/SIDD_Small_Raw_Only/Data/0116_005_IP_00800_01520_5500_N/GT_RAW_010.MAT\n",
      "/dataset/SIDD/SIDD_Small_Raw_Only/Data/0116_005_IP_00800_01520_5500_N/NOISY_RAW_010.MAT\n",
      "91\n",
      "height, width 3024 4032\n",
      "/dataset/SIDD/SIDD_Small_Raw_Only/Data/0117_005_IP_01600_04160_5500_N/GT_RAW_010.MAT\n",
      "/dataset/SIDD/SIDD_Small_Raw_Only/Data/0117_005_IP_01600_04160_5500_N/NOISY_RAW_010.MAT\n",
      "92\n",
      "height, width 3120 4208\n",
      "/dataset/SIDD/SIDD_Small_Raw_Only/Data/0118_006_N6_00100_00025_3200_L/GT_RAW_010.MAT\n",
      "/dataset/SIDD/SIDD_Small_Raw_Only/Data/0118_006_N6_00100_00025_3200_L/NOISY_RAW_010.MAT\n",
      "93\n",
      "height, width 3120 4208\n",
      "/dataset/SIDD/SIDD_Small_Raw_Only/Data/0120_006_N6_01600_00400_3200_L/GT_RAW_010.MAT\n",
      "/dataset/SIDD/SIDD_Small_Raw_Only/Data/0120_006_N6_01600_00400_3200_L/NOISY_RAW_010.MAT\n",
      "94\n",
      "height, width 3120 4208\n",
      "/dataset/SIDD/SIDD_Small_Raw_Only/Data/0121_006_N6_03200_01000_3200_L/GT_RAW_010.MAT\n",
      "/dataset/SIDD/SIDD_Small_Raw_Only/Data/0121_006_N6_03200_01000_3200_L/NOISY_RAW_010.MAT\n",
      "95\n",
      "height, width 2988 5312\n",
      "/dataset/SIDD/SIDD_Small_Raw_Only/Data/0122_006_G4_00100_00050_3200_N/GT_RAW_010.MAT\n",
      "/dataset/SIDD/SIDD_Small_Raw_Only/Data/0122_006_G4_00100_00050_3200_N/NOISY_RAW_010.MAT\n",
      "96\n",
      "height, width 2988 5312\n",
      "/dataset/SIDD/SIDD_Small_Raw_Only/Data/0123_006_G4_00400_00160_3200_N/GT_RAW_010.MAT\n",
      "/dataset/SIDD/SIDD_Small_Raw_Only/Data/0123_006_G4_00400_00160_3200_N/NOISY_RAW_010.MAT\n",
      "97\n",
      "height, width 3000 5328\n",
      "/dataset/SIDD/SIDD_Small_Raw_Only/Data/0125_006_S6_00100_00050_4400_L/GT_RAW_010.MAT\n",
      "/dataset/SIDD/SIDD_Small_Raw_Only/Data/0125_006_S6_00100_00050_4400_L/NOISY_RAW_010.MAT\n",
      "98\n",
      "height, width 3000 5328\n",
      "/dataset/SIDD/SIDD_Small_Raw_Only/Data/0126_006_S6_00400_00200_4400_L/GT_RAW_010.MAT\n",
      "/dataset/SIDD/SIDD_Small_Raw_Only/Data/0126_006_S6_00400_00200_4400_L/NOISY_RAW_010.MAT\n",
      "99\n",
      "height, width 3000 5328\n",
      "/dataset/SIDD/SIDD_Small_Raw_Only/Data/0127_006_S6_01600_00800_4400_L/GT_RAW_010.MAT\n",
      "/dataset/SIDD/SIDD_Small_Raw_Only/Data/0127_006_S6_01600_00800_4400_L/NOISY_RAW_010.MAT\n",
      "100\n",
      "height, width 3044 4048\n",
      "/dataset/SIDD/SIDD_Small_Raw_Only/Data/0129_006_GP_00100_00100_4400_N/GT_RAW_010.MAT\n",
      "/dataset/SIDD/SIDD_Small_Raw_Only/Data/0129_006_GP_00100_00100_4400_N/NOISY_RAW_010.MAT\n",
      "101\n",
      "height, width 3044 4048\n",
      "/dataset/SIDD/SIDD_Small_Raw_Only/Data/0130_006_GP_00400_00400_4400_N/GT_RAW_010.MAT\n",
      "/dataset/SIDD/SIDD_Small_Raw_Only/Data/0130_006_GP_00400_00400_4400_N/NOISY_RAW_010.MAT\n",
      "102\n",
      "height, width 3044 4048\n",
      "/dataset/SIDD/SIDD_Small_Raw_Only/Data/0132_006_GP_00100_00200_5500_L/GT_RAW_010.MAT\n",
      "/dataset/SIDD/SIDD_Small_Raw_Only/Data/0132_006_GP_00100_00200_5500_L/NOISY_RAW_010.MAT\n",
      "103\n",
      "height, width 3044 4048\n",
      "/dataset/SIDD/SIDD_Small_Raw_Only/Data/0133_006_GP_00800_01600_5500_L/GT_RAW_010.MAT\n",
      "/dataset/SIDD/SIDD_Small_Raw_Only/Data/0133_006_GP_00800_01600_5500_L/NOISY_RAW_010.MAT\n",
      "104\n",
      "height, width 3024 4032\n",
      "/dataset/SIDD/SIDD_Small_Raw_Only/Data/0134_006_IP_00100_00100_5500_N/GT_RAW_010.MAT\n",
      "/dataset/SIDD/SIDD_Small_Raw_Only/Data/0134_006_IP_00100_00100_5500_N/NOISY_RAW_010.MAT\n",
      "105\n",
      "height, width 3024 4032\n",
      "/dataset/SIDD/SIDD_Small_Raw_Only/Data/0135_006_IP_00400_00400_5500_N/GT_RAW_010.MAT\n",
      "/dataset/SIDD/SIDD_Small_Raw_Only/Data/0135_006_IP_00400_00400_5500_N/NOISY_RAW_010.MAT\n",
      "106\n",
      "height, width 3024 4032\n",
      "/dataset/SIDD/SIDD_Small_Raw_Only/Data/0136_006_IP_00800_00800_5500_N/GT_RAW_010.MAT\n",
      "/dataset/SIDD/SIDD_Small_Raw_Only/Data/0136_006_IP_00800_00800_5500_N/NOISY_RAW_010.MAT\n",
      "107\n",
      "height, width 3024 4032\n",
      "/dataset/SIDD/SIDD_Small_Raw_Only/Data/0137_006_IP_01600_01600_5500_N/GT_RAW_010.MAT\n",
      "/dataset/SIDD/SIDD_Small_Raw_Only/Data/0137_006_IP_01600_01600_5500_N/NOISY_RAW_010.MAT\n",
      "108\n",
      "height, width 3024 4032\n",
      "/dataset/SIDD/SIDD_Small_Raw_Only/Data/0138_006_IP_00100_00100_3200_L/GT_RAW_010.MAT\n",
      "/dataset/SIDD/SIDD_Small_Raw_Only/Data/0138_006_IP_00100_00100_3200_L/NOISY_RAW_010.MAT\n",
      "109\n",
      "height, width 3024 4032\n",
      "/dataset/SIDD/SIDD_Small_Raw_Only/Data/0139_006_IP_00200_00200_3200_L/GT_RAW_010.MAT\n",
      "/dataset/SIDD/SIDD_Small_Raw_Only/Data/0139_006_IP_00200_00200_3200_L/NOISY_RAW_010.MAT\n",
      "110\n",
      "height, width 3024 4032\n",
      "/dataset/SIDD/SIDD_Small_Raw_Only/Data/0140_006_IP_00800_00800_3200_L/GT_RAW_010.MAT\n",
      "/dataset/SIDD/SIDD_Small_Raw_Only/Data/0140_006_IP_00800_00800_3200_L/NOISY_RAW_010.MAT\n",
      "111\n",
      "height, width 3120 4208\n",
      "/dataset/SIDD/SIDD_Small_Raw_Only/Data/0142_007_N6_00100_00100_4400_N/GT_RAW_010.MAT\n",
      "/dataset/SIDD/SIDD_Small_Raw_Only/Data/0142_007_N6_00100_00100_4400_N/NOISY_RAW_010.MAT\n",
      "112\n",
      "height, width 3120 4208\n",
      "/dataset/SIDD/SIDD_Small_Raw_Only/Data/0144_007_N6_01600_01600_4400_N/GT_RAW_010.MAT\n",
      "/dataset/SIDD/SIDD_Small_Raw_Only/Data/0144_007_N6_01600_01600_4400_N/NOISY_RAW_010.MAT\n",
      "113\n",
      "height, width 3120 4208\n",
      "/dataset/SIDD/SIDD_Small_Raw_Only/Data/0145_007_N6_03200_03200_4400_N/GT_RAW_010.MAT\n",
      "/dataset/SIDD/SIDD_Small_Raw_Only/Data/0145_007_N6_03200_03200_4400_N/NOISY_RAW_010.MAT\n",
      "114\n",
      "height, width 3120 4208\n",
      "/dataset/SIDD/SIDD_Small_Raw_Only/Data/0146_007_N6_00400_00400_4400_N/GT_RAW_010.MAT\n",
      "/dataset/SIDD/SIDD_Small_Raw_Only/Data/0146_007_N6_00400_00400_4400_N/NOISY_RAW_010.MAT\n",
      "115\n",
      "height, width 2988 5312\n",
      "/dataset/SIDD/SIDD_Small_Raw_Only/Data/0147_007_G4_00100_00100_4400_L/GT_RAW_010.MAT\n",
      "/dataset/SIDD/SIDD_Small_Raw_Only/Data/0147_007_G4_00100_00100_4400_L/NOISY_RAW_010.MAT\n",
      "116\n",
      "height, width 2988 5312\n",
      "/dataset/SIDD/SIDD_Small_Raw_Only/Data/0149_007_G4_00800_00800_4400_L/GT_RAW_010.MAT\n",
      "/dataset/SIDD/SIDD_Small_Raw_Only/Data/0149_007_G4_00800_00800_4400_L/NOISY_RAW_010.MAT\n",
      "117\n",
      "height, width 3000 5328\n",
      "/dataset/SIDD/SIDD_Small_Raw_Only/Data/0150_007_S6_00100_00100_5500_L/GT_RAW_010.MAT\n",
      "/dataset/SIDD/SIDD_Small_Raw_Only/Data/0150_007_S6_00100_00100_5500_L/NOISY_RAW_010.MAT\n",
      "118\n",
      "height, width 3000 5328\n",
      "/dataset/SIDD/SIDD_Small_Raw_Only/Data/0151_007_S6_00800_00800_5500_L/GT_RAW_010.MAT\n",
      "/dataset/SIDD/SIDD_Small_Raw_Only/Data/0151_007_S6_00800_00800_5500_L/NOISY_RAW_010.MAT\n",
      "119\n",
      "height, width 3000 5328\n",
      "/dataset/SIDD/SIDD_Small_Raw_Only/Data/0152_007_S6_01600_01600_5500_L/GT_RAW_010.MAT\n",
      "/dataset/SIDD/SIDD_Small_Raw_Only/Data/0152_007_S6_01600_01600_5500_L/NOISY_RAW_010.MAT\n",
      "120\n",
      "height, width 3000 5328\n",
      "/dataset/SIDD/SIDD_Small_Raw_Only/Data/0154_007_S6_00400_00400_5500_L/GT_RAW_010.MAT\n",
      "/dataset/SIDD/SIDD_Small_Raw_Only/Data/0154_007_S6_00400_00400_5500_L/NOISY_RAW_010.MAT\n",
      "121\n",
      "height, width 3044 4048\n",
      "/dataset/SIDD/SIDD_Small_Raw_Only/Data/0155_007_GP_00100_00100_5500_N/GT_RAW_010.MAT\n",
      "/dataset/SIDD/SIDD_Small_Raw_Only/Data/0155_007_GP_00100_00100_5500_N/NOISY_RAW_010.MAT\n",
      "122\n",
      "height, width 3044 4048\n",
      "/dataset/SIDD/SIDD_Small_Raw_Only/Data/0156_007_GP_00800_00800_5500_N/GT_RAW_010.MAT\n",
      "/dataset/SIDD/SIDD_Small_Raw_Only/Data/0156_007_GP_00800_00800_5500_N/NOISY_RAW_010.MAT\n"
     ]
    },
    {
     "name": "stdout",
     "output_type": "stream",
     "text": [
      "123\n",
      "height, width 3044 4048\n",
      "/dataset/SIDD/SIDD_Small_Raw_Only/Data/0157_007_GP_01600_01600_5500_N/GT_RAW_010.MAT\n",
      "/dataset/SIDD/SIDD_Small_Raw_Only/Data/0157_007_GP_01600_01600_5500_N/NOISY_RAW_010.MAT\n",
      "124\n",
      "height, width 3024 4032\n",
      "/dataset/SIDD/SIDD_Small_Raw_Only/Data/0159_007_IP_00100_00100_3200_L/GT_RAW_010.MAT\n",
      "/dataset/SIDD/SIDD_Small_Raw_Only/Data/0159_007_IP_00100_00100_3200_L/NOISY_RAW_010.MAT\n",
      "125\n",
      "height, width 3024 4032\n",
      "/dataset/SIDD/SIDD_Small_Raw_Only/Data/0160_007_IP_00400_00400_3200_L/GT_RAW_010.MAT\n",
      "/dataset/SIDD/SIDD_Small_Raw_Only/Data/0160_007_IP_00400_00400_3200_L/NOISY_RAW_010.MAT\n",
      "126\n",
      "height, width 3024 4032\n",
      "/dataset/SIDD/SIDD_Small_Raw_Only/Data/0161_007_IP_00800_00800_3200_L/GT_RAW_010.MAT\n",
      "/dataset/SIDD/SIDD_Small_Raw_Only/Data/0161_007_IP_00800_00800_3200_L/NOISY_RAW_010.MAT\n",
      "127\n",
      "height, width 3024 4032\n",
      "/dataset/SIDD/SIDD_Small_Raw_Only/Data/0163_007_IP_00100_00100_3200_N/GT_RAW_010.MAT\n",
      "/dataset/SIDD/SIDD_Small_Raw_Only/Data/0163_007_IP_00100_00100_3200_N/NOISY_RAW_010.MAT\n",
      "128\n",
      "height, width 3024 4032\n",
      "/dataset/SIDD/SIDD_Small_Raw_Only/Data/0164_007_IP_00400_00400_3200_N/GT_RAW_010.MAT\n",
      "/dataset/SIDD/SIDD_Small_Raw_Only/Data/0164_007_IP_00400_00400_3200_N/NOISY_RAW_010.MAT\n",
      "129\n",
      "height, width 3024 4032\n",
      "/dataset/SIDD/SIDD_Small_Raw_Only/Data/0165_007_IP_00800_00800_3200_N/GT_RAW_010.MAT\n",
      "/dataset/SIDD/SIDD_Small_Raw_Only/Data/0165_007_IP_00800_00800_3200_N/NOISY_RAW_010.MAT\n",
      "130\n",
      "height, width 3024 4032\n",
      "/dataset/SIDD/SIDD_Small_Raw_Only/Data/0166_007_IP_01600_01600_3200_N/GT_RAW_010.MAT\n",
      "/dataset/SIDD/SIDD_Small_Raw_Only/Data/0166_007_IP_01600_01600_3200_N/NOISY_RAW_010.MAT\n",
      "131\n",
      "height, width 3120 4208\n",
      "/dataset/SIDD/SIDD_Small_Raw_Only/Data/0167_008_N6_00100_00050_4400_L/GT_RAW_010.MAT\n",
      "/dataset/SIDD/SIDD_Small_Raw_Only/Data/0167_008_N6_00100_00050_4400_L/NOISY_RAW_010.MAT\n",
      "132\n",
      "height, width 3120 4208\n",
      "/dataset/SIDD/SIDD_Small_Raw_Only/Data/0168_008_N6_00400_00200_4400_L/GT_RAW_010.MAT\n",
      "/dataset/SIDD/SIDD_Small_Raw_Only/Data/0168_008_N6_00400_00200_4400_L/NOISY_RAW_010.MAT\n",
      "133\n",
      "height, width 3120 4208\n",
      "/dataset/SIDD/SIDD_Small_Raw_Only/Data/0169_008_N6_00800_00400_4400_L/GT_RAW_010.MAT\n",
      "/dataset/SIDD/SIDD_Small_Raw_Only/Data/0169_008_N6_00800_00400_4400_L/NOISY_RAW_010.MAT\n",
      "134\n",
      "height, width 3120 4208\n",
      "/dataset/SIDD/SIDD_Small_Raw_Only/Data/0170_008_N6_01600_00800_4400_L/GT_RAW_010.MAT\n",
      "/dataset/SIDD/SIDD_Small_Raw_Only/Data/0170_008_N6_01600_00800_4400_L/NOISY_RAW_010.MAT\n",
      "135\n",
      "height, width 2988 5312\n",
      "/dataset/SIDD/SIDD_Small_Raw_Only/Data/0172_008_G4_00100_00100_4400_N/GT_RAW_010.MAT\n",
      "/dataset/SIDD/SIDD_Small_Raw_Only/Data/0172_008_G4_00100_00100_4400_N/NOISY_RAW_010.MAT\n",
      "136\n",
      "height, width 2988 5312\n",
      "/dataset/SIDD/SIDD_Small_Raw_Only/Data/0173_008_G4_00400_00400_4400_N/GT_RAW_010.MAT\n",
      "/dataset/SIDD/SIDD_Small_Raw_Only/Data/0173_008_G4_00400_00400_4400_N/NOISY_RAW_010.MAT\n",
      "137\n",
      "height, width 3000 5328\n",
      "/dataset/SIDD/SIDD_Small_Raw_Only/Data/0175_008_S6_00100_00025_5500_L/GT_RAW_010.MAT\n",
      "/dataset/SIDD/SIDD_Small_Raw_Only/Data/0175_008_S6_00100_00025_5500_L/NOISY_RAW_010.MAT\n",
      "138\n",
      "height, width 3000 5328\n",
      "/dataset/SIDD/SIDD_Small_Raw_Only/Data/0177_008_S6_00800_00200_5500_L/GT_RAW_010.MAT\n",
      "/dataset/SIDD/SIDD_Small_Raw_Only/Data/0177_008_S6_00800_00200_5500_L/NOISY_RAW_010.MAT\n",
      "139\n",
      "height, width 3000 5328\n",
      "/dataset/SIDD/SIDD_Small_Raw_Only/Data/0178_008_S6_01600_00400_5500_L/GT_RAW_010.MAT\n",
      "/dataset/SIDD/SIDD_Small_Raw_Only/Data/0178_008_S6_01600_00400_5500_L/NOISY_RAW_010.MAT\n",
      "140\n",
      "height, width 3000 5328\n",
      "/dataset/SIDD/SIDD_Small_Raw_Only/Data/0179_008_S6_03200_00800_5500_L/GT_RAW_010.MAT\n",
      "/dataset/SIDD/SIDD_Small_Raw_Only/Data/0179_008_S6_03200_00800_5500_L/NOISY_RAW_010.MAT\n",
      "141\n",
      "height, width 3044 4048\n",
      "/dataset/SIDD/SIDD_Small_Raw_Only/Data/0180_008_GP_00100_00100_5500_N/GT_RAW_010.MAT\n",
      "/dataset/SIDD/SIDD_Small_Raw_Only/Data/0180_008_GP_00100_00100_5500_N/NOISY_RAW_010.MAT\n",
      "142\n",
      "height, width 3044 4048\n",
      "/dataset/SIDD/SIDD_Small_Raw_Only/Data/0181_008_GP_00800_00800_5500_N/GT_RAW_010.MAT\n",
      "/dataset/SIDD/SIDD_Small_Raw_Only/Data/0181_008_GP_00800_00800_5500_N/NOISY_RAW_010.MAT\n",
      "143\n",
      "height, width 3044 4048\n",
      "/dataset/SIDD/SIDD_Small_Raw_Only/Data/0182_008_GP_03200_03200_5500_N/GT_RAW_010.MAT\n",
      "/dataset/SIDD/SIDD_Small_Raw_Only/Data/0182_008_GP_03200_03200_5500_N/NOISY_RAW_010.MAT\n",
      "144\n",
      "height, width 3024 4032\n",
      "/dataset/SIDD/SIDD_Small_Raw_Only/Data/0184_008_IP_00100_00100_3200_L/GT_RAW_010.MAT\n",
      "/dataset/SIDD/SIDD_Small_Raw_Only/Data/0184_008_IP_00100_00100_3200_L/NOISY_RAW_010.MAT\n",
      "145\n",
      "height, width 3024 4032\n",
      "/dataset/SIDD/SIDD_Small_Raw_Only/Data/0185_008_IP_00400_00400_3200_L/GT_RAW_010.MAT\n",
      "/dataset/SIDD/SIDD_Small_Raw_Only/Data/0185_008_IP_00400_00400_3200_L/NOISY_RAW_010.MAT\n",
      "146\n",
      "height, width 3024 4032\n",
      "/dataset/SIDD/SIDD_Small_Raw_Only/Data/0186_008_IP_00800_00800_3200_L/GT_RAW_010.MAT\n",
      "/dataset/SIDD/SIDD_Small_Raw_Only/Data/0186_008_IP_00800_00800_3200_L/NOISY_RAW_010.MAT\n",
      "147\n",
      "height, width 3024 4032\n",
      "/dataset/SIDD/SIDD_Small_Raw_Only/Data/0188_008_IP_00100_00100_3200_N/GT_RAW_010.MAT\n",
      "/dataset/SIDD/SIDD_Small_Raw_Only/Data/0188_008_IP_00100_00100_3200_N/NOISY_RAW_010.MAT\n",
      "148\n",
      "height, width 3024 4032\n",
      "/dataset/SIDD/SIDD_Small_Raw_Only/Data/0189_008_IP_00400_00400_3200_N/GT_RAW_010.MAT\n",
      "/dataset/SIDD/SIDD_Small_Raw_Only/Data/0189_008_IP_00400_00400_3200_N/NOISY_RAW_010.MAT\n",
      "149\n",
      "height, width 3024 4032\n",
      "/dataset/SIDD/SIDD_Small_Raw_Only/Data/0190_008_IP_00800_00800_3200_N/GT_RAW_010.MAT\n",
      "/dataset/SIDD/SIDD_Small_Raw_Only/Data/0190_008_IP_00800_00800_3200_N/NOISY_RAW_010.MAT\n",
      "150\n",
      "height, width 3024 4032\n",
      "/dataset/SIDD/SIDD_Small_Raw_Only/Data/0191_008_IP_01600_01600_3200_N/GT_RAW_010.MAT\n",
      "/dataset/SIDD/SIDD_Small_Raw_Only/Data/0191_008_IP_01600_01600_3200_N/NOISY_RAW_010.MAT\n",
      "151\n",
      "height, width 3024 4032\n",
      "/dataset/SIDD/SIDD_Small_Raw_Only/Data/0192_009_IP_00100_00200_3200_N/GT_RAW_010.MAT\n",
      "/dataset/SIDD/SIDD_Small_Raw_Only/Data/0192_009_IP_00100_00200_3200_N/NOISY_RAW_010.MAT\n",
      "152\n",
      "height, width 3024 4032\n",
      "/dataset/SIDD/SIDD_Small_Raw_Only/Data/0193_009_IP_00800_02000_3200_N/GT_RAW_010.MAT\n",
      "/dataset/SIDD/SIDD_Small_Raw_Only/Data/0193_009_IP_00800_02000_3200_N/NOISY_RAW_010.MAT\n",
      "153\n",
      "height, width 3024 4032\n",
      "/dataset/SIDD/SIDD_Small_Raw_Only/Data/0194_009_IP_01600_04000_3200_N/GT_RAW_010.MAT\n",
      "/dataset/SIDD/SIDD_Small_Raw_Only/Data/0194_009_IP_01600_04000_3200_N/NOISY_RAW_010.MAT\n",
      "154\n",
      "height, width 3024 4032\n",
      "/dataset/SIDD/SIDD_Small_Raw_Only/Data/0195_009_IP_01600_04000_5500_L/GT_RAW_010.MAT\n",
      "/dataset/SIDD/SIDD_Small_Raw_Only/Data/0195_009_IP_01600_04000_5500_L/NOISY_RAW_010.MAT\n",
      "155\n",
      "height, width 3024 4032\n",
      "/dataset/SIDD/SIDD_Small_Raw_Only/Data/0196_009_IP_00800_02000_5500_L/GT_RAW_010.MAT\n",
      "/dataset/SIDD/SIDD_Small_Raw_Only/Data/0196_009_IP_00800_02000_5500_L/NOISY_RAW_010.MAT\n",
      "156\n",
      "height, width 3024 4032\n",
      "/dataset/SIDD/SIDD_Small_Raw_Only/Data/0197_009_IP_00100_00200_5500_L/GT_RAW_010.MAT\n",
      "/dataset/SIDD/SIDD_Small_Raw_Only/Data/0197_009_IP_00100_00200_5500_L/NOISY_RAW_010.MAT\n",
      "157\n",
      "height, width 3044 4048\n",
      "/dataset/SIDD/SIDD_Small_Raw_Only/Data/0198_010_GP_00100_00200_5500_N/GT_RAW_010.MAT\n",
      "/dataset/SIDD/SIDD_Small_Raw_Only/Data/0198_010_GP_00100_00200_5500_N/NOISY_RAW_010.MAT\n",
      "158\n",
      "height, width 3044 4048\n",
      "/dataset/SIDD/SIDD_Small_Raw_Only/Data/0199_010_GP_00800_01600_5500_N/GT_RAW_010.MAT\n",
      "/dataset/SIDD/SIDD_Small_Raw_Only/Data/0199_010_GP_00800_01600_5500_N/NOISY_RAW_010.MAT\n",
      "159\n",
      "height, width 3044 4048\n",
      "/dataset/SIDD/SIDD_Small_Raw_Only/Data/0200_010_GP_01600_03200_5500_N/GT_RAW_010.MAT\n",
      "/dataset/SIDD/SIDD_Small_Raw_Only/Data/0200_010_GP_01600_03200_5500_N/NOISY_RAW_010.MAT\n"
     ]
    }
   ],
   "source": [
    "def save_as_numpy(fgt, fniosy, fmeta):\n",
    "    # load data\n",
    "    raw_gt = load_raw(fgt)    \n",
    "    raw_noisy = load_raw(fnoisy)\n",
    "    metadata = load_metadata(fmeta)\n",
    "    \n",
    "    # get resolution and reshape\n",
    "    width  = metadata['Width'].item(0)\n",
    "    height = metadata['Height'].item(0)\n",
    "    if '_IP_' in fgt:\n",
    "        width = 4032\n",
    "        height = 3024\n",
    "    \n",
    "    print('height, width', height, width)\n",
    "    \n",
    "    raw_gt    = raw_gt.reshape((height, width))\n",
    "    raw_noisy = raw_noisy.reshape((height, width))\n",
    "    \n",
    "    \n",
    "#     # get white balance\n",
    "    wb = 1/metadata['AsShotNeutral'].reshape(-1)\n",
    "    \n",
    "    \n",
    "#     print('raw_gt.shape',raw_gt.shape)\n",
    "#     print('raw_noisy.shape',raw_noisy.shape)\n",
    "    \n",
    "    raw_gt = make_raw2grbg(raw_gt, fgt)\n",
    "    raw_noisy = make_raw2grbg(raw_noisy, fnoisy)\n",
    "    \n",
    "#     display(raw_gt, gamma=0.25, title='before wb')\n",
    "    \n",
    "    raw_gt_wb    = apply_wb(raw_gt,    wb, fgt)    \n",
    "    raw_noisy_wb = apply_wb(raw_noisy, wb, fnoisy)    \n",
    "    \n",
    "#     display(raw_gt_wb, gamma=0.25, title='after wb')\n",
    "     \n",
    "#     print('raw_gt_wb2.shape',raw_gt_wb.shape)\n",
    "#     print('raw_noisy_wb2.shape',raw_noisy_wb.shape)\n",
    "    print(fgt)\n",
    "    print(fnoisy)\n",
    "    \n",
    "    \n",
    "    def save_it(raw, f, wb):\n",
    "    \n",
    "        fname = f.split('/')[-1]\n",
    "        idx = f.find(fname)\n",
    "#         print('--> ',f[:idx-1], fname)\n",
    "        fname = fname[:-4] + f\"_Rgain{wb[0]:.3f}_Bgain{wb[2]:.3f}.npy\"\n",
    "        fname = os.path.join(f[:idx-1], fname)\n",
    "#         print('==>   ',fname)\n",
    "        np.save(fname, raw)\n",
    "        \n",
    "        \n",
    "#     print('fgt', fgt)       \n",
    "    save_it(raw_gt,    fgt,    wb)\n",
    "#     print('fnoisy', fnoisy)   \n",
    "    save_it(raw_noisy, fnoisy, wb)\n",
    "    \n",
    "#     raw_gt_wb.save(fname_gt)\n",
    "#     np.save(fname_gt, raw_gt_wb)\n",
    "    \n",
    "    \n",
    "    \n",
    "    fname_gt = fgt.split('/')[-1]\n",
    "    \n",
    "     \n",
    "\n",
    "    return\n",
    "\n",
    "\n",
    "\n",
    "for idx, (fgt, fnoisy, fmeta) in enumerate(zip(list_raw_gt, list_raw_noisy, list_metadata)):\n",
    "    print(idx)   \n",
    "#     if '_IP_' not in fgt:\n",
    "#         continue\n",
    "    save_as_numpy(fgt, fnoisy, fmeta)\n",
    "#     break"
   ]
  },
  {
   "cell_type": "markdown",
   "id": "0a99480b",
   "metadata": {},
   "source": [
    "# copy Raw(npy) to sRGB folder"
   ]
  },
  {
   "cell_type": "code",
   "execution_count": 40,
   "id": "62390d8b",
   "metadata": {
    "ExecuteTime": {
     "end_time": "2022-11-07T06:06:32.046192Z",
     "start_time": "2022-11-07T06:06:32.027730Z"
    }
   },
   "outputs": [],
   "source": [
    "base_dir = '/dataset/SIDD/small'\n",
    "raw_dir  = 'SIDD_Small_Raw_Only'\n",
    "srgb_dir = 'SIDD_Small_sRGB_Only'\n",
    "\n",
    "\n",
    "list_raw   = glob.glob(os.path.join(base_dir, raw_dir, '**/*.npy'), recursive=True)\n",
    "list_srgb  = glob.glob(os.path.join(base_dir, srgb_dir, '**/*.PNG'), recursive=True)\n",
    "\n",
    "list_raw.sort()\n",
    "list_srgb.sort()"
   ]
  },
  {
   "cell_type": "code",
   "execution_count": 41,
   "id": "f2b6d171",
   "metadata": {
    "ExecuteTime": {
     "end_time": "2022-11-07T06:06:32.413001Z",
     "start_time": "2022-11-07T06:06:32.410029Z"
    }
   },
   "outputs": [
    {
     "name": "stdout",
     "output_type": "stream",
     "text": [
      "320 320\n"
     ]
    }
   ],
   "source": [
    "print(len(list_raw), len(list_srgb))"
   ]
  },
  {
   "cell_type": "code",
   "execution_count": 50,
   "id": "d215b6c7",
   "metadata": {
    "ExecuteTime": {
     "end_time": "2022-11-07T06:19:32.829910Z",
     "start_time": "2022-11-07T06:19:22.689358Z"
    }
   },
   "outputs": [
    {
     "name": "stdout",
     "output_type": "stream",
     "text": [
      "0 \n",
      "  /dataset/SIDD/SIDD_Small_Raw_Only/Data/0001_001_S6_00100_00060_3200_L/GT_RAW_010_Rgain1.809_Bgain2.065.npy \n",
      "  /dataset/SIDD/SIDD_Small_sRGB_Only/Data/0001_001_S6_00100_00060_3200_L/GT_SRGB_010.PNG\n",
      "\n",
      "GT_RAW_010_Rgain1.809_Bgain2.065.npy\n",
      "/dataset/SIDD/SIDD_Small_sRGB_Only/Data/0001_001_S6_00100_00060_3200_L\n",
      "/dataset/SIDD/SIDD_Small_sRGB_Only/Data/0001_001_S6_00100_00060_3200_L/GT_RAW_010_Rgain1.809_Bgain2.065.npy\n",
      "1 \n",
      "  /dataset/SIDD/SIDD_Small_Raw_Only/Data/0001_001_S6_00100_00060_3200_L/NOISY_RAW_010_Rgain1.809_Bgain2.065.npy \n",
      "  /dataset/SIDD/SIDD_Small_sRGB_Only/Data/0001_001_S6_00100_00060_3200_L/NOISY_SRGB_010.PNG\n",
      "\n",
      "NOISY_RAW_010_Rgain1.809_Bgain2.065.npy\n",
      "/dataset/SIDD/SIDD_Small_sRGB_Only/Data/0001_001_S6_00100_00060_3200_L\n",
      "/dataset/SIDD/SIDD_Small_sRGB_Only/Data/0001_001_S6_00100_00060_3200_L/NOISY_RAW_010_Rgain1.809_Bgain2.065.npy\n",
      "2 \n",
      "  /dataset/SIDD/SIDD_Small_Raw_Only/Data/0002_001_S6_00100_00020_3200_N/GT_RAW_010_Rgain1.787_Bgain2.048.npy \n",
      "  /dataset/SIDD/SIDD_Small_sRGB_Only/Data/0002_001_S6_00100_00020_3200_N/GT_SRGB_010.PNG\n",
      "\n",
      "GT_RAW_010_Rgain1.787_Bgain2.048.npy\n",
      "/dataset/SIDD/SIDD_Small_sRGB_Only/Data/0002_001_S6_00100_00020_3200_N\n",
      "/dataset/SIDD/SIDD_Small_sRGB_Only/Data/0002_001_S6_00100_00020_3200_N/GT_RAW_010_Rgain1.787_Bgain2.048.npy\n",
      "3 \n",
      "  /dataset/SIDD/SIDD_Small_Raw_Only/Data/0002_001_S6_00100_00020_3200_N/NOISY_RAW_010_Rgain1.787_Bgain2.048.npy \n",
      "  /dataset/SIDD/SIDD_Small_sRGB_Only/Data/0002_001_S6_00100_00020_3200_N/NOISY_SRGB_010.PNG\n",
      "\n",
      "NOISY_RAW_010_Rgain1.787_Bgain2.048.npy\n",
      "/dataset/SIDD/SIDD_Small_sRGB_Only/Data/0002_001_S6_00100_00020_3200_N\n",
      "/dataset/SIDD/SIDD_Small_sRGB_Only/Data/0002_001_S6_00100_00020_3200_N/NOISY_RAW_010_Rgain1.787_Bgain2.048.npy\n",
      "4 \n",
      "  /dataset/SIDD/SIDD_Small_Raw_Only/Data/0003_001_S6_00100_00060_3200_H/GT_RAW_010_Rgain1.809_Bgain1.819.npy \n",
      "  /dataset/SIDD/SIDD_Small_sRGB_Only/Data/0003_001_S6_00100_00060_3200_H/GT_SRGB_010.PNG\n",
      "\n",
      "GT_RAW_010_Rgain1.809_Bgain1.819.npy\n",
      "/dataset/SIDD/SIDD_Small_sRGB_Only/Data/0003_001_S6_00100_00060_3200_H\n",
      "/dataset/SIDD/SIDD_Small_sRGB_Only/Data/0003_001_S6_00100_00060_3200_H/GT_RAW_010_Rgain1.809_Bgain1.819.npy\n",
      "5 \n",
      "  /dataset/SIDD/SIDD_Small_Raw_Only/Data/0003_001_S6_00100_00060_3200_H/NOISY_RAW_010_Rgain1.809_Bgain1.819.npy \n",
      "  /dataset/SIDD/SIDD_Small_sRGB_Only/Data/0003_001_S6_00100_00060_3200_H/NOISY_SRGB_010.PNG\n",
      "\n",
      "NOISY_RAW_010_Rgain1.809_Bgain1.819.npy\n",
      "/dataset/SIDD/SIDD_Small_sRGB_Only/Data/0003_001_S6_00100_00060_3200_H\n",
      "/dataset/SIDD/SIDD_Small_sRGB_Only/Data/0003_001_S6_00100_00060_3200_H/NOISY_RAW_010_Rgain1.809_Bgain1.819.npy\n",
      "6 \n",
      "  /dataset/SIDD/SIDD_Small_Raw_Only/Data/0004_001_S6_00100_00060_4400_L/GT_RAW_010_Rgain1.790_Bgain2.040.npy \n",
      "  /dataset/SIDD/SIDD_Small_sRGB_Only/Data/0004_001_S6_00100_00060_4400_L/GT_SRGB_010.PNG\n",
      "\n",
      "GT_RAW_010_Rgain1.790_Bgain2.040.npy\n",
      "/dataset/SIDD/SIDD_Small_sRGB_Only/Data/0004_001_S6_00100_00060_4400_L\n",
      "/dataset/SIDD/SIDD_Small_sRGB_Only/Data/0004_001_S6_00100_00060_4400_L/GT_RAW_010_Rgain1.790_Bgain2.040.npy\n",
      "7 \n",
      "  /dataset/SIDD/SIDD_Small_Raw_Only/Data/0004_001_S6_00100_00060_4400_L/NOISY_RAW_010_Rgain1.790_Bgain2.040.npy \n",
      "  /dataset/SIDD/SIDD_Small_sRGB_Only/Data/0004_001_S6_00100_00060_4400_L/NOISY_SRGB_010.PNG\n",
      "\n",
      "NOISY_RAW_010_Rgain1.790_Bgain2.040.npy\n",
      "/dataset/SIDD/SIDD_Small_sRGB_Only/Data/0004_001_S6_00100_00060_4400_L\n",
      "/dataset/SIDD/SIDD_Small_sRGB_Only/Data/0004_001_S6_00100_00060_4400_L/NOISY_RAW_010_Rgain1.790_Bgain2.040.npy\n",
      "8 \n",
      "  /dataset/SIDD/SIDD_Small_Raw_Only/Data/0005_001_S6_00100_00060_4400_N/GT_RAW_010_Rgain1.988_Bgain1.747.npy \n",
      "  /dataset/SIDD/SIDD_Small_sRGB_Only/Data/0005_001_S6_00100_00060_4400_N/GT_SRGB_010.PNG\n",
      "\n",
      "GT_RAW_010_Rgain1.988_Bgain1.747.npy\n",
      "/dataset/SIDD/SIDD_Small_sRGB_Only/Data/0005_001_S6_00100_00060_4400_N\n",
      "/dataset/SIDD/SIDD_Small_sRGB_Only/Data/0005_001_S6_00100_00060_4400_N/GT_RAW_010_Rgain1.988_Bgain1.747.npy\n",
      "9 \n",
      "  /dataset/SIDD/SIDD_Small_Raw_Only/Data/0005_001_S6_00100_00060_4400_N/NOISY_RAW_010_Rgain1.988_Bgain1.747.npy \n",
      "  /dataset/SIDD/SIDD_Small_sRGB_Only/Data/0005_001_S6_00100_00060_4400_N/NOISY_SRGB_010.PNG\n",
      "\n",
      "NOISY_RAW_010_Rgain1.988_Bgain1.747.npy\n",
      "/dataset/SIDD/SIDD_Small_sRGB_Only/Data/0005_001_S6_00100_00060_4400_N\n",
      "/dataset/SIDD/SIDD_Small_sRGB_Only/Data/0005_001_S6_00100_00060_4400_N/NOISY_RAW_010_Rgain1.988_Bgain1.747.npy\n",
      "10 \n",
      "  /dataset/SIDD/SIDD_Small_Raw_Only/Data/0006_001_S6_00100_00060_4400_H/GT_RAW_010_Rgain2.024_Bgain1.613.npy \n",
      "  /dataset/SIDD/SIDD_Small_sRGB_Only/Data/0006_001_S6_00100_00060_4400_H/GT_SRGB_010.PNG\n",
      "\n",
      "GT_RAW_010_Rgain2.024_Bgain1.613.npy\n",
      "/dataset/SIDD/SIDD_Small_sRGB_Only/Data/0006_001_S6_00100_00060_4400_H\n",
      "/dataset/SIDD/SIDD_Small_sRGB_Only/Data/0006_001_S6_00100_00060_4400_H/GT_RAW_010_Rgain2.024_Bgain1.613.npy\n",
      "11 \n",
      "  /dataset/SIDD/SIDD_Small_Raw_Only/Data/0006_001_S6_00100_00060_4400_H/NOISY_RAW_010_Rgain2.024_Bgain1.613.npy \n",
      "  /dataset/SIDD/SIDD_Small_sRGB_Only/Data/0006_001_S6_00100_00060_4400_H/NOISY_SRGB_010.PNG\n",
      "\n",
      "NOISY_RAW_010_Rgain2.024_Bgain1.613.npy\n",
      "/dataset/SIDD/SIDD_Small_sRGB_Only/Data/0006_001_S6_00100_00060_4400_H\n",
      "/dataset/SIDD/SIDD_Small_sRGB_Only/Data/0006_001_S6_00100_00060_4400_H/NOISY_RAW_010_Rgain2.024_Bgain1.613.npy\n",
      "12 \n",
      "  /dataset/SIDD/SIDD_Small_Raw_Only/Data/0007_001_S6_00100_00100_5500_L/GT_RAW_010_Rgain2.327_Bgain1.559.npy \n",
      "  /dataset/SIDD/SIDD_Small_sRGB_Only/Data/0007_001_S6_00100_00100_5500_L/GT_SRGB_010.PNG\n",
      "\n",
      "GT_RAW_010_Rgain2.327_Bgain1.559.npy\n",
      "/dataset/SIDD/SIDD_Small_sRGB_Only/Data/0007_001_S6_00100_00100_5500_L\n",
      "/dataset/SIDD/SIDD_Small_sRGB_Only/Data/0007_001_S6_00100_00100_5500_L/GT_RAW_010_Rgain2.327_Bgain1.559.npy\n",
      "13 \n",
      "  /dataset/SIDD/SIDD_Small_Raw_Only/Data/0007_001_S6_00100_00100_5500_L/NOISY_RAW_010_Rgain2.327_Bgain1.559.npy \n",
      "  /dataset/SIDD/SIDD_Small_sRGB_Only/Data/0007_001_S6_00100_00100_5500_L/NOISY_SRGB_010.PNG\n",
      "\n",
      "NOISY_RAW_010_Rgain2.327_Bgain1.559.npy\n",
      "/dataset/SIDD/SIDD_Small_sRGB_Only/Data/0007_001_S6_00100_00100_5500_L\n",
      "/dataset/SIDD/SIDD_Small_sRGB_Only/Data/0007_001_S6_00100_00100_5500_L/NOISY_RAW_010_Rgain2.327_Bgain1.559.npy\n",
      "14 \n",
      "  /dataset/SIDD/SIDD_Small_Raw_Only/Data/0008_001_S6_00100_00100_5500_N/GT_RAW_010_Rgain2.044_Bgain1.519.npy \n",
      "  /dataset/SIDD/SIDD_Small_sRGB_Only/Data/0008_001_S6_00100_00100_5500_N/GT_SRGB_010.PNG\n",
      "\n",
      "GT_RAW_010_Rgain2.044_Bgain1.519.npy\n",
      "/dataset/SIDD/SIDD_Small_sRGB_Only/Data/0008_001_S6_00100_00100_5500_N\n",
      "/dataset/SIDD/SIDD_Small_sRGB_Only/Data/0008_001_S6_00100_00100_5500_N/GT_RAW_010_Rgain2.044_Bgain1.519.npy\n",
      "15 \n",
      "  /dataset/SIDD/SIDD_Small_Raw_Only/Data/0008_001_S6_00100_00100_5500_N/NOISY_RAW_010_Rgain2.044_Bgain1.519.npy \n",
      "  /dataset/SIDD/SIDD_Small_sRGB_Only/Data/0008_001_S6_00100_00100_5500_N/NOISY_SRGB_010.PNG\n",
      "\n",
      "NOISY_RAW_010_Rgain2.044_Bgain1.519.npy\n",
      "/dataset/SIDD/SIDD_Small_sRGB_Only/Data/0008_001_S6_00100_00100_5500_N\n",
      "/dataset/SIDD/SIDD_Small_sRGB_Only/Data/0008_001_S6_00100_00100_5500_N/NOISY_RAW_010_Rgain2.044_Bgain1.519.npy\n",
      "16 \n",
      "  /dataset/SIDD/SIDD_Small_Raw_Only/Data/0010_001_S6_00800_00350_3200_N/GT_RAW_010_Rgain1.772_Bgain2.048.npy \n",
      "  /dataset/SIDD/SIDD_Small_sRGB_Only/Data/0010_001_S6_00800_00350_3200_N/GT_SRGB_010.PNG\n",
      "\n",
      "GT_RAW_010_Rgain1.772_Bgain2.048.npy\n",
      "/dataset/SIDD/SIDD_Small_sRGB_Only/Data/0010_001_S6_00800_00350_3200_N\n",
      "/dataset/SIDD/SIDD_Small_sRGB_Only/Data/0010_001_S6_00800_00350_3200_N/GT_RAW_010_Rgain1.772_Bgain2.048.npy\n",
      "17 \n",
      "  /dataset/SIDD/SIDD_Small_Raw_Only/Data/0010_001_S6_00800_00350_3200_N/NOISY_RAW_010_Rgain1.772_Bgain2.048.npy \n",
      "  /dataset/SIDD/SIDD_Small_sRGB_Only/Data/0010_001_S6_00800_00350_3200_N/NOISY_SRGB_010.PNG\n",
      "\n",
      "NOISY_RAW_010_Rgain1.772_Bgain2.048.npy\n",
      "/dataset/SIDD/SIDD_Small_sRGB_Only/Data/0010_001_S6_00800_00350_3200_N\n",
      "/dataset/SIDD/SIDD_Small_sRGB_Only/Data/0010_001_S6_00800_00350_3200_N/NOISY_RAW_010_Rgain1.772_Bgain2.048.npy\n",
      "18 \n",
      "  /dataset/SIDD/SIDD_Small_Raw_Only/Data/0011_001_S6_00800_00500_5500_L/GT_RAW_010_Rgain2.207_Bgain1.535.npy \n",
      "  /dataset/SIDD/SIDD_Small_sRGB_Only/Data/0011_001_S6_00800_00500_5500_L/GT_SRGB_010.PNG\n",
      "\n",
      "GT_RAW_010_Rgain2.207_Bgain1.535.npy\n",
      "/dataset/SIDD/SIDD_Small_sRGB_Only/Data/0011_001_S6_00800_00500_5500_L\n",
      "/dataset/SIDD/SIDD_Small_sRGB_Only/Data/0011_001_S6_00800_00500_5500_L/GT_RAW_010_Rgain2.207_Bgain1.535.npy\n",
      "19 \n",
      "  /dataset/SIDD/SIDD_Small_Raw_Only/Data/0011_001_S6_00800_00500_5500_L/NOISY_RAW_010_Rgain2.207_Bgain1.535.npy \n",
      "  /dataset/SIDD/SIDD_Small_sRGB_Only/Data/0011_001_S6_00800_00500_5500_L/NOISY_SRGB_010.PNG\n",
      "\n",
      "NOISY_RAW_010_Rgain2.207_Bgain1.535.npy\n",
      "/dataset/SIDD/SIDD_Small_sRGB_Only/Data/0011_001_S6_00800_00500_5500_L\n",
      "/dataset/SIDD/SIDD_Small_sRGB_Only/Data/0011_001_S6_00800_00500_5500_L/NOISY_RAW_010_Rgain2.207_Bgain1.535.npy\n",
      "20 \n",
      "  /dataset/SIDD/SIDD_Small_Raw_Only/Data/0012_001_S6_00800_00500_5500_N/GT_RAW_010_Rgain2.056_Bgain1.535.npy \n",
      "  /dataset/SIDD/SIDD_Small_sRGB_Only/Data/0012_001_S6_00800_00500_5500_N/GT_SRGB_010.PNG\n",
      "\n",
      "GT_RAW_010_Rgain2.056_Bgain1.535.npy\n",
      "/dataset/SIDD/SIDD_Small_sRGB_Only/Data/0012_001_S6_00800_00500_5500_N\n",
      "/dataset/SIDD/SIDD_Small_sRGB_Only/Data/0012_001_S6_00800_00500_5500_N/GT_RAW_010_Rgain2.056_Bgain1.535.npy\n",
      "21 \n",
      "  /dataset/SIDD/SIDD_Small_Raw_Only/Data/0012_001_S6_00800_00500_5500_N/NOISY_RAW_010_Rgain2.056_Bgain1.535.npy \n",
      "  /dataset/SIDD/SIDD_Small_sRGB_Only/Data/0012_001_S6_00800_00500_5500_N/NOISY_SRGB_010.PNG\n",
      "\n",
      "NOISY_RAW_010_Rgain2.056_Bgain1.535.npy\n",
      "/dataset/SIDD/SIDD_Small_sRGB_Only/Data/0012_001_S6_00800_00500_5500_N\n",
      "/dataset/SIDD/SIDD_Small_sRGB_Only/Data/0012_001_S6_00800_00500_5500_N/NOISY_RAW_010_Rgain2.056_Bgain1.535.npy\n",
      "22 \n",
      "  /dataset/SIDD/SIDD_Small_Raw_Only/Data/0013_001_S6_03200_01250_3200_L/GT_RAW_010_Rgain1.756_Bgain2.008.npy \n",
      "  /dataset/SIDD/SIDD_Small_sRGB_Only/Data/0013_001_S6_03200_01250_3200_L/GT_SRGB_010.PNG\n",
      "\n",
      "GT_RAW_010_Rgain1.756_Bgain2.008.npy\n",
      "/dataset/SIDD/SIDD_Small_sRGB_Only/Data/0013_001_S6_03200_01250_3200_L\n",
      "/dataset/SIDD/SIDD_Small_sRGB_Only/Data/0013_001_S6_03200_01250_3200_L/GT_RAW_010_Rgain1.756_Bgain2.008.npy\n"
     ]
    },
    {
     "name": "stdout",
     "output_type": "stream",
     "text": [
      "23 \n",
      "  /dataset/SIDD/SIDD_Small_Raw_Only/Data/0013_001_S6_03200_01250_3200_L/NOISY_RAW_010_Rgain1.756_Bgain2.008.npy \n",
      "  /dataset/SIDD/SIDD_Small_sRGB_Only/Data/0013_001_S6_03200_01250_3200_L/NOISY_SRGB_010.PNG\n",
      "\n",
      "NOISY_RAW_010_Rgain1.756_Bgain2.008.npy\n",
      "/dataset/SIDD/SIDD_Small_sRGB_Only/Data/0013_001_S6_03200_01250_3200_L\n",
      "/dataset/SIDD/SIDD_Small_sRGB_Only/Data/0013_001_S6_03200_01250_3200_L/NOISY_RAW_010_Rgain1.756_Bgain2.008.npy\n",
      "24 \n",
      "  /dataset/SIDD/SIDD_Small_Raw_Only/Data/0014_001_S6_03200_01250_3200_N/GT_RAW_010_Rgain1.759_Bgain1.992.npy \n",
      "  /dataset/SIDD/SIDD_Small_sRGB_Only/Data/0014_001_S6_03200_01250_3200_N/GT_SRGB_010.PNG\n",
      "\n",
      "GT_RAW_010_Rgain1.759_Bgain1.992.npy\n",
      "/dataset/SIDD/SIDD_Small_sRGB_Only/Data/0014_001_S6_03200_01250_3200_N\n",
      "/dataset/SIDD/SIDD_Small_sRGB_Only/Data/0014_001_S6_03200_01250_3200_N/GT_RAW_010_Rgain1.759_Bgain1.992.npy\n",
      "25 \n",
      "  /dataset/SIDD/SIDD_Small_Raw_Only/Data/0014_001_S6_03200_01250_3200_N/NOISY_RAW_010_Rgain1.759_Bgain1.992.npy \n",
      "  /dataset/SIDD/SIDD_Small_sRGB_Only/Data/0014_001_S6_03200_01250_3200_N/NOISY_SRGB_010.PNG\n",
      "\n",
      "NOISY_RAW_010_Rgain1.759_Bgain1.992.npy\n",
      "/dataset/SIDD/SIDD_Small_sRGB_Only/Data/0014_001_S6_03200_01250_3200_N\n",
      "/dataset/SIDD/SIDD_Small_sRGB_Only/Data/0014_001_S6_03200_01250_3200_N/NOISY_RAW_010_Rgain1.759_Bgain1.992.npy\n",
      "26 \n",
      "  /dataset/SIDD/SIDD_Small_Raw_Only/Data/0015_001_S6_03200_01600_5500_L/GT_RAW_010_Rgain2.142_Bgain1.528.npy \n",
      "  /dataset/SIDD/SIDD_Small_sRGB_Only/Data/0015_001_S6_03200_01600_5500_L/GT_SRGB_010.PNG\n",
      "\n",
      "GT_RAW_010_Rgain2.142_Bgain1.528.npy\n",
      "/dataset/SIDD/SIDD_Small_sRGB_Only/Data/0015_001_S6_03200_01600_5500_L\n",
      "/dataset/SIDD/SIDD_Small_sRGB_Only/Data/0015_001_S6_03200_01600_5500_L/GT_RAW_010_Rgain2.142_Bgain1.528.npy\n",
      "27 \n",
      "  /dataset/SIDD/SIDD_Small_Raw_Only/Data/0015_001_S6_03200_01600_5500_L/NOISY_RAW_010_Rgain2.142_Bgain1.528.npy \n",
      "  /dataset/SIDD/SIDD_Small_sRGB_Only/Data/0015_001_S6_03200_01600_5500_L/NOISY_SRGB_010.PNG\n",
      "\n",
      "NOISY_RAW_010_Rgain2.142_Bgain1.528.npy\n",
      "/dataset/SIDD/SIDD_Small_sRGB_Only/Data/0015_001_S6_03200_01600_5500_L\n",
      "/dataset/SIDD/SIDD_Small_sRGB_Only/Data/0015_001_S6_03200_01600_5500_L/NOISY_RAW_010_Rgain2.142_Bgain1.528.npy\n",
      "28 \n",
      "  /dataset/SIDD/SIDD_Small_Raw_Only/Data/0016_001_S6_03200_01600_5500_N/GT_RAW_010_Rgain2.120_Bgain1.519.npy \n",
      "  /dataset/SIDD/SIDD_Small_sRGB_Only/Data/0016_001_S6_03200_01600_5500_N/GT_SRGB_010.PNG\n",
      "\n",
      "GT_RAW_010_Rgain2.120_Bgain1.519.npy\n",
      "/dataset/SIDD/SIDD_Small_sRGB_Only/Data/0016_001_S6_03200_01600_5500_N\n",
      "/dataset/SIDD/SIDD_Small_sRGB_Only/Data/0016_001_S6_03200_01600_5500_N/GT_RAW_010_Rgain2.120_Bgain1.519.npy\n",
      "29 \n",
      "  /dataset/SIDD/SIDD_Small_Raw_Only/Data/0016_001_S6_03200_01600_5500_N/NOISY_RAW_010_Rgain2.120_Bgain1.519.npy \n",
      "  /dataset/SIDD/SIDD_Small_sRGB_Only/Data/0016_001_S6_03200_01600_5500_N/NOISY_SRGB_010.PNG\n",
      "\n",
      "NOISY_RAW_010_Rgain2.120_Bgain1.519.npy\n",
      "/dataset/SIDD/SIDD_Small_sRGB_Only/Data/0016_001_S6_03200_01600_5500_N\n",
      "/dataset/SIDD/SIDD_Small_sRGB_Only/Data/0016_001_S6_03200_01600_5500_N/NOISY_RAW_010_Rgain2.120_Bgain1.519.npy\n",
      "30 \n",
      "  /dataset/SIDD/SIDD_Small_Raw_Only/Data/0017_001_GP_00100_00060_5500_N/GT_RAW_010_Rgain2.462_Bgain1.662.npy \n",
      "  /dataset/SIDD/SIDD_Small_sRGB_Only/Data/0017_001_GP_00100_00060_5500_N/GT_SRGB_010.PNG\n",
      "\n",
      "GT_RAW_010_Rgain2.462_Bgain1.662.npy\n",
      "/dataset/SIDD/SIDD_Small_sRGB_Only/Data/0017_001_GP_00100_00060_5500_N\n",
      "/dataset/SIDD/SIDD_Small_sRGB_Only/Data/0017_001_GP_00100_00060_5500_N/GT_RAW_010_Rgain2.462_Bgain1.662.npy\n",
      "31 \n",
      "  /dataset/SIDD/SIDD_Small_Raw_Only/Data/0017_001_GP_00100_00060_5500_N/NOISY_RAW_010_Rgain2.462_Bgain1.662.npy \n",
      "  /dataset/SIDD/SIDD_Small_sRGB_Only/Data/0017_001_GP_00100_00060_5500_N/NOISY_SRGB_010.PNG\n",
      "\n",
      "NOISY_RAW_010_Rgain2.462_Bgain1.662.npy\n",
      "/dataset/SIDD/SIDD_Small_sRGB_Only/Data/0017_001_GP_00100_00060_5500_N\n",
      "/dataset/SIDD/SIDD_Small_sRGB_Only/Data/0017_001_GP_00100_00060_5500_N/NOISY_RAW_010_Rgain2.462_Bgain1.662.npy\n",
      "32 \n",
      "  /dataset/SIDD/SIDD_Small_Raw_Only/Data/0018_001_GP_00100_00160_5500_L/GT_RAW_010_Rgain2.415_Bgain1.707.npy \n",
      "  /dataset/SIDD/SIDD_Small_sRGB_Only/Data/0018_001_GP_00100_00160_5500_L/GT_SRGB_010.PNG\n",
      "\n",
      "GT_RAW_010_Rgain2.415_Bgain1.707.npy\n",
      "/dataset/SIDD/SIDD_Small_sRGB_Only/Data/0018_001_GP_00100_00160_5500_L\n",
      "/dataset/SIDD/SIDD_Small_sRGB_Only/Data/0018_001_GP_00100_00160_5500_L/GT_RAW_010_Rgain2.415_Bgain1.707.npy\n",
      "33 \n",
      "  /dataset/SIDD/SIDD_Small_Raw_Only/Data/0018_001_GP_00100_00160_5500_L/NOISY_RAW_010_Rgain2.415_Bgain1.707.npy \n",
      "  /dataset/SIDD/SIDD_Small_sRGB_Only/Data/0018_001_GP_00100_00160_5500_L/NOISY_SRGB_010.PNG\n",
      "\n",
      "NOISY_RAW_010_Rgain2.415_Bgain1.707.npy\n",
      "/dataset/SIDD/SIDD_Small_sRGB_Only/Data/0018_001_GP_00100_00160_5500_L\n",
      "/dataset/SIDD/SIDD_Small_sRGB_Only/Data/0018_001_GP_00100_00160_5500_L/NOISY_RAW_010_Rgain2.415_Bgain1.707.npy\n",
      "34 \n",
      "  /dataset/SIDD/SIDD_Small_Raw_Only/Data/0019_001_GP_00800_00640_5500_L/GT_RAW_010_Rgain2.415_Bgain1.730.npy \n",
      "  /dataset/SIDD/SIDD_Small_sRGB_Only/Data/0019_001_GP_00800_00640_5500_L/GT_SRGB_010.PNG\n",
      "\n",
      "GT_RAW_010_Rgain2.415_Bgain1.730.npy\n",
      "/dataset/SIDD/SIDD_Small_sRGB_Only/Data/0019_001_GP_00800_00640_5500_L\n",
      "/dataset/SIDD/SIDD_Small_sRGB_Only/Data/0019_001_GP_00800_00640_5500_L/GT_RAW_010_Rgain2.415_Bgain1.730.npy\n",
      "35 \n",
      "  /dataset/SIDD/SIDD_Small_Raw_Only/Data/0019_001_GP_00800_00640_5500_L/NOISY_RAW_010_Rgain2.415_Bgain1.730.npy \n",
      "  /dataset/SIDD/SIDD_Small_sRGB_Only/Data/0019_001_GP_00800_00640_5500_L/NOISY_SRGB_010.PNG\n",
      "\n",
      "NOISY_RAW_010_Rgain2.415_Bgain1.730.npy\n",
      "/dataset/SIDD/SIDD_Small_sRGB_Only/Data/0019_001_GP_00800_00640_5500_L\n",
      "/dataset/SIDD/SIDD_Small_sRGB_Only/Data/0019_001_GP_00800_00640_5500_L/NOISY_RAW_010_Rgain2.415_Bgain1.730.npy\n",
      "36 \n",
      "  /dataset/SIDD/SIDD_Small_Raw_Only/Data/0020_001_GP_00800_00350_5500_N/GT_RAW_010_Rgain2.415_Bgain1.730.npy \n",
      "  /dataset/SIDD/SIDD_Small_sRGB_Only/Data/0020_001_GP_00800_00350_5500_N/GT_SRGB_010.PNG\n",
      "\n",
      "GT_RAW_010_Rgain2.415_Bgain1.730.npy\n",
      "/dataset/SIDD/SIDD_Small_sRGB_Only/Data/0020_001_GP_00800_00350_5500_N\n",
      "/dataset/SIDD/SIDD_Small_sRGB_Only/Data/0020_001_GP_00800_00350_5500_N/GT_RAW_010_Rgain2.415_Bgain1.730.npy\n",
      "37 \n",
      "  /dataset/SIDD/SIDD_Small_Raw_Only/Data/0020_001_GP_00800_00350_5500_N/NOISY_RAW_010_Rgain2.415_Bgain1.730.npy \n",
      "  /dataset/SIDD/SIDD_Small_sRGB_Only/Data/0020_001_GP_00800_00350_5500_N/NOISY_SRGB_010.PNG\n",
      "\n",
      "NOISY_RAW_010_Rgain2.415_Bgain1.730.npy\n",
      "/dataset/SIDD/SIDD_Small_sRGB_Only/Data/0020_001_GP_00800_00350_5500_N\n",
      "/dataset/SIDD/SIDD_Small_sRGB_Only/Data/0020_001_GP_00800_00350_5500_N/NOISY_RAW_010_Rgain2.415_Bgain1.730.npy\n",
      "38 \n",
      "  /dataset/SIDD/SIDD_Small_Raw_Only/Data/0022_001_N6_00100_00060_5500_N/GT_RAW_010_Rgain1.969_Bgain1.524.npy \n",
      "  /dataset/SIDD/SIDD_Small_sRGB_Only/Data/0022_001_N6_00100_00060_5500_N/GT_SRGB_010.PNG\n",
      "\n",
      "GT_RAW_010_Rgain1.969_Bgain1.524.npy\n",
      "/dataset/SIDD/SIDD_Small_sRGB_Only/Data/0022_001_N6_00100_00060_5500_N\n",
      "/dataset/SIDD/SIDD_Small_sRGB_Only/Data/0022_001_N6_00100_00060_5500_N/GT_RAW_010_Rgain1.969_Bgain1.524.npy\n",
      "39 \n",
      "  /dataset/SIDD/SIDD_Small_Raw_Only/Data/0022_001_N6_00100_00060_5500_N/NOISY_RAW_010_Rgain1.969_Bgain1.524.npy \n",
      "  /dataset/SIDD/SIDD_Small_sRGB_Only/Data/0022_001_N6_00100_00060_5500_N/NOISY_SRGB_010.PNG\n",
      "\n",
      "NOISY_RAW_010_Rgain1.969_Bgain1.524.npy\n",
      "/dataset/SIDD/SIDD_Small_sRGB_Only/Data/0022_001_N6_00100_00060_5500_N\n",
      "/dataset/SIDD/SIDD_Small_sRGB_Only/Data/0022_001_N6_00100_00060_5500_N/NOISY_RAW_010_Rgain1.969_Bgain1.524.npy\n",
      "40 \n",
      "  /dataset/SIDD/SIDD_Small_Raw_Only/Data/0023_001_N6_00800_00350_5500_N/GT_RAW_010_Rgain1.969_Bgain1.524.npy \n",
      "  /dataset/SIDD/SIDD_Small_sRGB_Only/Data/0023_001_N6_00800_00350_5500_N/GT_SRGB_010.PNG\n",
      "\n",
      "GT_RAW_010_Rgain1.969_Bgain1.524.npy\n",
      "/dataset/SIDD/SIDD_Small_sRGB_Only/Data/0023_001_N6_00800_00350_5500_N\n",
      "/dataset/SIDD/SIDD_Small_sRGB_Only/Data/0023_001_N6_00800_00350_5500_N/GT_RAW_010_Rgain1.969_Bgain1.524.npy\n",
      "41 \n",
      "  /dataset/SIDD/SIDD_Small_Raw_Only/Data/0023_001_N6_00800_00350_5500_N/NOISY_RAW_010_Rgain1.969_Bgain1.524.npy \n",
      "  /dataset/SIDD/SIDD_Small_sRGB_Only/Data/0023_001_N6_00800_00350_5500_N/NOISY_SRGB_010.PNG\n",
      "\n",
      "NOISY_RAW_010_Rgain1.969_Bgain1.524.npy\n",
      "/dataset/SIDD/SIDD_Small_sRGB_Only/Data/0023_001_N6_00800_00350_5500_N\n",
      "/dataset/SIDD/SIDD_Small_sRGB_Only/Data/0023_001_N6_00800_00350_5500_N/NOISY_RAW_010_Rgain1.969_Bgain1.524.npy\n",
      "42 \n",
      "  /dataset/SIDD/SIDD_Small_Raw_Only/Data/0025_001_G4_00100_00060_5500_L/GT_RAW_010_Rgain2.169_Bgain1.455.npy \n",
      "  /dataset/SIDD/SIDD_Small_sRGB_Only/Data/0025_001_G4_00100_00060_5500_L/GT_SRGB_010.PNG\n",
      "\n",
      "GT_RAW_010_Rgain2.169_Bgain1.455.npy\n",
      "/dataset/SIDD/SIDD_Small_sRGB_Only/Data/0025_001_G4_00100_00060_5500_L\n",
      "/dataset/SIDD/SIDD_Small_sRGB_Only/Data/0025_001_G4_00100_00060_5500_L/GT_RAW_010_Rgain2.169_Bgain1.455.npy\n"
     ]
    },
    {
     "name": "stdout",
     "output_type": "stream",
     "text": [
      "43 \n",
      "  /dataset/SIDD/SIDD_Small_Raw_Only/Data/0025_001_G4_00100_00060_5500_L/NOISY_RAW_010_Rgain2.169_Bgain1.455.npy \n",
      "  /dataset/SIDD/SIDD_Small_sRGB_Only/Data/0025_001_G4_00100_00060_5500_L/NOISY_SRGB_010.PNG\n",
      "\n",
      "NOISY_RAW_010_Rgain2.169_Bgain1.455.npy\n",
      "/dataset/SIDD/SIDD_Small_sRGB_Only/Data/0025_001_G4_00100_00060_5500_L\n",
      "/dataset/SIDD/SIDD_Small_sRGB_Only/Data/0025_001_G4_00100_00060_5500_L/NOISY_RAW_010_Rgain2.169_Bgain1.455.npy\n",
      "44 \n",
      "  /dataset/SIDD/SIDD_Small_Raw_Only/Data/0027_001_G4_00800_00350_5500_L/GT_RAW_010_Rgain2.169_Bgain1.455.npy \n",
      "  /dataset/SIDD/SIDD_Small_sRGB_Only/Data/0027_001_G4_00800_00350_5500_L/GT_SRGB_010.PNG\n",
      "\n",
      "GT_RAW_010_Rgain2.169_Bgain1.455.npy\n",
      "/dataset/SIDD/SIDD_Small_sRGB_Only/Data/0027_001_G4_00800_00350_5500_L\n",
      "/dataset/SIDD/SIDD_Small_sRGB_Only/Data/0027_001_G4_00800_00350_5500_L/GT_RAW_010_Rgain2.169_Bgain1.455.npy\n",
      "45 \n",
      "  /dataset/SIDD/SIDD_Small_Raw_Only/Data/0027_001_G4_00800_00350_5500_L/NOISY_RAW_010_Rgain2.169_Bgain1.455.npy \n",
      "  /dataset/SIDD/SIDD_Small_sRGB_Only/Data/0027_001_G4_00800_00350_5500_L/NOISY_SRGB_010.PNG\n",
      "\n",
      "NOISY_RAW_010_Rgain2.169_Bgain1.455.npy\n",
      "/dataset/SIDD/SIDD_Small_sRGB_Only/Data/0027_001_G4_00800_00350_5500_L\n",
      "/dataset/SIDD/SIDD_Small_sRGB_Only/Data/0027_001_G4_00800_00350_5500_L/NOISY_RAW_010_Rgain2.169_Bgain1.455.npy\n",
      "46 \n",
      "  /dataset/SIDD/SIDD_Small_Raw_Only/Data/0028_001_IP_00100_00160_5500_N/GT_RAW_010_Rgain2.461_Bgain1.663.npy \n",
      "  /dataset/SIDD/SIDD_Small_sRGB_Only/Data/0028_001_IP_00100_00160_5500_N/GT_SRGB_010.PNG\n",
      "\n",
      "GT_RAW_010_Rgain2.461_Bgain1.663.npy\n",
      "/dataset/SIDD/SIDD_Small_sRGB_Only/Data/0028_001_IP_00100_00160_5500_N\n",
      "/dataset/SIDD/SIDD_Small_sRGB_Only/Data/0028_001_IP_00100_00160_5500_N/GT_RAW_010_Rgain2.461_Bgain1.663.npy\n",
      "47 \n",
      "  /dataset/SIDD/SIDD_Small_Raw_Only/Data/0028_001_IP_00100_00160_5500_N/NOISY_RAW_010_Rgain2.461_Bgain1.663.npy \n",
      "  /dataset/SIDD/SIDD_Small_sRGB_Only/Data/0028_001_IP_00100_00160_5500_N/NOISY_SRGB_010.PNG\n",
      "\n",
      "NOISY_RAW_010_Rgain2.461_Bgain1.663.npy\n",
      "/dataset/SIDD/SIDD_Small_sRGB_Only/Data/0028_001_IP_00100_00160_5500_N\n",
      "/dataset/SIDD/SIDD_Small_sRGB_Only/Data/0028_001_IP_00100_00160_5500_N/NOISY_RAW_010_Rgain2.461_Bgain1.663.npy\n",
      "48 \n",
      "  /dataset/SIDD/SIDD_Small_Raw_Only/Data/0029_001_IP_00800_01000_5500_N/GT_RAW_010_Rgain2.461_Bgain1.663.npy \n",
      "  /dataset/SIDD/SIDD_Small_sRGB_Only/Data/0029_001_IP_00800_01000_5500_N/GT_SRGB_010.PNG\n",
      "\n",
      "GT_RAW_010_Rgain2.461_Bgain1.663.npy\n",
      "/dataset/SIDD/SIDD_Small_sRGB_Only/Data/0029_001_IP_00800_01000_5500_N\n",
      "/dataset/SIDD/SIDD_Small_sRGB_Only/Data/0029_001_IP_00800_01000_5500_N/GT_RAW_010_Rgain2.461_Bgain1.663.npy\n",
      "49 \n",
      "  /dataset/SIDD/SIDD_Small_Raw_Only/Data/0029_001_IP_00800_01000_5500_N/NOISY_RAW_010_Rgain2.461_Bgain1.663.npy \n",
      "  /dataset/SIDD/SIDD_Small_sRGB_Only/Data/0029_001_IP_00800_01000_5500_N/NOISY_SRGB_010.PNG\n",
      "\n",
      "NOISY_RAW_010_Rgain2.461_Bgain1.663.npy\n",
      "/dataset/SIDD/SIDD_Small_sRGB_Only/Data/0029_001_IP_00800_01000_5500_N\n",
      "/dataset/SIDD/SIDD_Small_sRGB_Only/Data/0029_001_IP_00800_01000_5500_N/NOISY_RAW_010_Rgain2.461_Bgain1.663.npy\n",
      "50 \n",
      "  /dataset/SIDD/SIDD_Small_Raw_Only/Data/0030_001_IP_01600_02000_5500_N/GT_RAW_010_Rgain2.461_Bgain1.663.npy \n",
      "  /dataset/SIDD/SIDD_Small_sRGB_Only/Data/0030_001_IP_01600_02000_5500_N/GT_SRGB_010.PNG\n",
      "\n",
      "GT_RAW_010_Rgain2.461_Bgain1.663.npy\n",
      "/dataset/SIDD/SIDD_Small_sRGB_Only/Data/0030_001_IP_01600_02000_5500_N\n",
      "/dataset/SIDD/SIDD_Small_sRGB_Only/Data/0030_001_IP_01600_02000_5500_N/GT_RAW_010_Rgain2.461_Bgain1.663.npy\n",
      "51 \n",
      "  /dataset/SIDD/SIDD_Small_Raw_Only/Data/0030_001_IP_01600_02000_5500_N/NOISY_RAW_010_Rgain2.461_Bgain1.663.npy \n",
      "  /dataset/SIDD/SIDD_Small_sRGB_Only/Data/0030_001_IP_01600_02000_5500_N/NOISY_SRGB_010.PNG\n",
      "\n",
      "NOISY_RAW_010_Rgain2.461_Bgain1.663.npy\n",
      "/dataset/SIDD/SIDD_Small_sRGB_Only/Data/0030_001_IP_01600_02000_5500_N\n",
      "/dataset/SIDD/SIDD_Small_sRGB_Only/Data/0030_001_IP_01600_02000_5500_N/NOISY_RAW_010_Rgain2.461_Bgain1.663.npy\n",
      "52 \n",
      "  /dataset/SIDD/SIDD_Small_Raw_Only/Data/0032_001_IP_00800_01000_3200_N/GT_RAW_010_Rgain2.461_Bgain1.663.npy \n",
      "  /dataset/SIDD/SIDD_Small_sRGB_Only/Data/0032_001_IP_00800_01000_3200_N/GT_SRGB_010.PNG\n",
      "\n",
      "GT_RAW_010_Rgain2.461_Bgain1.663.npy\n",
      "/dataset/SIDD/SIDD_Small_sRGB_Only/Data/0032_001_IP_00800_01000_3200_N\n",
      "/dataset/SIDD/SIDD_Small_sRGB_Only/Data/0032_001_IP_00800_01000_3200_N/GT_RAW_010_Rgain2.461_Bgain1.663.npy\n",
      "53 \n",
      "  /dataset/SIDD/SIDD_Small_Raw_Only/Data/0032_001_IP_00800_01000_3200_N/NOISY_RAW_010_Rgain2.461_Bgain1.663.npy \n",
      "  /dataset/SIDD/SIDD_Small_sRGB_Only/Data/0032_001_IP_00800_01000_3200_N/NOISY_SRGB_010.PNG\n",
      "\n",
      "NOISY_RAW_010_Rgain2.461_Bgain1.663.npy\n",
      "/dataset/SIDD/SIDD_Small_sRGB_Only/Data/0032_001_IP_00800_01000_3200_N\n",
      "/dataset/SIDD/SIDD_Small_sRGB_Only/Data/0032_001_IP_00800_01000_3200_N/NOISY_RAW_010_Rgain2.461_Bgain1.663.npy\n",
      "54 \n",
      "  /dataset/SIDD/SIDD_Small_Raw_Only/Data/0033_001_IP_00100_00160_3200_N/GT_RAW_010_Rgain2.461_Bgain1.663.npy \n",
      "  /dataset/SIDD/SIDD_Small_sRGB_Only/Data/0033_001_IP_00100_00160_3200_N/GT_SRGB_010.PNG\n",
      "\n",
      "GT_RAW_010_Rgain2.461_Bgain1.663.npy\n",
      "/dataset/SIDD/SIDD_Small_sRGB_Only/Data/0033_001_IP_00100_00160_3200_N\n",
      "/dataset/SIDD/SIDD_Small_sRGB_Only/Data/0033_001_IP_00100_00160_3200_N/GT_RAW_010_Rgain2.461_Bgain1.663.npy\n",
      "55 \n",
      "  /dataset/SIDD/SIDD_Small_Raw_Only/Data/0033_001_IP_00100_00160_3200_N/NOISY_RAW_010_Rgain2.461_Bgain1.663.npy \n",
      "  /dataset/SIDD/SIDD_Small_sRGB_Only/Data/0033_001_IP_00100_00160_3200_N/NOISY_SRGB_010.PNG\n",
      "\n",
      "NOISY_RAW_010_Rgain2.461_Bgain1.663.npy\n",
      "/dataset/SIDD/SIDD_Small_sRGB_Only/Data/0033_001_IP_00100_00160_3200_N\n",
      "/dataset/SIDD/SIDD_Small_sRGB_Only/Data/0033_001_IP_00100_00160_3200_N/NOISY_RAW_010_Rgain2.461_Bgain1.663.npy\n",
      "56 \n",
      "  /dataset/SIDD/SIDD_Small_Raw_Only/Data/0034_002_GP_00100_00160_3200_N/GT_RAW_010_Rgain1.753_Bgain1.969.npy \n",
      "  /dataset/SIDD/SIDD_Small_sRGB_Only/Data/0034_002_GP_00100_00160_3200_N/GT_SRGB_010.PNG\n",
      "\n",
      "GT_RAW_010_Rgain1.753_Bgain1.969.npy\n",
      "/dataset/SIDD/SIDD_Small_sRGB_Only/Data/0034_002_GP_00100_00160_3200_N\n",
      "/dataset/SIDD/SIDD_Small_sRGB_Only/Data/0034_002_GP_00100_00160_3200_N/GT_RAW_010_Rgain1.753_Bgain1.969.npy\n",
      "57 \n",
      "  /dataset/SIDD/SIDD_Small_Raw_Only/Data/0034_002_GP_00100_00160_3200_N/NOISY_RAW_010_Rgain1.753_Bgain1.969.npy \n",
      "  /dataset/SIDD/SIDD_Small_sRGB_Only/Data/0034_002_GP_00100_00160_3200_N/NOISY_SRGB_010.PNG\n",
      "\n",
      "NOISY_RAW_010_Rgain1.753_Bgain1.969.npy\n",
      "/dataset/SIDD/SIDD_Small_sRGB_Only/Data/0034_002_GP_00100_00160_3200_N\n",
      "/dataset/SIDD/SIDD_Small_sRGB_Only/Data/0034_002_GP_00100_00160_3200_N/NOISY_RAW_010_Rgain1.753_Bgain1.969.npy\n",
      "58 \n",
      "  /dataset/SIDD/SIDD_Small_Raw_Only/Data/0035_002_GP_00800_00350_3200_N/GT_RAW_010_Rgain1.753_Bgain1.969.npy \n",
      "  /dataset/SIDD/SIDD_Small_sRGB_Only/Data/0035_002_GP_00800_00350_3200_N/GT_SRGB_010.PNG\n",
      "\n",
      "GT_RAW_010_Rgain1.753_Bgain1.969.npy\n",
      "/dataset/SIDD/SIDD_Small_sRGB_Only/Data/0035_002_GP_00800_00350_3200_N\n",
      "/dataset/SIDD/SIDD_Small_sRGB_Only/Data/0035_002_GP_00800_00350_3200_N/GT_RAW_010_Rgain1.753_Bgain1.969.npy\n",
      "59 \n",
      "  /dataset/SIDD/SIDD_Small_Raw_Only/Data/0035_002_GP_00800_00350_3200_N/NOISY_RAW_010_Rgain1.753_Bgain1.969.npy \n",
      "  /dataset/SIDD/SIDD_Small_sRGB_Only/Data/0035_002_GP_00800_00350_3200_N/NOISY_SRGB_010.PNG\n",
      "\n",
      "NOISY_RAW_010_Rgain1.753_Bgain1.969.npy\n",
      "/dataset/SIDD/SIDD_Small_sRGB_Only/Data/0035_002_GP_00800_00350_3200_N\n",
      "/dataset/SIDD/SIDD_Small_sRGB_Only/Data/0035_002_GP_00800_00350_3200_N/NOISY_RAW_010_Rgain1.753_Bgain1.969.npy\n",
      "60 \n",
      "  /dataset/SIDD/SIDD_Small_Raw_Only/Data/0036_002_GP_06400_03200_3200_N/GT_RAW_010_Rgain1.753_Bgain1.969.npy \n",
      "  /dataset/SIDD/SIDD_Small_sRGB_Only/Data/0036_002_GP_06400_03200_3200_N/GT_SRGB_010.PNG\n",
      "\n",
      "GT_RAW_010_Rgain1.753_Bgain1.969.npy\n",
      "/dataset/SIDD/SIDD_Small_sRGB_Only/Data/0036_002_GP_06400_03200_3200_N\n",
      "/dataset/SIDD/SIDD_Small_sRGB_Only/Data/0036_002_GP_06400_03200_3200_N/GT_RAW_010_Rgain1.753_Bgain1.969.npy\n",
      "61 \n",
      "  /dataset/SIDD/SIDD_Small_Raw_Only/Data/0036_002_GP_06400_03200_3200_N/NOISY_RAW_010_Rgain1.753_Bgain1.969.npy \n",
      "  /dataset/SIDD/SIDD_Small_sRGB_Only/Data/0036_002_GP_06400_03200_3200_N/NOISY_SRGB_010.PNG\n",
      "\n",
      "NOISY_RAW_010_Rgain1.753_Bgain1.969.npy\n",
      "/dataset/SIDD/SIDD_Small_sRGB_Only/Data/0036_002_GP_06400_03200_3200_N\n",
      "/dataset/SIDD/SIDD_Small_sRGB_Only/Data/0036_002_GP_06400_03200_3200_N/NOISY_RAW_010_Rgain1.753_Bgain1.969.npy\n",
      "62 \n",
      "  /dataset/SIDD/SIDD_Small_Raw_Only/Data/0038_002_GP_00800_00640_3200_L/GT_RAW_010_Rgain1.753_Bgain1.969.npy \n",
      "  /dataset/SIDD/SIDD_Small_sRGB_Only/Data/0038_002_GP_00800_00640_3200_L/GT_SRGB_010.PNG\n",
      "\n",
      "GT_RAW_010_Rgain1.753_Bgain1.969.npy\n",
      "/dataset/SIDD/SIDD_Small_sRGB_Only/Data/0038_002_GP_00800_00640_3200_L\n",
      "/dataset/SIDD/SIDD_Small_sRGB_Only/Data/0038_002_GP_00800_00640_3200_L/GT_RAW_010_Rgain1.753_Bgain1.969.npy\n",
      "63 \n",
      "  /dataset/SIDD/SIDD_Small_Raw_Only/Data/0038_002_GP_00800_00640_3200_L/NOISY_RAW_010_Rgain1.753_Bgain1.969.npy \n",
      "  /dataset/SIDD/SIDD_Small_sRGB_Only/Data/0038_002_GP_00800_00640_3200_L/NOISY_SRGB_010.PNG\n",
      "\n",
      "NOISY_RAW_010_Rgain1.753_Bgain1.969.npy\n",
      "/dataset/SIDD/SIDD_Small_sRGB_Only/Data/0038_002_GP_00800_00640_3200_L\n",
      "/dataset/SIDD/SIDD_Small_sRGB_Only/Data/0038_002_GP_00800_00640_3200_L/NOISY_RAW_010_Rgain1.753_Bgain1.969.npy\n",
      "64 \n",
      "  /dataset/SIDD/SIDD_Small_Raw_Only/Data/0039_002_IP_00100_00180_5500_L/GT_RAW_010_Rgain1.919_Bgain2.081.npy \n",
      "  /dataset/SIDD/SIDD_Small_sRGB_Only/Data/0039_002_IP_00100_00180_5500_L/GT_SRGB_010.PNG\n",
      "\n",
      "GT_RAW_010_Rgain1.919_Bgain2.081.npy\n",
      "/dataset/SIDD/SIDD_Small_sRGB_Only/Data/0039_002_IP_00100_00180_5500_L\n",
      "/dataset/SIDD/SIDD_Small_sRGB_Only/Data/0039_002_IP_00100_00180_5500_L/GT_RAW_010_Rgain1.919_Bgain2.081.npy\n"
     ]
    },
    {
     "name": "stdout",
     "output_type": "stream",
     "text": [
      "65 \n",
      "  /dataset/SIDD/SIDD_Small_Raw_Only/Data/0039_002_IP_00100_00180_5500_L/NOISY_RAW_010_Rgain1.919_Bgain2.081.npy \n",
      "  /dataset/SIDD/SIDD_Small_sRGB_Only/Data/0039_002_IP_00100_00180_5500_L/NOISY_SRGB_010.PNG\n",
      "\n",
      "NOISY_RAW_010_Rgain1.919_Bgain2.081.npy\n",
      "/dataset/SIDD/SIDD_Small_sRGB_Only/Data/0039_002_IP_00100_00180_5500_L\n",
      "/dataset/SIDD/SIDD_Small_sRGB_Only/Data/0039_002_IP_00100_00180_5500_L/NOISY_RAW_010_Rgain1.919_Bgain2.081.npy\n",
      "66 \n",
      "  /dataset/SIDD/SIDD_Small_Raw_Only/Data/0040_002_IP_00800_02000_5500_L/GT_RAW_010_Rgain1.919_Bgain2.081.npy \n",
      "  /dataset/SIDD/SIDD_Small_sRGB_Only/Data/0040_002_IP_00800_02000_5500_L/GT_SRGB_010.PNG\n",
      "\n",
      "GT_RAW_010_Rgain1.919_Bgain2.081.npy\n",
      "/dataset/SIDD/SIDD_Small_sRGB_Only/Data/0040_002_IP_00800_02000_5500_L\n",
      "/dataset/SIDD/SIDD_Small_sRGB_Only/Data/0040_002_IP_00800_02000_5500_L/GT_RAW_010_Rgain1.919_Bgain2.081.npy\n",
      "67 \n",
      "  /dataset/SIDD/SIDD_Small_Raw_Only/Data/0040_002_IP_00800_02000_5500_L/NOISY_RAW_010_Rgain1.919_Bgain2.081.npy \n",
      "  /dataset/SIDD/SIDD_Small_sRGB_Only/Data/0040_002_IP_00800_02000_5500_L/NOISY_SRGB_010.PNG\n",
      "\n",
      "NOISY_RAW_010_Rgain1.919_Bgain2.081.npy\n",
      "/dataset/SIDD/SIDD_Small_sRGB_Only/Data/0040_002_IP_00800_02000_5500_L\n",
      "/dataset/SIDD/SIDD_Small_sRGB_Only/Data/0040_002_IP_00800_02000_5500_L/NOISY_RAW_010_Rgain1.919_Bgain2.081.npy\n",
      "68 \n",
      "  /dataset/SIDD/SIDD_Small_Raw_Only/Data/0042_002_IP_01600_03100_5500_N/GT_RAW_010_Rgain2.452_Bgain1.560.npy \n",
      "  /dataset/SIDD/SIDD_Small_sRGB_Only/Data/0042_002_IP_01600_03100_5500_N/GT_SRGB_010.PNG\n",
      "\n",
      "GT_RAW_010_Rgain2.452_Bgain1.560.npy\n",
      "/dataset/SIDD/SIDD_Small_sRGB_Only/Data/0042_002_IP_01600_03100_5500_N\n",
      "/dataset/SIDD/SIDD_Small_sRGB_Only/Data/0042_002_IP_01600_03100_5500_N/GT_RAW_010_Rgain2.452_Bgain1.560.npy\n",
      "69 \n",
      "  /dataset/SIDD/SIDD_Small_Raw_Only/Data/0042_002_IP_01600_03100_5500_N/NOISY_RAW_010_Rgain2.452_Bgain1.560.npy \n",
      "  /dataset/SIDD/SIDD_Small_sRGB_Only/Data/0042_002_IP_01600_03100_5500_N/NOISY_SRGB_010.PNG\n",
      "\n",
      "NOISY_RAW_010_Rgain2.452_Bgain1.560.npy\n",
      "/dataset/SIDD/SIDD_Small_sRGB_Only/Data/0042_002_IP_01600_03100_5500_N\n",
      "/dataset/SIDD/SIDD_Small_sRGB_Only/Data/0042_002_IP_01600_03100_5500_N/NOISY_RAW_010_Rgain2.452_Bgain1.560.npy\n",
      "70 \n",
      "  /dataset/SIDD/SIDD_Small_Raw_Only/Data/0043_002_IP_00800_01520_5500_N/GT_RAW_010_Rgain2.452_Bgain1.560.npy \n",
      "  /dataset/SIDD/SIDD_Small_sRGB_Only/Data/0043_002_IP_00800_01520_5500_N/GT_SRGB_010.PNG\n",
      "\n",
      "GT_RAW_010_Rgain2.452_Bgain1.560.npy\n",
      "/dataset/SIDD/SIDD_Small_sRGB_Only/Data/0043_002_IP_00800_01520_5500_N\n",
      "/dataset/SIDD/SIDD_Small_sRGB_Only/Data/0043_002_IP_00800_01520_5500_N/GT_RAW_010_Rgain2.452_Bgain1.560.npy\n",
      "71 \n",
      "  /dataset/SIDD/SIDD_Small_Raw_Only/Data/0043_002_IP_00800_01520_5500_N/NOISY_RAW_010_Rgain2.452_Bgain1.560.npy \n",
      "  /dataset/SIDD/SIDD_Small_sRGB_Only/Data/0043_002_IP_00800_01520_5500_N/NOISY_SRGB_010.PNG\n",
      "\n",
      "NOISY_RAW_010_Rgain2.452_Bgain1.560.npy\n",
      "/dataset/SIDD/SIDD_Small_sRGB_Only/Data/0043_002_IP_00800_01520_5500_N\n",
      "/dataset/SIDD/SIDD_Small_sRGB_Only/Data/0043_002_IP_00800_01520_5500_N/NOISY_RAW_010_Rgain2.452_Bgain1.560.npy\n",
      "72 \n",
      "  /dataset/SIDD/SIDD_Small_Raw_Only/Data/0044_002_IP_00100_00180_5500_N/GT_RAW_010_Rgain2.452_Bgain1.560.npy \n",
      "  /dataset/SIDD/SIDD_Small_sRGB_Only/Data/0044_002_IP_00100_00180_5500_N/GT_SRGB_010.PNG\n",
      "\n",
      "GT_RAW_010_Rgain2.452_Bgain1.560.npy\n",
      "/dataset/SIDD/SIDD_Small_sRGB_Only/Data/0044_002_IP_00100_00180_5500_N\n",
      "/dataset/SIDD/SIDD_Small_sRGB_Only/Data/0044_002_IP_00100_00180_5500_N/GT_RAW_010_Rgain2.452_Bgain1.560.npy\n",
      "73 \n",
      "  /dataset/SIDD/SIDD_Small_Raw_Only/Data/0044_002_IP_00100_00180_5500_N/NOISY_RAW_010_Rgain2.452_Bgain1.560.npy \n",
      "  /dataset/SIDD/SIDD_Small_sRGB_Only/Data/0044_002_IP_00100_00180_5500_N/NOISY_SRGB_010.PNG\n",
      "\n",
      "NOISY_RAW_010_Rgain2.452_Bgain1.560.npy\n",
      "/dataset/SIDD/SIDD_Small_sRGB_Only/Data/0044_002_IP_00100_00180_5500_N\n",
      "/dataset/SIDD/SIDD_Small_sRGB_Only/Data/0044_002_IP_00100_00180_5500_N/NOISY_RAW_010_Rgain2.452_Bgain1.560.npy\n",
      "74 \n",
      "  /dataset/SIDD/SIDD_Small_Raw_Only/Data/0045_002_G4_00100_00060_3200_L/GT_RAW_010_Rgain1.561_Bgain1.939.npy \n",
      "  /dataset/SIDD/SIDD_Small_sRGB_Only/Data/0045_002_G4_00100_00060_3200_L/GT_SRGB_010.PNG\n",
      "\n",
      "GT_RAW_010_Rgain1.561_Bgain1.939.npy\n",
      "/dataset/SIDD/SIDD_Small_sRGB_Only/Data/0045_002_G4_00100_00060_3200_L\n",
      "/dataset/SIDD/SIDD_Small_sRGB_Only/Data/0045_002_G4_00100_00060_3200_L/GT_RAW_010_Rgain1.561_Bgain1.939.npy\n",
      "75 \n",
      "  /dataset/SIDD/SIDD_Small_Raw_Only/Data/0045_002_G4_00100_00060_3200_L/NOISY_RAW_010_Rgain1.561_Bgain1.939.npy \n",
      "  /dataset/SIDD/SIDD_Small_sRGB_Only/Data/0045_002_G4_00100_00060_3200_L/NOISY_SRGB_010.PNG\n",
      "\n",
      "NOISY_RAW_010_Rgain1.561_Bgain1.939.npy\n",
      "/dataset/SIDD/SIDD_Small_sRGB_Only/Data/0045_002_G4_00100_00060_3200_L\n",
      "/dataset/SIDD/SIDD_Small_sRGB_Only/Data/0045_002_G4_00100_00060_3200_L/NOISY_RAW_010_Rgain1.561_Bgain1.939.npy\n",
      "76 \n",
      "  /dataset/SIDD/SIDD_Small_Raw_Only/Data/0047_002_G4_00800_00640_3200_L/GT_RAW_010_Rgain1.561_Bgain1.939.npy \n",
      "  /dataset/SIDD/SIDD_Small_sRGB_Only/Data/0047_002_G4_00800_00640_3200_L/GT_SRGB_010.PNG\n",
      "\n",
      "GT_RAW_010_Rgain1.561_Bgain1.939.npy\n",
      "/dataset/SIDD/SIDD_Small_sRGB_Only/Data/0047_002_G4_00800_00640_3200_L\n",
      "/dataset/SIDD/SIDD_Small_sRGB_Only/Data/0047_002_G4_00800_00640_3200_L/GT_RAW_010_Rgain1.561_Bgain1.939.npy\n",
      "77 \n",
      "  /dataset/SIDD/SIDD_Small_Raw_Only/Data/0047_002_G4_00800_00640_3200_L/NOISY_RAW_010_Rgain1.561_Bgain1.939.npy \n",
      "  /dataset/SIDD/SIDD_Small_sRGB_Only/Data/0047_002_G4_00800_00640_3200_L/NOISY_SRGB_010.PNG\n",
      "\n",
      "NOISY_RAW_010_Rgain1.561_Bgain1.939.npy\n",
      "/dataset/SIDD/SIDD_Small_sRGB_Only/Data/0047_002_G4_00800_00640_3200_L\n",
      "/dataset/SIDD/SIDD_Small_sRGB_Only/Data/0047_002_G4_00800_00640_3200_L/NOISY_RAW_010_Rgain1.561_Bgain1.939.npy\n",
      "78 \n",
      "  /dataset/SIDD/SIDD_Small_Raw_Only/Data/0048_002_N6_00100_00100_5500_L/GT_RAW_010_Rgain1.391_Bgain2.032.npy \n",
      "  /dataset/SIDD/SIDD_Small_sRGB_Only/Data/0048_002_N6_00100_00100_5500_L/GT_SRGB_010.PNG\n",
      "\n",
      "GT_RAW_010_Rgain1.391_Bgain2.032.npy\n",
      "/dataset/SIDD/SIDD_Small_sRGB_Only/Data/0048_002_N6_00100_00100_5500_L\n",
      "/dataset/SIDD/SIDD_Small_sRGB_Only/Data/0048_002_N6_00100_00100_5500_L/GT_RAW_010_Rgain1.391_Bgain2.032.npy\n",
      "79 \n",
      "  /dataset/SIDD/SIDD_Small_Raw_Only/Data/0048_002_N6_00100_00100_5500_L/NOISY_RAW_010_Rgain1.391_Bgain2.032.npy \n",
      "  /dataset/SIDD/SIDD_Small_sRGB_Only/Data/0048_002_N6_00100_00100_5500_L/NOISY_SRGB_010.PNG\n",
      "\n",
      "NOISY_RAW_010_Rgain1.391_Bgain2.032.npy\n",
      "/dataset/SIDD/SIDD_Small_sRGB_Only/Data/0048_002_N6_00100_00100_5500_L\n",
      "/dataset/SIDD/SIDD_Small_sRGB_Only/Data/0048_002_N6_00100_00100_5500_L/NOISY_RAW_010_Rgain1.391_Bgain2.032.npy\n",
      "80 \n",
      "  /dataset/SIDD/SIDD_Small_Raw_Only/Data/0050_002_N6_03200_03200_5500_L/GT_RAW_010_Rgain1.391_Bgain2.032.npy \n",
      "  /dataset/SIDD/SIDD_Small_sRGB_Only/Data/0050_002_N6_03200_03200_5500_L/GT_SRGB_010.PNG\n",
      "\n",
      "GT_RAW_010_Rgain1.391_Bgain2.032.npy\n",
      "/dataset/SIDD/SIDD_Small_sRGB_Only/Data/0050_002_N6_03200_03200_5500_L\n",
      "/dataset/SIDD/SIDD_Small_sRGB_Only/Data/0050_002_N6_03200_03200_5500_L/GT_RAW_010_Rgain1.391_Bgain2.032.npy\n",
      "81 \n",
      "  /dataset/SIDD/SIDD_Small_Raw_Only/Data/0050_002_N6_03200_03200_5500_L/NOISY_RAW_010_Rgain1.391_Bgain2.032.npy \n",
      "  /dataset/SIDD/SIDD_Small_sRGB_Only/Data/0050_002_N6_03200_03200_5500_L/NOISY_SRGB_010.PNG\n",
      "\n",
      "NOISY_RAW_010_Rgain1.391_Bgain2.032.npy\n",
      "/dataset/SIDD/SIDD_Small_sRGB_Only/Data/0050_002_N6_03200_03200_5500_L\n",
      "/dataset/SIDD/SIDD_Small_sRGB_Only/Data/0050_002_N6_03200_03200_5500_L/NOISY_RAW_010_Rgain1.391_Bgain2.032.npy\n",
      "82 \n",
      "  /dataset/SIDD/SIDD_Small_Raw_Only/Data/0051_002_S6_00100_00060_5500_N/GT_RAW_010_Rgain1.907_Bgain1.578.npy \n",
      "  /dataset/SIDD/SIDD_Small_sRGB_Only/Data/0051_002_S6_00100_00060_5500_N/GT_SRGB_010.PNG\n",
      "\n",
      "GT_RAW_010_Rgain1.907_Bgain1.578.npy\n",
      "/dataset/SIDD/SIDD_Small_sRGB_Only/Data/0051_002_S6_00100_00060_5500_N\n",
      "/dataset/SIDD/SIDD_Small_sRGB_Only/Data/0051_002_S6_00100_00060_5500_N/GT_RAW_010_Rgain1.907_Bgain1.578.npy\n",
      "83 \n",
      "  /dataset/SIDD/SIDD_Small_Raw_Only/Data/0051_002_S6_00100_00060_5500_N/NOISY_RAW_010_Rgain1.907_Bgain1.578.npy \n",
      "  /dataset/SIDD/SIDD_Small_sRGB_Only/Data/0051_002_S6_00100_00060_5500_N/NOISY_SRGB_010.PNG\n",
      "\n",
      "NOISY_RAW_010_Rgain1.907_Bgain1.578.npy\n",
      "/dataset/SIDD/SIDD_Small_sRGB_Only/Data/0051_002_S6_00100_00060_5500_N\n",
      "/dataset/SIDD/SIDD_Small_sRGB_Only/Data/0051_002_S6_00100_00060_5500_N/NOISY_RAW_010_Rgain1.907_Bgain1.578.npy\n",
      "84 \n",
      "  /dataset/SIDD/SIDD_Small_Raw_Only/Data/0052_002_S6_01600_01000_5500_N/GT_RAW_010_Rgain1.900_Bgain1.578.npy \n",
      "  /dataset/SIDD/SIDD_Small_sRGB_Only/Data/0052_002_S6_01600_01000_5500_N/GT_SRGB_010.PNG\n",
      "\n",
      "GT_RAW_010_Rgain1.900_Bgain1.578.npy\n",
      "/dataset/SIDD/SIDD_Small_sRGB_Only/Data/0052_002_S6_01600_01000_5500_N\n",
      "/dataset/SIDD/SIDD_Small_sRGB_Only/Data/0052_002_S6_01600_01000_5500_N/GT_RAW_010_Rgain1.900_Bgain1.578.npy\n"
     ]
    },
    {
     "name": "stdout",
     "output_type": "stream",
     "text": [
      "85 \n",
      "  /dataset/SIDD/SIDD_Small_Raw_Only/Data/0052_002_S6_01600_01000_5500_N/NOISY_RAW_010_Rgain1.900_Bgain1.578.npy \n",
      "  /dataset/SIDD/SIDD_Small_sRGB_Only/Data/0052_002_S6_01600_01000_5500_N/NOISY_SRGB_010.PNG\n",
      "\n",
      "NOISY_RAW_010_Rgain1.900_Bgain1.578.npy\n",
      "/dataset/SIDD/SIDD_Small_sRGB_Only/Data/0052_002_S6_01600_01000_5500_N\n",
      "/dataset/SIDD/SIDD_Small_sRGB_Only/Data/0052_002_S6_01600_01000_5500_N/NOISY_RAW_010_Rgain1.900_Bgain1.578.npy\n",
      "86 \n",
      "  /dataset/SIDD/SIDD_Small_Raw_Only/Data/0054_003_N6_00100_00160_5500_N/GT_RAW_010_Rgain1.829_Bgain1.600.npy \n",
      "  /dataset/SIDD/SIDD_Small_sRGB_Only/Data/0054_003_N6_00100_00160_5500_N/GT_SRGB_010.PNG\n",
      "\n",
      "GT_RAW_010_Rgain1.829_Bgain1.600.npy\n",
      "/dataset/SIDD/SIDD_Small_sRGB_Only/Data/0054_003_N6_00100_00160_5500_N\n",
      "/dataset/SIDD/SIDD_Small_sRGB_Only/Data/0054_003_N6_00100_00160_5500_N/GT_RAW_010_Rgain1.829_Bgain1.600.npy\n",
      "87 \n",
      "  /dataset/SIDD/SIDD_Small_Raw_Only/Data/0054_003_N6_00100_00160_5500_N/NOISY_RAW_010_Rgain1.829_Bgain1.600.npy \n",
      "  /dataset/SIDD/SIDD_Small_sRGB_Only/Data/0054_003_N6_00100_00160_5500_N/NOISY_SRGB_010.PNG\n",
      "\n",
      "NOISY_RAW_010_Rgain1.829_Bgain1.600.npy\n",
      "/dataset/SIDD/SIDD_Small_sRGB_Only/Data/0054_003_N6_00100_00160_5500_N\n",
      "/dataset/SIDD/SIDD_Small_sRGB_Only/Data/0054_003_N6_00100_00160_5500_N/NOISY_RAW_010_Rgain1.829_Bgain1.600.npy\n",
      "88 \n",
      "  /dataset/SIDD/SIDD_Small_Raw_Only/Data/0055_003_N6_00800_01000_5500_N/GT_RAW_010_Rgain1.829_Bgain1.600.npy \n",
      "  /dataset/SIDD/SIDD_Small_sRGB_Only/Data/0055_003_N6_00800_01000_5500_N/GT_SRGB_010.PNG\n",
      "\n",
      "GT_RAW_010_Rgain1.829_Bgain1.600.npy\n",
      "/dataset/SIDD/SIDD_Small_sRGB_Only/Data/0055_003_N6_00800_01000_5500_N\n",
      "/dataset/SIDD/SIDD_Small_sRGB_Only/Data/0055_003_N6_00800_01000_5500_N/GT_RAW_010_Rgain1.829_Bgain1.600.npy\n",
      "89 \n",
      "  /dataset/SIDD/SIDD_Small_Raw_Only/Data/0055_003_N6_00800_01000_5500_N/NOISY_RAW_010_Rgain1.829_Bgain1.600.npy \n",
      "  /dataset/SIDD/SIDD_Small_sRGB_Only/Data/0055_003_N6_00800_01000_5500_N/NOISY_SRGB_010.PNG\n",
      "\n",
      "NOISY_RAW_010_Rgain1.829_Bgain1.600.npy\n",
      "/dataset/SIDD/SIDD_Small_sRGB_Only/Data/0055_003_N6_00800_01000_5500_N\n",
      "/dataset/SIDD/SIDD_Small_sRGB_Only/Data/0055_003_N6_00800_01000_5500_N/NOISY_RAW_010_Rgain1.829_Bgain1.600.npy\n",
      "90 \n",
      "  /dataset/SIDD/SIDD_Small_Raw_Only/Data/0057_003_G4_00100_00125_5500_L/GT_RAW_010_Rgain1.939_Bgain1.524.npy \n",
      "  /dataset/SIDD/SIDD_Small_sRGB_Only/Data/0057_003_G4_00100_00125_5500_L/GT_SRGB_010.PNG\n",
      "\n",
      "GT_RAW_010_Rgain1.939_Bgain1.524.npy\n",
      "/dataset/SIDD/SIDD_Small_sRGB_Only/Data/0057_003_G4_00100_00125_5500_L\n",
      "/dataset/SIDD/SIDD_Small_sRGB_Only/Data/0057_003_G4_00100_00125_5500_L/GT_RAW_010_Rgain1.939_Bgain1.524.npy\n",
      "91 \n",
      "  /dataset/SIDD/SIDD_Small_Raw_Only/Data/0057_003_G4_00100_00125_5500_L/NOISY_RAW_010_Rgain1.939_Bgain1.524.npy \n",
      "  /dataset/SIDD/SIDD_Small_sRGB_Only/Data/0057_003_G4_00100_00125_5500_L/NOISY_SRGB_010.PNG\n",
      "\n",
      "NOISY_RAW_010_Rgain1.939_Bgain1.524.npy\n",
      "/dataset/SIDD/SIDD_Small_sRGB_Only/Data/0057_003_G4_00100_00125_5500_L\n",
      "/dataset/SIDD/SIDD_Small_sRGB_Only/Data/0057_003_G4_00100_00125_5500_L/NOISY_RAW_010_Rgain1.939_Bgain1.524.npy\n",
      "92 \n",
      "  /dataset/SIDD/SIDD_Small_Raw_Only/Data/0059_003_G4_00800_01000_5500_L/GT_RAW_010_Rgain1.910_Bgain1.580.npy \n",
      "  /dataset/SIDD/SIDD_Small_sRGB_Only/Data/0059_003_G4_00800_01000_5500_L/GT_SRGB_010.PNG\n",
      "\n",
      "GT_RAW_010_Rgain1.910_Bgain1.580.npy\n",
      "/dataset/SIDD/SIDD_Small_sRGB_Only/Data/0059_003_G4_00800_01000_5500_L\n",
      "/dataset/SIDD/SIDD_Small_sRGB_Only/Data/0059_003_G4_00800_01000_5500_L/GT_RAW_010_Rgain1.910_Bgain1.580.npy\n",
      "93 \n",
      "  /dataset/SIDD/SIDD_Small_Raw_Only/Data/0059_003_G4_00800_01000_5500_L/NOISY_RAW_010_Rgain1.910_Bgain1.580.npy \n",
      "  /dataset/SIDD/SIDD_Small_sRGB_Only/Data/0059_003_G4_00800_01000_5500_L/NOISY_SRGB_010.PNG\n",
      "\n",
      "NOISY_RAW_010_Rgain1.910_Bgain1.580.npy\n",
      "/dataset/SIDD/SIDD_Small_sRGB_Only/Data/0059_003_G4_00800_01000_5500_L\n",
      "/dataset/SIDD/SIDD_Small_sRGB_Only/Data/0059_003_G4_00800_01000_5500_L/NOISY_RAW_010_Rgain1.910_Bgain1.580.npy\n",
      "94 \n",
      "  /dataset/SIDD/SIDD_Small_Raw_Only/Data/0060_003_S6_00100_00100_4400_L/GT_RAW_010_Rgain1.704_Bgain1.822.npy \n",
      "  /dataset/SIDD/SIDD_Small_sRGB_Only/Data/0060_003_S6_00100_00100_4400_L/GT_SRGB_010.PNG\n",
      "\n",
      "GT_RAW_010_Rgain1.704_Bgain1.822.npy\n",
      "/dataset/SIDD/SIDD_Small_sRGB_Only/Data/0060_003_S6_00100_00100_4400_L\n",
      "/dataset/SIDD/SIDD_Small_sRGB_Only/Data/0060_003_S6_00100_00100_4400_L/GT_RAW_010_Rgain1.704_Bgain1.822.npy\n",
      "95 \n",
      "  /dataset/SIDD/SIDD_Small_Raw_Only/Data/0060_003_S6_00100_00100_4400_L/NOISY_RAW_010_Rgain1.704_Bgain1.822.npy \n",
      "  /dataset/SIDD/SIDD_Small_sRGB_Only/Data/0060_003_S6_00100_00100_4400_L/NOISY_SRGB_010.PNG\n",
      "\n",
      "NOISY_RAW_010_Rgain1.704_Bgain1.822.npy\n",
      "/dataset/SIDD/SIDD_Small_sRGB_Only/Data/0060_003_S6_00100_00100_4400_L\n",
      "/dataset/SIDD/SIDD_Small_sRGB_Only/Data/0060_003_S6_00100_00100_4400_L/NOISY_RAW_010_Rgain1.704_Bgain1.822.npy\n",
      "96 \n",
      "  /dataset/SIDD/SIDD_Small_Raw_Only/Data/0062_003_S6_03200_02500_4400_L/GT_RAW_010_Rgain1.695_Bgain1.701.npy \n",
      "  /dataset/SIDD/SIDD_Small_sRGB_Only/Data/0062_003_S6_03200_02500_4400_L/GT_SRGB_010.PNG\n",
      "\n",
      "GT_RAW_010_Rgain1.695_Bgain1.701.npy\n",
      "/dataset/SIDD/SIDD_Small_sRGB_Only/Data/0062_003_S6_03200_02500_4400_L\n",
      "/dataset/SIDD/SIDD_Small_sRGB_Only/Data/0062_003_S6_03200_02500_4400_L/GT_RAW_010_Rgain1.695_Bgain1.701.npy\n",
      "97 \n",
      "  /dataset/SIDD/SIDD_Small_Raw_Only/Data/0062_003_S6_03200_02500_4400_L/NOISY_RAW_010_Rgain1.695_Bgain1.701.npy \n",
      "  /dataset/SIDD/SIDD_Small_sRGB_Only/Data/0062_003_S6_03200_02500_4400_L/NOISY_SRGB_010.PNG\n",
      "\n",
      "NOISY_RAW_010_Rgain1.695_Bgain1.701.npy\n",
      "/dataset/SIDD/SIDD_Small_sRGB_Only/Data/0062_003_S6_03200_02500_4400_L\n",
      "/dataset/SIDD/SIDD_Small_sRGB_Only/Data/0062_003_S6_03200_02500_4400_L/NOISY_RAW_010_Rgain1.695_Bgain1.701.npy\n",
      "98 \n",
      "  /dataset/SIDD/SIDD_Small_Raw_Only/Data/0063_003_GP_00100_00100_4400_N/GT_RAW_010_Rgain1.803_Bgain1.969.npy \n",
      "  /dataset/SIDD/SIDD_Small_sRGB_Only/Data/0063_003_GP_00100_00100_4400_N/GT_SRGB_010.PNG\n",
      "\n",
      "GT_RAW_010_Rgain1.803_Bgain1.969.npy\n",
      "/dataset/SIDD/SIDD_Small_sRGB_Only/Data/0063_003_GP_00100_00100_4400_N\n",
      "/dataset/SIDD/SIDD_Small_sRGB_Only/Data/0063_003_GP_00100_00100_4400_N/GT_RAW_010_Rgain1.803_Bgain1.969.npy\n",
      "99 \n",
      "  /dataset/SIDD/SIDD_Small_Raw_Only/Data/0063_003_GP_00100_00100_4400_N/NOISY_RAW_010_Rgain1.803_Bgain1.969.npy \n",
      "  /dataset/SIDD/SIDD_Small_sRGB_Only/Data/0063_003_GP_00100_00100_4400_N/NOISY_SRGB_010.PNG\n",
      "\n",
      "NOISY_RAW_010_Rgain1.803_Bgain1.969.npy\n",
      "/dataset/SIDD/SIDD_Small_sRGB_Only/Data/0063_003_GP_00100_00100_4400_N\n",
      "/dataset/SIDD/SIDD_Small_sRGB_Only/Data/0063_003_GP_00100_00100_4400_N/NOISY_RAW_010_Rgain1.803_Bgain1.969.npy\n",
      "100 \n",
      "  /dataset/SIDD/SIDD_Small_Raw_Only/Data/0064_003_GP_01600_01600_4400_N/GT_RAW_010_Rgain1.803_Bgain1.969.npy \n",
      "  /dataset/SIDD/SIDD_Small_sRGB_Only/Data/0064_003_GP_01600_01600_4400_N/GT_SRGB_010.PNG\n",
      "\n",
      "GT_RAW_010_Rgain1.803_Bgain1.969.npy\n",
      "/dataset/SIDD/SIDD_Small_sRGB_Only/Data/0064_003_GP_01600_01600_4400_N\n",
      "/dataset/SIDD/SIDD_Small_sRGB_Only/Data/0064_003_GP_01600_01600_4400_N/GT_RAW_010_Rgain1.803_Bgain1.969.npy\n",
      "101 \n",
      "  /dataset/SIDD/SIDD_Small_Raw_Only/Data/0064_003_GP_01600_01600_4400_N/NOISY_RAW_010_Rgain1.803_Bgain1.969.npy \n",
      "  /dataset/SIDD/SIDD_Small_sRGB_Only/Data/0064_003_GP_01600_01600_4400_N/NOISY_SRGB_010.PNG\n",
      "\n",
      "NOISY_RAW_010_Rgain1.803_Bgain1.969.npy\n",
      "/dataset/SIDD/SIDD_Small_sRGB_Only/Data/0064_003_GP_01600_01600_4400_N\n",
      "/dataset/SIDD/SIDD_Small_sRGB_Only/Data/0064_003_GP_01600_01600_4400_N/NOISY_RAW_010_Rgain1.803_Bgain1.969.npy\n",
      "102 \n",
      "  /dataset/SIDD/SIDD_Small_Raw_Only/Data/0065_003_GP_10000_08460_4400_N/GT_RAW_010_Rgain1.803_Bgain1.969.npy \n",
      "  /dataset/SIDD/SIDD_Small_sRGB_Only/Data/0065_003_GP_10000_08460_4400_N/GT_SRGB_010.PNG\n",
      "\n",
      "GT_RAW_010_Rgain1.803_Bgain1.969.npy\n",
      "/dataset/SIDD/SIDD_Small_sRGB_Only/Data/0065_003_GP_10000_08460_4400_N\n",
      "/dataset/SIDD/SIDD_Small_sRGB_Only/Data/0065_003_GP_10000_08460_4400_N/GT_RAW_010_Rgain1.803_Bgain1.969.npy\n",
      "103 \n",
      "  /dataset/SIDD/SIDD_Small_Raw_Only/Data/0065_003_GP_10000_08460_4400_N/NOISY_RAW_010_Rgain1.803_Bgain1.969.npy \n",
      "  /dataset/SIDD/SIDD_Small_sRGB_Only/Data/0065_003_GP_10000_08460_4400_N/NOISY_SRGB_010.PNG\n",
      "\n",
      "NOISY_RAW_010_Rgain1.803_Bgain1.969.npy\n",
      "/dataset/SIDD/SIDD_Small_sRGB_Only/Data/0065_003_GP_10000_08460_4400_N\n",
      "/dataset/SIDD/SIDD_Small_sRGB_Only/Data/0065_003_GP_10000_08460_4400_N/NOISY_RAW_010_Rgain1.803_Bgain1.969.npy\n",
      "104 \n",
      "  /dataset/SIDD/SIDD_Small_Raw_Only/Data/0066_003_GP_00100_00200_3200_L/GT_RAW_010_Rgain1.803_Bgain1.969.npy \n",
      "  /dataset/SIDD/SIDD_Small_sRGB_Only/Data/0066_003_GP_00100_00200_3200_L/GT_SRGB_010.PNG\n",
      "\n",
      "GT_RAW_010_Rgain1.803_Bgain1.969.npy\n",
      "/dataset/SIDD/SIDD_Small_sRGB_Only/Data/0066_003_GP_00100_00200_3200_L\n",
      "/dataset/SIDD/SIDD_Small_sRGB_Only/Data/0066_003_GP_00100_00200_3200_L/GT_RAW_010_Rgain1.803_Bgain1.969.npy\n"
     ]
    },
    {
     "name": "stdout",
     "output_type": "stream",
     "text": [
      "105 \n",
      "  /dataset/SIDD/SIDD_Small_Raw_Only/Data/0066_003_GP_00100_00200_3200_L/NOISY_RAW_010_Rgain1.803_Bgain1.969.npy \n",
      "  /dataset/SIDD/SIDD_Small_sRGB_Only/Data/0066_003_GP_00100_00200_3200_L/NOISY_SRGB_010.PNG\n",
      "\n",
      "NOISY_RAW_010_Rgain1.803_Bgain1.969.npy\n",
      "/dataset/SIDD/SIDD_Small_sRGB_Only/Data/0066_003_GP_00100_00200_3200_L\n",
      "/dataset/SIDD/SIDD_Small_sRGB_Only/Data/0066_003_GP_00100_00200_3200_L/NOISY_RAW_010_Rgain1.803_Bgain1.969.npy\n",
      "106 \n",
      "  /dataset/SIDD/SIDD_Small_Raw_Only/Data/0068_003_IP_00200_00400_3200_N/GT_RAW_010_Rgain1.739_Bgain2.457.npy \n",
      "  /dataset/SIDD/SIDD_Small_sRGB_Only/Data/0068_003_IP_00200_00400_3200_N/GT_SRGB_010.PNG\n",
      "\n",
      "GT_RAW_010_Rgain1.739_Bgain2.457.npy\n",
      "/dataset/SIDD/SIDD_Small_sRGB_Only/Data/0068_003_IP_00200_00400_3200_N\n",
      "/dataset/SIDD/SIDD_Small_sRGB_Only/Data/0068_003_IP_00200_00400_3200_N/GT_RAW_010_Rgain1.739_Bgain2.457.npy\n",
      "107 \n",
      "  /dataset/SIDD/SIDD_Small_Raw_Only/Data/0068_003_IP_00200_00400_3200_N/NOISY_RAW_010_Rgain1.739_Bgain2.457.npy \n",
      "  /dataset/SIDD/SIDD_Small_sRGB_Only/Data/0068_003_IP_00200_00400_3200_N/NOISY_SRGB_010.PNG\n",
      "\n",
      "NOISY_RAW_010_Rgain1.739_Bgain2.457.npy\n",
      "/dataset/SIDD/SIDD_Small_sRGB_Only/Data/0068_003_IP_00200_00400_3200_N\n",
      "/dataset/SIDD/SIDD_Small_sRGB_Only/Data/0068_003_IP_00200_00400_3200_N/NOISY_RAW_010_Rgain1.739_Bgain2.457.npy\n",
      "108 \n",
      "  /dataset/SIDD/SIDD_Small_Raw_Only/Data/0069_003_IP_01000_02000_3200_N/GT_RAW_010_Rgain1.739_Bgain2.457.npy \n",
      "  /dataset/SIDD/SIDD_Small_sRGB_Only/Data/0069_003_IP_01000_02000_3200_N/GT_SRGB_010.PNG\n",
      "\n",
      "GT_RAW_010_Rgain1.739_Bgain2.457.npy\n",
      "/dataset/SIDD/SIDD_Small_sRGB_Only/Data/0069_003_IP_01000_02000_3200_N\n",
      "/dataset/SIDD/SIDD_Small_sRGB_Only/Data/0069_003_IP_01000_02000_3200_N/GT_RAW_010_Rgain1.739_Bgain2.457.npy\n",
      "109 \n",
      "  /dataset/SIDD/SIDD_Small_Raw_Only/Data/0069_003_IP_01000_02000_3200_N/NOISY_RAW_010_Rgain1.739_Bgain2.457.npy \n",
      "  /dataset/SIDD/SIDD_Small_sRGB_Only/Data/0069_003_IP_01000_02000_3200_N/NOISY_SRGB_010.PNG\n",
      "\n",
      "NOISY_RAW_010_Rgain1.739_Bgain2.457.npy\n",
      "/dataset/SIDD/SIDD_Small_sRGB_Only/Data/0069_003_IP_01000_02000_3200_N\n",
      "/dataset/SIDD/SIDD_Small_sRGB_Only/Data/0069_003_IP_01000_02000_3200_N/NOISY_RAW_010_Rgain1.739_Bgain2.457.npy\n",
      "110 \n",
      "  /dataset/SIDD/SIDD_Small_Raw_Only/Data/0070_003_IP_02000_04000_3200_N/GT_RAW_010_Rgain1.739_Bgain2.457.npy \n",
      "  /dataset/SIDD/SIDD_Small_sRGB_Only/Data/0070_003_IP_02000_04000_3200_N/GT_SRGB_010.PNG\n",
      "\n",
      "GT_RAW_010_Rgain1.739_Bgain2.457.npy\n",
      "/dataset/SIDD/SIDD_Small_sRGB_Only/Data/0070_003_IP_02000_04000_3200_N\n",
      "/dataset/SIDD/SIDD_Small_sRGB_Only/Data/0070_003_IP_02000_04000_3200_N/GT_RAW_010_Rgain1.739_Bgain2.457.npy\n",
      "111 \n",
      "  /dataset/SIDD/SIDD_Small_Raw_Only/Data/0070_003_IP_02000_04000_3200_N/NOISY_RAW_010_Rgain1.739_Bgain2.457.npy \n",
      "  /dataset/SIDD/SIDD_Small_sRGB_Only/Data/0070_003_IP_02000_04000_3200_N/NOISY_SRGB_010.PNG\n",
      "\n",
      "NOISY_RAW_010_Rgain1.739_Bgain2.457.npy\n",
      "/dataset/SIDD/SIDD_Small_sRGB_Only/Data/0070_003_IP_02000_04000_3200_N\n",
      "/dataset/SIDD/SIDD_Small_sRGB_Only/Data/0070_003_IP_02000_04000_3200_N/NOISY_RAW_010_Rgain1.739_Bgain2.457.npy\n",
      "112 \n",
      "  /dataset/SIDD/SIDD_Small_Raw_Only/Data/0072_003_IP_01000_02000_5500_L/GT_RAW_010_Rgain1.739_Bgain2.457.npy \n",
      "  /dataset/SIDD/SIDD_Small_sRGB_Only/Data/0072_003_IP_01000_02000_5500_L/GT_SRGB_010.PNG\n",
      "\n",
      "GT_RAW_010_Rgain1.739_Bgain2.457.npy\n",
      "/dataset/SIDD/SIDD_Small_sRGB_Only/Data/0072_003_IP_01000_02000_5500_L\n",
      "/dataset/SIDD/SIDD_Small_sRGB_Only/Data/0072_003_IP_01000_02000_5500_L/GT_RAW_010_Rgain1.739_Bgain2.457.npy\n",
      "113 \n",
      "  /dataset/SIDD/SIDD_Small_Raw_Only/Data/0072_003_IP_01000_02000_5500_L/NOISY_RAW_010_Rgain1.739_Bgain2.457.npy \n",
      "  /dataset/SIDD/SIDD_Small_sRGB_Only/Data/0072_003_IP_01000_02000_5500_L/NOISY_SRGB_010.PNG\n",
      "\n",
      "NOISY_RAW_010_Rgain1.739_Bgain2.457.npy\n",
      "/dataset/SIDD/SIDD_Small_sRGB_Only/Data/0072_003_IP_01000_02000_5500_L\n",
      "/dataset/SIDD/SIDD_Small_sRGB_Only/Data/0072_003_IP_01000_02000_5500_L/NOISY_RAW_010_Rgain1.739_Bgain2.457.npy\n",
      "114 \n",
      "  /dataset/SIDD/SIDD_Small_Raw_Only/Data/0073_003_IP_00200_01000_5500_L/GT_RAW_010_Rgain2.284_Bgain1.794.npy \n",
      "  /dataset/SIDD/SIDD_Small_sRGB_Only/Data/0073_003_IP_00200_01000_5500_L/GT_SRGB_010.PNG\n",
      "\n",
      "GT_RAW_010_Rgain2.284_Bgain1.794.npy\n",
      "/dataset/SIDD/SIDD_Small_sRGB_Only/Data/0073_003_IP_00200_01000_5500_L\n",
      "/dataset/SIDD/SIDD_Small_sRGB_Only/Data/0073_003_IP_00200_01000_5500_L/GT_RAW_010_Rgain2.284_Bgain1.794.npy\n",
      "115 \n",
      "  /dataset/SIDD/SIDD_Small_Raw_Only/Data/0073_003_IP_00200_01000_5500_L/NOISY_RAW_010_Rgain2.284_Bgain1.794.npy \n",
      "  /dataset/SIDD/SIDD_Small_sRGB_Only/Data/0073_003_IP_00200_01000_5500_L/NOISY_SRGB_010.PNG\n",
      "\n",
      "NOISY_RAW_010_Rgain2.284_Bgain1.794.npy\n",
      "/dataset/SIDD/SIDD_Small_sRGB_Only/Data/0073_003_IP_00200_01000_5500_L\n",
      "/dataset/SIDD/SIDD_Small_sRGB_Only/Data/0073_003_IP_00200_01000_5500_L/NOISY_RAW_010_Rgain2.284_Bgain1.794.npy\n",
      "116 \n",
      "  /dataset/SIDD/SIDD_Small_Raw_Only/Data/0075_004_N6_00800_00080_3200_L/GT_RAW_010_Rgain1.255_Bgain2.560.npy \n",
      "  /dataset/SIDD/SIDD_Small_sRGB_Only/Data/0075_004_N6_00800_00080_3200_L/GT_SRGB_010.PNG\n",
      "\n",
      "GT_RAW_010_Rgain1.255_Bgain2.560.npy\n",
      "/dataset/SIDD/SIDD_Small_sRGB_Only/Data/0075_004_N6_00800_00080_3200_L\n",
      "/dataset/SIDD/SIDD_Small_sRGB_Only/Data/0075_004_N6_00800_00080_3200_L/GT_RAW_010_Rgain1.255_Bgain2.560.npy\n",
      "117 \n",
      "  /dataset/SIDD/SIDD_Small_Raw_Only/Data/0075_004_N6_00800_00080_3200_L/NOISY_RAW_010_Rgain1.255_Bgain2.560.npy \n",
      "  /dataset/SIDD/SIDD_Small_sRGB_Only/Data/0075_004_N6_00800_00080_3200_L/NOISY_SRGB_010.PNG\n",
      "\n",
      "NOISY_RAW_010_Rgain1.255_Bgain2.560.npy\n",
      "/dataset/SIDD/SIDD_Small_sRGB_Only/Data/0075_004_N6_00800_00080_3200_L\n",
      "/dataset/SIDD/SIDD_Small_sRGB_Only/Data/0075_004_N6_00800_00080_3200_L/NOISY_RAW_010_Rgain1.255_Bgain2.560.npy\n",
      "118 \n",
      "  /dataset/SIDD/SIDD_Small_Raw_Only/Data/0076_004_N6_03200_00320_3200_L/GT_RAW_010_Rgain1.255_Bgain2.560.npy \n",
      "  /dataset/SIDD/SIDD_Small_sRGB_Only/Data/0076_004_N6_03200_00320_3200_L/GT_SRGB_010.PNG\n",
      "\n",
      "GT_RAW_010_Rgain1.255_Bgain2.560.npy\n",
      "/dataset/SIDD/SIDD_Small_sRGB_Only/Data/0076_004_N6_03200_00320_3200_L\n",
      "/dataset/SIDD/SIDD_Small_sRGB_Only/Data/0076_004_N6_03200_00320_3200_L/GT_RAW_010_Rgain1.255_Bgain2.560.npy\n",
      "119 \n",
      "  /dataset/SIDD/SIDD_Small_Raw_Only/Data/0076_004_N6_03200_00320_3200_L/NOISY_RAW_010_Rgain1.255_Bgain2.560.npy \n",
      "  /dataset/SIDD/SIDD_Small_sRGB_Only/Data/0076_004_N6_03200_00320_3200_L/NOISY_SRGB_010.PNG\n",
      "\n",
      "NOISY_RAW_010_Rgain1.255_Bgain2.560.npy\n",
      "/dataset/SIDD/SIDD_Small_sRGB_Only/Data/0076_004_N6_03200_00320_3200_L\n",
      "/dataset/SIDD/SIDD_Small_sRGB_Only/Data/0076_004_N6_03200_00320_3200_L/NOISY_RAW_010_Rgain1.255_Bgain2.560.npy\n",
      "120 \n",
      "  /dataset/SIDD/SIDD_Small_Raw_Only/Data/0077_004_G4_00100_00025_3200_N/GT_RAW_010_Rgain1.391_Bgain2.065.npy \n",
      "  /dataset/SIDD/SIDD_Small_sRGB_Only/Data/0077_004_G4_00100_00025_3200_N/GT_SRGB_010.PNG\n",
      "\n",
      "GT_RAW_010_Rgain1.391_Bgain2.065.npy\n",
      "/dataset/SIDD/SIDD_Small_sRGB_Only/Data/0077_004_G4_00100_00025_3200_N\n",
      "/dataset/SIDD/SIDD_Small_sRGB_Only/Data/0077_004_G4_00100_00025_3200_N/GT_RAW_010_Rgain1.391_Bgain2.065.npy\n",
      "121 \n",
      "  /dataset/SIDD/SIDD_Small_Raw_Only/Data/0077_004_G4_00100_00025_3200_N/NOISY_RAW_010_Rgain1.391_Bgain2.065.npy \n",
      "  /dataset/SIDD/SIDD_Small_sRGB_Only/Data/0077_004_G4_00100_00025_3200_N/NOISY_SRGB_010.PNG\n",
      "\n",
      "NOISY_RAW_010_Rgain1.391_Bgain2.065.npy\n",
      "/dataset/SIDD/SIDD_Small_sRGB_Only/Data/0077_004_G4_00100_00025_3200_N\n",
      "/dataset/SIDD/SIDD_Small_sRGB_Only/Data/0077_004_G4_00100_00025_3200_N/NOISY_RAW_010_Rgain1.391_Bgain2.065.npy\n",
      "122 \n",
      "  /dataset/SIDD/SIDD_Small_Raw_Only/Data/0078_004_G4_00200_00050_3200_N/GT_RAW_010_Rgain1.391_Bgain2.065.npy \n",
      "  /dataset/SIDD/SIDD_Small_sRGB_Only/Data/0078_004_G4_00200_00050_3200_N/GT_SRGB_010.PNG\n",
      "\n",
      "GT_RAW_010_Rgain1.391_Bgain2.065.npy\n",
      "/dataset/SIDD/SIDD_Small_sRGB_Only/Data/0078_004_G4_00200_00050_3200_N\n",
      "/dataset/SIDD/SIDD_Small_sRGB_Only/Data/0078_004_G4_00200_00050_3200_N/GT_RAW_010_Rgain1.391_Bgain2.065.npy\n",
      "123 \n",
      "  /dataset/SIDD/SIDD_Small_Raw_Only/Data/0078_004_G4_00200_00050_3200_N/NOISY_RAW_010_Rgain1.391_Bgain2.065.npy \n",
      "  /dataset/SIDD/SIDD_Small_sRGB_Only/Data/0078_004_G4_00200_00050_3200_N/NOISY_SRGB_010.PNG\n",
      "\n",
      "NOISY_RAW_010_Rgain1.391_Bgain2.065.npy\n",
      "/dataset/SIDD/SIDD_Small_sRGB_Only/Data/0078_004_G4_00200_00050_3200_N\n",
      "/dataset/SIDD/SIDD_Small_sRGB_Only/Data/0078_004_G4_00200_00050_3200_N/NOISY_RAW_010_Rgain1.391_Bgain2.065.npy\n",
      "124 \n",
      "  /dataset/SIDD/SIDD_Small_Raw_Only/Data/0080_004_S6_00200_00050_3200_N/GT_RAW_010_Rgain1.452_Bgain1.862.npy \n",
      "  /dataset/SIDD/SIDD_Small_sRGB_Only/Data/0080_004_S6_00200_00050_3200_N/GT_SRGB_010.PNG\n",
      "\n",
      "GT_RAW_010_Rgain1.452_Bgain1.862.npy\n",
      "/dataset/SIDD/SIDD_Small_sRGB_Only/Data/0080_004_S6_00200_00050_3200_N\n",
      "/dataset/SIDD/SIDD_Small_sRGB_Only/Data/0080_004_S6_00200_00050_3200_N/GT_RAW_010_Rgain1.452_Bgain1.862.npy\n"
     ]
    },
    {
     "name": "stdout",
     "output_type": "stream",
     "text": [
      "125 \n",
      "  /dataset/SIDD/SIDD_Small_Raw_Only/Data/0080_004_S6_00200_00050_3200_N/NOISY_RAW_010_Rgain1.452_Bgain1.862.npy \n",
      "  /dataset/SIDD/SIDD_Small_sRGB_Only/Data/0080_004_S6_00200_00050_3200_N/NOISY_SRGB_010.PNG\n",
      "\n",
      "NOISY_RAW_010_Rgain1.452_Bgain1.862.npy\n",
      "/dataset/SIDD/SIDD_Small_sRGB_Only/Data/0080_004_S6_00200_00050_3200_N\n",
      "/dataset/SIDD/SIDD_Small_sRGB_Only/Data/0080_004_S6_00200_00050_3200_N/NOISY_RAW_010_Rgain1.452_Bgain1.862.npy\n",
      "126 \n",
      "  /dataset/SIDD/SIDD_Small_Raw_Only/Data/0081_004_S6_00800_00160_4400_L/GT_RAW_010_Rgain1.426_Bgain1.838.npy \n",
      "  /dataset/SIDD/SIDD_Small_sRGB_Only/Data/0081_004_S6_00800_00160_4400_L/GT_SRGB_010.PNG\n",
      "\n",
      "GT_RAW_010_Rgain1.426_Bgain1.838.npy\n",
      "/dataset/SIDD/SIDD_Small_sRGB_Only/Data/0081_004_S6_00800_00160_4400_L\n",
      "/dataset/SIDD/SIDD_Small_sRGB_Only/Data/0081_004_S6_00800_00160_4400_L/GT_RAW_010_Rgain1.426_Bgain1.838.npy\n",
      "127 \n",
      "  /dataset/SIDD/SIDD_Small_Raw_Only/Data/0081_004_S6_00800_00160_4400_L/NOISY_RAW_010_Rgain1.426_Bgain1.838.npy \n",
      "  /dataset/SIDD/SIDD_Small_sRGB_Only/Data/0081_004_S6_00800_00160_4400_L/NOISY_SRGB_010.PNG\n",
      "\n",
      "NOISY_RAW_010_Rgain1.426_Bgain1.838.npy\n",
      "/dataset/SIDD/SIDD_Small_sRGB_Only/Data/0081_004_S6_00800_00160_4400_L\n",
      "/dataset/SIDD/SIDD_Small_sRGB_Only/Data/0081_004_S6_00800_00160_4400_L/NOISY_RAW_010_Rgain1.426_Bgain1.838.npy\n",
      "128 \n",
      "  /dataset/SIDD/SIDD_Small_Raw_Only/Data/0083_004_GP_00050_00020_4400_N/GT_RAW_010_Rgain1.524_Bgain2.327.npy \n",
      "  /dataset/SIDD/SIDD_Small_sRGB_Only/Data/0083_004_GP_00050_00020_4400_N/GT_SRGB_010.PNG\n",
      "\n",
      "GT_RAW_010_Rgain1.524_Bgain2.327.npy\n",
      "/dataset/SIDD/SIDD_Small_sRGB_Only/Data/0083_004_GP_00050_00020_4400_N\n",
      "/dataset/SIDD/SIDD_Small_sRGB_Only/Data/0083_004_GP_00050_00020_4400_N/GT_RAW_010_Rgain1.524_Bgain2.327.npy\n",
      "129 \n",
      "  /dataset/SIDD/SIDD_Small_Raw_Only/Data/0083_004_GP_00050_00020_4400_N/NOISY_RAW_010_Rgain1.524_Bgain2.327.npy \n",
      "  /dataset/SIDD/SIDD_Small_sRGB_Only/Data/0083_004_GP_00050_00020_4400_N/NOISY_SRGB_010.PNG\n",
      "\n",
      "NOISY_RAW_010_Rgain1.524_Bgain2.327.npy\n",
      "/dataset/SIDD/SIDD_Small_sRGB_Only/Data/0083_004_GP_00050_00020_4400_N\n",
      "/dataset/SIDD/SIDD_Small_sRGB_Only/Data/0083_004_GP_00050_00020_4400_N/NOISY_RAW_010_Rgain1.524_Bgain2.327.npy\n",
      "130 \n",
      "  /dataset/SIDD/SIDD_Small_Raw_Only/Data/0084_004_GP_00200_00100_4400_N/GT_RAW_010_Rgain1.524_Bgain2.327.npy \n",
      "  /dataset/SIDD/SIDD_Small_sRGB_Only/Data/0084_004_GP_00200_00100_4400_N/GT_SRGB_010.PNG\n",
      "\n",
      "GT_RAW_010_Rgain1.524_Bgain2.327.npy\n",
      "/dataset/SIDD/SIDD_Small_sRGB_Only/Data/0084_004_GP_00200_00100_4400_N\n",
      "/dataset/SIDD/SIDD_Small_sRGB_Only/Data/0084_004_GP_00200_00100_4400_N/GT_RAW_010_Rgain1.524_Bgain2.327.npy\n",
      "131 \n",
      "  /dataset/SIDD/SIDD_Small_Raw_Only/Data/0084_004_GP_00200_00100_4400_N/NOISY_RAW_010_Rgain1.524_Bgain2.327.npy \n",
      "  /dataset/SIDD/SIDD_Small_sRGB_Only/Data/0084_004_GP_00200_00100_4400_N/NOISY_SRGB_010.PNG\n",
      "\n",
      "NOISY_RAW_010_Rgain1.524_Bgain2.327.npy\n",
      "/dataset/SIDD/SIDD_Small_sRGB_Only/Data/0084_004_GP_00200_00100_4400_N\n",
      "/dataset/SIDD/SIDD_Small_sRGB_Only/Data/0084_004_GP_00200_00100_4400_N/NOISY_RAW_010_Rgain1.524_Bgain2.327.npy\n",
      "132 \n",
      "  /dataset/SIDD/SIDD_Small_Raw_Only/Data/0086_004_GP_00100_00100_5500_L/GT_RAW_010_Rgain1.524_Bgain2.327.npy \n",
      "  /dataset/SIDD/SIDD_Small_sRGB_Only/Data/0086_004_GP_00100_00100_5500_L/GT_SRGB_010.PNG\n",
      "\n",
      "GT_RAW_010_Rgain1.524_Bgain2.327.npy\n",
      "/dataset/SIDD/SIDD_Small_sRGB_Only/Data/0086_004_GP_00100_00100_5500_L\n",
      "/dataset/SIDD/SIDD_Small_sRGB_Only/Data/0086_004_GP_00100_00100_5500_L/GT_RAW_010_Rgain1.524_Bgain2.327.npy\n",
      "133 \n",
      "  /dataset/SIDD/SIDD_Small_Raw_Only/Data/0086_004_GP_00100_00100_5500_L/NOISY_RAW_010_Rgain1.524_Bgain2.327.npy \n",
      "  /dataset/SIDD/SIDD_Small_sRGB_Only/Data/0086_004_GP_00100_00100_5500_L/NOISY_SRGB_010.PNG\n",
      "\n",
      "NOISY_RAW_010_Rgain1.524_Bgain2.327.npy\n",
      "/dataset/SIDD/SIDD_Small_sRGB_Only/Data/0086_004_GP_00100_00100_5500_L\n",
      "/dataset/SIDD/SIDD_Small_sRGB_Only/Data/0086_004_GP_00100_00100_5500_L/NOISY_RAW_010_Rgain1.524_Bgain2.327.npy\n",
      "134 \n",
      "  /dataset/SIDD/SIDD_Small_Raw_Only/Data/0087_004_GP_00800_00640_5500_L/GT_RAW_010_Rgain1.524_Bgain2.327.npy \n",
      "  /dataset/SIDD/SIDD_Small_sRGB_Only/Data/0087_004_GP_00800_00640_5500_L/GT_SRGB_010.PNG\n",
      "\n",
      "GT_RAW_010_Rgain1.524_Bgain2.327.npy\n",
      "/dataset/SIDD/SIDD_Small_sRGB_Only/Data/0087_004_GP_00800_00640_5500_L\n",
      "/dataset/SIDD/SIDD_Small_sRGB_Only/Data/0087_004_GP_00800_00640_5500_L/GT_RAW_010_Rgain1.524_Bgain2.327.npy\n",
      "135 \n",
      "  /dataset/SIDD/SIDD_Small_Raw_Only/Data/0087_004_GP_00800_00640_5500_L/NOISY_RAW_010_Rgain1.524_Bgain2.327.npy \n",
      "  /dataset/SIDD/SIDD_Small_sRGB_Only/Data/0087_004_GP_00800_00640_5500_L/NOISY_SRGB_010.PNG\n",
      "\n",
      "NOISY_RAW_010_Rgain1.524_Bgain2.327.npy\n",
      "/dataset/SIDD/SIDD_Small_sRGB_Only/Data/0087_004_GP_00800_00640_5500_L\n",
      "/dataset/SIDD/SIDD_Small_sRGB_Only/Data/0087_004_GP_00800_00640_5500_L/NOISY_RAW_010_Rgain1.524_Bgain2.327.npy\n",
      "136 \n",
      "  /dataset/SIDD/SIDD_Small_Raw_Only/Data/0088_004_IP_00100_00050_5500_N/GT_RAW_010_Rgain1.937_Bgain2.071.npy \n",
      "  /dataset/SIDD/SIDD_Small_sRGB_Only/Data/0088_004_IP_00100_00050_5500_N/GT_SRGB_010.PNG\n",
      "\n",
      "GT_RAW_010_Rgain1.937_Bgain2.071.npy\n",
      "/dataset/SIDD/SIDD_Small_sRGB_Only/Data/0088_004_IP_00100_00050_5500_N\n",
      "/dataset/SIDD/SIDD_Small_sRGB_Only/Data/0088_004_IP_00100_00050_5500_N/GT_RAW_010_Rgain1.937_Bgain2.071.npy\n",
      "137 \n",
      "  /dataset/SIDD/SIDD_Small_Raw_Only/Data/0088_004_IP_00100_00050_5500_N/NOISY_RAW_010_Rgain1.937_Bgain2.071.npy \n",
      "  /dataset/SIDD/SIDD_Small_sRGB_Only/Data/0088_004_IP_00100_00050_5500_N/NOISY_SRGB_010.PNG\n",
      "\n",
      "NOISY_RAW_010_Rgain1.937_Bgain2.071.npy\n",
      "/dataset/SIDD/SIDD_Small_sRGB_Only/Data/0088_004_IP_00100_00050_5500_N\n",
      "/dataset/SIDD/SIDD_Small_sRGB_Only/Data/0088_004_IP_00100_00050_5500_N/NOISY_RAW_010_Rgain1.937_Bgain2.071.npy\n",
      "138 \n",
      "  /dataset/SIDD/SIDD_Small_Raw_Only/Data/0089_004_IP_00500_00250_5500_N/GT_RAW_010_Rgain1.937_Bgain2.071.npy \n",
      "  /dataset/SIDD/SIDD_Small_sRGB_Only/Data/0089_004_IP_00500_00250_5500_N/GT_SRGB_010.PNG\n",
      "\n",
      "GT_RAW_010_Rgain1.937_Bgain2.071.npy\n",
      "/dataset/SIDD/SIDD_Small_sRGB_Only/Data/0089_004_IP_00500_00250_5500_N\n",
      "/dataset/SIDD/SIDD_Small_sRGB_Only/Data/0089_004_IP_00500_00250_5500_N/GT_RAW_010_Rgain1.937_Bgain2.071.npy\n",
      "139 \n",
      "  /dataset/SIDD/SIDD_Small_Raw_Only/Data/0089_004_IP_00500_00250_5500_N/NOISY_RAW_010_Rgain1.937_Bgain2.071.npy \n",
      "  /dataset/SIDD/SIDD_Small_sRGB_Only/Data/0089_004_IP_00500_00250_5500_N/NOISY_SRGB_010.PNG\n",
      "\n",
      "NOISY_RAW_010_Rgain1.937_Bgain2.071.npy\n",
      "/dataset/SIDD/SIDD_Small_sRGB_Only/Data/0089_004_IP_00500_00250_5500_N\n",
      "/dataset/SIDD/SIDD_Small_sRGB_Only/Data/0089_004_IP_00500_00250_5500_N/NOISY_RAW_010_Rgain1.937_Bgain2.071.npy\n",
      "140 \n",
      "  /dataset/SIDD/SIDD_Small_Raw_Only/Data/0090_004_IP_01600_00750_5500_N/GT_RAW_010_Rgain1.937_Bgain2.071.npy \n",
      "  /dataset/SIDD/SIDD_Small_sRGB_Only/Data/0090_004_IP_01600_00750_5500_N/GT_SRGB_010.PNG\n",
      "\n",
      "GT_RAW_010_Rgain1.937_Bgain2.071.npy\n",
      "/dataset/SIDD/SIDD_Small_sRGB_Only/Data/0090_004_IP_01600_00750_5500_N\n",
      "/dataset/SIDD/SIDD_Small_sRGB_Only/Data/0090_004_IP_01600_00750_5500_N/GT_RAW_010_Rgain1.937_Bgain2.071.npy\n",
      "141 \n",
      "  /dataset/SIDD/SIDD_Small_Raw_Only/Data/0090_004_IP_01600_00750_5500_N/NOISY_RAW_010_Rgain1.937_Bgain2.071.npy \n",
      "  /dataset/SIDD/SIDD_Small_sRGB_Only/Data/0090_004_IP_01600_00750_5500_N/NOISY_SRGB_010.PNG\n",
      "\n",
      "NOISY_RAW_010_Rgain1.937_Bgain2.071.npy\n",
      "/dataset/SIDD/SIDD_Small_sRGB_Only/Data/0090_004_IP_01600_00750_5500_N\n",
      "/dataset/SIDD/SIDD_Small_sRGB_Only/Data/0090_004_IP_01600_00750_5500_N/NOISY_RAW_010_Rgain1.937_Bgain2.071.npy\n",
      "142 \n",
      "  /dataset/SIDD/SIDD_Small_Raw_Only/Data/0091_004_IP_00320_00080_3200_L/GT_RAW_010_Rgain1.693_Bgain2.205.npy \n",
      "  /dataset/SIDD/SIDD_Small_sRGB_Only/Data/0091_004_IP_00320_00080_3200_L/GT_SRGB_010.PNG\n",
      "\n",
      "GT_RAW_010_Rgain1.693_Bgain2.205.npy\n",
      "/dataset/SIDD/SIDD_Small_sRGB_Only/Data/0091_004_IP_00320_00080_3200_L\n",
      "/dataset/SIDD/SIDD_Small_sRGB_Only/Data/0091_004_IP_00320_00080_3200_L/GT_RAW_010_Rgain1.693_Bgain2.205.npy\n",
      "143 \n",
      "  /dataset/SIDD/SIDD_Small_Raw_Only/Data/0091_004_IP_00320_00080_3200_L/NOISY_RAW_010_Rgain1.693_Bgain2.205.npy \n",
      "  /dataset/SIDD/SIDD_Small_sRGB_Only/Data/0091_004_IP_00320_00080_3200_L/NOISY_SRGB_010.PNG\n",
      "\n",
      "NOISY_RAW_010_Rgain1.693_Bgain2.205.npy\n",
      "/dataset/SIDD/SIDD_Small_sRGB_Only/Data/0091_004_IP_00320_00080_3200_L\n",
      "/dataset/SIDD/SIDD_Small_sRGB_Only/Data/0091_004_IP_00320_00080_3200_L/NOISY_RAW_010_Rgain1.693_Bgain2.205.npy\n",
      "144 \n",
      "  /dataset/SIDD/SIDD_Small_Raw_Only/Data/0092_004_IP_00640_00125_3200_L/GT_RAW_010_Rgain1.693_Bgain2.205.npy \n",
      "  /dataset/SIDD/SIDD_Small_sRGB_Only/Data/0092_004_IP_00640_00125_3200_L/GT_SRGB_010.PNG\n",
      "\n",
      "GT_RAW_010_Rgain1.693_Bgain2.205.npy\n",
      "/dataset/SIDD/SIDD_Small_sRGB_Only/Data/0092_004_IP_00640_00125_3200_L\n",
      "/dataset/SIDD/SIDD_Small_sRGB_Only/Data/0092_004_IP_00640_00125_3200_L/GT_RAW_010_Rgain1.693_Bgain2.205.npy\n",
      "145 \n",
      "  /dataset/SIDD/SIDD_Small_Raw_Only/Data/0092_004_IP_00640_00125_3200_L/NOISY_RAW_010_Rgain1.693_Bgain2.205.npy \n",
      "  /dataset/SIDD/SIDD_Small_sRGB_Only/Data/0092_004_IP_00640_00125_3200_L/NOISY_SRGB_010.PNG\n",
      "\n",
      "NOISY_RAW_010_Rgain1.693_Bgain2.205.npy\n",
      "/dataset/SIDD/SIDD_Small_sRGB_Only/Data/0092_004_IP_00640_00125_3200_L\n",
      "/dataset/SIDD/SIDD_Small_sRGB_Only/Data/0092_004_IP_00640_00125_3200_L/NOISY_RAW_010_Rgain1.693_Bgain2.205.npy\n",
      "146 \n",
      "  /dataset/SIDD/SIDD_Small_Raw_Only/Data/0094_005_N6_00100_00050_3200_L/GT_RAW_010_Rgain1.641_Bgain2.000.npy \n",
      "  /dataset/SIDD/SIDD_Small_sRGB_Only/Data/0094_005_N6_00100_00050_3200_L/GT_SRGB_010.PNG\n",
      "\n",
      "GT_RAW_010_Rgain1.641_Bgain2.000.npy\n",
      "/dataset/SIDD/SIDD_Small_sRGB_Only/Data/0094_005_N6_00100_00050_3200_L\n",
      "/dataset/SIDD/SIDD_Small_sRGB_Only/Data/0094_005_N6_00100_00050_3200_L/GT_RAW_010_Rgain1.641_Bgain2.000.npy\n"
     ]
    },
    {
     "name": "stdout",
     "output_type": "stream",
     "text": [
      "147 \n",
      "  /dataset/SIDD/SIDD_Small_Raw_Only/Data/0094_005_N6_00100_00050_3200_L/NOISY_RAW_010_Rgain1.641_Bgain2.000.npy \n",
      "  /dataset/SIDD/SIDD_Small_sRGB_Only/Data/0094_005_N6_00100_00050_3200_L/NOISY_SRGB_010.PNG\n",
      "\n",
      "NOISY_RAW_010_Rgain1.641_Bgain2.000.npy\n",
      "/dataset/SIDD/SIDD_Small_sRGB_Only/Data/0094_005_N6_00100_00050_3200_L\n",
      "/dataset/SIDD/SIDD_Small_sRGB_Only/Data/0094_005_N6_00100_00050_3200_L/NOISY_RAW_010_Rgain1.641_Bgain2.000.npy\n",
      "148 \n",
      "  /dataset/SIDD/SIDD_Small_Raw_Only/Data/0096_005_N6_01600_01000_3200_L/GT_RAW_010_Rgain1.641_Bgain2.000.npy \n",
      "  /dataset/SIDD/SIDD_Small_sRGB_Only/Data/0096_005_N6_01600_01000_3200_L/GT_SRGB_010.PNG\n",
      "\n",
      "GT_RAW_010_Rgain1.641_Bgain2.000.npy\n",
      "/dataset/SIDD/SIDD_Small_sRGB_Only/Data/0096_005_N6_01600_01000_3200_L\n",
      "/dataset/SIDD/SIDD_Small_sRGB_Only/Data/0096_005_N6_01600_01000_3200_L/GT_RAW_010_Rgain1.641_Bgain2.000.npy\n",
      "149 \n",
      "  /dataset/SIDD/SIDD_Small_Raw_Only/Data/0096_005_N6_01600_01000_3200_L/NOISY_RAW_010_Rgain1.641_Bgain2.000.npy \n",
      "  /dataset/SIDD/SIDD_Small_sRGB_Only/Data/0096_005_N6_01600_01000_3200_L/NOISY_SRGB_010.PNG\n",
      "\n",
      "NOISY_RAW_010_Rgain1.641_Bgain2.000.npy\n",
      "/dataset/SIDD/SIDD_Small_sRGB_Only/Data/0096_005_N6_01600_01000_3200_L\n",
      "/dataset/SIDD/SIDD_Small_sRGB_Only/Data/0096_005_N6_01600_01000_3200_L/NOISY_RAW_010_Rgain1.641_Bgain2.000.npy\n",
      "150 \n",
      "  /dataset/SIDD/SIDD_Small_Raw_Only/Data/0097_005_N6_03200_02000_3200_L/GT_RAW_010_Rgain1.580_Bgain2.098.npy \n",
      "  /dataset/SIDD/SIDD_Small_sRGB_Only/Data/0097_005_N6_03200_02000_3200_L/GT_SRGB_010.PNG\n",
      "\n",
      "GT_RAW_010_Rgain1.580_Bgain2.098.npy\n",
      "/dataset/SIDD/SIDD_Small_sRGB_Only/Data/0097_005_N6_03200_02000_3200_L\n",
      "/dataset/SIDD/SIDD_Small_sRGB_Only/Data/0097_005_N6_03200_02000_3200_L/GT_RAW_010_Rgain1.580_Bgain2.098.npy\n",
      "151 \n",
      "  /dataset/SIDD/SIDD_Small_Raw_Only/Data/0097_005_N6_03200_02000_3200_L/NOISY_RAW_010_Rgain1.580_Bgain2.098.npy \n",
      "  /dataset/SIDD/SIDD_Small_sRGB_Only/Data/0097_005_N6_03200_02000_3200_L/NOISY_SRGB_010.PNG\n",
      "\n",
      "NOISY_RAW_010_Rgain1.580_Bgain2.098.npy\n",
      "/dataset/SIDD/SIDD_Small_sRGB_Only/Data/0097_005_N6_03200_02000_3200_L\n",
      "/dataset/SIDD/SIDD_Small_sRGB_Only/Data/0097_005_N6_03200_02000_3200_L/NOISY_RAW_010_Rgain1.580_Bgain2.098.npy\n",
      "152 \n",
      "  /dataset/SIDD/SIDD_Small_Raw_Only/Data/0098_005_G4_00100_00050_3200_N/GT_RAW_010_Rgain1.778_Bgain1.939.npy \n",
      "  /dataset/SIDD/SIDD_Small_sRGB_Only/Data/0098_005_G4_00100_00050_3200_N/GT_SRGB_010.PNG\n",
      "\n",
      "GT_RAW_010_Rgain1.778_Bgain1.939.npy\n",
      "/dataset/SIDD/SIDD_Small_sRGB_Only/Data/0098_005_G4_00100_00050_3200_N\n",
      "/dataset/SIDD/SIDD_Small_sRGB_Only/Data/0098_005_G4_00100_00050_3200_N/GT_RAW_010_Rgain1.778_Bgain1.939.npy\n",
      "153 \n",
      "  /dataset/SIDD/SIDD_Small_Raw_Only/Data/0098_005_G4_00100_00050_3200_N/NOISY_RAW_010_Rgain1.778_Bgain1.939.npy \n",
      "  /dataset/SIDD/SIDD_Small_sRGB_Only/Data/0098_005_G4_00100_00050_3200_N/NOISY_SRGB_010.PNG\n",
      "\n",
      "NOISY_RAW_010_Rgain1.778_Bgain1.939.npy\n",
      "/dataset/SIDD/SIDD_Small_sRGB_Only/Data/0098_005_G4_00100_00050_3200_N\n",
      "/dataset/SIDD/SIDD_Small_sRGB_Only/Data/0098_005_G4_00100_00050_3200_N/NOISY_RAW_010_Rgain1.778_Bgain1.939.npy\n",
      "154 \n",
      "  /dataset/SIDD/SIDD_Small_Raw_Only/Data/0099_005_G4_00400_00200_3200_N/GT_RAW_010_Rgain1.778_Bgain1.939.npy \n",
      "  /dataset/SIDD/SIDD_Small_sRGB_Only/Data/0099_005_G4_00400_00200_3200_N/GT_SRGB_010.PNG\n",
      "\n",
      "GT_RAW_010_Rgain1.778_Bgain1.939.npy\n",
      "/dataset/SIDD/SIDD_Small_sRGB_Only/Data/0099_005_G4_00400_00200_3200_N\n",
      "/dataset/SIDD/SIDD_Small_sRGB_Only/Data/0099_005_G4_00400_00200_3200_N/GT_RAW_010_Rgain1.778_Bgain1.939.npy\n",
      "155 \n",
      "  /dataset/SIDD/SIDD_Small_Raw_Only/Data/0099_005_G4_00400_00200_3200_N/NOISY_RAW_010_Rgain1.778_Bgain1.939.npy \n",
      "  /dataset/SIDD/SIDD_Small_sRGB_Only/Data/0099_005_G4_00400_00200_3200_N/NOISY_SRGB_010.PNG\n",
      "\n",
      "NOISY_RAW_010_Rgain1.778_Bgain1.939.npy\n",
      "/dataset/SIDD/SIDD_Small_sRGB_Only/Data/0099_005_G4_00400_00200_3200_N\n",
      "/dataset/SIDD/SIDD_Small_sRGB_Only/Data/0099_005_G4_00400_00200_3200_N/NOISY_RAW_010_Rgain1.778_Bgain1.939.npy\n",
      "156 \n",
      "  /dataset/SIDD/SIDD_Small_Raw_Only/Data/0101_005_S6_00100_00050_4400_L/GT_RAW_010_Rgain2.016_Bgain1.721.npy \n",
      "  /dataset/SIDD/SIDD_Small_sRGB_Only/Data/0101_005_S6_00100_00050_4400_L/GT_SRGB_010.PNG\n",
      "\n",
      "GT_RAW_010_Rgain2.016_Bgain1.721.npy\n",
      "/dataset/SIDD/SIDD_Small_sRGB_Only/Data/0101_005_S6_00100_00050_4400_L\n",
      "/dataset/SIDD/SIDD_Small_sRGB_Only/Data/0101_005_S6_00100_00050_4400_L/GT_RAW_010_Rgain2.016_Bgain1.721.npy\n",
      "157 \n",
      "  /dataset/SIDD/SIDD_Small_Raw_Only/Data/0101_005_S6_00100_00050_4400_L/NOISY_RAW_010_Rgain2.016_Bgain1.721.npy \n",
      "  /dataset/SIDD/SIDD_Small_sRGB_Only/Data/0101_005_S6_00100_00050_4400_L/NOISY_SRGB_010.PNG\n",
      "\n",
      "NOISY_RAW_010_Rgain2.016_Bgain1.721.npy\n",
      "/dataset/SIDD/SIDD_Small_sRGB_Only/Data/0101_005_S6_00100_00050_4400_L\n",
      "/dataset/SIDD/SIDD_Small_sRGB_Only/Data/0101_005_S6_00100_00050_4400_L/NOISY_RAW_010_Rgain2.016_Bgain1.721.npy\n",
      "158 \n",
      "  /dataset/SIDD/SIDD_Small_Raw_Only/Data/0102_005_S6_00400_00200_4400_L/GT_RAW_010_Rgain2.020_Bgain1.736.npy \n",
      "  /dataset/SIDD/SIDD_Small_sRGB_Only/Data/0102_005_S6_00400_00200_4400_L/GT_SRGB_010.PNG\n",
      "\n",
      "GT_RAW_010_Rgain2.020_Bgain1.736.npy\n",
      "/dataset/SIDD/SIDD_Small_sRGB_Only/Data/0102_005_S6_00400_00200_4400_L\n",
      "/dataset/SIDD/SIDD_Small_sRGB_Only/Data/0102_005_S6_00400_00200_4400_L/GT_RAW_010_Rgain2.020_Bgain1.736.npy\n",
      "159 \n",
      "  /dataset/SIDD/SIDD_Small_Raw_Only/Data/0102_005_S6_00400_00200_4400_L/NOISY_RAW_010_Rgain2.020_Bgain1.736.npy \n",
      "  /dataset/SIDD/SIDD_Small_sRGB_Only/Data/0102_005_S6_00400_00200_4400_L/NOISY_SRGB_010.PNG\n",
      "\n",
      "NOISY_RAW_010_Rgain2.020_Bgain1.736.npy\n",
      "/dataset/SIDD/SIDD_Small_sRGB_Only/Data/0102_005_S6_00400_00200_4400_L\n",
      "/dataset/SIDD/SIDD_Small_sRGB_Only/Data/0102_005_S6_00400_00200_4400_L/NOISY_RAW_010_Rgain2.020_Bgain1.736.npy\n",
      "160 \n",
      "  /dataset/SIDD/SIDD_Small_Raw_Only/Data/0104_005_S6_03200_01600_4400_L/GT_RAW_010_Rgain2.012_Bgain1.744.npy \n",
      "  /dataset/SIDD/SIDD_Small_sRGB_Only/Data/0104_005_S6_03200_01600_4400_L/GT_SRGB_010.PNG\n",
      "\n",
      "GT_RAW_010_Rgain2.012_Bgain1.744.npy\n",
      "/dataset/SIDD/SIDD_Small_sRGB_Only/Data/0104_005_S6_03200_01600_4400_L\n",
      "/dataset/SIDD/SIDD_Small_sRGB_Only/Data/0104_005_S6_03200_01600_4400_L/GT_RAW_010_Rgain2.012_Bgain1.744.npy\n",
      "161 \n",
      "  /dataset/SIDD/SIDD_Small_Raw_Only/Data/0104_005_S6_03200_01600_4400_L/NOISY_RAW_010_Rgain2.012_Bgain1.744.npy \n",
      "  /dataset/SIDD/SIDD_Small_sRGB_Only/Data/0104_005_S6_03200_01600_4400_L/NOISY_SRGB_010.PNG\n",
      "\n",
      "NOISY_RAW_010_Rgain2.012_Bgain1.744.npy\n",
      "/dataset/SIDD/SIDD_Small_sRGB_Only/Data/0104_005_S6_03200_01600_4400_L\n",
      "/dataset/SIDD/SIDD_Small_sRGB_Only/Data/0104_005_S6_03200_01600_4400_L/NOISY_RAW_010_Rgain2.012_Bgain1.744.npy\n",
      "162 \n",
      "  /dataset/SIDD/SIDD_Small_Raw_Only/Data/0105_005_GP_00100_00100_4400_N/GT_RAW_010_Rgain1.829_Bgain2.286.npy \n",
      "  /dataset/SIDD/SIDD_Small_sRGB_Only/Data/0105_005_GP_00100_00100_4400_N/GT_SRGB_010.PNG\n",
      "\n",
      "GT_RAW_010_Rgain1.829_Bgain2.286.npy\n",
      "/dataset/SIDD/SIDD_Small_sRGB_Only/Data/0105_005_GP_00100_00100_4400_N\n",
      "/dataset/SIDD/SIDD_Small_sRGB_Only/Data/0105_005_GP_00100_00100_4400_N/GT_RAW_010_Rgain1.829_Bgain2.286.npy\n",
      "163 \n",
      "  /dataset/SIDD/SIDD_Small_Raw_Only/Data/0105_005_GP_00100_00100_4400_N/NOISY_RAW_010_Rgain1.829_Bgain2.286.npy \n",
      "  /dataset/SIDD/SIDD_Small_sRGB_Only/Data/0105_005_GP_00100_00100_4400_N/NOISY_SRGB_010.PNG\n",
      "\n",
      "NOISY_RAW_010_Rgain1.829_Bgain2.286.npy\n",
      "/dataset/SIDD/SIDD_Small_sRGB_Only/Data/0105_005_GP_00100_00100_4400_N\n",
      "/dataset/SIDD/SIDD_Small_sRGB_Only/Data/0105_005_GP_00100_00100_4400_N/NOISY_RAW_010_Rgain1.829_Bgain2.286.npy\n",
      "164 \n",
      "  /dataset/SIDD/SIDD_Small_Raw_Only/Data/0106_005_GP_00400_00400_4400_N/GT_RAW_010_Rgain1.829_Bgain2.286.npy \n",
      "  /dataset/SIDD/SIDD_Small_sRGB_Only/Data/0106_005_GP_00400_00400_4400_N/GT_SRGB_010.PNG\n",
      "\n",
      "GT_RAW_010_Rgain1.829_Bgain2.286.npy\n",
      "/dataset/SIDD/SIDD_Small_sRGB_Only/Data/0106_005_GP_00400_00400_4400_N\n",
      "/dataset/SIDD/SIDD_Small_sRGB_Only/Data/0106_005_GP_00400_00400_4400_N/GT_RAW_010_Rgain1.829_Bgain2.286.npy\n",
      "165 \n",
      "  /dataset/SIDD/SIDD_Small_Raw_Only/Data/0106_005_GP_00400_00400_4400_N/NOISY_RAW_010_Rgain1.829_Bgain2.286.npy \n",
      "  /dataset/SIDD/SIDD_Small_sRGB_Only/Data/0106_005_GP_00400_00400_4400_N/NOISY_SRGB_010.PNG\n",
      "\n",
      "NOISY_RAW_010_Rgain1.829_Bgain2.286.npy\n",
      "/dataset/SIDD/SIDD_Small_sRGB_Only/Data/0106_005_GP_00400_00400_4400_N\n",
      "/dataset/SIDD/SIDD_Small_sRGB_Only/Data/0106_005_GP_00400_00400_4400_N/NOISY_RAW_010_Rgain1.829_Bgain2.286.npy\n",
      "166 \n",
      "  /dataset/SIDD/SIDD_Small_Raw_Only/Data/0107_005_GP_01600_01600_4400_N/GT_RAW_010_Rgain1.829_Bgain2.286.npy \n",
      "  /dataset/SIDD/SIDD_Small_sRGB_Only/Data/0107_005_GP_01600_01600_4400_N/GT_SRGB_010.PNG\n",
      "\n",
      "GT_RAW_010_Rgain1.829_Bgain2.286.npy\n",
      "/dataset/SIDD/SIDD_Small_sRGB_Only/Data/0107_005_GP_01600_01600_4400_N\n",
      "/dataset/SIDD/SIDD_Small_sRGB_Only/Data/0107_005_GP_01600_01600_4400_N/GT_RAW_010_Rgain1.829_Bgain2.286.npy\n"
     ]
    },
    {
     "name": "stdout",
     "output_type": "stream",
     "text": [
      "167 \n",
      "  /dataset/SIDD/SIDD_Small_Raw_Only/Data/0107_005_GP_01600_01600_4400_N/NOISY_RAW_010_Rgain1.829_Bgain2.286.npy \n",
      "  /dataset/SIDD/SIDD_Small_sRGB_Only/Data/0107_005_GP_01600_01600_4400_N/NOISY_SRGB_010.PNG\n",
      "\n",
      "NOISY_RAW_010_Rgain1.829_Bgain2.286.npy\n",
      "/dataset/SIDD/SIDD_Small_sRGB_Only/Data/0107_005_GP_01600_01600_4400_N\n",
      "/dataset/SIDD/SIDD_Small_sRGB_Only/Data/0107_005_GP_01600_01600_4400_N/NOISY_RAW_010_Rgain1.829_Bgain2.286.npy\n",
      "168 \n",
      "  /dataset/SIDD/SIDD_Small_Raw_Only/Data/0108_005_GP_06400_06400_4400_N/GT_RAW_010_Rgain2.246_Bgain1.910.npy \n",
      "  /dataset/SIDD/SIDD_Small_sRGB_Only/Data/0108_005_GP_06400_06400_4400_N/GT_SRGB_010.PNG\n",
      "\n",
      "GT_RAW_010_Rgain2.246_Bgain1.910.npy\n",
      "/dataset/SIDD/SIDD_Small_sRGB_Only/Data/0108_005_GP_06400_06400_4400_N\n",
      "/dataset/SIDD/SIDD_Small_sRGB_Only/Data/0108_005_GP_06400_06400_4400_N/GT_RAW_010_Rgain2.246_Bgain1.910.npy\n",
      "169 \n",
      "  /dataset/SIDD/SIDD_Small_Raw_Only/Data/0108_005_GP_06400_06400_4400_N/NOISY_RAW_010_Rgain2.246_Bgain1.910.npy \n",
      "  /dataset/SIDD/SIDD_Small_sRGB_Only/Data/0108_005_GP_06400_06400_4400_N/NOISY_SRGB_010.PNG\n",
      "\n",
      "NOISY_RAW_010_Rgain2.246_Bgain1.910.npy\n",
      "/dataset/SIDD/SIDD_Small_sRGB_Only/Data/0108_005_GP_06400_06400_4400_N\n",
      "/dataset/SIDD/SIDD_Small_sRGB_Only/Data/0108_005_GP_06400_06400_4400_N/NOISY_RAW_010_Rgain2.246_Bgain1.910.npy\n",
      "170 \n",
      "  /dataset/SIDD/SIDD_Small_Raw_Only/Data/0110_005_IP_00100_00100_5500_L/GT_RAW_010_Rgain2.914_Bgain1.685.npy \n",
      "  /dataset/SIDD/SIDD_Small_sRGB_Only/Data/0110_005_IP_00100_00100_5500_L/GT_SRGB_010.PNG\n",
      "\n",
      "GT_RAW_010_Rgain2.914_Bgain1.685.npy\n",
      "/dataset/SIDD/SIDD_Small_sRGB_Only/Data/0110_005_IP_00100_00100_5500_L\n",
      "/dataset/SIDD/SIDD_Small_sRGB_Only/Data/0110_005_IP_00100_00100_5500_L/GT_RAW_010_Rgain2.914_Bgain1.685.npy\n",
      "171 \n",
      "  /dataset/SIDD/SIDD_Small_Raw_Only/Data/0110_005_IP_00100_00100_5500_L/NOISY_RAW_010_Rgain2.914_Bgain1.685.npy \n",
      "  /dataset/SIDD/SIDD_Small_sRGB_Only/Data/0110_005_IP_00100_00100_5500_L/NOISY_SRGB_010.PNG\n",
      "\n",
      "NOISY_RAW_010_Rgain2.914_Bgain1.685.npy\n",
      "/dataset/SIDD/SIDD_Small_sRGB_Only/Data/0110_005_IP_00100_00100_5500_L\n",
      "/dataset/SIDD/SIDD_Small_sRGB_Only/Data/0110_005_IP_00100_00100_5500_L/NOISY_RAW_010_Rgain2.914_Bgain1.685.npy\n",
      "172 \n",
      "  /dataset/SIDD/SIDD_Small_Raw_Only/Data/0111_005_IP_00400_00400_5500_L/GT_RAW_010_Rgain2.914_Bgain1.685.npy \n",
      "  /dataset/SIDD/SIDD_Small_sRGB_Only/Data/0111_005_IP_00400_00400_5500_L/GT_SRGB_010.PNG\n",
      "\n",
      "GT_RAW_010_Rgain2.914_Bgain1.685.npy\n",
      "/dataset/SIDD/SIDD_Small_sRGB_Only/Data/0111_005_IP_00400_00400_5500_L\n",
      "/dataset/SIDD/SIDD_Small_sRGB_Only/Data/0111_005_IP_00400_00400_5500_L/GT_RAW_010_Rgain2.914_Bgain1.685.npy\n",
      "173 \n",
      "  /dataset/SIDD/SIDD_Small_Raw_Only/Data/0111_005_IP_00400_00400_5500_L/NOISY_RAW_010_Rgain2.914_Bgain1.685.npy \n",
      "  /dataset/SIDD/SIDD_Small_sRGB_Only/Data/0111_005_IP_00400_00400_5500_L/NOISY_SRGB_010.PNG\n",
      "\n",
      "NOISY_RAW_010_Rgain2.914_Bgain1.685.npy\n",
      "/dataset/SIDD/SIDD_Small_sRGB_Only/Data/0111_005_IP_00400_00400_5500_L\n",
      "/dataset/SIDD/SIDD_Small_sRGB_Only/Data/0111_005_IP_00400_00400_5500_L/NOISY_RAW_010_Rgain2.914_Bgain1.685.npy\n",
      "174 \n",
      "  /dataset/SIDD/SIDD_Small_Raw_Only/Data/0113_005_IP_01600_01520_5500_L/GT_RAW_010_Rgain2.914_Bgain1.685.npy \n",
      "  /dataset/SIDD/SIDD_Small_sRGB_Only/Data/0113_005_IP_01600_01520_5500_L/GT_SRGB_010.PNG\n",
      "\n",
      "GT_RAW_010_Rgain2.914_Bgain1.685.npy\n",
      "/dataset/SIDD/SIDD_Small_sRGB_Only/Data/0113_005_IP_01600_01520_5500_L\n",
      "/dataset/SIDD/SIDD_Small_sRGB_Only/Data/0113_005_IP_01600_01520_5500_L/GT_RAW_010_Rgain2.914_Bgain1.685.npy\n",
      "175 \n",
      "  /dataset/SIDD/SIDD_Small_Raw_Only/Data/0113_005_IP_01600_01520_5500_L/NOISY_RAW_010_Rgain2.914_Bgain1.685.npy \n",
      "  /dataset/SIDD/SIDD_Small_sRGB_Only/Data/0113_005_IP_01600_01520_5500_L/NOISY_SRGB_010.PNG\n",
      "\n",
      "NOISY_RAW_010_Rgain2.914_Bgain1.685.npy\n",
      "/dataset/SIDD/SIDD_Small_sRGB_Only/Data/0113_005_IP_01600_01520_5500_L\n",
      "/dataset/SIDD/SIDD_Small_sRGB_Only/Data/0113_005_IP_01600_01520_5500_L/NOISY_RAW_010_Rgain2.914_Bgain1.685.npy\n",
      "176 \n",
      "  /dataset/SIDD/SIDD_Small_Raw_Only/Data/0114_005_IP_00100_00200_5500_N/GT_RAW_010_Rgain2.914_Bgain1.685.npy \n",
      "  /dataset/SIDD/SIDD_Small_sRGB_Only/Data/0114_005_IP_00100_00200_5500_N/GT_SRGB_010.PNG\n",
      "\n",
      "GT_RAW_010_Rgain2.914_Bgain1.685.npy\n",
      "/dataset/SIDD/SIDD_Small_sRGB_Only/Data/0114_005_IP_00100_00200_5500_N\n",
      "/dataset/SIDD/SIDD_Small_sRGB_Only/Data/0114_005_IP_00100_00200_5500_N/GT_RAW_010_Rgain2.914_Bgain1.685.npy\n",
      "177 \n",
      "  /dataset/SIDD/SIDD_Small_Raw_Only/Data/0114_005_IP_00100_00200_5500_N/NOISY_RAW_010_Rgain2.914_Bgain1.685.npy \n",
      "  /dataset/SIDD/SIDD_Small_sRGB_Only/Data/0114_005_IP_00100_00200_5500_N/NOISY_SRGB_010.PNG\n",
      "\n",
      "NOISY_RAW_010_Rgain2.914_Bgain1.685.npy\n",
      "/dataset/SIDD/SIDD_Small_sRGB_Only/Data/0114_005_IP_00100_00200_5500_N\n",
      "/dataset/SIDD/SIDD_Small_sRGB_Only/Data/0114_005_IP_00100_00200_5500_N/NOISY_RAW_010_Rgain2.914_Bgain1.685.npy\n",
      "178 \n",
      "  /dataset/SIDD/SIDD_Small_Raw_Only/Data/0115_005_IP_00400_00750_5500_N/GT_RAW_010_Rgain2.914_Bgain1.685.npy \n",
      "  /dataset/SIDD/SIDD_Small_sRGB_Only/Data/0115_005_IP_00400_00750_5500_N/GT_SRGB_010.PNG\n",
      "\n",
      "GT_RAW_010_Rgain2.914_Bgain1.685.npy\n",
      "/dataset/SIDD/SIDD_Small_sRGB_Only/Data/0115_005_IP_00400_00750_5500_N\n",
      "/dataset/SIDD/SIDD_Small_sRGB_Only/Data/0115_005_IP_00400_00750_5500_N/GT_RAW_010_Rgain2.914_Bgain1.685.npy\n",
      "179 \n",
      "  /dataset/SIDD/SIDD_Small_Raw_Only/Data/0115_005_IP_00400_00750_5500_N/NOISY_RAW_010_Rgain2.914_Bgain1.685.npy \n",
      "  /dataset/SIDD/SIDD_Small_sRGB_Only/Data/0115_005_IP_00400_00750_5500_N/NOISY_SRGB_010.PNG\n",
      "\n",
      "NOISY_RAW_010_Rgain2.914_Bgain1.685.npy\n",
      "/dataset/SIDD/SIDD_Small_sRGB_Only/Data/0115_005_IP_00400_00750_5500_N\n",
      "/dataset/SIDD/SIDD_Small_sRGB_Only/Data/0115_005_IP_00400_00750_5500_N/NOISY_RAW_010_Rgain2.914_Bgain1.685.npy\n",
      "180 \n",
      "  /dataset/SIDD/SIDD_Small_Raw_Only/Data/0116_005_IP_00800_01520_5500_N/GT_RAW_010_Rgain2.914_Bgain1.685.npy \n",
      "  /dataset/SIDD/SIDD_Small_sRGB_Only/Data/0116_005_IP_00800_01520_5500_N/GT_SRGB_010.PNG\n",
      "\n",
      "GT_RAW_010_Rgain2.914_Bgain1.685.npy\n",
      "/dataset/SIDD/SIDD_Small_sRGB_Only/Data/0116_005_IP_00800_01520_5500_N\n",
      "/dataset/SIDD/SIDD_Small_sRGB_Only/Data/0116_005_IP_00800_01520_5500_N/GT_RAW_010_Rgain2.914_Bgain1.685.npy\n",
      "181 \n",
      "  /dataset/SIDD/SIDD_Small_Raw_Only/Data/0116_005_IP_00800_01520_5500_N/NOISY_RAW_010_Rgain2.914_Bgain1.685.npy \n",
      "  /dataset/SIDD/SIDD_Small_sRGB_Only/Data/0116_005_IP_00800_01520_5500_N/NOISY_SRGB_010.PNG\n",
      "\n",
      "NOISY_RAW_010_Rgain2.914_Bgain1.685.npy\n",
      "/dataset/SIDD/SIDD_Small_sRGB_Only/Data/0116_005_IP_00800_01520_5500_N\n",
      "/dataset/SIDD/SIDD_Small_sRGB_Only/Data/0116_005_IP_00800_01520_5500_N/NOISY_RAW_010_Rgain2.914_Bgain1.685.npy\n",
      "182 \n",
      "  /dataset/SIDD/SIDD_Small_Raw_Only/Data/0117_005_IP_01600_04160_5500_N/GT_RAW_010_Rgain2.914_Bgain1.685.npy \n",
      "  /dataset/SIDD/SIDD_Small_sRGB_Only/Data/0117_005_IP_01600_04160_5500_N/GT_SRGB_010.PNG\n",
      "\n",
      "GT_RAW_010_Rgain2.914_Bgain1.685.npy\n",
      "/dataset/SIDD/SIDD_Small_sRGB_Only/Data/0117_005_IP_01600_04160_5500_N\n",
      "/dataset/SIDD/SIDD_Small_sRGB_Only/Data/0117_005_IP_01600_04160_5500_N/GT_RAW_010_Rgain2.914_Bgain1.685.npy\n",
      "183 \n",
      "  /dataset/SIDD/SIDD_Small_Raw_Only/Data/0117_005_IP_01600_04160_5500_N/NOISY_RAW_010_Rgain2.914_Bgain1.685.npy \n",
      "  /dataset/SIDD/SIDD_Small_sRGB_Only/Data/0117_005_IP_01600_04160_5500_N/NOISY_SRGB_010.PNG\n",
      "\n",
      "NOISY_RAW_010_Rgain2.914_Bgain1.685.npy\n",
      "/dataset/SIDD/SIDD_Small_sRGB_Only/Data/0117_005_IP_01600_04160_5500_N\n",
      "/dataset/SIDD/SIDD_Small_sRGB_Only/Data/0117_005_IP_01600_04160_5500_N/NOISY_RAW_010_Rgain2.914_Bgain1.685.npy\n",
      "184 \n",
      "  /dataset/SIDD/SIDD_Small_Raw_Only/Data/0118_006_N6_00100_00025_3200_L/GT_RAW_010_Rgain1.730_Bgain1.882.npy \n",
      "  /dataset/SIDD/SIDD_Small_sRGB_Only/Data/0118_006_N6_00100_00025_3200_L/GT_SRGB_010.PNG\n",
      "\n",
      "GT_RAW_010_Rgain1.730_Bgain1.882.npy\n",
      "/dataset/SIDD/SIDD_Small_sRGB_Only/Data/0118_006_N6_00100_00025_3200_L\n",
      "/dataset/SIDD/SIDD_Small_sRGB_Only/Data/0118_006_N6_00100_00025_3200_L/GT_RAW_010_Rgain1.730_Bgain1.882.npy\n",
      "185 \n",
      "  /dataset/SIDD/SIDD_Small_Raw_Only/Data/0118_006_N6_00100_00025_3200_L/NOISY_RAW_010_Rgain1.730_Bgain1.882.npy \n",
      "  /dataset/SIDD/SIDD_Small_sRGB_Only/Data/0118_006_N6_00100_00025_3200_L/NOISY_SRGB_010.PNG\n",
      "\n",
      "NOISY_RAW_010_Rgain1.730_Bgain1.882.npy\n",
      "/dataset/SIDD/SIDD_Small_sRGB_Only/Data/0118_006_N6_00100_00025_3200_L\n",
      "/dataset/SIDD/SIDD_Small_sRGB_Only/Data/0118_006_N6_00100_00025_3200_L/NOISY_RAW_010_Rgain1.730_Bgain1.882.npy\n",
      "186 \n",
      "  /dataset/SIDD/SIDD_Small_Raw_Only/Data/0120_006_N6_01600_00400_3200_L/GT_RAW_010_Rgain1.730_Bgain1.882.npy \n",
      "  /dataset/SIDD/SIDD_Small_sRGB_Only/Data/0120_006_N6_01600_00400_3200_L/GT_SRGB_010.PNG\n",
      "\n",
      "GT_RAW_010_Rgain1.730_Bgain1.882.npy\n",
      "/dataset/SIDD/SIDD_Small_sRGB_Only/Data/0120_006_N6_01600_00400_3200_L\n",
      "/dataset/SIDD/SIDD_Small_sRGB_Only/Data/0120_006_N6_01600_00400_3200_L/GT_RAW_010_Rgain1.730_Bgain1.882.npy\n",
      "187 \n",
      "  /dataset/SIDD/SIDD_Small_Raw_Only/Data/0120_006_N6_01600_00400_3200_L/NOISY_RAW_010_Rgain1.730_Bgain1.882.npy \n",
      "  /dataset/SIDD/SIDD_Small_sRGB_Only/Data/0120_006_N6_01600_00400_3200_L/NOISY_SRGB_010.PNG\n",
      "\n",
      "NOISY_RAW_010_Rgain1.730_Bgain1.882.npy\n",
      "/dataset/SIDD/SIDD_Small_sRGB_Only/Data/0120_006_N6_01600_00400_3200_L\n",
      "/dataset/SIDD/SIDD_Small_sRGB_Only/Data/0120_006_N6_01600_00400_3200_L/NOISY_RAW_010_Rgain1.730_Bgain1.882.npy\n",
      "188 \n",
      "  /dataset/SIDD/SIDD_Small_Raw_Only/Data/0121_006_N6_03200_01000_3200_L/GT_RAW_010_Rgain1.730_Bgain1.882.npy \n",
      "  /dataset/SIDD/SIDD_Small_sRGB_Only/Data/0121_006_N6_03200_01000_3200_L/GT_SRGB_010.PNG\n",
      "\n",
      "GT_RAW_010_Rgain1.730_Bgain1.882.npy\n",
      "/dataset/SIDD/SIDD_Small_sRGB_Only/Data/0121_006_N6_03200_01000_3200_L\n",
      "/dataset/SIDD/SIDD_Small_sRGB_Only/Data/0121_006_N6_03200_01000_3200_L/GT_RAW_010_Rgain1.730_Bgain1.882.npy\n",
      "189 \n",
      "  /dataset/SIDD/SIDD_Small_Raw_Only/Data/0121_006_N6_03200_01000_3200_L/NOISY_RAW_010_Rgain1.730_Bgain1.882.npy \n",
      "  /dataset/SIDD/SIDD_Small_sRGB_Only/Data/0121_006_N6_03200_01000_3200_L/NOISY_SRGB_010.PNG\n",
      "\n",
      "NOISY_RAW_010_Rgain1.730_Bgain1.882.npy\n",
      "/dataset/SIDD/SIDD_Small_sRGB_Only/Data/0121_006_N6_03200_01000_3200_L\n",
      "/dataset/SIDD/SIDD_Small_sRGB_Only/Data/0121_006_N6_03200_01000_3200_L/NOISY_RAW_010_Rgain1.730_Bgain1.882.npy\n"
     ]
    },
    {
     "name": "stdout",
     "output_type": "stream",
     "text": [
      "190 \n",
      "  /dataset/SIDD/SIDD_Small_Raw_Only/Data/0122_006_G4_00100_00050_3200_N/GT_RAW_010_Rgain1.707_Bgain1.939.npy \n",
      "  /dataset/SIDD/SIDD_Small_sRGB_Only/Data/0122_006_G4_00100_00050_3200_N/GT_SRGB_010.PNG\n",
      "\n",
      "GT_RAW_010_Rgain1.707_Bgain1.939.npy\n",
      "/dataset/SIDD/SIDD_Small_sRGB_Only/Data/0122_006_G4_00100_00050_3200_N\n",
      "/dataset/SIDD/SIDD_Small_sRGB_Only/Data/0122_006_G4_00100_00050_3200_N/GT_RAW_010_Rgain1.707_Bgain1.939.npy\n",
      "191 \n",
      "  /dataset/SIDD/SIDD_Small_Raw_Only/Data/0122_006_G4_00100_00050_3200_N/NOISY_RAW_010_Rgain1.707_Bgain1.939.npy \n",
      "  /dataset/SIDD/SIDD_Small_sRGB_Only/Data/0122_006_G4_00100_00050_3200_N/NOISY_SRGB_010.PNG\n",
      "\n",
      "NOISY_RAW_010_Rgain1.707_Bgain1.939.npy\n",
      "/dataset/SIDD/SIDD_Small_sRGB_Only/Data/0122_006_G4_00100_00050_3200_N\n",
      "/dataset/SIDD/SIDD_Small_sRGB_Only/Data/0122_006_G4_00100_00050_3200_N/NOISY_RAW_010_Rgain1.707_Bgain1.939.npy\n",
      "192 \n",
      "  /dataset/SIDD/SIDD_Small_Raw_Only/Data/0123_006_G4_00400_00160_3200_N/GT_RAW_010_Rgain1.707_Bgain1.939.npy \n",
      "  /dataset/SIDD/SIDD_Small_sRGB_Only/Data/0123_006_G4_00400_00160_3200_N/GT_SRGB_010.PNG\n",
      "\n",
      "GT_RAW_010_Rgain1.707_Bgain1.939.npy\n",
      "/dataset/SIDD/SIDD_Small_sRGB_Only/Data/0123_006_G4_00400_00160_3200_N\n",
      "/dataset/SIDD/SIDD_Small_sRGB_Only/Data/0123_006_G4_00400_00160_3200_N/GT_RAW_010_Rgain1.707_Bgain1.939.npy\n",
      "193 \n",
      "  /dataset/SIDD/SIDD_Small_Raw_Only/Data/0123_006_G4_00400_00160_3200_N/NOISY_RAW_010_Rgain1.707_Bgain1.939.npy \n",
      "  /dataset/SIDD/SIDD_Small_sRGB_Only/Data/0123_006_G4_00400_00160_3200_N/NOISY_SRGB_010.PNG\n",
      "\n",
      "NOISY_RAW_010_Rgain1.707_Bgain1.939.npy\n",
      "/dataset/SIDD/SIDD_Small_sRGB_Only/Data/0123_006_G4_00400_00160_3200_N\n",
      "/dataset/SIDD/SIDD_Small_sRGB_Only/Data/0123_006_G4_00400_00160_3200_N/NOISY_RAW_010_Rgain1.707_Bgain1.939.npy\n",
      "194 \n",
      "  /dataset/SIDD/SIDD_Small_Raw_Only/Data/0125_006_S6_00100_00050_4400_L/GT_RAW_010_Rgain1.939_Bgain1.707.npy \n",
      "  /dataset/SIDD/SIDD_Small_sRGB_Only/Data/0125_006_S6_00100_00050_4400_L/GT_SRGB_010.PNG\n",
      "\n",
      "GT_RAW_010_Rgain1.939_Bgain1.707.npy\n",
      "/dataset/SIDD/SIDD_Small_sRGB_Only/Data/0125_006_S6_00100_00050_4400_L\n",
      "/dataset/SIDD/SIDD_Small_sRGB_Only/Data/0125_006_S6_00100_00050_4400_L/GT_RAW_010_Rgain1.939_Bgain1.707.npy\n",
      "195 \n",
      "  /dataset/SIDD/SIDD_Small_Raw_Only/Data/0125_006_S6_00100_00050_4400_L/NOISY_RAW_010_Rgain1.939_Bgain1.707.npy \n",
      "  /dataset/SIDD/SIDD_Small_sRGB_Only/Data/0125_006_S6_00100_00050_4400_L/NOISY_SRGB_010.PNG\n",
      "\n",
      "NOISY_RAW_010_Rgain1.939_Bgain1.707.npy\n",
      "/dataset/SIDD/SIDD_Small_sRGB_Only/Data/0125_006_S6_00100_00050_4400_L\n",
      "/dataset/SIDD/SIDD_Small_sRGB_Only/Data/0125_006_S6_00100_00050_4400_L/NOISY_RAW_010_Rgain1.939_Bgain1.707.npy\n",
      "196 \n",
      "  /dataset/SIDD/SIDD_Small_Raw_Only/Data/0126_006_S6_00400_00200_4400_L/GT_RAW_010_Rgain1.984_Bgain1.724.npy \n",
      "  /dataset/SIDD/SIDD_Small_sRGB_Only/Data/0126_006_S6_00400_00200_4400_L/GT_SRGB_010.PNG\n",
      "\n",
      "GT_RAW_010_Rgain1.984_Bgain1.724.npy\n",
      "/dataset/SIDD/SIDD_Small_sRGB_Only/Data/0126_006_S6_00400_00200_4400_L\n",
      "/dataset/SIDD/SIDD_Small_sRGB_Only/Data/0126_006_S6_00400_00200_4400_L/GT_RAW_010_Rgain1.984_Bgain1.724.npy\n",
      "197 \n",
      "  /dataset/SIDD/SIDD_Small_Raw_Only/Data/0126_006_S6_00400_00200_4400_L/NOISY_RAW_010_Rgain1.984_Bgain1.724.npy \n",
      "  /dataset/SIDD/SIDD_Small_sRGB_Only/Data/0126_006_S6_00400_00200_4400_L/NOISY_SRGB_010.PNG\n",
      "\n",
      "NOISY_RAW_010_Rgain1.984_Bgain1.724.npy\n",
      "/dataset/SIDD/SIDD_Small_sRGB_Only/Data/0126_006_S6_00400_00200_4400_L\n",
      "/dataset/SIDD/SIDD_Small_sRGB_Only/Data/0126_006_S6_00400_00200_4400_L/NOISY_RAW_010_Rgain1.984_Bgain1.724.npy\n",
      "198 \n",
      "  /dataset/SIDD/SIDD_Small_Raw_Only/Data/0127_006_S6_01600_00800_4400_L/GT_RAW_010_Rgain1.925_Bgain1.673.npy \n",
      "  /dataset/SIDD/SIDD_Small_sRGB_Only/Data/0127_006_S6_01600_00800_4400_L/GT_SRGB_010.PNG\n",
      "\n",
      "GT_RAW_010_Rgain1.925_Bgain1.673.npy\n",
      "/dataset/SIDD/SIDD_Small_sRGB_Only/Data/0127_006_S6_01600_00800_4400_L\n",
      "/dataset/SIDD/SIDD_Small_sRGB_Only/Data/0127_006_S6_01600_00800_4400_L/GT_RAW_010_Rgain1.925_Bgain1.673.npy\n",
      "199 \n",
      "  /dataset/SIDD/SIDD_Small_Raw_Only/Data/0127_006_S6_01600_00800_4400_L/NOISY_RAW_010_Rgain1.925_Bgain1.673.npy \n",
      "  /dataset/SIDD/SIDD_Small_sRGB_Only/Data/0127_006_S6_01600_00800_4400_L/NOISY_SRGB_010.PNG\n",
      "\n",
      "NOISY_RAW_010_Rgain1.925_Bgain1.673.npy\n",
      "/dataset/SIDD/SIDD_Small_sRGB_Only/Data/0127_006_S6_01600_00800_4400_L\n",
      "/dataset/SIDD/SIDD_Small_sRGB_Only/Data/0127_006_S6_01600_00800_4400_L/NOISY_RAW_010_Rgain1.925_Bgain1.673.npy\n",
      "200 \n",
      "  /dataset/SIDD/SIDD_Small_Raw_Only/Data/0129_006_GP_00100_00100_4400_N/GT_RAW_010_Rgain2.415_Bgain1.753.npy \n",
      "  /dataset/SIDD/SIDD_Small_sRGB_Only/Data/0129_006_GP_00100_00100_4400_N/GT_SRGB_010.PNG\n",
      "\n",
      "GT_RAW_010_Rgain2.415_Bgain1.753.npy\n",
      "/dataset/SIDD/SIDD_Small_sRGB_Only/Data/0129_006_GP_00100_00100_4400_N\n",
      "/dataset/SIDD/SIDD_Small_sRGB_Only/Data/0129_006_GP_00100_00100_4400_N/GT_RAW_010_Rgain2.415_Bgain1.753.npy\n",
      "201 \n",
      "  /dataset/SIDD/SIDD_Small_Raw_Only/Data/0129_006_GP_00100_00100_4400_N/NOISY_RAW_010_Rgain2.415_Bgain1.753.npy \n",
      "  /dataset/SIDD/SIDD_Small_sRGB_Only/Data/0129_006_GP_00100_00100_4400_N/NOISY_SRGB_010.PNG\n",
      "\n",
      "NOISY_RAW_010_Rgain2.415_Bgain1.753.npy\n",
      "/dataset/SIDD/SIDD_Small_sRGB_Only/Data/0129_006_GP_00100_00100_4400_N\n",
      "/dataset/SIDD/SIDD_Small_sRGB_Only/Data/0129_006_GP_00100_00100_4400_N/NOISY_RAW_010_Rgain2.415_Bgain1.753.npy\n",
      "202 \n",
      "  /dataset/SIDD/SIDD_Small_Raw_Only/Data/0130_006_GP_00400_00400_4400_N/GT_RAW_010_Rgain2.415_Bgain1.753.npy \n",
      "  /dataset/SIDD/SIDD_Small_sRGB_Only/Data/0130_006_GP_00400_00400_4400_N/GT_SRGB_010.PNG\n",
      "\n",
      "GT_RAW_010_Rgain2.415_Bgain1.753.npy\n",
      "/dataset/SIDD/SIDD_Small_sRGB_Only/Data/0130_006_GP_00400_00400_4400_N\n",
      "/dataset/SIDD/SIDD_Small_sRGB_Only/Data/0130_006_GP_00400_00400_4400_N/GT_RAW_010_Rgain2.415_Bgain1.753.npy\n",
      "203 \n",
      "  /dataset/SIDD/SIDD_Small_Raw_Only/Data/0130_006_GP_00400_00400_4400_N/NOISY_RAW_010_Rgain2.415_Bgain1.753.npy \n",
      "  /dataset/SIDD/SIDD_Small_sRGB_Only/Data/0130_006_GP_00400_00400_4400_N/NOISY_SRGB_010.PNG\n",
      "\n",
      "NOISY_RAW_010_Rgain2.415_Bgain1.753.npy\n",
      "/dataset/SIDD/SIDD_Small_sRGB_Only/Data/0130_006_GP_00400_00400_4400_N\n",
      "/dataset/SIDD/SIDD_Small_sRGB_Only/Data/0130_006_GP_00400_00400_4400_N/NOISY_RAW_010_Rgain2.415_Bgain1.753.npy\n",
      "204 \n",
      "  /dataset/SIDD/SIDD_Small_Raw_Only/Data/0132_006_GP_00100_00200_5500_L/GT_RAW_010_Rgain2.415_Bgain1.753.npy \n",
      "  /dataset/SIDD/SIDD_Small_sRGB_Only/Data/0132_006_GP_00100_00200_5500_L/GT_SRGB_010.PNG\n",
      "\n",
      "GT_RAW_010_Rgain2.415_Bgain1.753.npy\n",
      "/dataset/SIDD/SIDD_Small_sRGB_Only/Data/0132_006_GP_00100_00200_5500_L\n",
      "/dataset/SIDD/SIDD_Small_sRGB_Only/Data/0132_006_GP_00100_00200_5500_L/GT_RAW_010_Rgain2.415_Bgain1.753.npy\n",
      "205 \n",
      "  /dataset/SIDD/SIDD_Small_Raw_Only/Data/0132_006_GP_00100_00200_5500_L/NOISY_RAW_010_Rgain2.415_Bgain1.753.npy \n",
      "  /dataset/SIDD/SIDD_Small_sRGB_Only/Data/0132_006_GP_00100_00200_5500_L/NOISY_SRGB_010.PNG\n",
      "\n",
      "NOISY_RAW_010_Rgain2.415_Bgain1.753.npy\n",
      "/dataset/SIDD/SIDD_Small_sRGB_Only/Data/0132_006_GP_00100_00200_5500_L\n",
      "/dataset/SIDD/SIDD_Small_sRGB_Only/Data/0132_006_GP_00100_00200_5500_L/NOISY_RAW_010_Rgain2.415_Bgain1.753.npy\n",
      "206 \n",
      "  /dataset/SIDD/SIDD_Small_Raw_Only/Data/0133_006_GP_00800_01600_5500_L/GT_RAW_010_Rgain2.415_Bgain1.753.npy \n",
      "  /dataset/SIDD/SIDD_Small_sRGB_Only/Data/0133_006_GP_00800_01600_5500_L/GT_SRGB_010.PNG\n",
      "\n",
      "GT_RAW_010_Rgain2.415_Bgain1.753.npy\n",
      "/dataset/SIDD/SIDD_Small_sRGB_Only/Data/0133_006_GP_00800_01600_5500_L\n",
      "/dataset/SIDD/SIDD_Small_sRGB_Only/Data/0133_006_GP_00800_01600_5500_L/GT_RAW_010_Rgain2.415_Bgain1.753.npy\n",
      "207 \n",
      "  /dataset/SIDD/SIDD_Small_Raw_Only/Data/0133_006_GP_00800_01600_5500_L/NOISY_RAW_010_Rgain2.415_Bgain1.753.npy \n",
      "  /dataset/SIDD/SIDD_Small_sRGB_Only/Data/0133_006_GP_00800_01600_5500_L/NOISY_SRGB_010.PNG\n",
      "\n",
      "NOISY_RAW_010_Rgain2.415_Bgain1.753.npy\n",
      "/dataset/SIDD/SIDD_Small_sRGB_Only/Data/0133_006_GP_00800_01600_5500_L\n",
      "/dataset/SIDD/SIDD_Small_sRGB_Only/Data/0133_006_GP_00800_01600_5500_L/NOISY_RAW_010_Rgain2.415_Bgain1.753.npy\n",
      "208 \n",
      "  /dataset/SIDD/SIDD_Small_Raw_Only/Data/0134_006_IP_00100_00100_5500_N/GT_RAW_010_Rgain2.607_Bgain1.799.npy \n",
      "  /dataset/SIDD/SIDD_Small_sRGB_Only/Data/0134_006_IP_00100_00100_5500_N/GT_SRGB_010.PNG\n",
      "\n",
      "GT_RAW_010_Rgain2.607_Bgain1.799.npy\n",
      "/dataset/SIDD/SIDD_Small_sRGB_Only/Data/0134_006_IP_00100_00100_5500_N\n",
      "/dataset/SIDD/SIDD_Small_sRGB_Only/Data/0134_006_IP_00100_00100_5500_N/GT_RAW_010_Rgain2.607_Bgain1.799.npy\n",
      "209 \n",
      "  /dataset/SIDD/SIDD_Small_Raw_Only/Data/0134_006_IP_00100_00100_5500_N/NOISY_RAW_010_Rgain2.607_Bgain1.799.npy \n",
      "  /dataset/SIDD/SIDD_Small_sRGB_Only/Data/0134_006_IP_00100_00100_5500_N/NOISY_SRGB_010.PNG\n",
      "\n",
      "NOISY_RAW_010_Rgain2.607_Bgain1.799.npy\n",
      "/dataset/SIDD/SIDD_Small_sRGB_Only/Data/0134_006_IP_00100_00100_5500_N\n",
      "/dataset/SIDD/SIDD_Small_sRGB_Only/Data/0134_006_IP_00100_00100_5500_N/NOISY_RAW_010_Rgain2.607_Bgain1.799.npy\n",
      "210 \n",
      "  /dataset/SIDD/SIDD_Small_Raw_Only/Data/0135_006_IP_00400_00400_5500_N/GT_RAW_010_Rgain2.607_Bgain1.799.npy \n",
      "  /dataset/SIDD/SIDD_Small_sRGB_Only/Data/0135_006_IP_00400_00400_5500_N/GT_SRGB_010.PNG\n",
      "\n",
      "GT_RAW_010_Rgain2.607_Bgain1.799.npy\n",
      "/dataset/SIDD/SIDD_Small_sRGB_Only/Data/0135_006_IP_00400_00400_5500_N\n",
      "/dataset/SIDD/SIDD_Small_sRGB_Only/Data/0135_006_IP_00400_00400_5500_N/GT_RAW_010_Rgain2.607_Bgain1.799.npy\n",
      "211 \n",
      "  /dataset/SIDD/SIDD_Small_Raw_Only/Data/0135_006_IP_00400_00400_5500_N/NOISY_RAW_010_Rgain2.607_Bgain1.799.npy \n",
      "  /dataset/SIDD/SIDD_Small_sRGB_Only/Data/0135_006_IP_00400_00400_5500_N/NOISY_SRGB_010.PNG\n",
      "\n",
      "NOISY_RAW_010_Rgain2.607_Bgain1.799.npy\n",
      "/dataset/SIDD/SIDD_Small_sRGB_Only/Data/0135_006_IP_00400_00400_5500_N\n",
      "/dataset/SIDD/SIDD_Small_sRGB_Only/Data/0135_006_IP_00400_00400_5500_N/NOISY_RAW_010_Rgain2.607_Bgain1.799.npy\n",
      "212 \n",
      "  /dataset/SIDD/SIDD_Small_Raw_Only/Data/0136_006_IP_00800_00800_5500_N/GT_RAW_010_Rgain2.607_Bgain1.799.npy \n",
      "  /dataset/SIDD/SIDD_Small_sRGB_Only/Data/0136_006_IP_00800_00800_5500_N/GT_SRGB_010.PNG\n",
      "\n",
      "GT_RAW_010_Rgain2.607_Bgain1.799.npy\n",
      "/dataset/SIDD/SIDD_Small_sRGB_Only/Data/0136_006_IP_00800_00800_5500_N\n",
      "/dataset/SIDD/SIDD_Small_sRGB_Only/Data/0136_006_IP_00800_00800_5500_N/GT_RAW_010_Rgain2.607_Bgain1.799.npy\n",
      "213 \n",
      "  /dataset/SIDD/SIDD_Small_Raw_Only/Data/0136_006_IP_00800_00800_5500_N/NOISY_RAW_010_Rgain2.607_Bgain1.799.npy \n",
      "  /dataset/SIDD/SIDD_Small_sRGB_Only/Data/0136_006_IP_00800_00800_5500_N/NOISY_SRGB_010.PNG\n",
      "\n",
      "NOISY_RAW_010_Rgain2.607_Bgain1.799.npy\n",
      "/dataset/SIDD/SIDD_Small_sRGB_Only/Data/0136_006_IP_00800_00800_5500_N\n",
      "/dataset/SIDD/SIDD_Small_sRGB_Only/Data/0136_006_IP_00800_00800_5500_N/NOISY_RAW_010_Rgain2.607_Bgain1.799.npy\n",
      "214 \n",
      "  /dataset/SIDD/SIDD_Small_Raw_Only/Data/0137_006_IP_01600_01600_5500_N/GT_RAW_010_Rgain2.607_Bgain1.799.npy \n",
      "  /dataset/SIDD/SIDD_Small_sRGB_Only/Data/0137_006_IP_01600_01600_5500_N/GT_SRGB_010.PNG\n",
      "\n",
      "GT_RAW_010_Rgain2.607_Bgain1.799.npy\n",
      "/dataset/SIDD/SIDD_Small_sRGB_Only/Data/0137_006_IP_01600_01600_5500_N\n",
      "/dataset/SIDD/SIDD_Small_sRGB_Only/Data/0137_006_IP_01600_01600_5500_N/GT_RAW_010_Rgain2.607_Bgain1.799.npy\n",
      "215 \n",
      "  /dataset/SIDD/SIDD_Small_Raw_Only/Data/0137_006_IP_01600_01600_5500_N/NOISY_RAW_010_Rgain2.607_Bgain1.799.npy \n",
      "  /dataset/SIDD/SIDD_Small_sRGB_Only/Data/0137_006_IP_01600_01600_5500_N/NOISY_SRGB_010.PNG\n",
      "\n",
      "NOISY_RAW_010_Rgain2.607_Bgain1.799.npy\n",
      "/dataset/SIDD/SIDD_Small_sRGB_Only/Data/0137_006_IP_01600_01600_5500_N\n",
      "/dataset/SIDD/SIDD_Small_sRGB_Only/Data/0137_006_IP_01600_01600_5500_N/NOISY_RAW_010_Rgain2.607_Bgain1.799.npy\n",
      "216 \n",
      "  /dataset/SIDD/SIDD_Small_Raw_Only/Data/0138_006_IP_00100_00100_3200_L/GT_RAW_010_Rgain2.607_Bgain1.799.npy \n",
      "  /dataset/SIDD/SIDD_Small_sRGB_Only/Data/0138_006_IP_00100_00100_3200_L/GT_SRGB_010.PNG\n",
      "\n",
      "GT_RAW_010_Rgain2.607_Bgain1.799.npy\n",
      "/dataset/SIDD/SIDD_Small_sRGB_Only/Data/0138_006_IP_00100_00100_3200_L\n",
      "/dataset/SIDD/SIDD_Small_sRGB_Only/Data/0138_006_IP_00100_00100_3200_L/GT_RAW_010_Rgain2.607_Bgain1.799.npy\n"
     ]
    },
    {
     "name": "stdout",
     "output_type": "stream",
     "text": [
      "217 \n",
      "  /dataset/SIDD/SIDD_Small_Raw_Only/Data/0138_006_IP_00100_00100_3200_L/NOISY_RAW_010_Rgain2.607_Bgain1.799.npy \n",
      "  /dataset/SIDD/SIDD_Small_sRGB_Only/Data/0138_006_IP_00100_00100_3200_L/NOISY_SRGB_010.PNG\n",
      "\n",
      "NOISY_RAW_010_Rgain2.607_Bgain1.799.npy\n",
      "/dataset/SIDD/SIDD_Small_sRGB_Only/Data/0138_006_IP_00100_00100_3200_L\n",
      "/dataset/SIDD/SIDD_Small_sRGB_Only/Data/0138_006_IP_00100_00100_3200_L/NOISY_RAW_010_Rgain2.607_Bgain1.799.npy\n",
      "218 \n",
      "  /dataset/SIDD/SIDD_Small_Raw_Only/Data/0139_006_IP_00200_00200_3200_L/GT_RAW_010_Rgain2.607_Bgain1.799.npy \n",
      "  /dataset/SIDD/SIDD_Small_sRGB_Only/Data/0139_006_IP_00200_00200_3200_L/GT_SRGB_010.PNG\n",
      "\n",
      "GT_RAW_010_Rgain2.607_Bgain1.799.npy\n",
      "/dataset/SIDD/SIDD_Small_sRGB_Only/Data/0139_006_IP_00200_00200_3200_L\n",
      "/dataset/SIDD/SIDD_Small_sRGB_Only/Data/0139_006_IP_00200_00200_3200_L/GT_RAW_010_Rgain2.607_Bgain1.799.npy\n",
      "219 \n",
      "  /dataset/SIDD/SIDD_Small_Raw_Only/Data/0139_006_IP_00200_00200_3200_L/NOISY_RAW_010_Rgain2.607_Bgain1.799.npy \n",
      "  /dataset/SIDD/SIDD_Small_sRGB_Only/Data/0139_006_IP_00200_00200_3200_L/NOISY_SRGB_010.PNG\n",
      "\n",
      "NOISY_RAW_010_Rgain2.607_Bgain1.799.npy\n",
      "/dataset/SIDD/SIDD_Small_sRGB_Only/Data/0139_006_IP_00200_00200_3200_L\n",
      "/dataset/SIDD/SIDD_Small_sRGB_Only/Data/0139_006_IP_00200_00200_3200_L/NOISY_RAW_010_Rgain2.607_Bgain1.799.npy\n",
      "220 \n",
      "  /dataset/SIDD/SIDD_Small_Raw_Only/Data/0140_006_IP_00800_00800_3200_L/GT_RAW_010_Rgain2.607_Bgain1.799.npy \n",
      "  /dataset/SIDD/SIDD_Small_sRGB_Only/Data/0140_006_IP_00800_00800_3200_L/GT_SRGB_010.PNG\n",
      "\n",
      "GT_RAW_010_Rgain2.607_Bgain1.799.npy\n",
      "/dataset/SIDD/SIDD_Small_sRGB_Only/Data/0140_006_IP_00800_00800_3200_L\n",
      "/dataset/SIDD/SIDD_Small_sRGB_Only/Data/0140_006_IP_00800_00800_3200_L/GT_RAW_010_Rgain2.607_Bgain1.799.npy\n",
      "221 \n",
      "  /dataset/SIDD/SIDD_Small_Raw_Only/Data/0140_006_IP_00800_00800_3200_L/NOISY_RAW_010_Rgain2.607_Bgain1.799.npy \n",
      "  /dataset/SIDD/SIDD_Small_sRGB_Only/Data/0140_006_IP_00800_00800_3200_L/NOISY_SRGB_010.PNG\n",
      "\n",
      "NOISY_RAW_010_Rgain2.607_Bgain1.799.npy\n",
      "/dataset/SIDD/SIDD_Small_sRGB_Only/Data/0140_006_IP_00800_00800_3200_L\n",
      "/dataset/SIDD/SIDD_Small_sRGB_Only/Data/0140_006_IP_00800_00800_3200_L/NOISY_RAW_010_Rgain2.607_Bgain1.799.npy\n",
      "222 \n",
      "  /dataset/SIDD/SIDD_Small_Raw_Only/Data/0142_007_N6_00100_00100_4400_N/GT_RAW_010_Rgain1.600_Bgain1.641.npy \n",
      "  /dataset/SIDD/SIDD_Small_sRGB_Only/Data/0142_007_N6_00100_00100_4400_N/GT_SRGB_010.PNG\n",
      "\n",
      "GT_RAW_010_Rgain1.600_Bgain1.641.npy\n",
      "/dataset/SIDD/SIDD_Small_sRGB_Only/Data/0142_007_N6_00100_00100_4400_N\n",
      "/dataset/SIDD/SIDD_Small_sRGB_Only/Data/0142_007_N6_00100_00100_4400_N/GT_RAW_010_Rgain1.600_Bgain1.641.npy\n",
      "223 \n",
      "  /dataset/SIDD/SIDD_Small_Raw_Only/Data/0142_007_N6_00100_00100_4400_N/NOISY_RAW_010_Rgain1.600_Bgain1.641.npy \n",
      "  /dataset/SIDD/SIDD_Small_sRGB_Only/Data/0142_007_N6_00100_00100_4400_N/NOISY_SRGB_010.PNG\n",
      "\n",
      "NOISY_RAW_010_Rgain1.600_Bgain1.641.npy\n",
      "/dataset/SIDD/SIDD_Small_sRGB_Only/Data/0142_007_N6_00100_00100_4400_N\n",
      "/dataset/SIDD/SIDD_Small_sRGB_Only/Data/0142_007_N6_00100_00100_4400_N/NOISY_RAW_010_Rgain1.600_Bgain1.641.npy\n",
      "224 \n",
      "  /dataset/SIDD/SIDD_Small_Raw_Only/Data/0144_007_N6_01600_01600_4400_N/GT_RAW_010_Rgain1.455_Bgain1.829.npy \n",
      "  /dataset/SIDD/SIDD_Small_sRGB_Only/Data/0144_007_N6_01600_01600_4400_N/GT_SRGB_010.PNG\n",
      "\n",
      "GT_RAW_010_Rgain1.455_Bgain1.829.npy\n",
      "/dataset/SIDD/SIDD_Small_sRGB_Only/Data/0144_007_N6_01600_01600_4400_N\n",
      "/dataset/SIDD/SIDD_Small_sRGB_Only/Data/0144_007_N6_01600_01600_4400_N/GT_RAW_010_Rgain1.455_Bgain1.829.npy\n",
      "225 \n",
      "  /dataset/SIDD/SIDD_Small_Raw_Only/Data/0144_007_N6_01600_01600_4400_N/NOISY_RAW_010_Rgain1.455_Bgain1.829.npy \n",
      "  /dataset/SIDD/SIDD_Small_sRGB_Only/Data/0144_007_N6_01600_01600_4400_N/NOISY_SRGB_010.PNG\n",
      "\n",
      "NOISY_RAW_010_Rgain1.455_Bgain1.829.npy\n",
      "/dataset/SIDD/SIDD_Small_sRGB_Only/Data/0144_007_N6_01600_01600_4400_N\n",
      "/dataset/SIDD/SIDD_Small_sRGB_Only/Data/0144_007_N6_01600_01600_4400_N/NOISY_RAW_010_Rgain1.455_Bgain1.829.npy\n",
      "226 \n",
      "  /dataset/SIDD/SIDD_Small_Raw_Only/Data/0145_007_N6_03200_03200_4400_N/GT_RAW_010_Rgain1.455_Bgain1.829.npy \n",
      "  /dataset/SIDD/SIDD_Small_sRGB_Only/Data/0145_007_N6_03200_03200_4400_N/GT_SRGB_010.PNG\n",
      "\n",
      "GT_RAW_010_Rgain1.455_Bgain1.829.npy\n",
      "/dataset/SIDD/SIDD_Small_sRGB_Only/Data/0145_007_N6_03200_03200_4400_N\n",
      "/dataset/SIDD/SIDD_Small_sRGB_Only/Data/0145_007_N6_03200_03200_4400_N/GT_RAW_010_Rgain1.455_Bgain1.829.npy\n",
      "227 \n",
      "  /dataset/SIDD/SIDD_Small_Raw_Only/Data/0145_007_N6_03200_03200_4400_N/NOISY_RAW_010_Rgain1.455_Bgain1.829.npy \n",
      "  /dataset/SIDD/SIDD_Small_sRGB_Only/Data/0145_007_N6_03200_03200_4400_N/NOISY_SRGB_010.PNG\n",
      "\n",
      "NOISY_RAW_010_Rgain1.455_Bgain1.829.npy\n",
      "/dataset/SIDD/SIDD_Small_sRGB_Only/Data/0145_007_N6_03200_03200_4400_N\n",
      "/dataset/SIDD/SIDD_Small_sRGB_Only/Data/0145_007_N6_03200_03200_4400_N/NOISY_RAW_010_Rgain1.455_Bgain1.829.npy\n",
      "228 \n",
      "  /dataset/SIDD/SIDD_Small_Raw_Only/Data/0146_007_N6_00400_00400_4400_N/GT_RAW_010_Rgain1.422_Bgain1.855.npy \n",
      "  /dataset/SIDD/SIDD_Small_sRGB_Only/Data/0146_007_N6_00400_00400_4400_N/GT_SRGB_010.PNG\n",
      "\n",
      "GT_RAW_010_Rgain1.422_Bgain1.855.npy\n",
      "/dataset/SIDD/SIDD_Small_sRGB_Only/Data/0146_007_N6_00400_00400_4400_N\n",
      "/dataset/SIDD/SIDD_Small_sRGB_Only/Data/0146_007_N6_00400_00400_4400_N/GT_RAW_010_Rgain1.422_Bgain1.855.npy\n",
      "229 \n",
      "  /dataset/SIDD/SIDD_Small_Raw_Only/Data/0146_007_N6_00400_00400_4400_N/NOISY_RAW_010_Rgain1.422_Bgain1.855.npy \n",
      "  /dataset/SIDD/SIDD_Small_sRGB_Only/Data/0146_007_N6_00400_00400_4400_N/NOISY_SRGB_010.PNG\n",
      "\n",
      "NOISY_RAW_010_Rgain1.422_Bgain1.855.npy\n",
      "/dataset/SIDD/SIDD_Small_sRGB_Only/Data/0146_007_N6_00400_00400_4400_N\n",
      "/dataset/SIDD/SIDD_Small_sRGB_Only/Data/0146_007_N6_00400_00400_4400_N/NOISY_RAW_010_Rgain1.422_Bgain1.855.npy\n",
      "230 \n",
      "  /dataset/SIDD/SIDD_Small_Raw_Only/Data/0147_007_G4_00100_00100_4400_L/GT_RAW_010_Rgain1.730_Bgain1.641.npy \n",
      "  /dataset/SIDD/SIDD_Small_sRGB_Only/Data/0147_007_G4_00100_00100_4400_L/GT_SRGB_010.PNG\n",
      "\n",
      "GT_RAW_010_Rgain1.730_Bgain1.641.npy\n",
      "/dataset/SIDD/SIDD_Small_sRGB_Only/Data/0147_007_G4_00100_00100_4400_L\n",
      "/dataset/SIDD/SIDD_Small_sRGB_Only/Data/0147_007_G4_00100_00100_4400_L/GT_RAW_010_Rgain1.730_Bgain1.641.npy\n",
      "231 \n",
      "  /dataset/SIDD/SIDD_Small_Raw_Only/Data/0147_007_G4_00100_00100_4400_L/NOISY_RAW_010_Rgain1.730_Bgain1.641.npy \n",
      "  /dataset/SIDD/SIDD_Small_sRGB_Only/Data/0147_007_G4_00100_00100_4400_L/NOISY_SRGB_010.PNG\n",
      "\n",
      "NOISY_RAW_010_Rgain1.730_Bgain1.641.npy\n",
      "/dataset/SIDD/SIDD_Small_sRGB_Only/Data/0147_007_G4_00100_00100_4400_L\n",
      "/dataset/SIDD/SIDD_Small_sRGB_Only/Data/0147_007_G4_00100_00100_4400_L/NOISY_RAW_010_Rgain1.730_Bgain1.641.npy\n",
      "232 \n",
      "  /dataset/SIDD/SIDD_Small_Raw_Only/Data/0149_007_G4_00800_00800_4400_L/GT_RAW_010_Rgain1.730_Bgain1.641.npy \n",
      "  /dataset/SIDD/SIDD_Small_sRGB_Only/Data/0149_007_G4_00800_00800_4400_L/GT_SRGB_010.PNG\n",
      "\n",
      "GT_RAW_010_Rgain1.730_Bgain1.641.npy\n",
      "/dataset/SIDD/SIDD_Small_sRGB_Only/Data/0149_007_G4_00800_00800_4400_L\n",
      "/dataset/SIDD/SIDD_Small_sRGB_Only/Data/0149_007_G4_00800_00800_4400_L/GT_RAW_010_Rgain1.730_Bgain1.641.npy\n",
      "233 \n",
      "  /dataset/SIDD/SIDD_Small_Raw_Only/Data/0149_007_G4_00800_00800_4400_L/NOISY_RAW_010_Rgain1.730_Bgain1.641.npy \n",
      "  /dataset/SIDD/SIDD_Small_sRGB_Only/Data/0149_007_G4_00800_00800_4400_L/NOISY_SRGB_010.PNG\n",
      "\n",
      "NOISY_RAW_010_Rgain1.730_Bgain1.641.npy\n",
      "/dataset/SIDD/SIDD_Small_sRGB_Only/Data/0149_007_G4_00800_00800_4400_L\n",
      "/dataset/SIDD/SIDD_Small_sRGB_Only/Data/0149_007_G4_00800_00800_4400_L/NOISY_RAW_010_Rgain1.730_Bgain1.641.npy\n",
      "234 \n",
      "  /dataset/SIDD/SIDD_Small_Raw_Only/Data/0150_007_S6_00100_00100_5500_L/GT_RAW_010_Rgain1.816_Bgain1.573.npy \n",
      "  /dataset/SIDD/SIDD_Small_sRGB_Only/Data/0150_007_S6_00100_00100_5500_L/GT_SRGB_010.PNG\n",
      "\n",
      "GT_RAW_010_Rgain1.816_Bgain1.573.npy\n",
      "/dataset/SIDD/SIDD_Small_sRGB_Only/Data/0150_007_S6_00100_00100_5500_L\n",
      "/dataset/SIDD/SIDD_Small_sRGB_Only/Data/0150_007_S6_00100_00100_5500_L/GT_RAW_010_Rgain1.816_Bgain1.573.npy\n",
      "235 \n",
      "  /dataset/SIDD/SIDD_Small_Raw_Only/Data/0150_007_S6_00100_00100_5500_L/NOISY_RAW_010_Rgain1.816_Bgain1.573.npy \n",
      "  /dataset/SIDD/SIDD_Small_sRGB_Only/Data/0150_007_S6_00100_00100_5500_L/NOISY_SRGB_010.PNG\n",
      "\n",
      "NOISY_RAW_010_Rgain1.816_Bgain1.573.npy\n",
      "/dataset/SIDD/SIDD_Small_sRGB_Only/Data/0150_007_S6_00100_00100_5500_L\n",
      "/dataset/SIDD/SIDD_Small_sRGB_Only/Data/0150_007_S6_00100_00100_5500_L/NOISY_RAW_010_Rgain1.816_Bgain1.573.npy\n",
      "236 \n",
      "  /dataset/SIDD/SIDD_Small_Raw_Only/Data/0151_007_S6_00800_00800_5500_L/GT_RAW_010_Rgain1.816_Bgain1.608.npy \n",
      "  /dataset/SIDD/SIDD_Small_sRGB_Only/Data/0151_007_S6_00800_00800_5500_L/GT_SRGB_010.PNG\n",
      "\n",
      "GT_RAW_010_Rgain1.816_Bgain1.608.npy\n",
      "/dataset/SIDD/SIDD_Small_sRGB_Only/Data/0151_007_S6_00800_00800_5500_L\n",
      "/dataset/SIDD/SIDD_Small_sRGB_Only/Data/0151_007_S6_00800_00800_5500_L/GT_RAW_010_Rgain1.816_Bgain1.608.npy\n"
     ]
    },
    {
     "name": "stdout",
     "output_type": "stream",
     "text": [
      "237 \n",
      "  /dataset/SIDD/SIDD_Small_Raw_Only/Data/0151_007_S6_00800_00800_5500_L/NOISY_RAW_010_Rgain1.816_Bgain1.608.npy \n",
      "  /dataset/SIDD/SIDD_Small_sRGB_Only/Data/0151_007_S6_00800_00800_5500_L/NOISY_SRGB_010.PNG\n",
      "\n",
      "NOISY_RAW_010_Rgain1.816_Bgain1.608.npy\n",
      "/dataset/SIDD/SIDD_Small_sRGB_Only/Data/0151_007_S6_00800_00800_5500_L\n",
      "/dataset/SIDD/SIDD_Small_sRGB_Only/Data/0151_007_S6_00800_00800_5500_L/NOISY_RAW_010_Rgain1.816_Bgain1.608.npy\n",
      "238 \n",
      "  /dataset/SIDD/SIDD_Small_Raw_Only/Data/0152_007_S6_01600_01600_5500_L/GT_RAW_010_Rgain1.816_Bgain1.608.npy \n",
      "  /dataset/SIDD/SIDD_Small_sRGB_Only/Data/0152_007_S6_01600_01600_5500_L/GT_SRGB_010.PNG\n",
      "\n",
      "GT_RAW_010_Rgain1.816_Bgain1.608.npy\n",
      "/dataset/SIDD/SIDD_Small_sRGB_Only/Data/0152_007_S6_01600_01600_5500_L\n",
      "/dataset/SIDD/SIDD_Small_sRGB_Only/Data/0152_007_S6_01600_01600_5500_L/GT_RAW_010_Rgain1.816_Bgain1.608.npy\n",
      "239 \n",
      "  /dataset/SIDD/SIDD_Small_Raw_Only/Data/0152_007_S6_01600_01600_5500_L/NOISY_RAW_010_Rgain1.816_Bgain1.608.npy \n",
      "  /dataset/SIDD/SIDD_Small_sRGB_Only/Data/0152_007_S6_01600_01600_5500_L/NOISY_SRGB_010.PNG\n",
      "\n",
      "NOISY_RAW_010_Rgain1.816_Bgain1.608.npy\n",
      "/dataset/SIDD/SIDD_Small_sRGB_Only/Data/0152_007_S6_01600_01600_5500_L\n",
      "/dataset/SIDD/SIDD_Small_sRGB_Only/Data/0152_007_S6_01600_01600_5500_L/NOISY_RAW_010_Rgain1.816_Bgain1.608.npy\n",
      "240 \n",
      "  /dataset/SIDD/SIDD_Small_Raw_Only/Data/0154_007_S6_00400_00400_5500_L/GT_RAW_010_Rgain1.796_Bgain1.605.npy \n",
      "  /dataset/SIDD/SIDD_Small_sRGB_Only/Data/0154_007_S6_00400_00400_5500_L/GT_SRGB_010.PNG\n",
      "\n",
      "GT_RAW_010_Rgain1.796_Bgain1.605.npy\n",
      "/dataset/SIDD/SIDD_Small_sRGB_Only/Data/0154_007_S6_00400_00400_5500_L\n",
      "/dataset/SIDD/SIDD_Small_sRGB_Only/Data/0154_007_S6_00400_00400_5500_L/GT_RAW_010_Rgain1.796_Bgain1.605.npy\n",
      "241 \n",
      "  /dataset/SIDD/SIDD_Small_Raw_Only/Data/0154_007_S6_00400_00400_5500_L/NOISY_RAW_010_Rgain1.796_Bgain1.605.npy \n",
      "  /dataset/SIDD/SIDD_Small_sRGB_Only/Data/0154_007_S6_00400_00400_5500_L/NOISY_SRGB_010.PNG\n",
      "\n",
      "NOISY_RAW_010_Rgain1.796_Bgain1.605.npy\n",
      "/dataset/SIDD/SIDD_Small_sRGB_Only/Data/0154_007_S6_00400_00400_5500_L\n",
      "/dataset/SIDD/SIDD_Small_sRGB_Only/Data/0154_007_S6_00400_00400_5500_L/NOISY_RAW_010_Rgain1.796_Bgain1.605.npy\n",
      "242 \n",
      "  /dataset/SIDD/SIDD_Small_Raw_Only/Data/0155_007_GP_00100_00100_5500_N/GT_RAW_010_Rgain1.829_Bgain2.286.npy \n",
      "  /dataset/SIDD/SIDD_Small_sRGB_Only/Data/0155_007_GP_00100_00100_5500_N/GT_SRGB_010.PNG\n",
      "\n",
      "GT_RAW_010_Rgain1.829_Bgain2.286.npy\n",
      "/dataset/SIDD/SIDD_Small_sRGB_Only/Data/0155_007_GP_00100_00100_5500_N\n",
      "/dataset/SIDD/SIDD_Small_sRGB_Only/Data/0155_007_GP_00100_00100_5500_N/GT_RAW_010_Rgain1.829_Bgain2.286.npy\n",
      "243 \n",
      "  /dataset/SIDD/SIDD_Small_Raw_Only/Data/0155_007_GP_00100_00100_5500_N/NOISY_RAW_010_Rgain1.829_Bgain2.286.npy \n",
      "  /dataset/SIDD/SIDD_Small_sRGB_Only/Data/0155_007_GP_00100_00100_5500_N/NOISY_SRGB_010.PNG\n",
      "\n",
      "NOISY_RAW_010_Rgain1.829_Bgain2.286.npy\n",
      "/dataset/SIDD/SIDD_Small_sRGB_Only/Data/0155_007_GP_00100_00100_5500_N\n",
      "/dataset/SIDD/SIDD_Small_sRGB_Only/Data/0155_007_GP_00100_00100_5500_N/NOISY_RAW_010_Rgain1.829_Bgain2.286.npy\n",
      "244 \n",
      "  /dataset/SIDD/SIDD_Small_Raw_Only/Data/0156_007_GP_00800_00800_5500_N/GT_RAW_010_Rgain1.829_Bgain2.286.npy \n",
      "  /dataset/SIDD/SIDD_Small_sRGB_Only/Data/0156_007_GP_00800_00800_5500_N/GT_SRGB_010.PNG\n",
      "\n",
      "GT_RAW_010_Rgain1.829_Bgain2.286.npy\n",
      "/dataset/SIDD/SIDD_Small_sRGB_Only/Data/0156_007_GP_00800_00800_5500_N\n",
      "/dataset/SIDD/SIDD_Small_sRGB_Only/Data/0156_007_GP_00800_00800_5500_N/GT_RAW_010_Rgain1.829_Bgain2.286.npy\n",
      "245 \n",
      "  /dataset/SIDD/SIDD_Small_Raw_Only/Data/0156_007_GP_00800_00800_5500_N/NOISY_RAW_010_Rgain1.829_Bgain2.286.npy \n",
      "  /dataset/SIDD/SIDD_Small_sRGB_Only/Data/0156_007_GP_00800_00800_5500_N/NOISY_SRGB_010.PNG\n",
      "\n",
      "NOISY_RAW_010_Rgain1.829_Bgain2.286.npy\n",
      "/dataset/SIDD/SIDD_Small_sRGB_Only/Data/0156_007_GP_00800_00800_5500_N\n",
      "/dataset/SIDD/SIDD_Small_sRGB_Only/Data/0156_007_GP_00800_00800_5500_N/NOISY_RAW_010_Rgain1.829_Bgain2.286.npy\n",
      "246 \n",
      "  /dataset/SIDD/SIDD_Small_Raw_Only/Data/0157_007_GP_01600_01600_5500_N/GT_RAW_010_Rgain1.829_Bgain2.286.npy \n",
      "  /dataset/SIDD/SIDD_Small_sRGB_Only/Data/0157_007_GP_01600_01600_5500_N/GT_SRGB_010.PNG\n",
      "\n",
      "GT_RAW_010_Rgain1.829_Bgain2.286.npy\n",
      "/dataset/SIDD/SIDD_Small_sRGB_Only/Data/0157_007_GP_01600_01600_5500_N\n",
      "/dataset/SIDD/SIDD_Small_sRGB_Only/Data/0157_007_GP_01600_01600_5500_N/GT_RAW_010_Rgain1.829_Bgain2.286.npy\n",
      "247 \n",
      "  /dataset/SIDD/SIDD_Small_Raw_Only/Data/0157_007_GP_01600_01600_5500_N/NOISY_RAW_010_Rgain1.829_Bgain2.286.npy \n",
      "  /dataset/SIDD/SIDD_Small_sRGB_Only/Data/0157_007_GP_01600_01600_5500_N/NOISY_SRGB_010.PNG\n",
      "\n",
      "NOISY_RAW_010_Rgain1.829_Bgain2.286.npy\n",
      "/dataset/SIDD/SIDD_Small_sRGB_Only/Data/0157_007_GP_01600_01600_5500_N\n",
      "/dataset/SIDD/SIDD_Small_sRGB_Only/Data/0157_007_GP_01600_01600_5500_N/NOISY_RAW_010_Rgain1.829_Bgain2.286.npy\n",
      "248 \n",
      "  /dataset/SIDD/SIDD_Small_Raw_Only/Data/0159_007_IP_00100_00100_3200_L/GT_RAW_010_Rgain1.906_Bgain2.081.npy \n",
      "  /dataset/SIDD/SIDD_Small_sRGB_Only/Data/0159_007_IP_00100_00100_3200_L/GT_SRGB_010.PNG\n",
      "\n",
      "GT_RAW_010_Rgain1.906_Bgain2.081.npy\n",
      "/dataset/SIDD/SIDD_Small_sRGB_Only/Data/0159_007_IP_00100_00100_3200_L\n",
      "/dataset/SIDD/SIDD_Small_sRGB_Only/Data/0159_007_IP_00100_00100_3200_L/GT_RAW_010_Rgain1.906_Bgain2.081.npy\n",
      "249 \n",
      "  /dataset/SIDD/SIDD_Small_Raw_Only/Data/0159_007_IP_00100_00100_3200_L/NOISY_RAW_010_Rgain1.906_Bgain2.081.npy \n",
      "  /dataset/SIDD/SIDD_Small_sRGB_Only/Data/0159_007_IP_00100_00100_3200_L/NOISY_SRGB_010.PNG\n",
      "\n",
      "NOISY_RAW_010_Rgain1.906_Bgain2.081.npy\n",
      "/dataset/SIDD/SIDD_Small_sRGB_Only/Data/0159_007_IP_00100_00100_3200_L\n",
      "/dataset/SIDD/SIDD_Small_sRGB_Only/Data/0159_007_IP_00100_00100_3200_L/NOISY_RAW_010_Rgain1.906_Bgain2.081.npy\n",
      "250 \n",
      "  /dataset/SIDD/SIDD_Small_Raw_Only/Data/0160_007_IP_00400_00400_3200_L/GT_RAW_010_Rgain1.906_Bgain2.081.npy \n",
      "  /dataset/SIDD/SIDD_Small_sRGB_Only/Data/0160_007_IP_00400_00400_3200_L/GT_SRGB_010.PNG\n",
      "\n",
      "GT_RAW_010_Rgain1.906_Bgain2.081.npy\n",
      "/dataset/SIDD/SIDD_Small_sRGB_Only/Data/0160_007_IP_00400_00400_3200_L\n",
      "/dataset/SIDD/SIDD_Small_sRGB_Only/Data/0160_007_IP_00400_00400_3200_L/GT_RAW_010_Rgain1.906_Bgain2.081.npy\n",
      "251 \n",
      "  /dataset/SIDD/SIDD_Small_Raw_Only/Data/0160_007_IP_00400_00400_3200_L/NOISY_RAW_010_Rgain1.906_Bgain2.081.npy \n",
      "  /dataset/SIDD/SIDD_Small_sRGB_Only/Data/0160_007_IP_00400_00400_3200_L/NOISY_SRGB_010.PNG\n",
      "\n",
      "NOISY_RAW_010_Rgain1.906_Bgain2.081.npy\n",
      "/dataset/SIDD/SIDD_Small_sRGB_Only/Data/0160_007_IP_00400_00400_3200_L\n",
      "/dataset/SIDD/SIDD_Small_sRGB_Only/Data/0160_007_IP_00400_00400_3200_L/NOISY_RAW_010_Rgain1.906_Bgain2.081.npy\n",
      "252 \n",
      "  /dataset/SIDD/SIDD_Small_Raw_Only/Data/0161_007_IP_00800_00800_3200_L/GT_RAW_010_Rgain1.906_Bgain2.081.npy \n",
      "  /dataset/SIDD/SIDD_Small_sRGB_Only/Data/0161_007_IP_00800_00800_3200_L/GT_SRGB_010.PNG\n",
      "\n",
      "GT_RAW_010_Rgain1.906_Bgain2.081.npy\n",
      "/dataset/SIDD/SIDD_Small_sRGB_Only/Data/0161_007_IP_00800_00800_3200_L\n",
      "/dataset/SIDD/SIDD_Small_sRGB_Only/Data/0161_007_IP_00800_00800_3200_L/GT_RAW_010_Rgain1.906_Bgain2.081.npy\n",
      "253 \n",
      "  /dataset/SIDD/SIDD_Small_Raw_Only/Data/0161_007_IP_00800_00800_3200_L/NOISY_RAW_010_Rgain1.906_Bgain2.081.npy \n",
      "  /dataset/SIDD/SIDD_Small_sRGB_Only/Data/0161_007_IP_00800_00800_3200_L/NOISY_SRGB_010.PNG\n",
      "\n",
      "NOISY_RAW_010_Rgain1.906_Bgain2.081.npy\n",
      "/dataset/SIDD/SIDD_Small_sRGB_Only/Data/0161_007_IP_00800_00800_3200_L\n",
      "/dataset/SIDD/SIDD_Small_sRGB_Only/Data/0161_007_IP_00800_00800_3200_L/NOISY_RAW_010_Rgain1.906_Bgain2.081.npy\n",
      "254 \n",
      "  /dataset/SIDD/SIDD_Small_Raw_Only/Data/0163_007_IP_00100_00100_3200_N/GT_RAW_010_Rgain1.906_Bgain2.081.npy \n",
      "  /dataset/SIDD/SIDD_Small_sRGB_Only/Data/0163_007_IP_00100_00100_3200_N/GT_SRGB_010.PNG\n",
      "\n",
      "GT_RAW_010_Rgain1.906_Bgain2.081.npy\n",
      "/dataset/SIDD/SIDD_Small_sRGB_Only/Data/0163_007_IP_00100_00100_3200_N\n",
      "/dataset/SIDD/SIDD_Small_sRGB_Only/Data/0163_007_IP_00100_00100_3200_N/GT_RAW_010_Rgain1.906_Bgain2.081.npy\n",
      "255 \n",
      "  /dataset/SIDD/SIDD_Small_Raw_Only/Data/0163_007_IP_00100_00100_3200_N/NOISY_RAW_010_Rgain1.906_Bgain2.081.npy \n",
      "  /dataset/SIDD/SIDD_Small_sRGB_Only/Data/0163_007_IP_00100_00100_3200_N/NOISY_SRGB_010.PNG\n",
      "\n",
      "NOISY_RAW_010_Rgain1.906_Bgain2.081.npy\n",
      "/dataset/SIDD/SIDD_Small_sRGB_Only/Data/0163_007_IP_00100_00100_3200_N\n",
      "/dataset/SIDD/SIDD_Small_sRGB_Only/Data/0163_007_IP_00100_00100_3200_N/NOISY_RAW_010_Rgain1.906_Bgain2.081.npy\n",
      "256 \n",
      "  /dataset/SIDD/SIDD_Small_Raw_Only/Data/0164_007_IP_00400_00400_3200_N/GT_RAW_010_Rgain1.906_Bgain2.081.npy \n",
      "  /dataset/SIDD/SIDD_Small_sRGB_Only/Data/0164_007_IP_00400_00400_3200_N/GT_SRGB_010.PNG\n",
      "\n",
      "GT_RAW_010_Rgain1.906_Bgain2.081.npy\n",
      "/dataset/SIDD/SIDD_Small_sRGB_Only/Data/0164_007_IP_00400_00400_3200_N\n",
      "/dataset/SIDD/SIDD_Small_sRGB_Only/Data/0164_007_IP_00400_00400_3200_N/GT_RAW_010_Rgain1.906_Bgain2.081.npy\n",
      "257 \n",
      "  /dataset/SIDD/SIDD_Small_Raw_Only/Data/0164_007_IP_00400_00400_3200_N/NOISY_RAW_010_Rgain1.906_Bgain2.081.npy \n",
      "  /dataset/SIDD/SIDD_Small_sRGB_Only/Data/0164_007_IP_00400_00400_3200_N/NOISY_SRGB_010.PNG\n",
      "\n",
      "NOISY_RAW_010_Rgain1.906_Bgain2.081.npy\n",
      "/dataset/SIDD/SIDD_Small_sRGB_Only/Data/0164_007_IP_00400_00400_3200_N\n",
      "/dataset/SIDD/SIDD_Small_sRGB_Only/Data/0164_007_IP_00400_00400_3200_N/NOISY_RAW_010_Rgain1.906_Bgain2.081.npy\n",
      "258 \n",
      "  /dataset/SIDD/SIDD_Small_Raw_Only/Data/0165_007_IP_00800_00800_3200_N/GT_RAW_010_Rgain1.906_Bgain2.081.npy \n",
      "  /dataset/SIDD/SIDD_Small_sRGB_Only/Data/0165_007_IP_00800_00800_3200_N/GT_SRGB_010.PNG\n",
      "\n",
      "GT_RAW_010_Rgain1.906_Bgain2.081.npy\n",
      "/dataset/SIDD/SIDD_Small_sRGB_Only/Data/0165_007_IP_00800_00800_3200_N\n",
      "/dataset/SIDD/SIDD_Small_sRGB_Only/Data/0165_007_IP_00800_00800_3200_N/GT_RAW_010_Rgain1.906_Bgain2.081.npy\n"
     ]
    },
    {
     "name": "stdout",
     "output_type": "stream",
     "text": [
      "259 \n",
      "  /dataset/SIDD/SIDD_Small_Raw_Only/Data/0165_007_IP_00800_00800_3200_N/NOISY_RAW_010_Rgain1.906_Bgain2.081.npy \n",
      "  /dataset/SIDD/SIDD_Small_sRGB_Only/Data/0165_007_IP_00800_00800_3200_N/NOISY_SRGB_010.PNG\n",
      "\n",
      "NOISY_RAW_010_Rgain1.906_Bgain2.081.npy\n",
      "/dataset/SIDD/SIDD_Small_sRGB_Only/Data/0165_007_IP_00800_00800_3200_N\n",
      "/dataset/SIDD/SIDD_Small_sRGB_Only/Data/0165_007_IP_00800_00800_3200_N/NOISY_RAW_010_Rgain1.906_Bgain2.081.npy\n",
      "260 \n",
      "  /dataset/SIDD/SIDD_Small_Raw_Only/Data/0166_007_IP_01600_01600_3200_N/GT_RAW_010_Rgain1.906_Bgain2.081.npy \n",
      "  /dataset/SIDD/SIDD_Small_sRGB_Only/Data/0166_007_IP_01600_01600_3200_N/GT_SRGB_010.PNG\n",
      "\n",
      "GT_RAW_010_Rgain1.906_Bgain2.081.npy\n",
      "/dataset/SIDD/SIDD_Small_sRGB_Only/Data/0166_007_IP_01600_01600_3200_N\n",
      "/dataset/SIDD/SIDD_Small_sRGB_Only/Data/0166_007_IP_01600_01600_3200_N/GT_RAW_010_Rgain1.906_Bgain2.081.npy\n",
      "261 \n",
      "  /dataset/SIDD/SIDD_Small_Raw_Only/Data/0166_007_IP_01600_01600_3200_N/NOISY_RAW_010_Rgain1.906_Bgain2.081.npy \n",
      "  /dataset/SIDD/SIDD_Small_sRGB_Only/Data/0166_007_IP_01600_01600_3200_N/NOISY_SRGB_010.PNG\n",
      "\n",
      "NOISY_RAW_010_Rgain1.906_Bgain2.081.npy\n",
      "/dataset/SIDD/SIDD_Small_sRGB_Only/Data/0166_007_IP_01600_01600_3200_N\n",
      "/dataset/SIDD/SIDD_Small_sRGB_Only/Data/0166_007_IP_01600_01600_3200_N/NOISY_RAW_010_Rgain1.906_Bgain2.081.npy\n",
      "262 \n",
      "  /dataset/SIDD/SIDD_Small_Raw_Only/Data/0167_008_N6_00100_00050_4400_L/GT_RAW_010_Rgain1.422_Bgain1.778.npy \n",
      "  /dataset/SIDD/SIDD_Small_sRGB_Only/Data/0167_008_N6_00100_00050_4400_L/GT_SRGB_010.PNG\n",
      "\n",
      "GT_RAW_010_Rgain1.422_Bgain1.778.npy\n",
      "/dataset/SIDD/SIDD_Small_sRGB_Only/Data/0167_008_N6_00100_00050_4400_L\n",
      "/dataset/SIDD/SIDD_Small_sRGB_Only/Data/0167_008_N6_00100_00050_4400_L/GT_RAW_010_Rgain1.422_Bgain1.778.npy\n",
      "263 \n",
      "  /dataset/SIDD/SIDD_Small_Raw_Only/Data/0167_008_N6_00100_00050_4400_L/NOISY_RAW_010_Rgain1.422_Bgain1.778.npy \n",
      "  /dataset/SIDD/SIDD_Small_sRGB_Only/Data/0167_008_N6_00100_00050_4400_L/NOISY_SRGB_010.PNG\n",
      "\n",
      "NOISY_RAW_010_Rgain1.422_Bgain1.778.npy\n",
      "/dataset/SIDD/SIDD_Small_sRGB_Only/Data/0167_008_N6_00100_00050_4400_L\n",
      "/dataset/SIDD/SIDD_Small_sRGB_Only/Data/0167_008_N6_00100_00050_4400_L/NOISY_RAW_010_Rgain1.422_Bgain1.778.npy\n",
      "264 \n",
      "  /dataset/SIDD/SIDD_Small_Raw_Only/Data/0168_008_N6_00400_00200_4400_L/GT_RAW_010_Rgain1.422_Bgain1.778.npy \n",
      "  /dataset/SIDD/SIDD_Small_sRGB_Only/Data/0168_008_N6_00400_00200_4400_L/GT_SRGB_010.PNG\n",
      "\n",
      "GT_RAW_010_Rgain1.422_Bgain1.778.npy\n",
      "/dataset/SIDD/SIDD_Small_sRGB_Only/Data/0168_008_N6_00400_00200_4400_L\n",
      "/dataset/SIDD/SIDD_Small_sRGB_Only/Data/0168_008_N6_00400_00200_4400_L/GT_RAW_010_Rgain1.422_Bgain1.778.npy\n",
      "265 \n",
      "  /dataset/SIDD/SIDD_Small_Raw_Only/Data/0168_008_N6_00400_00200_4400_L/NOISY_RAW_010_Rgain1.422_Bgain1.778.npy \n",
      "  /dataset/SIDD/SIDD_Small_sRGB_Only/Data/0168_008_N6_00400_00200_4400_L/NOISY_SRGB_010.PNG\n",
      "\n",
      "NOISY_RAW_010_Rgain1.422_Bgain1.778.npy\n",
      "/dataset/SIDD/SIDD_Small_sRGB_Only/Data/0168_008_N6_00400_00200_4400_L\n",
      "/dataset/SIDD/SIDD_Small_sRGB_Only/Data/0168_008_N6_00400_00200_4400_L/NOISY_RAW_010_Rgain1.422_Bgain1.778.npy\n",
      "266 \n",
      "  /dataset/SIDD/SIDD_Small_Raw_Only/Data/0169_008_N6_00800_00400_4400_L/GT_RAW_010_Rgain1.422_Bgain1.778.npy \n",
      "  /dataset/SIDD/SIDD_Small_sRGB_Only/Data/0169_008_N6_00800_00400_4400_L/GT_SRGB_010.PNG\n",
      "\n",
      "GT_RAW_010_Rgain1.422_Bgain1.778.npy\n",
      "/dataset/SIDD/SIDD_Small_sRGB_Only/Data/0169_008_N6_00800_00400_4400_L\n",
      "/dataset/SIDD/SIDD_Small_sRGB_Only/Data/0169_008_N6_00800_00400_4400_L/GT_RAW_010_Rgain1.422_Bgain1.778.npy\n",
      "267 \n",
      "  /dataset/SIDD/SIDD_Small_Raw_Only/Data/0169_008_N6_00800_00400_4400_L/NOISY_RAW_010_Rgain1.422_Bgain1.778.npy \n",
      "  /dataset/SIDD/SIDD_Small_sRGB_Only/Data/0169_008_N6_00800_00400_4400_L/NOISY_SRGB_010.PNG\n",
      "\n",
      "NOISY_RAW_010_Rgain1.422_Bgain1.778.npy\n",
      "/dataset/SIDD/SIDD_Small_sRGB_Only/Data/0169_008_N6_00800_00400_4400_L\n",
      "/dataset/SIDD/SIDD_Small_sRGB_Only/Data/0169_008_N6_00800_00400_4400_L/NOISY_RAW_010_Rgain1.422_Bgain1.778.npy\n",
      "268 \n",
      "  /dataset/SIDD/SIDD_Small_Raw_Only/Data/0170_008_N6_01600_00800_4400_L/GT_RAW_010_Rgain1.391_Bgain1.910.npy \n",
      "  /dataset/SIDD/SIDD_Small_sRGB_Only/Data/0170_008_N6_01600_00800_4400_L/GT_SRGB_010.PNG\n",
      "\n",
      "GT_RAW_010_Rgain1.391_Bgain1.910.npy\n",
      "/dataset/SIDD/SIDD_Small_sRGB_Only/Data/0170_008_N6_01600_00800_4400_L\n",
      "/dataset/SIDD/SIDD_Small_sRGB_Only/Data/0170_008_N6_01600_00800_4400_L/GT_RAW_010_Rgain1.391_Bgain1.910.npy\n",
      "269 \n",
      "  /dataset/SIDD/SIDD_Small_Raw_Only/Data/0170_008_N6_01600_00800_4400_L/NOISY_RAW_010_Rgain1.391_Bgain1.910.npy \n",
      "  /dataset/SIDD/SIDD_Small_sRGB_Only/Data/0170_008_N6_01600_00800_4400_L/NOISY_SRGB_010.PNG\n",
      "\n",
      "NOISY_RAW_010_Rgain1.391_Bgain1.910.npy\n",
      "/dataset/SIDD/SIDD_Small_sRGB_Only/Data/0170_008_N6_01600_00800_4400_L\n",
      "/dataset/SIDD/SIDD_Small_sRGB_Only/Data/0170_008_N6_01600_00800_4400_L/NOISY_RAW_010_Rgain1.391_Bgain1.910.npy\n",
      "270 \n",
      "  /dataset/SIDD/SIDD_Small_Raw_Only/Data/0172_008_G4_00100_00100_4400_N/GT_RAW_010_Rgain1.684_Bgain1.803.npy \n",
      "  /dataset/SIDD/SIDD_Small_sRGB_Only/Data/0172_008_G4_00100_00100_4400_N/GT_SRGB_010.PNG\n",
      "\n",
      "GT_RAW_010_Rgain1.684_Bgain1.803.npy\n",
      "/dataset/SIDD/SIDD_Small_sRGB_Only/Data/0172_008_G4_00100_00100_4400_N\n",
      "/dataset/SIDD/SIDD_Small_sRGB_Only/Data/0172_008_G4_00100_00100_4400_N/GT_RAW_010_Rgain1.684_Bgain1.803.npy\n",
      "271 \n",
      "  /dataset/SIDD/SIDD_Small_Raw_Only/Data/0172_008_G4_00100_00100_4400_N/NOISY_RAW_010_Rgain1.684_Bgain1.803.npy \n",
      "  /dataset/SIDD/SIDD_Small_sRGB_Only/Data/0172_008_G4_00100_00100_4400_N/NOISY_SRGB_010.PNG\n",
      "\n",
      "NOISY_RAW_010_Rgain1.684_Bgain1.803.npy\n",
      "/dataset/SIDD/SIDD_Small_sRGB_Only/Data/0172_008_G4_00100_00100_4400_N\n",
      "/dataset/SIDD/SIDD_Small_sRGB_Only/Data/0172_008_G4_00100_00100_4400_N/NOISY_RAW_010_Rgain1.684_Bgain1.803.npy\n",
      "272 \n",
      "  /dataset/SIDD/SIDD_Small_Raw_Only/Data/0173_008_G4_00400_00400_4400_N/GT_RAW_010_Rgain1.684_Bgain1.803.npy \n",
      "  /dataset/SIDD/SIDD_Small_sRGB_Only/Data/0173_008_G4_00400_00400_4400_N/GT_SRGB_010.PNG\n",
      "\n",
      "GT_RAW_010_Rgain1.684_Bgain1.803.npy\n",
      "/dataset/SIDD/SIDD_Small_sRGB_Only/Data/0173_008_G4_00400_00400_4400_N\n",
      "/dataset/SIDD/SIDD_Small_sRGB_Only/Data/0173_008_G4_00400_00400_4400_N/GT_RAW_010_Rgain1.684_Bgain1.803.npy\n",
      "273 \n",
      "  /dataset/SIDD/SIDD_Small_Raw_Only/Data/0173_008_G4_00400_00400_4400_N/NOISY_RAW_010_Rgain1.684_Bgain1.803.npy \n",
      "  /dataset/SIDD/SIDD_Small_sRGB_Only/Data/0173_008_G4_00400_00400_4400_N/NOISY_SRGB_010.PNG\n",
      "\n",
      "NOISY_RAW_010_Rgain1.684_Bgain1.803.npy\n",
      "/dataset/SIDD/SIDD_Small_sRGB_Only/Data/0173_008_G4_00400_00400_4400_N\n",
      "/dataset/SIDD/SIDD_Small_sRGB_Only/Data/0173_008_G4_00400_00400_4400_N/NOISY_RAW_010_Rgain1.684_Bgain1.803.npy\n",
      "274 \n",
      "  /dataset/SIDD/SIDD_Small_Raw_Only/Data/0175_008_S6_00100_00025_5500_L/GT_RAW_010_Rgain1.727_Bgain1.531.npy \n",
      "  /dataset/SIDD/SIDD_Small_sRGB_Only/Data/0175_008_S6_00100_00025_5500_L/GT_SRGB_010.PNG\n",
      "\n",
      "GT_RAW_010_Rgain1.727_Bgain1.531.npy\n",
      "/dataset/SIDD/SIDD_Small_sRGB_Only/Data/0175_008_S6_00100_00025_5500_L\n",
      "/dataset/SIDD/SIDD_Small_sRGB_Only/Data/0175_008_S6_00100_00025_5500_L/GT_RAW_010_Rgain1.727_Bgain1.531.npy\n",
      "275 \n",
      "  /dataset/SIDD/SIDD_Small_Raw_Only/Data/0175_008_S6_00100_00025_5500_L/NOISY_RAW_010_Rgain1.727_Bgain1.531.npy \n",
      "  /dataset/SIDD/SIDD_Small_sRGB_Only/Data/0175_008_S6_00100_00025_5500_L/NOISY_SRGB_010.PNG\n",
      "\n",
      "NOISY_RAW_010_Rgain1.727_Bgain1.531.npy\n",
      "/dataset/SIDD/SIDD_Small_sRGB_Only/Data/0175_008_S6_00100_00025_5500_L\n",
      "/dataset/SIDD/SIDD_Small_sRGB_Only/Data/0175_008_S6_00100_00025_5500_L/NOISY_RAW_010_Rgain1.727_Bgain1.531.npy\n",
      "276 \n",
      "  /dataset/SIDD/SIDD_Small_Raw_Only/Data/0177_008_S6_00800_00200_5500_L/GT_RAW_010_Rgain1.641_Bgain1.549.npy \n",
      "  /dataset/SIDD/SIDD_Small_sRGB_Only/Data/0177_008_S6_00800_00200_5500_L/GT_SRGB_010.PNG\n",
      "\n",
      "GT_RAW_010_Rgain1.641_Bgain1.549.npy\n",
      "/dataset/SIDD/SIDD_Small_sRGB_Only/Data/0177_008_S6_00800_00200_5500_L\n",
      "/dataset/SIDD/SIDD_Small_sRGB_Only/Data/0177_008_S6_00800_00200_5500_L/GT_RAW_010_Rgain1.641_Bgain1.549.npy\n",
      "277 \n",
      "  /dataset/SIDD/SIDD_Small_Raw_Only/Data/0177_008_S6_00800_00200_5500_L/NOISY_RAW_010_Rgain1.641_Bgain1.549.npy \n",
      "  /dataset/SIDD/SIDD_Small_sRGB_Only/Data/0177_008_S6_00800_00200_5500_L/NOISY_SRGB_010.PNG\n",
      "\n",
      "NOISY_RAW_010_Rgain1.641_Bgain1.549.npy\n",
      "/dataset/SIDD/SIDD_Small_sRGB_Only/Data/0177_008_S6_00800_00200_5500_L\n",
      "/dataset/SIDD/SIDD_Small_sRGB_Only/Data/0177_008_S6_00800_00200_5500_L/NOISY_RAW_010_Rgain1.641_Bgain1.549.npy\n",
      "278 \n",
      "  /dataset/SIDD/SIDD_Small_Raw_Only/Data/0178_008_S6_01600_00400_5500_L/GT_RAW_010_Rgain1.608_Bgain1.519.npy \n",
      "  /dataset/SIDD/SIDD_Small_sRGB_Only/Data/0178_008_S6_01600_00400_5500_L/GT_SRGB_010.PNG\n",
      "\n",
      "GT_RAW_010_Rgain1.608_Bgain1.519.npy\n",
      "/dataset/SIDD/SIDD_Small_sRGB_Only/Data/0178_008_S6_01600_00400_5500_L\n",
      "/dataset/SIDD/SIDD_Small_sRGB_Only/Data/0178_008_S6_01600_00400_5500_L/GT_RAW_010_Rgain1.608_Bgain1.519.npy\n"
     ]
    },
    {
     "name": "stdout",
     "output_type": "stream",
     "text": [
      "279 \n",
      "  /dataset/SIDD/SIDD_Small_Raw_Only/Data/0178_008_S6_01600_00400_5500_L/NOISY_RAW_010_Rgain1.608_Bgain1.519.npy \n",
      "  /dataset/SIDD/SIDD_Small_sRGB_Only/Data/0178_008_S6_01600_00400_5500_L/NOISY_SRGB_010.PNG\n",
      "\n",
      "NOISY_RAW_010_Rgain1.608_Bgain1.519.npy\n",
      "/dataset/SIDD/SIDD_Small_sRGB_Only/Data/0178_008_S6_01600_00400_5500_L\n",
      "/dataset/SIDD/SIDD_Small_sRGB_Only/Data/0178_008_S6_01600_00400_5500_L/NOISY_RAW_010_Rgain1.608_Bgain1.519.npy\n",
      "280 \n",
      "  /dataset/SIDD/SIDD_Small_Raw_Only/Data/0179_008_S6_03200_00800_5500_L/GT_RAW_010_Rgain1.608_Bgain1.519.npy \n",
      "  /dataset/SIDD/SIDD_Small_sRGB_Only/Data/0179_008_S6_03200_00800_5500_L/GT_SRGB_010.PNG\n",
      "\n",
      "GT_RAW_010_Rgain1.608_Bgain1.519.npy\n",
      "/dataset/SIDD/SIDD_Small_sRGB_Only/Data/0179_008_S6_03200_00800_5500_L\n",
      "/dataset/SIDD/SIDD_Small_sRGB_Only/Data/0179_008_S6_03200_00800_5500_L/GT_RAW_010_Rgain1.608_Bgain1.519.npy\n",
      "281 \n",
      "  /dataset/SIDD/SIDD_Small_Raw_Only/Data/0179_008_S6_03200_00800_5500_L/NOISY_RAW_010_Rgain1.608_Bgain1.519.npy \n",
      "  /dataset/SIDD/SIDD_Small_sRGB_Only/Data/0179_008_S6_03200_00800_5500_L/NOISY_SRGB_010.PNG\n",
      "\n",
      "NOISY_RAW_010_Rgain1.608_Bgain1.519.npy\n",
      "/dataset/SIDD/SIDD_Small_sRGB_Only/Data/0179_008_S6_03200_00800_5500_L\n",
      "/dataset/SIDD/SIDD_Small_sRGB_Only/Data/0179_008_S6_03200_00800_5500_L/NOISY_RAW_010_Rgain1.608_Bgain1.519.npy\n",
      "282 \n",
      "  /dataset/SIDD/SIDD_Small_Raw_Only/Data/0180_008_GP_00100_00100_5500_N/GT_RAW_010_Rgain1.829_Bgain2.286.npy \n",
      "  /dataset/SIDD/SIDD_Small_sRGB_Only/Data/0180_008_GP_00100_00100_5500_N/GT_SRGB_010.PNG\n",
      "\n",
      "GT_RAW_010_Rgain1.829_Bgain2.286.npy\n",
      "/dataset/SIDD/SIDD_Small_sRGB_Only/Data/0180_008_GP_00100_00100_5500_N\n",
      "/dataset/SIDD/SIDD_Small_sRGB_Only/Data/0180_008_GP_00100_00100_5500_N/GT_RAW_010_Rgain1.829_Bgain2.286.npy\n",
      "283 \n",
      "  /dataset/SIDD/SIDD_Small_Raw_Only/Data/0180_008_GP_00100_00100_5500_N/NOISY_RAW_010_Rgain1.829_Bgain2.286.npy \n",
      "  /dataset/SIDD/SIDD_Small_sRGB_Only/Data/0180_008_GP_00100_00100_5500_N/NOISY_SRGB_010.PNG\n",
      "\n",
      "NOISY_RAW_010_Rgain1.829_Bgain2.286.npy\n",
      "/dataset/SIDD/SIDD_Small_sRGB_Only/Data/0180_008_GP_00100_00100_5500_N\n",
      "/dataset/SIDD/SIDD_Small_sRGB_Only/Data/0180_008_GP_00100_00100_5500_N/NOISY_RAW_010_Rgain1.829_Bgain2.286.npy\n",
      "284 \n",
      "  /dataset/SIDD/SIDD_Small_Raw_Only/Data/0181_008_GP_00800_00800_5500_N/GT_RAW_010_Rgain1.829_Bgain2.286.npy \n",
      "  /dataset/SIDD/SIDD_Small_sRGB_Only/Data/0181_008_GP_00800_00800_5500_N/GT_SRGB_010.PNG\n",
      "\n",
      "GT_RAW_010_Rgain1.829_Bgain2.286.npy\n",
      "/dataset/SIDD/SIDD_Small_sRGB_Only/Data/0181_008_GP_00800_00800_5500_N\n",
      "/dataset/SIDD/SIDD_Small_sRGB_Only/Data/0181_008_GP_00800_00800_5500_N/GT_RAW_010_Rgain1.829_Bgain2.286.npy\n",
      "285 \n",
      "  /dataset/SIDD/SIDD_Small_Raw_Only/Data/0181_008_GP_00800_00800_5500_N/NOISY_RAW_010_Rgain1.829_Bgain2.286.npy \n",
      "  /dataset/SIDD/SIDD_Small_sRGB_Only/Data/0181_008_GP_00800_00800_5500_N/NOISY_SRGB_010.PNG\n",
      "\n",
      "NOISY_RAW_010_Rgain1.829_Bgain2.286.npy\n",
      "/dataset/SIDD/SIDD_Small_sRGB_Only/Data/0181_008_GP_00800_00800_5500_N\n",
      "/dataset/SIDD/SIDD_Small_sRGB_Only/Data/0181_008_GP_00800_00800_5500_N/NOISY_RAW_010_Rgain1.829_Bgain2.286.npy\n",
      "286 \n",
      "  /dataset/SIDD/SIDD_Small_Raw_Only/Data/0182_008_GP_03200_03200_5500_N/GT_RAW_010_Rgain1.829_Bgain2.286.npy \n",
      "  /dataset/SIDD/SIDD_Small_sRGB_Only/Data/0182_008_GP_03200_03200_5500_N/GT_SRGB_010.PNG\n",
      "\n",
      "GT_RAW_010_Rgain1.829_Bgain2.286.npy\n",
      "/dataset/SIDD/SIDD_Small_sRGB_Only/Data/0182_008_GP_03200_03200_5500_N\n",
      "/dataset/SIDD/SIDD_Small_sRGB_Only/Data/0182_008_GP_03200_03200_5500_N/GT_RAW_010_Rgain1.829_Bgain2.286.npy\n",
      "287 \n",
      "  /dataset/SIDD/SIDD_Small_Raw_Only/Data/0182_008_GP_03200_03200_5500_N/NOISY_RAW_010_Rgain1.829_Bgain2.286.npy \n",
      "  /dataset/SIDD/SIDD_Small_sRGB_Only/Data/0182_008_GP_03200_03200_5500_N/NOISY_SRGB_010.PNG\n",
      "\n",
      "NOISY_RAW_010_Rgain1.829_Bgain2.286.npy\n",
      "/dataset/SIDD/SIDD_Small_sRGB_Only/Data/0182_008_GP_03200_03200_5500_N\n",
      "/dataset/SIDD/SIDD_Small_sRGB_Only/Data/0182_008_GP_03200_03200_5500_N/NOISY_RAW_010_Rgain1.829_Bgain2.286.npy\n",
      "288 \n",
      "  /dataset/SIDD/SIDD_Small_Raw_Only/Data/0184_008_IP_00100_00100_3200_L/GT_RAW_010_Rgain1.585_Bgain2.383.npy \n",
      "  /dataset/SIDD/SIDD_Small_sRGB_Only/Data/0184_008_IP_00100_00100_3200_L/GT_SRGB_010.PNG\n",
      "\n",
      "GT_RAW_010_Rgain1.585_Bgain2.383.npy\n",
      "/dataset/SIDD/SIDD_Small_sRGB_Only/Data/0184_008_IP_00100_00100_3200_L\n",
      "/dataset/SIDD/SIDD_Small_sRGB_Only/Data/0184_008_IP_00100_00100_3200_L/GT_RAW_010_Rgain1.585_Bgain2.383.npy\n",
      "289 \n",
      "  /dataset/SIDD/SIDD_Small_Raw_Only/Data/0184_008_IP_00100_00100_3200_L/NOISY_RAW_010_Rgain1.585_Bgain2.383.npy \n",
      "  /dataset/SIDD/SIDD_Small_sRGB_Only/Data/0184_008_IP_00100_00100_3200_L/NOISY_SRGB_010.PNG\n",
      "\n",
      "NOISY_RAW_010_Rgain1.585_Bgain2.383.npy\n",
      "/dataset/SIDD/SIDD_Small_sRGB_Only/Data/0184_008_IP_00100_00100_3200_L\n",
      "/dataset/SIDD/SIDD_Small_sRGB_Only/Data/0184_008_IP_00100_00100_3200_L/NOISY_RAW_010_Rgain1.585_Bgain2.383.npy\n",
      "290 \n",
      "  /dataset/SIDD/SIDD_Small_Raw_Only/Data/0185_008_IP_00400_00400_3200_L/GT_RAW_010_Rgain1.585_Bgain2.383.npy \n",
      "  /dataset/SIDD/SIDD_Small_sRGB_Only/Data/0185_008_IP_00400_00400_3200_L/GT_SRGB_010.PNG\n",
      "\n",
      "GT_RAW_010_Rgain1.585_Bgain2.383.npy\n",
      "/dataset/SIDD/SIDD_Small_sRGB_Only/Data/0185_008_IP_00400_00400_3200_L\n",
      "/dataset/SIDD/SIDD_Small_sRGB_Only/Data/0185_008_IP_00400_00400_3200_L/GT_RAW_010_Rgain1.585_Bgain2.383.npy\n",
      "291 \n",
      "  /dataset/SIDD/SIDD_Small_Raw_Only/Data/0185_008_IP_00400_00400_3200_L/NOISY_RAW_010_Rgain1.585_Bgain2.383.npy \n",
      "  /dataset/SIDD/SIDD_Small_sRGB_Only/Data/0185_008_IP_00400_00400_3200_L/NOISY_SRGB_010.PNG\n",
      "\n",
      "NOISY_RAW_010_Rgain1.585_Bgain2.383.npy\n",
      "/dataset/SIDD/SIDD_Small_sRGB_Only/Data/0185_008_IP_00400_00400_3200_L\n",
      "/dataset/SIDD/SIDD_Small_sRGB_Only/Data/0185_008_IP_00400_00400_3200_L/NOISY_RAW_010_Rgain1.585_Bgain2.383.npy\n",
      "292 \n",
      "  /dataset/SIDD/SIDD_Small_Raw_Only/Data/0186_008_IP_00800_00800_3200_L/GT_RAW_010_Rgain1.585_Bgain2.383.npy \n",
      "  /dataset/SIDD/SIDD_Small_sRGB_Only/Data/0186_008_IP_00800_00800_3200_L/GT_SRGB_010.PNG\n",
      "\n",
      "GT_RAW_010_Rgain1.585_Bgain2.383.npy\n",
      "/dataset/SIDD/SIDD_Small_sRGB_Only/Data/0186_008_IP_00800_00800_3200_L\n",
      "/dataset/SIDD/SIDD_Small_sRGB_Only/Data/0186_008_IP_00800_00800_3200_L/GT_RAW_010_Rgain1.585_Bgain2.383.npy\n",
      "293 \n",
      "  /dataset/SIDD/SIDD_Small_Raw_Only/Data/0186_008_IP_00800_00800_3200_L/NOISY_RAW_010_Rgain1.585_Bgain2.383.npy \n",
      "  /dataset/SIDD/SIDD_Small_sRGB_Only/Data/0186_008_IP_00800_00800_3200_L/NOISY_SRGB_010.PNG\n",
      "\n",
      "NOISY_RAW_010_Rgain1.585_Bgain2.383.npy\n",
      "/dataset/SIDD/SIDD_Small_sRGB_Only/Data/0186_008_IP_00800_00800_3200_L\n",
      "/dataset/SIDD/SIDD_Small_sRGB_Only/Data/0186_008_IP_00800_00800_3200_L/NOISY_RAW_010_Rgain1.585_Bgain2.383.npy\n",
      "294 \n",
      "  /dataset/SIDD/SIDD_Small_Raw_Only/Data/0188_008_IP_00100_00100_3200_N/GT_RAW_010_Rgain1.585_Bgain2.383.npy \n",
      "  /dataset/SIDD/SIDD_Small_sRGB_Only/Data/0188_008_IP_00100_00100_3200_N/GT_SRGB_010.PNG\n",
      "\n",
      "GT_RAW_010_Rgain1.585_Bgain2.383.npy\n",
      "/dataset/SIDD/SIDD_Small_sRGB_Only/Data/0188_008_IP_00100_00100_3200_N\n",
      "/dataset/SIDD/SIDD_Small_sRGB_Only/Data/0188_008_IP_00100_00100_3200_N/GT_RAW_010_Rgain1.585_Bgain2.383.npy\n",
      "295 \n",
      "  /dataset/SIDD/SIDD_Small_Raw_Only/Data/0188_008_IP_00100_00100_3200_N/NOISY_RAW_010_Rgain1.585_Bgain2.383.npy \n",
      "  /dataset/SIDD/SIDD_Small_sRGB_Only/Data/0188_008_IP_00100_00100_3200_N/NOISY_SRGB_010.PNG\n",
      "\n",
      "NOISY_RAW_010_Rgain1.585_Bgain2.383.npy\n",
      "/dataset/SIDD/SIDD_Small_sRGB_Only/Data/0188_008_IP_00100_00100_3200_N\n",
      "/dataset/SIDD/SIDD_Small_sRGB_Only/Data/0188_008_IP_00100_00100_3200_N/NOISY_RAW_010_Rgain1.585_Bgain2.383.npy\n",
      "296 \n",
      "  /dataset/SIDD/SIDD_Small_Raw_Only/Data/0189_008_IP_00400_00400_3200_N/GT_RAW_010_Rgain1.585_Bgain2.383.npy \n",
      "  /dataset/SIDD/SIDD_Small_sRGB_Only/Data/0189_008_IP_00400_00400_3200_N/GT_SRGB_010.PNG\n",
      "\n",
      "GT_RAW_010_Rgain1.585_Bgain2.383.npy\n",
      "/dataset/SIDD/SIDD_Small_sRGB_Only/Data/0189_008_IP_00400_00400_3200_N\n",
      "/dataset/SIDD/SIDD_Small_sRGB_Only/Data/0189_008_IP_00400_00400_3200_N/GT_RAW_010_Rgain1.585_Bgain2.383.npy\n",
      "297 \n",
      "  /dataset/SIDD/SIDD_Small_Raw_Only/Data/0189_008_IP_00400_00400_3200_N/NOISY_RAW_010_Rgain1.585_Bgain2.383.npy \n",
      "  /dataset/SIDD/SIDD_Small_sRGB_Only/Data/0189_008_IP_00400_00400_3200_N/NOISY_SRGB_010.PNG\n",
      "\n",
      "NOISY_RAW_010_Rgain1.585_Bgain2.383.npy\n",
      "/dataset/SIDD/SIDD_Small_sRGB_Only/Data/0189_008_IP_00400_00400_3200_N\n",
      "/dataset/SIDD/SIDD_Small_sRGB_Only/Data/0189_008_IP_00400_00400_3200_N/NOISY_RAW_010_Rgain1.585_Bgain2.383.npy\n",
      "298 \n",
      "  /dataset/SIDD/SIDD_Small_Raw_Only/Data/0190_008_IP_00800_00800_3200_N/GT_RAW_010_Rgain1.585_Bgain2.383.npy \n",
      "  /dataset/SIDD/SIDD_Small_sRGB_Only/Data/0190_008_IP_00800_00800_3200_N/GT_SRGB_010.PNG\n",
      "\n",
      "GT_RAW_010_Rgain1.585_Bgain2.383.npy\n",
      "/dataset/SIDD/SIDD_Small_sRGB_Only/Data/0190_008_IP_00800_00800_3200_N\n",
      "/dataset/SIDD/SIDD_Small_sRGB_Only/Data/0190_008_IP_00800_00800_3200_N/GT_RAW_010_Rgain1.585_Bgain2.383.npy\n",
      "299 \n",
      "  /dataset/SIDD/SIDD_Small_Raw_Only/Data/0190_008_IP_00800_00800_3200_N/NOISY_RAW_010_Rgain1.585_Bgain2.383.npy \n",
      "  /dataset/SIDD/SIDD_Small_sRGB_Only/Data/0190_008_IP_00800_00800_3200_N/NOISY_SRGB_010.PNG\n",
      "\n",
      "NOISY_RAW_010_Rgain1.585_Bgain2.383.npy\n",
      "/dataset/SIDD/SIDD_Small_sRGB_Only/Data/0190_008_IP_00800_00800_3200_N\n",
      "/dataset/SIDD/SIDD_Small_sRGB_Only/Data/0190_008_IP_00800_00800_3200_N/NOISY_RAW_010_Rgain1.585_Bgain2.383.npy\n",
      "300 \n",
      "  /dataset/SIDD/SIDD_Small_Raw_Only/Data/0191_008_IP_01600_01600_3200_N/GT_RAW_010_Rgain1.585_Bgain2.383.npy \n",
      "  /dataset/SIDD/SIDD_Small_sRGB_Only/Data/0191_008_IP_01600_01600_3200_N/GT_SRGB_010.PNG\n",
      "\n",
      "GT_RAW_010_Rgain1.585_Bgain2.383.npy\n",
      "/dataset/SIDD/SIDD_Small_sRGB_Only/Data/0191_008_IP_01600_01600_3200_N\n",
      "/dataset/SIDD/SIDD_Small_sRGB_Only/Data/0191_008_IP_01600_01600_3200_N/GT_RAW_010_Rgain1.585_Bgain2.383.npy\n",
      "301 \n",
      "  /dataset/SIDD/SIDD_Small_Raw_Only/Data/0191_008_IP_01600_01600_3200_N/NOISY_RAW_010_Rgain1.585_Bgain2.383.npy \n",
      "  /dataset/SIDD/SIDD_Small_sRGB_Only/Data/0191_008_IP_01600_01600_3200_N/NOISY_SRGB_010.PNG\n",
      "\n",
      "NOISY_RAW_010_Rgain1.585_Bgain2.383.npy\n",
      "/dataset/SIDD/SIDD_Small_sRGB_Only/Data/0191_008_IP_01600_01600_3200_N\n",
      "/dataset/SIDD/SIDD_Small_sRGB_Only/Data/0191_008_IP_01600_01600_3200_N/NOISY_RAW_010_Rgain1.585_Bgain2.383.npy\n"
     ]
    },
    {
     "name": "stdout",
     "output_type": "stream",
     "text": [
      "302 \n",
      "  /dataset/SIDD/SIDD_Small_Raw_Only/Data/0192_009_IP_00100_00200_3200_N/GT_RAW_010_Rgain1.968_Bgain2.088.npy \n",
      "  /dataset/SIDD/SIDD_Small_sRGB_Only/Data/0192_009_IP_00100_00200_3200_N/GT_SRGB_010.PNG\n",
      "\n",
      "GT_RAW_010_Rgain1.968_Bgain2.088.npy\n",
      "/dataset/SIDD/SIDD_Small_sRGB_Only/Data/0192_009_IP_00100_00200_3200_N\n",
      "/dataset/SIDD/SIDD_Small_sRGB_Only/Data/0192_009_IP_00100_00200_3200_N/GT_RAW_010_Rgain1.968_Bgain2.088.npy\n",
      "303 \n",
      "  /dataset/SIDD/SIDD_Small_Raw_Only/Data/0192_009_IP_00100_00200_3200_N/NOISY_RAW_010_Rgain1.968_Bgain2.088.npy \n",
      "  /dataset/SIDD/SIDD_Small_sRGB_Only/Data/0192_009_IP_00100_00200_3200_N/NOISY_SRGB_010.PNG\n",
      "\n",
      "NOISY_RAW_010_Rgain1.968_Bgain2.088.npy\n",
      "/dataset/SIDD/SIDD_Small_sRGB_Only/Data/0192_009_IP_00100_00200_3200_N\n",
      "/dataset/SIDD/SIDD_Small_sRGB_Only/Data/0192_009_IP_00100_00200_3200_N/NOISY_RAW_010_Rgain1.968_Bgain2.088.npy\n",
      "304 \n",
      "  /dataset/SIDD/SIDD_Small_Raw_Only/Data/0193_009_IP_00800_02000_3200_N/GT_RAW_010_Rgain1.676_Bgain2.508.npy \n",
      "  /dataset/SIDD/SIDD_Small_sRGB_Only/Data/0193_009_IP_00800_02000_3200_N/GT_SRGB_010.PNG\n",
      "\n",
      "GT_RAW_010_Rgain1.676_Bgain2.508.npy\n",
      "/dataset/SIDD/SIDD_Small_sRGB_Only/Data/0193_009_IP_00800_02000_3200_N\n",
      "/dataset/SIDD/SIDD_Small_sRGB_Only/Data/0193_009_IP_00800_02000_3200_N/GT_RAW_010_Rgain1.676_Bgain2.508.npy\n",
      "305 \n",
      "  /dataset/SIDD/SIDD_Small_Raw_Only/Data/0193_009_IP_00800_02000_3200_N/NOISY_RAW_010_Rgain1.676_Bgain2.508.npy \n",
      "  /dataset/SIDD/SIDD_Small_sRGB_Only/Data/0193_009_IP_00800_02000_3200_N/NOISY_SRGB_010.PNG\n",
      "\n",
      "NOISY_RAW_010_Rgain1.676_Bgain2.508.npy\n",
      "/dataset/SIDD/SIDD_Small_sRGB_Only/Data/0193_009_IP_00800_02000_3200_N\n",
      "/dataset/SIDD/SIDD_Small_sRGB_Only/Data/0193_009_IP_00800_02000_3200_N/NOISY_RAW_010_Rgain1.676_Bgain2.508.npy\n",
      "306 \n",
      "  /dataset/SIDD/SIDD_Small_Raw_Only/Data/0194_009_IP_01600_04000_3200_N/GT_RAW_010_Rgain1.673_Bgain2.530.npy \n",
      "  /dataset/SIDD/SIDD_Small_sRGB_Only/Data/0194_009_IP_01600_04000_3200_N/GT_SRGB_010.PNG\n",
      "\n",
      "GT_RAW_010_Rgain1.673_Bgain2.530.npy\n",
      "/dataset/SIDD/SIDD_Small_sRGB_Only/Data/0194_009_IP_01600_04000_3200_N\n",
      "/dataset/SIDD/SIDD_Small_sRGB_Only/Data/0194_009_IP_01600_04000_3200_N/GT_RAW_010_Rgain1.673_Bgain2.530.npy\n",
      "307 \n",
      "  /dataset/SIDD/SIDD_Small_Raw_Only/Data/0194_009_IP_01600_04000_3200_N/NOISY_RAW_010_Rgain1.673_Bgain2.530.npy \n",
      "  /dataset/SIDD/SIDD_Small_sRGB_Only/Data/0194_009_IP_01600_04000_3200_N/NOISY_SRGB_010.PNG\n",
      "\n",
      "NOISY_RAW_010_Rgain1.673_Bgain2.530.npy\n",
      "/dataset/SIDD/SIDD_Small_sRGB_Only/Data/0194_009_IP_01600_04000_3200_N\n",
      "/dataset/SIDD/SIDD_Small_sRGB_Only/Data/0194_009_IP_01600_04000_3200_N/NOISY_RAW_010_Rgain1.673_Bgain2.530.npy\n",
      "308 \n",
      "  /dataset/SIDD/SIDD_Small_Raw_Only/Data/0195_009_IP_01600_04000_5500_L/GT_RAW_010_Rgain2.377_Bgain1.631.npy \n",
      "  /dataset/SIDD/SIDD_Small_sRGB_Only/Data/0195_009_IP_01600_04000_5500_L/GT_SRGB_010.PNG\n",
      "\n",
      "GT_RAW_010_Rgain2.377_Bgain1.631.npy\n",
      "/dataset/SIDD/SIDD_Small_sRGB_Only/Data/0195_009_IP_01600_04000_5500_L\n",
      "/dataset/SIDD/SIDD_Small_sRGB_Only/Data/0195_009_IP_01600_04000_5500_L/GT_RAW_010_Rgain2.377_Bgain1.631.npy\n",
      "309 \n",
      "  /dataset/SIDD/SIDD_Small_Raw_Only/Data/0195_009_IP_01600_04000_5500_L/NOISY_RAW_010_Rgain2.377_Bgain1.631.npy \n",
      "  /dataset/SIDD/SIDD_Small_sRGB_Only/Data/0195_009_IP_01600_04000_5500_L/NOISY_SRGB_010.PNG\n",
      "\n",
      "NOISY_RAW_010_Rgain2.377_Bgain1.631.npy\n",
      "/dataset/SIDD/SIDD_Small_sRGB_Only/Data/0195_009_IP_01600_04000_5500_L\n",
      "/dataset/SIDD/SIDD_Small_sRGB_Only/Data/0195_009_IP_01600_04000_5500_L/NOISY_RAW_010_Rgain2.377_Bgain1.631.npy\n",
      "310 \n",
      "  /dataset/SIDD/SIDD_Small_Raw_Only/Data/0196_009_IP_00800_02000_5500_L/GT_RAW_010_Rgain2.418_Bgain1.631.npy \n",
      "  /dataset/SIDD/SIDD_Small_sRGB_Only/Data/0196_009_IP_00800_02000_5500_L/GT_SRGB_010.PNG\n",
      "\n",
      "GT_RAW_010_Rgain2.418_Bgain1.631.npy\n",
      "/dataset/SIDD/SIDD_Small_sRGB_Only/Data/0196_009_IP_00800_02000_5500_L\n",
      "/dataset/SIDD/SIDD_Small_sRGB_Only/Data/0196_009_IP_00800_02000_5500_L/GT_RAW_010_Rgain2.418_Bgain1.631.npy\n",
      "311 \n",
      "  /dataset/SIDD/SIDD_Small_Raw_Only/Data/0196_009_IP_00800_02000_5500_L/NOISY_RAW_010_Rgain2.418_Bgain1.631.npy \n",
      "  /dataset/SIDD/SIDD_Small_sRGB_Only/Data/0196_009_IP_00800_02000_5500_L/NOISY_SRGB_010.PNG\n",
      "\n",
      "NOISY_RAW_010_Rgain2.418_Bgain1.631.npy\n",
      "/dataset/SIDD/SIDD_Small_sRGB_Only/Data/0196_009_IP_00800_02000_5500_L\n",
      "/dataset/SIDD/SIDD_Small_sRGB_Only/Data/0196_009_IP_00800_02000_5500_L/NOISY_RAW_010_Rgain2.418_Bgain1.631.npy\n",
      "312 \n",
      "  /dataset/SIDD/SIDD_Small_Raw_Only/Data/0197_009_IP_00100_00200_5500_L/GT_RAW_010_Rgain2.542_Bgain1.640.npy \n",
      "  /dataset/SIDD/SIDD_Small_sRGB_Only/Data/0197_009_IP_00100_00200_5500_L/GT_SRGB_010.PNG\n",
      "\n",
      "GT_RAW_010_Rgain2.542_Bgain1.640.npy\n",
      "/dataset/SIDD/SIDD_Small_sRGB_Only/Data/0197_009_IP_00100_00200_5500_L\n",
      "/dataset/SIDD/SIDD_Small_sRGB_Only/Data/0197_009_IP_00100_00200_5500_L/GT_RAW_010_Rgain2.542_Bgain1.640.npy\n",
      "313 \n",
      "  /dataset/SIDD/SIDD_Small_Raw_Only/Data/0197_009_IP_00100_00200_5500_L/NOISY_RAW_010_Rgain2.542_Bgain1.640.npy \n",
      "  /dataset/SIDD/SIDD_Small_sRGB_Only/Data/0197_009_IP_00100_00200_5500_L/NOISY_SRGB_010.PNG\n",
      "\n",
      "NOISY_RAW_010_Rgain2.542_Bgain1.640.npy\n",
      "/dataset/SIDD/SIDD_Small_sRGB_Only/Data/0197_009_IP_00100_00200_5500_L\n",
      "/dataset/SIDD/SIDD_Small_sRGB_Only/Data/0197_009_IP_00100_00200_5500_L/NOISY_RAW_010_Rgain2.542_Bgain1.640.npy\n",
      "314 \n",
      "  /dataset/SIDD/SIDD_Small_Raw_Only/Data/0198_010_GP_00100_00200_5500_N/GT_RAW_010_Rgain2.327_Bgain1.778.npy \n",
      "  /dataset/SIDD/SIDD_Small_sRGB_Only/Data/0198_010_GP_00100_00200_5500_N/GT_SRGB_010.PNG\n",
      "\n",
      "GT_RAW_010_Rgain2.327_Bgain1.778.npy\n",
      "/dataset/SIDD/SIDD_Small_sRGB_Only/Data/0198_010_GP_00100_00200_5500_N\n",
      "/dataset/SIDD/SIDD_Small_sRGB_Only/Data/0198_010_GP_00100_00200_5500_N/GT_RAW_010_Rgain2.327_Bgain1.778.npy\n",
      "315 \n",
      "  /dataset/SIDD/SIDD_Small_Raw_Only/Data/0198_010_GP_00100_00200_5500_N/NOISY_RAW_010_Rgain2.327_Bgain1.778.npy \n",
      "  /dataset/SIDD/SIDD_Small_sRGB_Only/Data/0198_010_GP_00100_00200_5500_N/NOISY_SRGB_010.PNG\n",
      "\n",
      "NOISY_RAW_010_Rgain2.327_Bgain1.778.npy\n",
      "/dataset/SIDD/SIDD_Small_sRGB_Only/Data/0198_010_GP_00100_00200_5500_N\n",
      "/dataset/SIDD/SIDD_Small_sRGB_Only/Data/0198_010_GP_00100_00200_5500_N/NOISY_RAW_010_Rgain2.327_Bgain1.778.npy\n",
      "316 \n",
      "  /dataset/SIDD/SIDD_Small_Raw_Only/Data/0199_010_GP_00800_01600_5500_N/GT_RAW_010_Rgain2.327_Bgain1.778.npy \n",
      "  /dataset/SIDD/SIDD_Small_sRGB_Only/Data/0199_010_GP_00800_01600_5500_N/GT_SRGB_010.PNG\n",
      "\n",
      "GT_RAW_010_Rgain2.327_Bgain1.778.npy\n",
      "/dataset/SIDD/SIDD_Small_sRGB_Only/Data/0199_010_GP_00800_01600_5500_N\n",
      "/dataset/SIDD/SIDD_Small_sRGB_Only/Data/0199_010_GP_00800_01600_5500_N/GT_RAW_010_Rgain2.327_Bgain1.778.npy\n",
      "317 \n",
      "  /dataset/SIDD/SIDD_Small_Raw_Only/Data/0199_010_GP_00800_01600_5500_N/NOISY_RAW_010_Rgain2.327_Bgain1.778.npy \n",
      "  /dataset/SIDD/SIDD_Small_sRGB_Only/Data/0199_010_GP_00800_01600_5500_N/NOISY_SRGB_010.PNG\n",
      "\n",
      "NOISY_RAW_010_Rgain2.327_Bgain1.778.npy\n",
      "/dataset/SIDD/SIDD_Small_sRGB_Only/Data/0199_010_GP_00800_01600_5500_N\n",
      "/dataset/SIDD/SIDD_Small_sRGB_Only/Data/0199_010_GP_00800_01600_5500_N/NOISY_RAW_010_Rgain2.327_Bgain1.778.npy\n",
      "318 \n",
      "  /dataset/SIDD/SIDD_Small_Raw_Only/Data/0200_010_GP_01600_03200_5500_N/GT_RAW_010_Rgain2.327_Bgain1.778.npy \n",
      "  /dataset/SIDD/SIDD_Small_sRGB_Only/Data/0200_010_GP_01600_03200_5500_N/GT_SRGB_010.PNG\n",
      "\n",
      "GT_RAW_010_Rgain2.327_Bgain1.778.npy\n",
      "/dataset/SIDD/SIDD_Small_sRGB_Only/Data/0200_010_GP_01600_03200_5500_N\n",
      "/dataset/SIDD/SIDD_Small_sRGB_Only/Data/0200_010_GP_01600_03200_5500_N/GT_RAW_010_Rgain2.327_Bgain1.778.npy\n",
      "319 \n",
      "  /dataset/SIDD/SIDD_Small_Raw_Only/Data/0200_010_GP_01600_03200_5500_N/NOISY_RAW_010_Rgain2.327_Bgain1.778.npy \n",
      "  /dataset/SIDD/SIDD_Small_sRGB_Only/Data/0200_010_GP_01600_03200_5500_N/NOISY_SRGB_010.PNG\n",
      "\n",
      "NOISY_RAW_010_Rgain2.327_Bgain1.778.npy\n",
      "/dataset/SIDD/SIDD_Small_sRGB_Only/Data/0200_010_GP_01600_03200_5500_N\n",
      "/dataset/SIDD/SIDD_Small_sRGB_Only/Data/0200_010_GP_01600_03200_5500_N/NOISY_RAW_010_Rgain2.327_Bgain1.778.npy\n"
     ]
    }
   ],
   "source": [
    "import shutil\n",
    "\n",
    "\n",
    "for idx, (r, s)  in enumerate(zip(list_raw, list_srgb)):\n",
    "    print(idx, \"\\n \",r, \"\\n \", s)\n",
    "    print()\n",
    "    fname = r.split('/')[-1]\n",
    "    dst = '/'.join(s.split('/')[:-1])\n",
    "    \n",
    "    print(fname)\n",
    "    print(dst)\n",
    "    fname_dst = os.path.join(dst, fname)\n",
    "    print(fname_dst)\n",
    "    shutil.copy2(r, fname_dst)\n",
    "#     break"
   ]
  },
  {
   "cell_type": "markdown",
   "id": "3d43aabd",
   "metadata": {},
   "source": [
    "# Crop SRGB. RAW가 GRBG로 만들기 위해서 crop을 해야하거든"
   ]
  },
  {
   "cell_type": "code",
   "execution_count": 99,
   "id": "c7aeef81",
   "metadata": {
    "ExecuteTime": {
     "end_time": "2022-11-07T07:56:08.043719Z",
     "start_time": "2022-11-07T07:56:07.994834Z"
    }
   },
   "outputs": [
    {
     "name": "stdout",
     "output_type": "stream",
     "text": [
      "320 320 160 160 160 160\n"
     ]
    }
   ],
   "source": [
    "base_dir = '/dataset/SIDD/small'\n",
    "raw_dir  = 'SIDD_Small_sRGB_Only'\n",
    "srgb_dir = 'SIDD_Small_sRGB_Only'\n",
    "\n",
    "\n",
    "list_raw   = glob.glob(os.path.join(base_dir, raw_dir, '**/*.npy'), recursive=True)\n",
    "list_srgb  = glob.glob(os.path.join(base_dir, srgb_dir, '**/*.PNG'), recursive=True)\n",
    "\n",
    "list_raw_gt   = glob.glob(os.path.join(base_dir, raw_dir, '**/GT*.npy'), recursive=True)\n",
    "list_srgb_gt  = glob.glob(os.path.join(base_dir, srgb_dir, '**/GT*.PNG'), recursive=True)\n",
    "\n",
    "list_raw_noisy   = glob.glob(os.path.join(base_dir, raw_dir, '**/NOISY*.npy'), recursive=True)\n",
    "list_srgb_noisy  = glob.glob(os.path.join(base_dir, srgb_dir, '**/NOISY*.PNG'), recursive=True)\n",
    "\n",
    "\n",
    "list_raw.sort()\n",
    "list_srgb.sort()\n",
    "\n",
    "list_raw_gt.sort()\n",
    "list_srgb_gt.sort()\n",
    "\n",
    "list_raw_noisy.sort()\n",
    "list_srgb_noisy.sort()\n",
    "print(len(list_raw), len(list_srgb),len(list_raw_gt), len(list_srgb_gt), len(list_raw_noisy), len(list_srgb_noisy))"
   ]
  },
  {
   "cell_type": "code",
   "execution_count": 100,
   "id": "ca33df72",
   "metadata": {
    "ExecuteTime": {
     "end_time": "2022-11-07T07:56:08.603383Z",
     "start_time": "2022-11-07T07:56:08.593521Z"
    }
   },
   "outputs": [
    {
     "name": "stdout",
     "output_type": "stream",
     "text": [
      "0 \n",
      "\t /dataset/SIDD/small/SIDD_Small_sRGB_Only/Data/0001_001_S6_00100_00060_3200_L/GT_RAW_010_Rgain1.809_Bgain2.065.npy \n",
      "\t /dataset/SIDD/small/SIDD_Small_sRGB_Only/Data/0001_001_S6_00100_00060_3200_L/GT_SRGB_010.PNG\n",
      "1 \n",
      "\t /dataset/SIDD/small/SIDD_Small_sRGB_Only/Data/0001_001_S6_00100_00060_3200_L/NOISY_RAW_010_Rgain1.809_Bgain2.065.npy \n",
      "\t /dataset/SIDD/small/SIDD_Small_sRGB_Only/Data/0001_001_S6_00100_00060_3200_L/NOISY_SRGB_010.PNG\n",
      "2 \n",
      "\t /dataset/SIDD/small/SIDD_Small_sRGB_Only/Data/0002_001_S6_00100_00020_3200_N/GT_RAW_010_Rgain1.787_Bgain2.048.npy \n",
      "\t /dataset/SIDD/small/SIDD_Small_sRGB_Only/Data/0002_001_S6_00100_00020_3200_N/GT_SRGB_010.PNG\n",
      "3 \n",
      "\t /dataset/SIDD/small/SIDD_Small_sRGB_Only/Data/0002_001_S6_00100_00020_3200_N/NOISY_RAW_010_Rgain1.787_Bgain2.048.npy \n",
      "\t /dataset/SIDD/small/SIDD_Small_sRGB_Only/Data/0002_001_S6_00100_00020_3200_N/NOISY_SRGB_010.PNG\n",
      "4 \n",
      "\t /dataset/SIDD/small/SIDD_Small_sRGB_Only/Data/0003_001_S6_00100_00060_3200_H/GT_RAW_010_Rgain1.809_Bgain1.819.npy \n",
      "\t /dataset/SIDD/small/SIDD_Small_sRGB_Only/Data/0003_001_S6_00100_00060_3200_H/GT_SRGB_010.PNG\n",
      "5 \n",
      "\t /dataset/SIDD/small/SIDD_Small_sRGB_Only/Data/0003_001_S6_00100_00060_3200_H/NOISY_RAW_010_Rgain1.809_Bgain1.819.npy \n",
      "\t /dataset/SIDD/small/SIDD_Small_sRGB_Only/Data/0003_001_S6_00100_00060_3200_H/NOISY_SRGB_010.PNG\n",
      "6 \n",
      "\t /dataset/SIDD/small/SIDD_Small_sRGB_Only/Data/0004_001_S6_00100_00060_4400_L/GT_RAW_010_Rgain1.790_Bgain2.040.npy \n",
      "\t /dataset/SIDD/small/SIDD_Small_sRGB_Only/Data/0004_001_S6_00100_00060_4400_L/GT_SRGB_010.PNG\n",
      "7 \n",
      "\t /dataset/SIDD/small/SIDD_Small_sRGB_Only/Data/0004_001_S6_00100_00060_4400_L/NOISY_RAW_010_Rgain1.790_Bgain2.040.npy \n",
      "\t /dataset/SIDD/small/SIDD_Small_sRGB_Only/Data/0004_001_S6_00100_00060_4400_L/NOISY_SRGB_010.PNG\n",
      "8 \n",
      "\t /dataset/SIDD/small/SIDD_Small_sRGB_Only/Data/0005_001_S6_00100_00060_4400_N/GT_RAW_010_Rgain1.988_Bgain1.747.npy \n",
      "\t /dataset/SIDD/small/SIDD_Small_sRGB_Only/Data/0005_001_S6_00100_00060_4400_N/GT_SRGB_010.PNG\n",
      "9 \n",
      "\t /dataset/SIDD/small/SIDD_Small_sRGB_Only/Data/0005_001_S6_00100_00060_4400_N/NOISY_RAW_010_Rgain1.988_Bgain1.747.npy \n",
      "\t /dataset/SIDD/small/SIDD_Small_sRGB_Only/Data/0005_001_S6_00100_00060_4400_N/NOISY_SRGB_010.PNG\n",
      "10 \n",
      "\t /dataset/SIDD/small/SIDD_Small_sRGB_Only/Data/0006_001_S6_00100_00060_4400_H/GT_RAW_010_Rgain2.024_Bgain1.613.npy \n",
      "\t /dataset/SIDD/small/SIDD_Small_sRGB_Only/Data/0006_001_S6_00100_00060_4400_H/GT_SRGB_010.PNG\n",
      "11 \n",
      "\t /dataset/SIDD/small/SIDD_Small_sRGB_Only/Data/0006_001_S6_00100_00060_4400_H/NOISY_RAW_010_Rgain2.024_Bgain1.613.npy \n",
      "\t /dataset/SIDD/small/SIDD_Small_sRGB_Only/Data/0006_001_S6_00100_00060_4400_H/NOISY_SRGB_010.PNG\n"
     ]
    }
   ],
   "source": [
    "for idx, (gr, gs)  in enumerate(zip(list_raw, list_srgb)):\n",
    "    \n",
    "    print(idx, '\\n\\t', gr, '\\n\\t', gs)\n",
    "    \n",
    "    if idx>10:\n",
    "        break"
   ]
  },
  {
   "cell_type": "code",
   "execution_count": 101,
   "id": "02b6007b",
   "metadata": {
    "ExecuteTime": {
     "end_time": "2022-11-07T07:56:21.151078Z",
     "start_time": "2022-11-07T07:56:21.146235Z"
    }
   },
   "outputs": [],
   "source": [
    "\n",
    "def crop(raw, f):\n",
    "    if '_S6' in f:\n",
    "        tag = 'S6'\n",
    "        pass\n",
    "    elif '_IP_' in f:\n",
    "        tag = 'IP'\n",
    "        raw    = raw[:, 1:-1]\n",
    "    elif '_GP_' in f:\n",
    "        tag = 'GP'\n",
    "        raw    = raw[1:-1, :]\n",
    "    elif '_N6_' in f:\n",
    "        tag = 'N6'\n",
    "        raw    = raw[1:-1, :]\n",
    "    elif '_G4_' in f:\n",
    "        tag = 'G4'\n",
    "        raw    = raw[1:-1, :]\n",
    "    else:\n",
    "        print('unknown class')\n",
    "        exit()\n",
    "    return raw\n"
   ]
  },
  {
   "cell_type": "code",
   "execution_count": 110,
   "id": "cf0d04d9",
   "metadata": {
    "ExecuteTime": {
     "end_time": "2022-11-07T08:14:22.942369Z",
     "start_time": "2022-11-07T08:03:42.980488Z"
    }
   },
   "outputs": [
    {
     "name": "stdout",
     "output_type": "stream",
     "text": [
      "0 943\n",
      "1 943\n",
      "2 943\n",
      "3 943\n",
      "4 943\n",
      "5 943\n",
      "6 943\n",
      "7 943\n",
      "8 943\n",
      "9 943\n",
      "10 943\n",
      "11 943\n",
      "12 943\n",
      "13 943\n",
      "14 943\n",
      "15 943\n",
      "16 943\n",
      "17 943\n",
      "18 943\n",
      "19 943\n",
      "20 943\n",
      "21 943\n",
      "22 943\n",
      "23 943\n",
      "24 943\n",
      "25 943\n",
      "26 943\n",
      "27 943\n",
      "28 943\n",
      "29 943\n",
      "30 713\n",
      "31 713\n",
      "32 713\n",
      "33 713\n",
      "34 713\n",
      "35 713\n",
      "36 713\n",
      "37 713\n",
      "38 768\n",
      "39 768\n",
      "40 768\n",
      "41 768\n",
      "42 943\n",
      "43 943\n",
      "44 943\n",
      "45 943\n",
      "46 713\n",
      "47 713\n",
      "48 713\n",
      "49 713\n",
      "50 713\n",
      "51 713\n",
      "52 713\n",
      "53 713\n",
      "54 713\n",
      "55 713\n",
      "56 713\n",
      "57 713\n",
      "58 713\n",
      "59 713\n",
      "60 713\n",
      "61 713\n",
      "62 713\n",
      "63 713\n",
      "64 713\n",
      "65 713\n",
      "66 713\n",
      "67 713\n",
      "68 713\n",
      "69 713\n",
      "70 713\n",
      "71 713\n",
      "72 713\n",
      "73 713\n",
      "74 943\n",
      "75 943\n",
      "76 943\n",
      "77 943\n",
      "78 768\n",
      "79 768\n",
      "80 768\n",
      "81 768\n",
      "82 943\n",
      "83 943\n",
      "84 943\n",
      "85 943\n",
      "86 768\n",
      "87 768\n",
      "88 768\n",
      "89 768\n",
      "90 943\n",
      "91 943\n",
      "92 943\n",
      "93 943\n",
      "94 943\n",
      "95 943\n",
      "96 943\n",
      "97 943\n",
      "98 713\n",
      "99 713\n",
      "100 713\n",
      "101 713\n",
      "102 713\n",
      "103 713\n",
      "104 713\n",
      "105 713\n",
      "106 713\n",
      "107 713\n",
      "108 713\n",
      "109 713\n",
      "110 713\n",
      "111 713\n",
      "112 713\n",
      "113 713\n",
      "114 713\n",
      "115 713\n",
      "116 768\n",
      "117 768\n",
      "118 768\n",
      "119 768\n",
      "120 943\n",
      "121 943\n",
      "122 943\n",
      "123 943\n",
      "124 943\n",
      "125 943\n",
      "126 943\n",
      "127 943\n",
      "128 713\n",
      "129 713\n",
      "130 713\n",
      "131 713\n",
      "132 713\n",
      "133 713\n",
      "134 713\n",
      "135 713\n",
      "136 713\n",
      "137 713\n",
      "138 713\n",
      "139 713\n",
      "140 713\n",
      "141 713\n",
      "142 713\n",
      "143 713\n",
      "144 713\n",
      "145 713\n",
      "146 768\n",
      "147 768\n",
      "148 768\n",
      "149 768\n",
      "150 768\n",
      "151 768\n",
      "152 943\n",
      "153 943\n",
      "154 943\n",
      "155 943\n",
      "156 943\n",
      "157 943\n",
      "158 943\n",
      "159 943\n",
      "160 943\n",
      "161 943\n",
      "162 713\n",
      "163 713\n",
      "164 713\n",
      "165 713\n",
      "166 713\n",
      "167 713\n",
      "168 713\n",
      "169 713\n",
      "170 713\n",
      "171 713\n",
      "172 713\n",
      "173 713\n",
      "174 713\n",
      "175 713\n",
      "176 713\n",
      "177 713\n",
      "178 713\n",
      "179 713\n",
      "180 713\n",
      "181 713\n",
      "182 713\n",
      "183 713\n",
      "184 768\n",
      "185 768\n",
      "186 768\n",
      "187 768\n",
      "188 768\n",
      "189 768\n",
      "190 943\n",
      "191 943\n",
      "192 943\n",
      "193 943\n",
      "194 943\n",
      "195 943\n",
      "196 943\n",
      "197 943\n",
      "198 943\n",
      "199 943\n",
      "200 713\n",
      "201 713\n",
      "202 713\n",
      "203 713\n",
      "204 713\n",
      "205 713\n",
      "206 713\n",
      "207 713\n",
      "208 713\n",
      "209 713\n",
      "210 713\n",
      "211 713\n",
      "212 713\n",
      "213 713\n",
      "214 713\n",
      "215 713\n",
      "216 713\n",
      "217 713\n",
      "218 713\n",
      "219 713\n",
      "220 713\n",
      "221 713\n",
      "222 768\n",
      "223 768\n",
      "224 768\n",
      "225 768\n",
      "226 768\n",
      "227 768\n",
      "228 768\n",
      "229 768\n",
      "230 943\n",
      "231 943\n",
      "232 943\n",
      "233 943\n",
      "234 943\n",
      "235 943\n",
      "236 943\n",
      "237 943\n",
      "238 943\n",
      "239 943\n",
      "240 943\n",
      "241 943\n",
      "242 713\n",
      "243 713\n",
      "244 713\n",
      "245 713\n",
      "246 713\n",
      "247 713\n",
      "248 713\n",
      "249 713\n",
      "250 713\n",
      "251 713\n",
      "252 713\n",
      "253 713\n",
      "254 713\n",
      "255 713\n",
      "256 713\n",
      "257 713\n",
      "258 713\n",
      "259 713\n",
      "260 713\n",
      "261 713\n",
      "262 768\n",
      "263 768\n",
      "264 768\n",
      "265 768\n",
      "266 768\n",
      "267 768\n",
      "268 768\n",
      "269 768\n",
      "270 943\n",
      "271 943\n",
      "272 943\n",
      "273 943\n",
      "274 943\n",
      "275 943\n",
      "276 943\n",
      "277 943\n",
      "278 943\n",
      "279 943\n",
      "280 943\n",
      "281 943\n",
      "282 713\n",
      "283 713\n",
      "284 713\n",
      "285 713\n",
      "286 713\n",
      "287 713\n",
      "288 713\n",
      "289 713\n",
      "290 713\n",
      "291 713\n",
      "292 713\n",
      "293 713\n",
      "294 713\n",
      "295 713\n",
      "296 713\n",
      "297 713\n",
      "298 713\n",
      "299 713\n",
      "300 713\n",
      "301 713\n",
      "302 713\n",
      "303 713\n",
      "304 713\n",
      "305 713\n",
      "306 713\n",
      "307 713\n",
      "308 713\n",
      "309 713\n",
      "310 713\n",
      "311 713\n",
      "312 713\n",
      "313 713\n",
      "314 713\n",
      "315 713\n",
      "316 713\n",
      "317 713\n",
      "318 713\n",
      "319 713\n"
     ]
    }
   ],
   "source": [
    "import PIL.Image as Image\n",
    "patch_size = 128\n",
    "patch_dir = '/dataset/SIDD/small/patches'\n",
    "# for idx, (gr, gs)  in enumerate(zip(list_raw_gt, list_srgb_gt)):\n",
    "for idx, (gr, gs)  in enumerate(zip(list_raw, list_srgb)):\n",
    "    srgb = np.array(Image.open(gs))\n",
    "    raw = np.load(gr)\n",
    "    \n",
    "    srgb = crop(srgb, gs)\n",
    "    raw = crop(raw, gr)\n",
    "    \n",
    "    def find_gain(s, token):\n",
    "        idx = s.rfind(token)\n",
    "        gain = float(s[idx+5:idx+5+5])\n",
    "        return gain\n",
    "    \n",
    "    rgain = find_gain(gr, 'Rgain')\n",
    "    bgain = find_gain(gr, 'Bgain')\n",
    "    \n",
    "    \n",
    "#     print('Rgain: %.3f, Bfain: %.3f' %(rgain, bgain))\n",
    "#     break\n",
    "    \n",
    "    \n",
    "    if 'GT' in gr:\n",
    "        token='GT'\n",
    "    elif 'NOISY' in gr:\n",
    "        token='NOISY'\n",
    "    else:\n",
    "        print('unknown token', gr)\n",
    "        exit()\n",
    "        break\n",
    "#         return\n",
    "    \n",
    "    \n",
    "    cnt=0\n",
    "    for yy in range(0, raw.shape[0]-patch_size, patch_size):\n",
    "        for xx in range(0, raw.shape[1]-patch_size, patch_size):\n",
    "            cnt +=1\n",
    "#             sfname = \"srgb_%04d_%04d_%04d_%04d.npy\" % (idx, cnt, yy, xx)\n",
    "#             rfname = \"raw_%04d_%04d_%04d_%04d.npy\"  % (idx, cnt, yy, xx)\n",
    "            \n",
    "            \n",
    "            sfname = f\"{token}_srgb_{idx:04d}_{cnt:04d}_{yy:04d}_{xx:04d}.npy\"\n",
    "            rfname = f\"{token}_raw_{idx:04d}_{cnt:04d}_{yy:04d}_{xx:04d}_Rgain{rgain:.3f}_Bgain{bgain:.3f}.npy\"\n",
    "            \n",
    "            ps = srgb[yy:yy+patch_size, xx:xx+patch_size]\n",
    "            pr =  raw[yy:yy+patch_size, xx:xx+patch_size]\n",
    "            \n",
    "            np.save(os.path.join(patch_dir, sfname), ps)\n",
    "            np.save(os.path.join(patch_dir, rfname), pr)\n",
    "            \n",
    "#             print(ps.shape, ps.dtype)\n",
    "#             print(pr.shape, pr.dtype)\n",
    "            \n",
    "\n",
    "#             break            \n",
    "#         break\n",
    "#     break\n",
    "            \n",
    "            \n",
    "    \n",
    "    print(idx, cnt)"
   ]
  },
  {
   "cell_type": "markdown",
   "id": "93a9809b",
   "metadata": {},
   "source": [
    "# patch 들을 tfrecords로 바꾸자"
   ]
  },
  {
   "cell_type": "code",
   "execution_count": 166,
   "id": "7ac4d062",
   "metadata": {
    "ExecuteTime": {
     "end_time": "2022-11-07T10:43:51.366929Z",
     "start_time": "2022-11-07T10:43:48.419571Z"
    }
   },
   "outputs": [
    {
     "name": "stdout",
     "output_type": "stream",
     "text": [
      "254040 254040 12702 0\n"
     ]
    }
   ],
   "source": [
    "base_dir = '/dataset/SIDD/small/patches'\n",
    "\n",
    "list_raw   = glob.glob(os.path.join(base_dir, '*_raw_*.npy'), recursive=False)\n",
    "list_srgb  = glob.glob(os.path.join(base_dir, '*_srgb_*.npy'), recursive=False)\n",
    "\n",
    "list_raw.sort()\n",
    "list_srgb.sort()\n",
    "\n",
    "print(len(list_raw), len(list_srgb), len(list_srgb)//20, len(list_srgb)%20)"
   ]
  },
  {
   "cell_type": "code",
   "execution_count": 167,
   "id": "1e64c1ac",
   "metadata": {
    "ExecuteTime": {
     "end_time": "2022-11-07T10:51:44.584380Z",
     "start_time": "2022-11-07T10:51:44.574830Z"
    }
   },
   "outputs": [],
   "source": [
    "random.seed(4534)\n",
    "\n",
    "def write_tfrecords(file_list, idx_split, dataset_name, output_path):\n",
    "    \n",
    "    \n",
    "    def find_gain(s, token):\n",
    "        idx = s.rfind(token)\n",
    "        gain = float(s[idx+5:idx+5+5])\n",
    "        return gain\n",
    "    \n",
    "#     rgain = find_gain(gr, 'Rgain')\n",
    "#     bgain = find_gain(gr, 'Bgain')\n",
    "    \n",
    "    \n",
    "    list_raw_sub  = file_list['raw']\n",
    "    list_srgb_sub = file_list['srgb']\n",
    "        \n",
    "\n",
    "\n",
    "    tfrecords_name = '%s_%03d.tfrecords' % (dataset_name, idx_split)\n",
    "    tfrecords_name = os.path.join(output_path, tfrecords_name)\n",
    "\n",
    "    if os.path.isfile(tfrecords_name):\n",
    "        print('OHNO -->. tfrecord (%s) exists' % tfrecords_name)\n",
    "        #return\n",
    "\n",
    "    print('tfrecord not exists')\n",
    "    print('--->', tfrecords_name)\n",
    "\n",
    "    writer = tf.io.TFRecordWriter(tfrecords_name)\n",
    "\n",
    "    for index, file_names in enumerate(tqdm.tqdm(zip(list_srgb_sub,list_raw_sub))):\n",
    "#         print('%d / %d' % (index+1, len(file_list)))\n",
    "               \n",
    "        image_arr = np.load(file_names[0])\n",
    "        raw_arr   = np.load(file_names[1])\n",
    "                                       \n",
    "        rgain = find_gain(file_names[1], 'Rgain')\n",
    "        bgain = find_gain(file_names[1], 'Bgain')\n",
    "         \n",
    "        \n",
    "        image_byte = image_arr.tobytes()\n",
    "                                       \n",
    "        raw_arr = (raw_arr*1023) + 0.5\n",
    "        raw_arr = raw_arr.astype(np.uint16)\n",
    "        raw_arr_bytes = raw_arr.tobytes()\n",
    "                                       \n",
    "\n",
    "        example = tf.train.Example(\n",
    "                features=tf.train.Features(feature={\n",
    "                    'srgb': tf.train.Feature(\n",
    "                            bytes_list=tf.train.BytesList(value=[image_byte])),\n",
    "                    'raw': tf.train.Feature(\n",
    "                            bytes_list=tf.train.BytesList(value=[raw_arr_bytes])),\n",
    "                    'rgain':tf.train.Feature(float_list=tf.train.FloatList(value=[rgain])),\n",
    "                    'bgain': tf.train.Feature(float_list=tf.train.FloatList(value=[bgain])),\n",
    "                })\n",
    "        )\n",
    "\n",
    "\n",
    "\n",
    "        writer.write(example.SerializeToString())\n",
    "    writer.close()"
   ]
  },
  {
   "cell_type": "code",
   "execution_count": 178,
   "id": "35e205db",
   "metadata": {
    "ExecuteTime": {
     "end_time": "2022-11-07T11:29:26.061082Z",
     "start_time": "2022-11-07T11:29:26.052965Z"
    }
   },
   "outputs": [],
   "source": [
    "\n",
    "\n",
    "def make_tfrecords(flist, num_splits, dataset_name, output_path='.'):\n",
    "\n",
    " \n",
    "\n",
    "    assert len(flist['raw']) > 0, f'no file is found'\n",
    "    assert len(flist['raw']) == len(flist['srgb']), f'len(raw), len(srgb) should be same'\n",
    "    \n",
    "    list_raw  = np.array(flist['raw'])\n",
    "    list_srgb = np.array(flist['srgb'])\n",
    "    \n",
    "    total_len = len(list_raw)\n",
    "    split_len = total_len // num_splits\n",
    "    print('total_len:',total_len, ', split_len:', split_len) \n",
    "    \n",
    "    \n",
    "    # shuffle order\n",
    "    order = list(range(total_len))\n",
    "    random.shuffle(order) \n",
    "    \n",
    "    \n",
    "    with open(\"/dataset/SIDD/small/tfrecords/file_order.txt\", \"w\") as f:\n",
    "        for idx, o in enumerate(order):\n",
    "            f.write(str(idx)+ \",\" +str(o) +\"\\n\")\n",
    "\n",
    "\n",
    "    start_idx = np.array(list(range(num_splits)) )* split_len\n",
    "    finish_idx= (np.array((list(range(num_splits)) )) + 1) * split_len\n",
    "\n",
    "    print(start_idx)\n",
    "    print(finish_idx)\n",
    "    finish_idx[-1] = total_len\n",
    "\n",
    "    # exit()\n",
    "    # print(start_idx)\n",
    "    # print(finish_idx)\n",
    "\n",
    "    for idx_split in range(num_splits):\n",
    "        print(f'... {idx_split+1} / {num_splits}')\n",
    "        idx_s = start_idx[idx_split]\n",
    "        idx_f = finish_idx[idx_split]\n",
    "        \n",
    "        list_raw_sub  = list_raw[order[idx_s:idx_f]]\n",
    "        list_srgb_sub = list_srgb[order[idx_s:idx_f]]\n",
    "#         list_raw_sub  = list_raw[order[-8:]]\n",
    "#         list_srgb_sub = list_srgb[order[-8:]]\n",
    "        \n",
    "        \n",
    "        write_tfrecords({'raw': list_raw_sub, 'srgb':list_srgb_sub}, idx_split, dataset_name, output_path)\n",
    "#         break\n",
    "\n",
    "    print('done make_tfrecords')"
   ]
  },
  {
   "cell_type": "code",
   "execution_count": 181,
   "id": "9466e985",
   "metadata": {
    "ExecuteTime": {
     "end_time": "2022-11-08T00:56:04.301450Z",
     "start_time": "2022-11-08T00:52:00.452088Z"
    }
   },
   "outputs": [
    {
     "name": "stdout",
     "output_type": "stream",
     "text": [
      "total_len: 254040 , split_len: 2540\n",
      "[     0   2540   5080   7620  10160  12700  15240  17780  20320  22860\n",
      "  25400  27940  30480  33020  35560  38100  40640  43180  45720  48260\n",
      "  50800  53340  55880  58420  60960  63500  66040  68580  71120  73660\n",
      "  76200  78740  81280  83820  86360  88900  91440  93980  96520  99060\n",
      " 101600 104140 106680 109220 111760 114300 116840 119380 121920 124460\n",
      " 127000 129540 132080 134620 137160 139700 142240 144780 147320 149860\n",
      " 152400 154940 157480 160020 162560 165100 167640 170180 172720 175260\n",
      " 177800 180340 182880 185420 187960 190500 193040 195580 198120 200660\n",
      " 203200 205740 208280 210820 213360 215900 218440 220980 223520 226060\n",
      " 228600 231140 233680 236220 238760 241300 243840 246380 248920 251460]\n",
      "[  2540   5080   7620  10160  12700  15240  17780  20320  22860  25400\n",
      "  27940  30480  33020  35560  38100  40640  43180  45720  48260  50800\n",
      "  53340  55880  58420  60960  63500  66040  68580  71120  73660  76200\n",
      "  78740  81280  83820  86360  88900  91440  93980  96520  99060 101600\n",
      " 104140 106680 109220 111760 114300 116840 119380 121920 124460 127000\n",
      " 129540 132080 134620 137160 139700 142240 144780 147320 149860 152400\n",
      " 154940 157480 160020 162560 165100 167640 170180 172720 175260 177800\n",
      " 180340 182880 185420 187960 190500 193040 195580 198120 200660 203200\n",
      " 205740 208280 210820 213360 215900 218440 220980 223520 226060 228600\n",
      " 231140 233680 236220 238760 241300 243840 246380 248920 251460 254000]\n",
      "... 1 / 100\n",
      "OHNO -->. tfrecord (/dataset/SIDD/small/tfrecords/sidd_small_train_254040_000.tfrecords) exists\n",
      "tfrecord not exists\n",
      "---> /dataset/SIDD/small/tfrecords/sidd_small_train_254040_000.tfrecords\n"
     ]
    },
    {
     "name": "stderr",
     "output_type": "stream",
     "text": [
      "2540it [00:02, 1023.07it/s]\n"
     ]
    },
    {
     "name": "stdout",
     "output_type": "stream",
     "text": [
      "... 2 / 100\n",
      "tfrecord not exists\n",
      "---> /dataset/SIDD/small/tfrecords/sidd_small_train_254040_001.tfrecords\n"
     ]
    },
    {
     "name": "stderr",
     "output_type": "stream",
     "text": [
      "2540it [00:02, 1001.79it/s]\n"
     ]
    },
    {
     "name": "stdout",
     "output_type": "stream",
     "text": [
      "... 3 / 100\n",
      "tfrecord not exists\n",
      "---> /dataset/SIDD/small/tfrecords/sidd_small_train_254040_002.tfrecords\n"
     ]
    },
    {
     "name": "stderr",
     "output_type": "stream",
     "text": [
      "2540it [00:02, 1035.15it/s]\n"
     ]
    },
    {
     "name": "stdout",
     "output_type": "stream",
     "text": [
      "... 4 / 100\n",
      "tfrecord not exists\n",
      "---> /dataset/SIDD/small/tfrecords/sidd_small_train_254040_003.tfrecords\n"
     ]
    },
    {
     "name": "stderr",
     "output_type": "stream",
     "text": [
      "2540it [00:02, 1033.34it/s]\n"
     ]
    },
    {
     "name": "stdout",
     "output_type": "stream",
     "text": [
      "... 5 / 100\n",
      "tfrecord not exists\n",
      "---> /dataset/SIDD/small/tfrecords/sidd_small_train_254040_004.tfrecords\n"
     ]
    },
    {
     "name": "stderr",
     "output_type": "stream",
     "text": [
      "2540it [00:02, 1025.87it/s]\n"
     ]
    },
    {
     "name": "stdout",
     "output_type": "stream",
     "text": [
      "... 6 / 100\n",
      "tfrecord not exists\n",
      "---> /dataset/SIDD/small/tfrecords/sidd_small_train_254040_005.tfrecords\n"
     ]
    },
    {
     "name": "stderr",
     "output_type": "stream",
     "text": [
      "2540it [00:02, 1016.64it/s]\n"
     ]
    },
    {
     "name": "stdout",
     "output_type": "stream",
     "text": [
      "... 7 / 100\n",
      "tfrecord not exists\n",
      "---> /dataset/SIDD/small/tfrecords/sidd_small_train_254040_006.tfrecords\n"
     ]
    },
    {
     "name": "stderr",
     "output_type": "stream",
     "text": [
      "2540it [00:02, 1009.71it/s]\n"
     ]
    },
    {
     "name": "stdout",
     "output_type": "stream",
     "text": [
      "... 8 / 100\n",
      "tfrecord not exists\n",
      "---> /dataset/SIDD/small/tfrecords/sidd_small_train_254040_007.tfrecords\n"
     ]
    },
    {
     "name": "stderr",
     "output_type": "stream",
     "text": [
      "2540it [00:02, 1005.78it/s]\n"
     ]
    },
    {
     "name": "stdout",
     "output_type": "stream",
     "text": [
      "... 9 / 100\n",
      "tfrecord not exists\n",
      "---> /dataset/SIDD/small/tfrecords/sidd_small_train_254040_008.tfrecords\n"
     ]
    },
    {
     "name": "stderr",
     "output_type": "stream",
     "text": [
      "2540it [00:02, 1018.09it/s]\n"
     ]
    },
    {
     "name": "stdout",
     "output_type": "stream",
     "text": [
      "... 10 / 100\n",
      "tfrecord not exists\n",
      "---> /dataset/SIDD/small/tfrecords/sidd_small_train_254040_009.tfrecords\n"
     ]
    },
    {
     "name": "stderr",
     "output_type": "stream",
     "text": [
      "2540it [00:02, 1025.30it/s]\n"
     ]
    },
    {
     "name": "stdout",
     "output_type": "stream",
     "text": [
      "... 11 / 100\n",
      "tfrecord not exists\n",
      "---> /dataset/SIDD/small/tfrecords/sidd_small_train_254040_010.tfrecords\n"
     ]
    },
    {
     "name": "stderr",
     "output_type": "stream",
     "text": [
      "2540it [00:02, 1014.87it/s]\n"
     ]
    },
    {
     "name": "stdout",
     "output_type": "stream",
     "text": [
      "... 12 / 100\n",
      "tfrecord not exists\n",
      "---> /dataset/SIDD/small/tfrecords/sidd_small_train_254040_011.tfrecords\n"
     ]
    },
    {
     "name": "stderr",
     "output_type": "stream",
     "text": [
      "2540it [00:02, 1008.39it/s]\n"
     ]
    },
    {
     "name": "stdout",
     "output_type": "stream",
     "text": [
      "... 13 / 100\n",
      "tfrecord not exists\n",
      "---> /dataset/SIDD/small/tfrecords/sidd_small_train_254040_012.tfrecords\n"
     ]
    },
    {
     "name": "stderr",
     "output_type": "stream",
     "text": [
      "2540it [00:02, 1008.83it/s]\n"
     ]
    },
    {
     "name": "stdout",
     "output_type": "stream",
     "text": [
      "... 14 / 100\n",
      "tfrecord not exists\n",
      "---> /dataset/SIDD/small/tfrecords/sidd_small_train_254040_013.tfrecords\n"
     ]
    },
    {
     "name": "stderr",
     "output_type": "stream",
     "text": [
      "2540it [00:02, 1014.99it/s]\n"
     ]
    },
    {
     "name": "stdout",
     "output_type": "stream",
     "text": [
      "... 15 / 100\n",
      "tfrecord not exists\n",
      "---> /dataset/SIDD/small/tfrecords/sidd_small_train_254040_014.tfrecords\n"
     ]
    },
    {
     "name": "stderr",
     "output_type": "stream",
     "text": [
      "2540it [00:02, 1031.54it/s]\n"
     ]
    },
    {
     "name": "stdout",
     "output_type": "stream",
     "text": [
      "... 16 / 100\n",
      "tfrecord not exists\n",
      "---> /dataset/SIDD/small/tfrecords/sidd_small_train_254040_015.tfrecords\n"
     ]
    },
    {
     "name": "stderr",
     "output_type": "stream",
     "text": [
      "2540it [00:02, 1025.64it/s]\n"
     ]
    },
    {
     "name": "stdout",
     "output_type": "stream",
     "text": [
      "... 17 / 100\n",
      "tfrecord not exists\n",
      "---> /dataset/SIDD/small/tfrecords/sidd_small_train_254040_016.tfrecords\n"
     ]
    },
    {
     "name": "stderr",
     "output_type": "stream",
     "text": [
      "2540it [00:02, 1019.85it/s]\n"
     ]
    },
    {
     "name": "stdout",
     "output_type": "stream",
     "text": [
      "... 18 / 100\n",
      "tfrecord not exists\n",
      "---> /dataset/SIDD/small/tfrecords/sidd_small_train_254040_017.tfrecords\n"
     ]
    },
    {
     "name": "stderr",
     "output_type": "stream",
     "text": [
      "2540it [00:02, 1009.66it/s]\n"
     ]
    },
    {
     "name": "stdout",
     "output_type": "stream",
     "text": [
      "... 19 / 100\n",
      "tfrecord not exists\n",
      "---> /dataset/SIDD/small/tfrecords/sidd_small_train_254040_018.tfrecords\n"
     ]
    },
    {
     "name": "stderr",
     "output_type": "stream",
     "text": [
      "2540it [00:02, 987.13it/s] \n"
     ]
    },
    {
     "name": "stdout",
     "output_type": "stream",
     "text": [
      "... 20 / 100\n",
      "tfrecord not exists\n",
      "---> /dataset/SIDD/small/tfrecords/sidd_small_train_254040_019.tfrecords\n"
     ]
    },
    {
     "name": "stderr",
     "output_type": "stream",
     "text": [
      "2540it [00:02, 998.67it/s] \n"
     ]
    },
    {
     "name": "stdout",
     "output_type": "stream",
     "text": [
      "... 21 / 100\n",
      "tfrecord not exists\n",
      "---> /dataset/SIDD/small/tfrecords/sidd_small_train_254040_020.tfrecords\n"
     ]
    },
    {
     "name": "stderr",
     "output_type": "stream",
     "text": [
      "2540it [00:02, 982.24it/s] \n"
     ]
    },
    {
     "name": "stdout",
     "output_type": "stream",
     "text": [
      "... 22 / 100\n",
      "tfrecord not exists\n",
      "---> /dataset/SIDD/small/tfrecords/sidd_small_train_254040_021.tfrecords\n"
     ]
    },
    {
     "name": "stderr",
     "output_type": "stream",
     "text": [
      "2540it [00:02, 1023.31it/s]\n"
     ]
    },
    {
     "name": "stdout",
     "output_type": "stream",
     "text": [
      "... 23 / 100\n",
      "tfrecord not exists\n",
      "---> /dataset/SIDD/small/tfrecords/sidd_small_train_254040_022.tfrecords\n"
     ]
    },
    {
     "name": "stderr",
     "output_type": "stream",
     "text": [
      "2540it [00:02, 998.18it/s] \n"
     ]
    },
    {
     "name": "stdout",
     "output_type": "stream",
     "text": [
      "... 24 / 100\n",
      "tfrecord not exists\n",
      "---> /dataset/SIDD/small/tfrecords/sidd_small_train_254040_023.tfrecords\n"
     ]
    },
    {
     "name": "stderr",
     "output_type": "stream",
     "text": [
      "2540it [00:02, 1007.46it/s]\n"
     ]
    },
    {
     "name": "stdout",
     "output_type": "stream",
     "text": [
      "... 25 / 100\n",
      "tfrecord not exists\n",
      "---> /dataset/SIDD/small/tfrecords/sidd_small_train_254040_024.tfrecords\n"
     ]
    },
    {
     "name": "stderr",
     "output_type": "stream",
     "text": [
      "2540it [00:02, 1003.93it/s]\n"
     ]
    },
    {
     "name": "stdout",
     "output_type": "stream",
     "text": [
      "... 26 / 100\n",
      "tfrecord not exists\n",
      "---> /dataset/SIDD/small/tfrecords/sidd_small_train_254040_025.tfrecords\n"
     ]
    },
    {
     "name": "stderr",
     "output_type": "stream",
     "text": [
      "2540it [00:02, 1029.49it/s]\n"
     ]
    },
    {
     "name": "stdout",
     "output_type": "stream",
     "text": [
      "... 27 / 100\n",
      "tfrecord not exists\n",
      "---> /dataset/SIDD/small/tfrecords/sidd_small_train_254040_026.tfrecords\n"
     ]
    },
    {
     "name": "stderr",
     "output_type": "stream",
     "text": [
      "2540it [00:02, 1029.19it/s]\n"
     ]
    },
    {
     "name": "stdout",
     "output_type": "stream",
     "text": [
      "... 28 / 100\n",
      "tfrecord not exists\n",
      "---> /dataset/SIDD/small/tfrecords/sidd_small_train_254040_027.tfrecords\n"
     ]
    },
    {
     "name": "stderr",
     "output_type": "stream",
     "text": [
      "2540it [00:02, 1009.39it/s]\n"
     ]
    },
    {
     "name": "stdout",
     "output_type": "stream",
     "text": [
      "... 29 / 100\n",
      "tfrecord not exists\n",
      "---> /dataset/SIDD/small/tfrecords/sidd_small_train_254040_028.tfrecords\n"
     ]
    },
    {
     "name": "stderr",
     "output_type": "stream",
     "text": [
      "2540it [00:02, 1008.05it/s]\n"
     ]
    },
    {
     "name": "stdout",
     "output_type": "stream",
     "text": [
      "... 30 / 100\n",
      "tfrecord not exists\n",
      "---> /dataset/SIDD/small/tfrecords/sidd_small_train_254040_029.tfrecords\n"
     ]
    },
    {
     "name": "stderr",
     "output_type": "stream",
     "text": [
      "2540it [00:02, 1022.44it/s]\n"
     ]
    },
    {
     "name": "stdout",
     "output_type": "stream",
     "text": [
      "... 31 / 100\n",
      "tfrecord not exists\n",
      "---> /dataset/SIDD/small/tfrecords/sidd_small_train_254040_030.tfrecords\n"
     ]
    },
    {
     "name": "stderr",
     "output_type": "stream",
     "text": [
      "2540it [00:02, 1014.43it/s]\n"
     ]
    },
    {
     "name": "stdout",
     "output_type": "stream",
     "text": [
      "... 32 / 100\n",
      "tfrecord not exists\n",
      "---> /dataset/SIDD/small/tfrecords/sidd_small_train_254040_031.tfrecords\n"
     ]
    },
    {
     "name": "stderr",
     "output_type": "stream",
     "text": [
      "2540it [00:02, 1017.97it/s]\n"
     ]
    },
    {
     "name": "stdout",
     "output_type": "stream",
     "text": [
      "... 33 / 100\n",
      "tfrecord not exists\n",
      "---> /dataset/SIDD/small/tfrecords/sidd_small_train_254040_032.tfrecords\n"
     ]
    },
    {
     "name": "stderr",
     "output_type": "stream",
     "text": [
      "2540it [00:02, 1024.14it/s]\n"
     ]
    },
    {
     "name": "stdout",
     "output_type": "stream",
     "text": [
      "... 34 / 100\n",
      "tfrecord not exists\n",
      "---> /dataset/SIDD/small/tfrecords/sidd_small_train_254040_033.tfrecords\n"
     ]
    },
    {
     "name": "stderr",
     "output_type": "stream",
     "text": [
      "2540it [00:02, 1016.90it/s]\n"
     ]
    },
    {
     "name": "stdout",
     "output_type": "stream",
     "text": [
      "... 35 / 100\n",
      "tfrecord not exists\n",
      "---> /dataset/SIDD/small/tfrecords/sidd_small_train_254040_034.tfrecords\n"
     ]
    },
    {
     "name": "stderr",
     "output_type": "stream",
     "text": [
      "2540it [00:02, 1011.88it/s]\n"
     ]
    },
    {
     "name": "stdout",
     "output_type": "stream",
     "text": [
      "... 36 / 100\n",
      "tfrecord not exists\n",
      "---> /dataset/SIDD/small/tfrecords/sidd_small_train_254040_035.tfrecords\n"
     ]
    },
    {
     "name": "stderr",
     "output_type": "stream",
     "text": [
      "2540it [00:02, 1003.09it/s]\n"
     ]
    },
    {
     "name": "stdout",
     "output_type": "stream",
     "text": [
      "... 37 / 100\n",
      "tfrecord not exists\n",
      "---> /dataset/SIDD/small/tfrecords/sidd_small_train_254040_036.tfrecords\n"
     ]
    },
    {
     "name": "stderr",
     "output_type": "stream",
     "text": [
      "2540it [00:02, 987.25it/s] \n"
     ]
    },
    {
     "name": "stdout",
     "output_type": "stream",
     "text": [
      "... 38 / 100\n",
      "tfrecord not exists\n",
      "---> /dataset/SIDD/small/tfrecords/sidd_small_train_254040_037.tfrecords\n"
     ]
    },
    {
     "name": "stderr",
     "output_type": "stream",
     "text": [
      "2540it [00:02, 1011.56it/s]\n"
     ]
    },
    {
     "name": "stdout",
     "output_type": "stream",
     "text": [
      "... 39 / 100\n",
      "tfrecord not exists\n",
      "---> /dataset/SIDD/small/tfrecords/sidd_small_train_254040_038.tfrecords\n"
     ]
    },
    {
     "name": "stderr",
     "output_type": "stream",
     "text": [
      "2540it [00:02, 1015.44it/s]\n"
     ]
    },
    {
     "name": "stdout",
     "output_type": "stream",
     "text": [
      "... 40 / 100\n",
      "tfrecord not exists\n",
      "---> /dataset/SIDD/small/tfrecords/sidd_small_train_254040_039.tfrecords\n"
     ]
    },
    {
     "name": "stderr",
     "output_type": "stream",
     "text": [
      "2540it [00:02, 990.03it/s] \n"
     ]
    },
    {
     "name": "stdout",
     "output_type": "stream",
     "text": [
      "... 41 / 100\n",
      "tfrecord not exists\n",
      "---> /dataset/SIDD/small/tfrecords/sidd_small_train_254040_040.tfrecords\n"
     ]
    },
    {
     "name": "stderr",
     "output_type": "stream",
     "text": [
      "2540it [00:02, 1005.74it/s]\n"
     ]
    },
    {
     "name": "stdout",
     "output_type": "stream",
     "text": [
      "... 42 / 100\n",
      "tfrecord not exists\n",
      "---> /dataset/SIDD/small/tfrecords/sidd_small_train_254040_041.tfrecords\n"
     ]
    },
    {
     "name": "stderr",
     "output_type": "stream",
     "text": [
      "2540it [00:02, 1008.51it/s]\n"
     ]
    },
    {
     "name": "stdout",
     "output_type": "stream",
     "text": [
      "... 43 / 100\n",
      "tfrecord not exists\n",
      "---> /dataset/SIDD/small/tfrecords/sidd_small_train_254040_042.tfrecords\n"
     ]
    },
    {
     "name": "stderr",
     "output_type": "stream",
     "text": [
      "2540it [00:02, 1043.65it/s]\n"
     ]
    },
    {
     "name": "stdout",
     "output_type": "stream",
     "text": [
      "... 44 / 100\n",
      "tfrecord not exists\n",
      "---> /dataset/SIDD/small/tfrecords/sidd_small_train_254040_043.tfrecords\n"
     ]
    },
    {
     "name": "stderr",
     "output_type": "stream",
     "text": [
      "2540it [00:02, 1017.68it/s]\n"
     ]
    },
    {
     "name": "stdout",
     "output_type": "stream",
     "text": [
      "... 45 / 100\n",
      "tfrecord not exists\n",
      "---> /dataset/SIDD/small/tfrecords/sidd_small_train_254040_044.tfrecords\n"
     ]
    },
    {
     "name": "stderr",
     "output_type": "stream",
     "text": [
      "2540it [00:02, 1026.52it/s]\n"
     ]
    },
    {
     "name": "stdout",
     "output_type": "stream",
     "text": [
      "... 46 / 100\n",
      "tfrecord not exists\n",
      "---> /dataset/SIDD/small/tfrecords/sidd_small_train_254040_045.tfrecords\n"
     ]
    },
    {
     "name": "stderr",
     "output_type": "stream",
     "text": [
      "2540it [00:02, 1035.75it/s]\n"
     ]
    },
    {
     "name": "stdout",
     "output_type": "stream",
     "text": [
      "... 47 / 100\n",
      "tfrecord not exists\n",
      "---> /dataset/SIDD/small/tfrecords/sidd_small_train_254040_046.tfrecords\n"
     ]
    },
    {
     "name": "stderr",
     "output_type": "stream",
     "text": [
      "2540it [00:02, 1045.70it/s]\n"
     ]
    },
    {
     "name": "stdout",
     "output_type": "stream",
     "text": [
      "... 48 / 100\n",
      "tfrecord not exists\n",
      "---> /dataset/SIDD/small/tfrecords/sidd_small_train_254040_047.tfrecords\n"
     ]
    },
    {
     "name": "stderr",
     "output_type": "stream",
     "text": [
      "2540it [00:02, 1037.64it/s]\n"
     ]
    },
    {
     "name": "stdout",
     "output_type": "stream",
     "text": [
      "... 49 / 100\n",
      "tfrecord not exists\n",
      "---> /dataset/SIDD/small/tfrecords/sidd_small_train_254040_048.tfrecords\n"
     ]
    },
    {
     "name": "stderr",
     "output_type": "stream",
     "text": [
      "2540it [00:02, 1045.53it/s]\n"
     ]
    },
    {
     "name": "stdout",
     "output_type": "stream",
     "text": [
      "... 50 / 100\n",
      "tfrecord not exists\n",
      "---> /dataset/SIDD/small/tfrecords/sidd_small_train_254040_049.tfrecords\n"
     ]
    },
    {
     "name": "stderr",
     "output_type": "stream",
     "text": [
      "2540it [00:02, 1069.88it/s]\n"
     ]
    },
    {
     "name": "stdout",
     "output_type": "stream",
     "text": [
      "... 51 / 100\n",
      "tfrecord not exists\n",
      "---> /dataset/SIDD/small/tfrecords/sidd_small_train_254040_050.tfrecords\n"
     ]
    },
    {
     "name": "stderr",
     "output_type": "stream",
     "text": [
      "2540it [00:02, 1071.91it/s]\n"
     ]
    },
    {
     "name": "stdout",
     "output_type": "stream",
     "text": [
      "... 52 / 100\n",
      "tfrecord not exists\n",
      "---> /dataset/SIDD/small/tfrecords/sidd_small_train_254040_051.tfrecords\n"
     ]
    },
    {
     "name": "stderr",
     "output_type": "stream",
     "text": [
      "2540it [00:02, 1072.65it/s]\n"
     ]
    },
    {
     "name": "stdout",
     "output_type": "stream",
     "text": [
      "... 53 / 100\n",
      "tfrecord not exists\n",
      "---> /dataset/SIDD/small/tfrecords/sidd_small_train_254040_052.tfrecords\n"
     ]
    },
    {
     "name": "stderr",
     "output_type": "stream",
     "text": [
      "2540it [00:02, 1098.11it/s]\n"
     ]
    },
    {
     "name": "stdout",
     "output_type": "stream",
     "text": [
      "... 54 / 100\n",
      "tfrecord not exists\n",
      "---> /dataset/SIDD/small/tfrecords/sidd_small_train_254040_053.tfrecords\n"
     ]
    },
    {
     "name": "stderr",
     "output_type": "stream",
     "text": [
      "2540it [00:02, 1145.68it/s]\n"
     ]
    },
    {
     "name": "stdout",
     "output_type": "stream",
     "text": [
      "... 55 / 100\n",
      "tfrecord not exists\n",
      "---> /dataset/SIDD/small/tfrecords/sidd_small_train_254040_054.tfrecords\n"
     ]
    },
    {
     "name": "stderr",
     "output_type": "stream",
     "text": [
      "2540it [00:02, 1073.45it/s]\n"
     ]
    },
    {
     "name": "stdout",
     "output_type": "stream",
     "text": [
      "... 56 / 100\n",
      "tfrecord not exists\n",
      "---> /dataset/SIDD/small/tfrecords/sidd_small_train_254040_055.tfrecords\n"
     ]
    },
    {
     "name": "stderr",
     "output_type": "stream",
     "text": [
      "2540it [00:02, 1093.02it/s]\n"
     ]
    },
    {
     "name": "stdout",
     "output_type": "stream",
     "text": [
      "... 57 / 100\n",
      "tfrecord not exists\n",
      "---> /dataset/SIDD/small/tfrecords/sidd_small_train_254040_056.tfrecords\n"
     ]
    },
    {
     "name": "stderr",
     "output_type": "stream",
     "text": [
      "2540it [00:02, 1101.00it/s]\n"
     ]
    },
    {
     "name": "stdout",
     "output_type": "stream",
     "text": [
      "... 58 / 100\n",
      "tfrecord not exists\n",
      "---> /dataset/SIDD/small/tfrecords/sidd_small_train_254040_057.tfrecords\n"
     ]
    },
    {
     "name": "stderr",
     "output_type": "stream",
     "text": [
      "2540it [00:02, 1056.79it/s]\n"
     ]
    },
    {
     "name": "stdout",
     "output_type": "stream",
     "text": [
      "... 59 / 100\n",
      "tfrecord not exists\n",
      "---> /dataset/SIDD/small/tfrecords/sidd_small_train_254040_058.tfrecords\n"
     ]
    },
    {
     "name": "stderr",
     "output_type": "stream",
     "text": [
      "2540it [00:02, 1072.14it/s]\n"
     ]
    },
    {
     "name": "stdout",
     "output_type": "stream",
     "text": [
      "... 60 / 100\n",
      "tfrecord not exists\n",
      "---> /dataset/SIDD/small/tfrecords/sidd_small_train_254040_059.tfrecords\n"
     ]
    },
    {
     "name": "stderr",
     "output_type": "stream",
     "text": [
      "2540it [00:02, 1094.35it/s]\n"
     ]
    },
    {
     "name": "stdout",
     "output_type": "stream",
     "text": [
      "... 61 / 100\n",
      "tfrecord not exists\n",
      "---> /dataset/SIDD/small/tfrecords/sidd_small_train_254040_060.tfrecords\n"
     ]
    },
    {
     "name": "stderr",
     "output_type": "stream",
     "text": [
      "2540it [00:02, 1062.01it/s]\n"
     ]
    },
    {
     "name": "stdout",
     "output_type": "stream",
     "text": [
      "... 62 / 100\n",
      "tfrecord not exists\n",
      "---> /dataset/SIDD/small/tfrecords/sidd_small_train_254040_061.tfrecords\n"
     ]
    },
    {
     "name": "stderr",
     "output_type": "stream",
     "text": [
      "2540it [00:02, 1030.47it/s]\n"
     ]
    },
    {
     "name": "stdout",
     "output_type": "stream",
     "text": [
      "... 63 / 100\n",
      "tfrecord not exists\n",
      "---> /dataset/SIDD/small/tfrecords/sidd_small_train_254040_062.tfrecords\n"
     ]
    },
    {
     "name": "stderr",
     "output_type": "stream",
     "text": [
      "2540it [00:02, 1044.68it/s]\n"
     ]
    },
    {
     "name": "stdout",
     "output_type": "stream",
     "text": [
      "... 64 / 100\n",
      "tfrecord not exists\n",
      "---> /dataset/SIDD/small/tfrecords/sidd_small_train_254040_063.tfrecords\n"
     ]
    },
    {
     "name": "stderr",
     "output_type": "stream",
     "text": [
      "2540it [00:02, 1101.46it/s]\n"
     ]
    },
    {
     "name": "stdout",
     "output_type": "stream",
     "text": [
      "... 65 / 100\n",
      "tfrecord not exists\n",
      "---> /dataset/SIDD/small/tfrecords/sidd_small_train_254040_064.tfrecords\n"
     ]
    },
    {
     "name": "stderr",
     "output_type": "stream",
     "text": [
      "2540it [00:02, 1095.39it/s]\n"
     ]
    },
    {
     "name": "stdout",
     "output_type": "stream",
     "text": [
      "... 66 / 100\n",
      "tfrecord not exists\n",
      "---> /dataset/SIDD/small/tfrecords/sidd_small_train_254040_065.tfrecords\n"
     ]
    },
    {
     "name": "stderr",
     "output_type": "stream",
     "text": [
      "2540it [00:02, 1082.57it/s]\n"
     ]
    },
    {
     "name": "stdout",
     "output_type": "stream",
     "text": [
      "... 67 / 100\n",
      "tfrecord not exists\n",
      "---> /dataset/SIDD/small/tfrecords/sidd_small_train_254040_066.tfrecords\n"
     ]
    },
    {
     "name": "stderr",
     "output_type": "stream",
     "text": [
      "2540it [00:02, 1095.12it/s]\n"
     ]
    },
    {
     "name": "stdout",
     "output_type": "stream",
     "text": [
      "... 68 / 100\n",
      "tfrecord not exists\n",
      "---> /dataset/SIDD/small/tfrecords/sidd_small_train_254040_067.tfrecords\n"
     ]
    },
    {
     "name": "stderr",
     "output_type": "stream",
     "text": [
      "2540it [00:02, 1071.00it/s]\n"
     ]
    },
    {
     "name": "stdout",
     "output_type": "stream",
     "text": [
      "... 69 / 100\n",
      "tfrecord not exists\n",
      "---> /dataset/SIDD/small/tfrecords/sidd_small_train_254040_068.tfrecords\n"
     ]
    },
    {
     "name": "stderr",
     "output_type": "stream",
     "text": [
      "2540it [00:02, 1095.96it/s]\n"
     ]
    },
    {
     "name": "stdout",
     "output_type": "stream",
     "text": [
      "... 70 / 100\n",
      "tfrecord not exists\n",
      "---> /dataset/SIDD/small/tfrecords/sidd_small_train_254040_069.tfrecords\n"
     ]
    },
    {
     "name": "stderr",
     "output_type": "stream",
     "text": [
      "2540it [00:02, 1052.92it/s]\n"
     ]
    },
    {
     "name": "stdout",
     "output_type": "stream",
     "text": [
      "... 71 / 100\n",
      "tfrecord not exists\n",
      "---> /dataset/SIDD/small/tfrecords/sidd_small_train_254040_070.tfrecords\n"
     ]
    },
    {
     "name": "stderr",
     "output_type": "stream",
     "text": [
      "2540it [00:02, 1091.87it/s]\n"
     ]
    },
    {
     "name": "stdout",
     "output_type": "stream",
     "text": [
      "... 72 / 100\n",
      "tfrecord not exists\n",
      "---> /dataset/SIDD/small/tfrecords/sidd_small_train_254040_071.tfrecords\n"
     ]
    },
    {
     "name": "stderr",
     "output_type": "stream",
     "text": [
      "2540it [00:02, 1096.65it/s]\n"
     ]
    },
    {
     "name": "stdout",
     "output_type": "stream",
     "text": [
      "... 73 / 100\n",
      "tfrecord not exists\n",
      "---> /dataset/SIDD/small/tfrecords/sidd_small_train_254040_072.tfrecords\n"
     ]
    },
    {
     "name": "stderr",
     "output_type": "stream",
     "text": [
      "2540it [00:02, 1096.79it/s]\n"
     ]
    },
    {
     "name": "stdout",
     "output_type": "stream",
     "text": [
      "... 74 / 100\n",
      "tfrecord not exists\n",
      "---> /dataset/SIDD/small/tfrecords/sidd_small_train_254040_073.tfrecords\n"
     ]
    },
    {
     "name": "stderr",
     "output_type": "stream",
     "text": [
      "2540it [00:02, 1081.04it/s]\n"
     ]
    },
    {
     "name": "stdout",
     "output_type": "stream",
     "text": [
      "... 75 / 100\n",
      "tfrecord not exists\n",
      "---> /dataset/SIDD/small/tfrecords/sidd_small_train_254040_074.tfrecords\n"
     ]
    },
    {
     "name": "stderr",
     "output_type": "stream",
     "text": [
      "2540it [00:02, 1084.84it/s]\n"
     ]
    },
    {
     "name": "stdout",
     "output_type": "stream",
     "text": [
      "... 76 / 100\n",
      "tfrecord not exists\n",
      "---> /dataset/SIDD/small/tfrecords/sidd_small_train_254040_075.tfrecords\n"
     ]
    },
    {
     "name": "stderr",
     "output_type": "stream",
     "text": [
      "2540it [00:02, 1090.67it/s]\n"
     ]
    },
    {
     "name": "stdout",
     "output_type": "stream",
     "text": [
      "... 77 / 100\n",
      "tfrecord not exists\n",
      "---> /dataset/SIDD/small/tfrecords/sidd_small_train_254040_076.tfrecords\n"
     ]
    },
    {
     "name": "stderr",
     "output_type": "stream",
     "text": [
      "2540it [00:02, 1088.34it/s]\n"
     ]
    },
    {
     "name": "stdout",
     "output_type": "stream",
     "text": [
      "... 78 / 100\n",
      "tfrecord not exists\n",
      "---> /dataset/SIDD/small/tfrecords/sidd_small_train_254040_077.tfrecords\n"
     ]
    },
    {
     "name": "stderr",
     "output_type": "stream",
     "text": [
      "2540it [00:02, 1061.32it/s]\n"
     ]
    },
    {
     "name": "stdout",
     "output_type": "stream",
     "text": [
      "... 79 / 100\n",
      "tfrecord not exists\n",
      "---> /dataset/SIDD/small/tfrecords/sidd_small_train_254040_078.tfrecords\n"
     ]
    },
    {
     "name": "stderr",
     "output_type": "stream",
     "text": [
      "2540it [00:02, 1116.33it/s]\n"
     ]
    },
    {
     "name": "stdout",
     "output_type": "stream",
     "text": [
      "... 80 / 100\n",
      "tfrecord not exists\n",
      "---> /dataset/SIDD/small/tfrecords/sidd_small_train_254040_079.tfrecords\n"
     ]
    },
    {
     "name": "stderr",
     "output_type": "stream",
     "text": [
      "2540it [00:02, 1140.86it/s]\n"
     ]
    },
    {
     "name": "stdout",
     "output_type": "stream",
     "text": [
      "... 81 / 100\n",
      "tfrecord not exists\n",
      "---> /dataset/SIDD/small/tfrecords/sidd_small_train_254040_080.tfrecords\n"
     ]
    },
    {
     "name": "stderr",
     "output_type": "stream",
     "text": [
      "2540it [00:02, 1111.82it/s]\n"
     ]
    },
    {
     "name": "stdout",
     "output_type": "stream",
     "text": [
      "... 82 / 100\n",
      "tfrecord not exists\n",
      "---> /dataset/SIDD/small/tfrecords/sidd_small_train_254040_081.tfrecords\n"
     ]
    },
    {
     "name": "stderr",
     "output_type": "stream",
     "text": [
      "2540it [00:02, 1087.72it/s]\n"
     ]
    },
    {
     "name": "stdout",
     "output_type": "stream",
     "text": [
      "... 83 / 100\n",
      "tfrecord not exists\n",
      "---> /dataset/SIDD/small/tfrecords/sidd_small_train_254040_082.tfrecords\n"
     ]
    },
    {
     "name": "stderr",
     "output_type": "stream",
     "text": [
      "2540it [00:02, 1034.60it/s]\n"
     ]
    },
    {
     "name": "stdout",
     "output_type": "stream",
     "text": [
      "... 84 / 100\n",
      "tfrecord not exists\n",
      "---> /dataset/SIDD/small/tfrecords/sidd_small_train_254040_083.tfrecords\n"
     ]
    },
    {
     "name": "stderr",
     "output_type": "stream",
     "text": [
      "2540it [00:02, 1058.52it/s]\n"
     ]
    },
    {
     "name": "stdout",
     "output_type": "stream",
     "text": [
      "... 85 / 100\n",
      "tfrecord not exists\n",
      "---> /dataset/SIDD/small/tfrecords/sidd_small_train_254040_084.tfrecords\n"
     ]
    },
    {
     "name": "stderr",
     "output_type": "stream",
     "text": [
      "2540it [00:02, 1126.71it/s]\n"
     ]
    },
    {
     "name": "stdout",
     "output_type": "stream",
     "text": [
      "... 86 / 100\n",
      "tfrecord not exists\n",
      "---> /dataset/SIDD/small/tfrecords/sidd_small_train_254040_085.tfrecords\n"
     ]
    },
    {
     "name": "stderr",
     "output_type": "stream",
     "text": [
      "2540it [00:02, 1139.35it/s]\n"
     ]
    },
    {
     "name": "stdout",
     "output_type": "stream",
     "text": [
      "... 87 / 100\n",
      "tfrecord not exists\n",
      "---> /dataset/SIDD/small/tfrecords/sidd_small_train_254040_086.tfrecords\n"
     ]
    },
    {
     "name": "stderr",
     "output_type": "stream",
     "text": [
      "2540it [00:02, 1105.12it/s]\n"
     ]
    },
    {
     "name": "stdout",
     "output_type": "stream",
     "text": [
      "... 88 / 100\n",
      "tfrecord not exists\n",
      "---> /dataset/SIDD/small/tfrecords/sidd_small_train_254040_087.tfrecords\n"
     ]
    },
    {
     "name": "stderr",
     "output_type": "stream",
     "text": [
      "2540it [00:02, 1093.42it/s]\n"
     ]
    },
    {
     "name": "stdout",
     "output_type": "stream",
     "text": [
      "... 89 / 100\n",
      "tfrecord not exists\n",
      "---> /dataset/SIDD/small/tfrecords/sidd_small_train_254040_088.tfrecords\n"
     ]
    },
    {
     "name": "stderr",
     "output_type": "stream",
     "text": [
      "2540it [00:02, 1059.62it/s]\n"
     ]
    },
    {
     "name": "stdout",
     "output_type": "stream",
     "text": [
      "... 90 / 100\n",
      "tfrecord not exists\n",
      "---> /dataset/SIDD/small/tfrecords/sidd_small_train_254040_089.tfrecords\n"
     ]
    },
    {
     "name": "stderr",
     "output_type": "stream",
     "text": [
      "2540it [00:02, 1066.89it/s]\n"
     ]
    },
    {
     "name": "stdout",
     "output_type": "stream",
     "text": [
      "... 91 / 100\n",
      "tfrecord not exists\n",
      "---> /dataset/SIDD/small/tfrecords/sidd_small_train_254040_090.tfrecords\n"
     ]
    },
    {
     "name": "stderr",
     "output_type": "stream",
     "text": [
      "2540it [00:02, 1073.73it/s]\n"
     ]
    },
    {
     "name": "stdout",
     "output_type": "stream",
     "text": [
      "... 92 / 100\n",
      "tfrecord not exists\n",
      "---> /dataset/SIDD/small/tfrecords/sidd_small_train_254040_091.tfrecords\n"
     ]
    },
    {
     "name": "stderr",
     "output_type": "stream",
     "text": [
      "2540it [00:02, 1055.51it/s]\n"
     ]
    },
    {
     "name": "stdout",
     "output_type": "stream",
     "text": [
      "... 93 / 100\n",
      "tfrecord not exists\n",
      "---> /dataset/SIDD/small/tfrecords/sidd_small_train_254040_092.tfrecords\n"
     ]
    },
    {
     "name": "stderr",
     "output_type": "stream",
     "text": [
      "2540it [00:02, 1101.98it/s]\n"
     ]
    },
    {
     "name": "stdout",
     "output_type": "stream",
     "text": [
      "... 94 / 100\n",
      "tfrecord not exists\n",
      "---> /dataset/SIDD/small/tfrecords/sidd_small_train_254040_093.tfrecords\n"
     ]
    },
    {
     "name": "stderr",
     "output_type": "stream",
     "text": [
      "2540it [00:02, 1103.86it/s]\n"
     ]
    },
    {
     "name": "stdout",
     "output_type": "stream",
     "text": [
      "... 95 / 100\n",
      "tfrecord not exists\n",
      "---> /dataset/SIDD/small/tfrecords/sidd_small_train_254040_094.tfrecords\n"
     ]
    },
    {
     "name": "stderr",
     "output_type": "stream",
     "text": [
      "2540it [00:02, 1058.25it/s]\n"
     ]
    },
    {
     "name": "stdout",
     "output_type": "stream",
     "text": [
      "... 96 / 100\n",
      "tfrecord not exists\n",
      "---> /dataset/SIDD/small/tfrecords/sidd_small_train_254040_095.tfrecords\n"
     ]
    },
    {
     "name": "stderr",
     "output_type": "stream",
     "text": [
      "2540it [00:02, 1038.50it/s]\n"
     ]
    },
    {
     "name": "stdout",
     "output_type": "stream",
     "text": [
      "... 97 / 100\n",
      "tfrecord not exists\n",
      "---> /dataset/SIDD/small/tfrecords/sidd_small_train_254040_096.tfrecords\n"
     ]
    },
    {
     "name": "stderr",
     "output_type": "stream",
     "text": [
      "2540it [00:02, 1030.89it/s]\n"
     ]
    },
    {
     "name": "stdout",
     "output_type": "stream",
     "text": [
      "... 98 / 100\n",
      "tfrecord not exists\n",
      "---> /dataset/SIDD/small/tfrecords/sidd_small_train_254040_097.tfrecords\n"
     ]
    },
    {
     "name": "stderr",
     "output_type": "stream",
     "text": [
      "2540it [00:02, 1052.23it/s]\n"
     ]
    },
    {
     "name": "stdout",
     "output_type": "stream",
     "text": [
      "... 99 / 100\n",
      "tfrecord not exists\n",
      "---> /dataset/SIDD/small/tfrecords/sidd_small_train_254040_098.tfrecords\n"
     ]
    },
    {
     "name": "stderr",
     "output_type": "stream",
     "text": [
      "2540it [00:02, 1080.95it/s]\n"
     ]
    },
    {
     "name": "stdout",
     "output_type": "stream",
     "text": [
      "... 100 / 100\n",
      "tfrecord not exists\n",
      "---> /dataset/SIDD/small/tfrecords/sidd_small_train_254040_099.tfrecords\n"
     ]
    },
    {
     "name": "stderr",
     "output_type": "stream",
     "text": [
      "2580it [00:02, 1023.25it/s]"
     ]
    },
    {
     "name": "stdout",
     "output_type": "stream",
     "text": [
      "done make_tfrecords\n"
     ]
    },
    {
     "name": "stderr",
     "output_type": "stream",
     "text": [
      "\n"
     ]
    }
   ],
   "source": [
    "## make tfrecords\n",
    "output_path = '/dataset/SIDD/small/tfrecords'\n",
    "\n",
    "num_of_splits = 100\n",
    "make_tfrecords(flist={'raw':list_raw, 'srgb':list_srgb}, num_splits=num_of_splits, dataset_name='sidd_small_train_%d'%(len(list_raw)), output_path=output_path)"
   ]
  },
  {
   "cell_type": "code",
   "execution_count": null,
   "id": "5fb6edf3",
   "metadata": {},
   "outputs": [],
   "source": []
  },
  {
   "cell_type": "code",
   "execution_count": null,
   "id": "d64de96c",
   "metadata": {},
   "outputs": [],
   "source": []
  },
  {
   "cell_type": "code",
   "execution_count": null,
   "id": "101b4561",
   "metadata": {},
   "outputs": [],
   "source": []
  },
  {
   "cell_type": "code",
   "execution_count": null,
   "id": "940597f1",
   "metadata": {},
   "outputs": [],
   "source": []
  },
  {
   "cell_type": "code",
   "execution_count": null,
   "id": "74d4dbc4",
   "metadata": {},
   "outputs": [],
   "source": []
  },
  {
   "cell_type": "code",
   "execution_count": null,
   "id": "f9b4a0ba",
   "metadata": {},
   "outputs": [],
   "source": []
  },
  {
   "cell_type": "code",
   "execution_count": null,
   "id": "a07cfc4b",
   "metadata": {},
   "outputs": [],
   "source": []
  },
  {
   "cell_type": "code",
   "execution_count": null,
   "id": "f34af70c",
   "metadata": {},
   "outputs": [],
   "source": []
  },
  {
   "cell_type": "code",
   "execution_count": null,
   "id": "3e7d11d5",
   "metadata": {},
   "outputs": [],
   "source": []
  },
  {
   "cell_type": "code",
   "execution_count": null,
   "id": "6cd4daef",
   "metadata": {},
   "outputs": [],
   "source": []
  },
  {
   "cell_type": "code",
   "execution_count": null,
   "id": "eb721067",
   "metadata": {},
   "outputs": [],
   "source": []
  },
  {
   "cell_type": "code",
   "execution_count": null,
   "id": "46196369",
   "metadata": {},
   "outputs": [],
   "source": []
  },
  {
   "cell_type": "code",
   "execution_count": null,
   "id": "794b44f0",
   "metadata": {},
   "outputs": [],
   "source": []
  },
  {
   "cell_type": "code",
   "execution_count": null,
   "id": "704a6c21",
   "metadata": {},
   "outputs": [],
   "source": []
  },
  {
   "cell_type": "code",
   "execution_count": null,
   "id": "867cf586",
   "metadata": {},
   "outputs": [],
   "source": []
  },
  {
   "cell_type": "code",
   "execution_count": null,
   "id": "317e4b15",
   "metadata": {},
   "outputs": [],
   "source": []
  },
  {
   "cell_type": "code",
   "execution_count": null,
   "id": "1de2585f",
   "metadata": {},
   "outputs": [],
   "source": []
  }
 ],
 "metadata": {
  "kernelspec": {
   "display_name": "Python 3",
   "language": "python",
   "name": "python3"
  },
  "language_info": {
   "codemirror_mode": {
    "name": "ipython",
    "version": 3
   },
   "file_extension": ".py",
   "mimetype": "text/x-python",
   "name": "python",
   "nbconvert_exporter": "python",
   "pygments_lexer": "ipython3",
   "version": "3.8.10"
  },
  "varInspector": {
   "cols": {
    "lenName": 16,
    "lenType": 16,
    "lenVar": 40
   },
   "kernels_config": {
    "python": {
     "delete_cmd_postfix": "",
     "delete_cmd_prefix": "del ",
     "library": "var_list.py",
     "varRefreshCmd": "print(var_dic_list())"
    },
    "r": {
     "delete_cmd_postfix": ") ",
     "delete_cmd_prefix": "rm(",
     "library": "var_list.r",
     "varRefreshCmd": "cat(var_dic_list()) "
    }
   },
   "position": {
    "height": "656.844px",
    "left": "1524px",
    "right": "20px",
    "top": "120px",
    "width": "376px"
   },
   "types_to_exclude": [
    "module",
    "function",
    "builtin_function_or_method",
    "instance",
    "_Feature"
   ],
   "window_display": true
  }
 },
 "nbformat": 4,
 "nbformat_minor": 5
}
