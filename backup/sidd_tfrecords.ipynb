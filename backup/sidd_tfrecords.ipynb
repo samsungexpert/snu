{
 "cells": [
  {
   "cell_type": "code",
   "execution_count": 1,
   "id": "fdea97c5",
   "metadata": {
    "ExecuteTime": {
     "end_time": "2022-09-13T19:32:58.538461Z",
     "start_time": "2022-09-13T19:32:56.781223Z"
    }
   },
   "outputs": [],
   "source": [
    "import tensorflow as tf\n",
    "import numpy as np\n",
    "import PIL.Image as Image\n",
    "import matplotlib.pyplot as plt"
   ]
  },
  {
   "cell_type": "code",
   "execution_count": 2,
   "id": "70739a60",
   "metadata": {
    "ExecuteTime": {
     "end_time": "2022-09-13T19:32:59.321760Z",
     "start_time": "2022-09-13T19:32:59.264569Z"
    }
   },
   "outputs": [],
   "source": [
    "import os, glob\n",
    "import shutil\n",
    "import pathlib\n",
    "import scipy.io\n",
    "import mat73\n",
    "import tqdm\n",
    "import random"
   ]
  },
  {
   "cell_type": "code",
   "execution_count": 3,
   "id": "942cdd98",
   "metadata": {
    "ExecuteTime": {
     "end_time": "2022-09-13T19:33:00.147392Z",
     "start_time": "2022-09-13T19:33:00.140055Z"
    }
   },
   "outputs": [
    {
     "data": {
      "text/plain": [
       "'/data03/team01/sidd/medium'"
      ]
     },
     "execution_count": 3,
     "metadata": {},
     "output_type": "execute_result"
    }
   ],
   "source": [
    "%pwd"
   ]
  },
  {
   "cell_type": "code",
   "execution_count": 4,
   "id": "f9e569fc",
   "metadata": {
    "ExecuteTime": {
     "end_time": "2022-09-13T19:33:01.220811Z",
     "start_time": "2022-09-13T19:33:01.217776Z"
    }
   },
   "outputs": [],
   "source": [
    "# %mkdi"
   ]
  },
  {
   "cell_type": "code",
   "execution_count": 5,
   "id": "99f9ebbf",
   "metadata": {
    "ExecuteTime": {
     "end_time": "2022-09-13T19:33:02.488287Z",
     "start_time": "2022-09-13T19:33:01.880831Z"
    }
   },
   "outputs": [
    {
     "name": "stdout",
     "output_type": "stream",
     "text": [
      "total 484624\r\n",
      "drwxrwxr-x 12 1000 1000      4096 Sep 14 04:32  \u001b[0m\u001b[01;34m.\u001b[0m/\r\n",
      "drwxrwxr-x  5 1000 1000      4096 Sep  5 23:49  \u001b[01;34m..\u001b[0m/\r\n",
      "drwxr-xr-x  2 1000 1000      4096 Sep  7 13:54  \u001b[01;34m.ipynb_checkpoints\u001b[0m/\r\n",
      "-rw-rw-r--  1 1000 1000 259434382 Sep 12 01:18  BenchmarkNoisyBlocksRaw.mat\r\n",
      "-rw-rw-r--  1 1000 1000 231822939 Sep 12 01:18  BenchmarkNoisyBlocksSrgb.mat\r\n",
      "drwxrwxr-x 42 1000 1000      4096 Sep 12 01:15  \u001b[01;34mSIDD_Benchmark_Data\u001b[0m/\r\n",
      "drwxrwxr-x  3 1000 1000      4096 Sep  5 23:53  \u001b[01;34mSIDD_Medium_Raw\u001b[0m/\r\n",
      "drwxrwxr-x  3 1000 1000      4096 Sep  5 23:55  \u001b[01;34mSIDD_Medium_Srgb\u001b[0m/\r\n",
      "drwxrwxr-x  2 1000 1000      4096 Sep 12 02:36  \u001b[01;34mSIDD_Validation\u001b[0m/\r\n",
      "-rw-r--r--  1 1000 1000   4148569 Sep 13 16:53 'data extractor.ipynb'\r\n",
      "-rw-r--r--  1 1000 1000    555992 Sep  7 14:21  sidd_data_alnalysis.ipynb\r\n",
      "-rw-r--r--  1 1000 1000    200527 Sep 14 04:32  sidd_tfrecords.ipynb\r\n",
      "drwxrwxr-x  2 1000 1000      4096 Sep 14 04:32  \u001b[01;34mtfrecords\u001b[0m/\r\n",
      "drwxrwxr-x  2 1000 1000     32768 Sep 14 04:18  \u001b[01;34mtfrecords_cut\u001b[0m/\r\n",
      "drwxrwxr-x  4 1000 1000      4096 Sep  6 16:59  \u001b[01;34mtot\u001b[0m/\r\n",
      "drwxrwxr-x  2 1000 1000     12288 Sep 12 01:41  \u001b[01;34mtot_benchmark_cut\u001b[0m/\r\n",
      "drwxr-xr-x  4 1000 1000      4096 Sep  7 19:39  \u001b[01;34mtot_cut\u001b[0m/\r\n"
     ]
    }
   ],
   "source": [
    "%ls -la"
   ]
  },
  {
   "cell_type": "markdown",
   "id": "ad7eebfb",
   "metadata": {},
   "source": [
    "# 011"
   ]
  },
  {
   "cell_type": "code",
   "execution_count": 6,
   "id": "92f1f1b2",
   "metadata": {
    "ExecuteTime": {
     "end_time": "2022-09-13T19:33:06.316188Z",
     "start_time": "2022-09-13T19:33:06.303966Z"
    }
   },
   "outputs": [
    {
     "data": {
      "text/plain": [
       "1120"
      ]
     },
     "execution_count": 6,
     "metadata": {},
     "output_type": "execute_result"
    }
   ],
   "source": [
    "dir_name = 'tot_cut'\n",
    "files = glob.glob(os.path.join(dir_name, '011', '*'))\n",
    "len(files)"
   ]
  },
  {
   "cell_type": "code",
   "execution_count": 7,
   "id": "1e42972b",
   "metadata": {
    "ExecuteTime": {
     "end_time": "2022-09-13T19:33:08.618479Z",
     "start_time": "2022-09-13T19:33:08.606734Z"
    },
    "scrolled": true
   },
   "outputs": [
    {
     "data": {
      "text/plain": [
       "160"
      ]
     },
     "execution_count": 7,
     "metadata": {},
     "output_type": "execute_result"
    }
   ],
   "source": [
    "files.sort()\n",
    "files = [f for f in files if '.npy' in f or '.PNG' in f ]\n",
    "# for f in files:\n",
    "#     print(f)\n",
    "\n",
    "lenfiles = len(files) // 4\n",
    "\n",
    "orders = list(range(lenfiles))\n",
    "# random.shuffle(orders)\n",
    "len(orders)\n",
    "\n",
    "    \n",
    "\n",
    "    "
   ]
  },
  {
   "cell_type": "code",
   "execution_count": 8,
   "id": "9e9261f3",
   "metadata": {
    "ExecuteTime": {
     "end_time": "2022-09-13T19:33:10.676193Z",
     "start_time": "2022-09-13T19:33:10.662593Z"
    }
   },
   "outputs": [
    {
     "data": {
      "text/plain": [
       "[0,\n",
       " 1,\n",
       " 2,\n",
       " 3,\n",
       " 4,\n",
       " 5,\n",
       " 6,\n",
       " 7,\n",
       " 8,\n",
       " 9,\n",
       " 10,\n",
       " 11,\n",
       " 12,\n",
       " 13,\n",
       " 14,\n",
       " 15,\n",
       " 16,\n",
       " 17,\n",
       " 18,\n",
       " 19,\n",
       " 20,\n",
       " 21,\n",
       " 22,\n",
       " 23,\n",
       " 24,\n",
       " 25,\n",
       " 26,\n",
       " 27,\n",
       " 28,\n",
       " 29,\n",
       " 30,\n",
       " 31,\n",
       " 32,\n",
       " 33,\n",
       " 34,\n",
       " 35,\n",
       " 36,\n",
       " 37,\n",
       " 38,\n",
       " 39,\n",
       " 40,\n",
       " 41,\n",
       " 42,\n",
       " 43,\n",
       " 44,\n",
       " 45,\n",
       " 46,\n",
       " 47,\n",
       " 48,\n",
       " 49,\n",
       " 50,\n",
       " 51,\n",
       " 52,\n",
       " 53,\n",
       " 54,\n",
       " 55,\n",
       " 56,\n",
       " 57,\n",
       " 58,\n",
       " 59,\n",
       " 60,\n",
       " 61,\n",
       " 62,\n",
       " 63,\n",
       " 64,\n",
       " 65,\n",
       " 66,\n",
       " 67,\n",
       " 68,\n",
       " 69,\n",
       " 70,\n",
       " 71,\n",
       " 72,\n",
       " 73,\n",
       " 74,\n",
       " 75,\n",
       " 76,\n",
       " 77,\n",
       " 78,\n",
       " 79,\n",
       " 80,\n",
       " 81,\n",
       " 82,\n",
       " 83,\n",
       " 84,\n",
       " 85,\n",
       " 86,\n",
       " 87,\n",
       " 88,\n",
       " 89,\n",
       " 90,\n",
       " 91,\n",
       " 92,\n",
       " 93,\n",
       " 94,\n",
       " 95,\n",
       " 96,\n",
       " 97,\n",
       " 98,\n",
       " 99,\n",
       " 100,\n",
       " 101,\n",
       " 102,\n",
       " 103,\n",
       " 104,\n",
       " 105,\n",
       " 106,\n",
       " 107,\n",
       " 108,\n",
       " 109,\n",
       " 110,\n",
       " 111,\n",
       " 112,\n",
       " 113,\n",
       " 114,\n",
       " 115,\n",
       " 116,\n",
       " 117,\n",
       " 118,\n",
       " 119,\n",
       " 120,\n",
       " 121,\n",
       " 122,\n",
       " 123,\n",
       " 124,\n",
       " 125,\n",
       " 126,\n",
       " 127,\n",
       " 128,\n",
       " 129,\n",
       " 130,\n",
       " 131,\n",
       " 132,\n",
       " 133,\n",
       " 134,\n",
       " 135,\n",
       " 136,\n",
       " 137,\n",
       " 138,\n",
       " 139,\n",
       " 140,\n",
       " 141,\n",
       " 142,\n",
       " 143,\n",
       " 144,\n",
       " 145,\n",
       " 146,\n",
       " 147,\n",
       " 148,\n",
       " 149,\n",
       " 150,\n",
       " 151,\n",
       " 152,\n",
       " 153,\n",
       " 154,\n",
       " 155,\n",
       " 156,\n",
       " 157,\n",
       " 158,\n",
       " 159]"
      ]
     },
     "execution_count": 8,
     "metadata": {},
     "output_type": "execute_result"
    }
   ],
   "source": [
    "orders"
   ]
  },
  {
   "cell_type": "code",
   "execution_count": 9,
   "id": "db2f4460",
   "metadata": {
    "ExecuteTime": {
     "end_time": "2022-09-13T19:33:17.808729Z",
     "start_time": "2022-09-13T19:33:17.791161Z"
    }
   },
   "outputs": [],
   "source": [
    "\n",
    "def write_tfrecords(arr_x, arr_y, tag, idx_split, dataset_name, output_path, patch_size=128): \n",
    "    # tag: noisy_srgb, noisy_raw, gt_srgb, gt_raw\n",
    "\n",
    "\n",
    "    tfrecords_name = '%s_%s_%04d.tfrecords' % (dataset_name, tag, idx_split)\n",
    "    tfrecords_name = os.path.join(output_path, tfrecords_name)\n",
    "\n",
    "    if os.path.isfile(tfrecords_name):\n",
    "        print('OHNO -->. tfrecord (%s) exists' % tfrecords_name)\n",
    "#         return\n",
    "\n",
    "#     print('tfrecord not exists')\n",
    "#     print('--->', tfrecords_name)\n",
    "    \n",
    "    arr_x = arr_x[..., np.newaxis]\n",
    "    \n",
    "#     print(arr_x.shape, ' vs ', arr_y.shape)\n",
    "    assert len(arr_x.shape) == len(arr_y.shape)\n",
    "    \n",
    "    shape = arr_x.shape\n",
    "    \n",
    "    writer = tf.io.TFRecordWriter(tfrecords_name)\n",
    "    \n",
    "    cnt=0\n",
    "    \n",
    "    for idxy in range(0, shape[0]-patch_size, patch_size):\n",
    "        for idxx in range(0, shape[1]-patch_size, patch_size):\n",
    "            cnt+=1\n",
    "            \n",
    "            xp = arr_x[idxy:idxy+patch_size, idxx:idxx+patch_size,:]\n",
    "            yp = arr_y[idxy:idxy+patch_size, idxx:idxx+patch_size,:]\n",
    "            \n",
    "            example = tf.train.Example(\n",
    "                features=tf.train.Features(feature={\n",
    "                    'raw': tf.train.Feature(\n",
    "                            bytes_list=tf.train.BytesList(value=[xp.tostring()])\n",
    "                            ),\n",
    "                    'srgb': tf.train.Feature(\n",
    "                            bytes_list=tf.train.BytesList(value=[yp.tostring()])\n",
    "                            )\n",
    "                })\n",
    "            )\n",
    "    \n",
    "            writer.write(example.SerializeToString())\n",
    "    writer.close()\n",
    "    \n",
    "    return cnt\n",
    "\n",
    "     "
   ]
  },
  {
   "cell_type": "code",
   "execution_count": 10,
   "id": "a77da949",
   "metadata": {
    "ExecuteTime": {
     "end_time": "2022-09-13T19:38:17.837791Z",
     "start_time": "2022-09-13T19:33:21.745712Z"
    },
    "scrolled": false
   },
   "outputs": [
    {
     "name": "stderr",
     "output_type": "stream",
     "text": [
      "  0%|          | 0/160 [00:00<?, ?it/s]/usr/local/lib/python3.6/dist-packages/ipykernel_launcher.py:36: DeprecationWarning: tostring() is deprecated. Use tobytes() instead.\n",
      "/usr/local/lib/python3.6/dist-packages/ipykernel_launcher.py:39: DeprecationWarning: tostring() is deprecated. Use tobytes() instead.\n",
      "100%|██████████| 160/160 [04:56<00:00,  1.85s/it]"
     ]
    },
    {
     "name": "stdout",
     "output_type": "stream",
     "text": [
      "127020 127020\n"
     ]
    },
    {
     "name": "stderr",
     "output_type": "stream",
     "text": [
      "\n"
     ]
    }
   ],
   "source": [
    "\n",
    "cnt_g=0\n",
    "cnt_n=0\n",
    "for idx, order in  enumerate(tqdm.tqdm(orders)):\n",
    "#     print(idx+1 , '/' ,  len(orders))\n",
    "    \n",
    "    idx = order*4\n",
    "#     print(files[idx:idx+4])\n",
    "    fname_gt_raw     = files[idx]\n",
    "    fname_gt_srgb    = files[idx+1]\n",
    "    fname_noisy_raw  = files[idx+2]\n",
    "    fname_noisy_srgb = files[idx+3]\n",
    "    \n",
    "    gt_srgb    = Image.open(fname_gt_srgb)\n",
    "    noisy_srgb = Image.open(fname_noisy_srgb)\n",
    "    \n",
    "    \n",
    "    # convert as np array\n",
    "    arr_gt_srgb    = np.array(gt_srgb)\n",
    "    arr_gt_raw     = np.load(fname_gt_raw)\n",
    "    arr_noisy_srgb = np.array(noisy_srgb)\n",
    "    arr_noisy_raw  = np.load(fname_noisy_raw)\n",
    "    \n",
    "    # quantize to 16 bits\n",
    "    arr_gt_raw = arr_gt_raw * (2**16 - 1)\n",
    "    arr_gt_raw = arr_gt_raw.astype(np.uint16)\n",
    "    \n",
    "    arr_noisy_raw = arr_noisy_raw * (2**16 - 1)\n",
    "    arr_noisy_raw = arr_noisy_raw.astype(np.uint16)\n",
    "    \n",
    "    \n",
    "    # make all bayer patterns to GRBG\n",
    "    \n",
    "    tag = '-_-'\n",
    "    if '_S6' in fname_gt_raw:\n",
    "        tag = 'S6'\n",
    "        pass\n",
    "    elif '_IP' in fname_gt_raw:\n",
    "        tag = 'IP'\n",
    "        arr_gt_srgb    = arr_gt_srgb[:, 1:-1]\n",
    "        arr_gt_raw     = arr_gt_raw[:, 1:-1]\n",
    "        arr_noisy_srgb = arr_noisy_srgb[:, 1:-1]\n",
    "        arr_noisy_raw  = arr_noisy_raw[:, 1:-1]\n",
    "    elif '_GP' in fname_gt_raw:\n",
    "        tag = 'GP'\n",
    "        arr_gt_srgb    = arr_gt_srgb[1:-1, :]\n",
    "        arr_gt_raw     = arr_gt_raw[1:-1, :]\n",
    "        arr_noisy_srgb = arr_noisy_srgb[1:-1, :]\n",
    "        arr_noisy_raw  = arr_noisy_raw[1:-1, :]\n",
    "    elif '_N6' in fname_gt_raw:\n",
    "        tag = 'N6'\n",
    "        arr_gt_srgb    = arr_gt_srgb[1:-1, :]\n",
    "        arr_gt_raw     = arr_gt_raw[1:-1, :]\n",
    "        arr_noisy_srgb = arr_noisy_srgb[1:-1, :]\n",
    "        arr_noisy_raw  = arr_noisy_raw[1:-1, :]\n",
    "    elif '_G4' in fname_gt_raw:\n",
    "        tag = 'G4'\n",
    "        arr_gt_srgb    = arr_gt_srgb[1:-1, :]\n",
    "        arr_gt_raw     = arr_gt_raw[1:-1, :]\n",
    "        arr_noisy_srgb = arr_noisy_srgb[1:-1, :]\n",
    "        arr_noisy_raw  = arr_noisy_raw[1:-1, :]\n",
    "    else:\n",
    "        print('unknown class')\n",
    "        break\n",
    "    \n",
    "    \n",
    "    # name\n",
    "    num = files[idx].split('/')[-1]\n",
    "#     print(num[:4])\n",
    "    \n",
    "    cnt_g += write_tfrecords(arr_x=arr_gt_raw, arr_y=arr_gt_srgb, tag='gt', idx_split=int(num[:4]), \n",
    "                    dataset_name='sidd_train_medium_'+tag, output_path='tfrecords')\n",
    "    \n",
    "    cnt_n += write_tfrecords(arr_x=arr_noisy_raw, arr_y=arr_noisy_srgb, tag='noisy', idx_split=int(num[:4]), \n",
    "                    dataset_name='sidd_train_medium_'+tag, output_path='tfrecords')\n",
    " \n",
    "    \n",
    "#     print(idx, \" > \", np.amin(arr_gt_srgb), np.amax(arr_gt_srgb),       arr_gt_srgb.shape)\n",
    "#     print(idx, \" > \", np.amin(arr_gt_raw),  np.amax(arr_gt_raw),        arr_gt_raw.shape, np.unique(arr_gt_raw).shape)\n",
    "#     print(idx, \" > \", np.amin(arr_noisy_srgb), np.amax(arr_noisy_srgb), arr_noisy_srgb.shape)\n",
    "#     print(idx, \" > \", np.amin(arr_noisy_raw), np.amax(arr_noisy_raw),   arr_noisy_raw.shape, np.unique(arr_noisy_raw).shape)\n",
    "    \n",
    "      \n",
    "    \n",
    "#     break\n",
    "\n",
    "print(cnt_g, cnt_n)"
   ]
  },
  {
   "cell_type": "code",
   "execution_count": null,
   "id": "ca2d5a68",
   "metadata": {},
   "outputs": [],
   "source": []
  },
  {
   "cell_type": "code",
   "execution_count": 10,
   "id": "50317d40",
   "metadata": {
    "ExecuteTime": {
     "end_time": "2022-09-11T12:37:39.732296Z",
     "start_time": "2022-09-11T12:37:39.125141Z"
    }
   },
   "outputs": [
    {
     "name": "stdout",
     "output_type": "stream",
     "text": [
      " \u001b[0m\u001b[01;34mSIDD_Medium_Raw\u001b[0m/        sidd_data_alnalysis.ipynb   \u001b[01;34mtfrecords_cut\u001b[0m/\r\n",
      " \u001b[01;34mSIDD_Medium_Srgb\u001b[0m/       sidd_tfrecords.ipynb        \u001b[01;34mtot\u001b[0m/\r\n",
      "'data extractor.ipynb'   \u001b[01;34mtfrecords\u001b[0m/                  \u001b[01;34mtot_cut\u001b[0m/\r\n"
     ]
    }
   ],
   "source": [
    "%ls"
   ]
  },
  {
   "cell_type": "code",
   "execution_count": 39,
   "id": "9420a187",
   "metadata": {
    "ExecuteTime": {
     "end_time": "2022-09-06T16:51:55.131035Z",
     "start_time": "2022-09-06T16:51:52.841152Z"
    }
   },
   "outputs": [],
   "source": []
  },
  {
   "cell_type": "code",
   "execution_count": null,
   "id": "441b03c5",
   "metadata": {},
   "outputs": [],
   "source": []
  },
  {
   "cell_type": "code",
   "execution_count": 12,
   "id": "139b5ba4",
   "metadata": {
    "ExecuteTime": {
     "end_time": "2022-09-07T10:54:44.246864Z",
     "start_time": "2022-09-07T10:54:44.236997Z"
    }
   },
   "outputs": [
    {
     "data": {
      "text/plain": [
       "array([[ 0,  1,  2,  3],\n",
       "       [ 4,  5,  6,  7],\n",
       "       [ 8,  9, 10, 11],\n",
       "       [12, 13, 14, 15]])"
      ]
     },
     "execution_count": 12,
     "metadata": {},
     "output_type": "execute_result"
    }
   ],
   "source": [
    "a = np.arange(16).reshape(4,4)\n",
    "a"
   ]
  },
  {
   "cell_type": "code",
   "execution_count": 13,
   "id": "3cdb4314",
   "metadata": {
    "ExecuteTime": {
     "end_time": "2022-09-07T10:55:23.315637Z",
     "start_time": "2022-09-07T10:55:23.307436Z"
    }
   },
   "outputs": [
    {
     "data": {
      "text/plain": [
       "array([[ 1,  2],\n",
       "       [ 5,  6],\n",
       "       [ 9, 10],\n",
       "       [13, 14]])"
      ]
     },
     "execution_count": 13,
     "metadata": {},
     "output_type": "execute_result"
    }
   ],
   "source": [
    "a[:, 1:-1]"
   ]
  },
  {
   "cell_type": "code",
   "execution_count": 14,
   "id": "782d0cf1",
   "metadata": {
    "ExecuteTime": {
     "end_time": "2022-09-07T10:59:05.188115Z",
     "start_time": "2022-09-07T10:59:05.176603Z"
    }
   },
   "outputs": [
    {
     "data": {
      "text/plain": [
       "array([[ 4,  5,  6,  7],\n",
       "       [ 8,  9, 10, 11]])"
      ]
     },
     "execution_count": 14,
     "metadata": {},
     "output_type": "execute_result"
    }
   ],
   "source": [
    "a[1:-1, :]"
   ]
  },
  {
   "cell_type": "markdown",
   "id": "585bede9",
   "metadata": {},
   "source": [
    "# Benchmark"
   ]
  },
  {
   "cell_type": "code",
   "execution_count": 11,
   "id": "ebd313f5",
   "metadata": {
    "ExecuteTime": {
     "end_time": "2022-09-13T19:39:12.346113Z",
     "start_time": "2022-09-13T19:39:12.334952Z"
    }
   },
   "outputs": [
    {
     "data": {
      "text/plain": [
       "120"
      ]
     },
     "execution_count": 11,
     "metadata": {},
     "output_type": "execute_result"
    }
   ],
   "source": [
    "dir_name = 'tot_benchmark_cut'\n",
    "files = glob.glob(os.path.join(dir_name, '*'))\n",
    "len(files)"
   ]
  },
  {
   "cell_type": "code",
   "execution_count": 12,
   "id": "5ff5034e",
   "metadata": {
    "ExecuteTime": {
     "end_time": "2022-09-13T19:39:13.927854Z",
     "start_time": "2022-09-13T19:39:13.918907Z"
    }
   },
   "outputs": [
    {
     "name": "stdout",
     "output_type": "stream",
     "text": [
      "40\n"
     ]
    }
   ],
   "source": [
    "files.sort()\n",
    "files = [f for f in files if '.npy' in f or '.PNG' in f ]\n",
    "# for f in files:\n",
    "#     print(f)\n",
    "\n",
    "lenfiles = len(files) // 2\n",
    "\n",
    "orders = list(range(lenfiles))\n",
    "# random.shuffle(orders)\n",
    "# for f in files:\n",
    "#     print(f)\n",
    "print(len(orders))"
   ]
  },
  {
   "cell_type": "code",
   "execution_count": 13,
   "id": "f784d535",
   "metadata": {
    "ExecuteTime": {
     "end_time": "2022-09-13T19:39:16.167998Z",
     "start_time": "2022-09-13T19:39:16.155081Z"
    },
    "scrolled": true
   },
   "outputs": [
    {
     "name": "stdout",
     "output_type": "stream",
     "text": [
      "0 1 2 3 4 5 6 7 8 9 10 11 12 13 14 15 16 17 18 19 20 21 22 23 24 25 26 27 28 29 30 31 32 33 34 35 36 37 38 39 "
     ]
    }
   ],
   "source": [
    "for o in orders:\n",
    "    print(o, end=' ')"
   ]
  },
  {
   "cell_type": "code",
   "execution_count": 15,
   "id": "992618ae",
   "metadata": {
    "ExecuteTime": {
     "end_time": "2022-09-13T19:42:52.223193Z",
     "start_time": "2022-09-13T19:42:15.882890Z"
    }
   },
   "outputs": [
    {
     "name": "stderr",
     "output_type": "stream",
     "text": [
      "  0%|          | 0/40 [00:00<?, ?it/s]/usr/local/lib/python3.6/dist-packages/ipykernel_launcher.py:36: DeprecationWarning: tostring() is deprecated. Use tobytes() instead.\n",
      "/usr/local/lib/python3.6/dist-packages/ipykernel_launcher.py:39: DeprecationWarning: tostring() is deprecated. Use tobytes() instead.\n",
      "100%|██████████| 40/40 [00:36<00:00,  1.10it/s]"
     ]
    },
    {
     "name": "stdout",
     "output_type": "stream",
     "text": [
      "32640\n"
     ]
    },
    {
     "name": "stderr",
     "output_type": "stream",
     "text": [
      "\n"
     ]
    }
   ],
   "source": [
    "vcnt = 0\n",
    "for idx, order in enumerate(tqdm.tqdm(orders)):\n",
    "#     print(idx+1 , '/' ,  len(orders))\n",
    "    \n",
    "    idx = order*2\n",
    "#     print(files[idx:idx+4])\n",
    "    fname_noisy_raw  = files[idx]\n",
    "    fname_noisy_srgb = files[idx+1]\n",
    "    \n",
    "    noisy_srgb = Image.open(fname_noisy_srgb)\n",
    "    \n",
    "    \n",
    "    # convert as np array\n",
    "    arr_noisy_srgb = np.array(noisy_srgb)\n",
    "    arr_noisy_raw  = np.load(fname_noisy_raw)\n",
    "    \n",
    "    # quantize to 16 bits\n",
    "    arr_noisy_raw = arr_noisy_raw * (2**16 - 1)\n",
    "    arr_noisy_raw = arr_noisy_raw.astype(np.uint16)\n",
    "    \n",
    "    \n",
    "    # make all bayer patterns to GRBG\n",
    "    tag = '-_-'\n",
    "    if '_S6' in fname_noisy_raw:\n",
    "        tag = 'S6'\n",
    "        pass\n",
    "    elif '_IP' in fname_noisy_raw:\n",
    "        tag = 'IP'\n",
    "        arr_noisy_srgb = arr_noisy_srgb[:, 1:-1]\n",
    "        arr_noisy_raw  = arr_noisy_raw[:, 1:-1]\n",
    "    elif '_GP' in fname_noisy_raw:\n",
    "        tag = 'GP'\n",
    "        arr_noisy_srgb = arr_noisy_srgb[1:-1, :]\n",
    "        arr_noisy_raw  = arr_noisy_raw[1:-1, :]\n",
    "    elif '_N6' in fname_noisy_raw:\n",
    "        tag = 'N6'\n",
    "        arr_noisy_srgb = arr_noisy_srgb[1:-1, :]\n",
    "        arr_noisy_raw  = arr_noisy_raw[1:-1, :]\n",
    "    elif '_G4' in fname_noisy_raw:\n",
    "        tag = 'G4'\n",
    "        arr_noisy_srgb = arr_noisy_srgb[1:-1, :]\n",
    "        arr_noisy_raw  = arr_noisy_raw[1:-1, :]\n",
    "    else:\n",
    "        print('unknown class')\n",
    "        break\n",
    "    \n",
    "    \n",
    "    # name\n",
    "    num = files[idx].split('/')[-1]\n",
    "#     print(num[:4])\n",
    "    \n",
    "#     write_tfrecords(arr_x=arr_gt_raw, arr_y=arr_gt_srgb, tag='gt', idx_split=int(num[:4]), \n",
    "#                     dataset_name='sidd_medium_'+tag, output_path='tfrecords_cut')\n",
    "    \n",
    "    vcnt += write_tfrecords(arr_x=arr_noisy_raw, arr_y=arr_noisy_srgb, tag='noisy', idx_split=int(num[:4]), \n",
    "                    dataset_name='sidd_test_medium_'+tag, output_path='tfrecords')\n",
    " \n",
    "    \n",
    "#     print(idx, \" > \", np.amin(arr_gt_srgb), np.amax(arr_gt_srgb),       arr_gt_srgb.shape)\n",
    "#     print(idx, \" > \", np.amin(arr_gt_raw),  np.amax(arr_gt_raw),        arr_gt_raw.shape, np.unique(arr_gt_raw).shape)\n",
    "#     print(idx, \" > \", np.amin(arr_noisy_srgb), np.amax(arr_noisy_srgb), arr_noisy_srgb.shape)\n",
    "#     print(idx, \" > \", np.amin(arr_noisy_raw), np.amax(arr_noisy_raw),   arr_noisy_raw.shape, np.unique(arr_noisy_raw).shape)\n",
    "    \n",
    "      \n",
    "print(vcnt)\n",
    "#     break"
   ]
  },
  {
   "cell_type": "code",
   "execution_count": null,
   "id": "2a9c405e",
   "metadata": {},
   "outputs": [],
   "source": []
  },
  {
   "cell_type": "code",
   "execution_count": null,
   "id": "2f92d525",
   "metadata": {},
   "outputs": [],
   "source": []
  },
  {
   "cell_type": "markdown",
   "id": "43d4d22d",
   "metadata": {},
   "source": [
    "# Viz"
   ]
  },
  {
   "cell_type": "code",
   "execution_count": 28,
   "id": "994eb4f3",
   "metadata": {
    "ExecuteTime": {
     "end_time": "2022-09-14T16:34:41.478845Z",
     "start_time": "2022-09-14T16:34:41.469257Z"
    }
   },
   "outputs": [
    {
     "data": {
      "text/plain": [
       "120"
      ]
     },
     "execution_count": 28,
     "metadata": {},
     "output_type": "execute_result"
    }
   ],
   "source": [
    "dir_name = 'tot_benchmark_cut'\n",
    "files = glob.glob(os.path.join(dir_name, '*'))\n",
    "files.sort()\n",
    "len(files)"
   ]
  },
  {
   "cell_type": "code",
   "execution_count": 29,
   "id": "116c5412",
   "metadata": {
    "ExecuteTime": {
     "end_time": "2022-09-14T16:34:42.689838Z",
     "start_time": "2022-09-14T16:34:42.680106Z"
    },
    "scrolled": false
   },
   "outputs": [
    {
     "data": {
      "text/plain": [
       "['tot_benchmark_cut/0009_NOISY_RAW_010_S6.MAT',\n",
       " 'tot_benchmark_cut/0009_NOISY_RAW_010_S6_3000x5328.npy',\n",
       " 'tot_benchmark_cut/0009_NOISY_SRGB_010_S6.PNG',\n",
       " 'tot_benchmark_cut/0021_NOISY_RAW_010_GP.MAT',\n",
       " 'tot_benchmark_cut/0021_NOISY_RAW_010_GP_3044x4048.npy',\n",
       " 'tot_benchmark_cut/0021_NOISY_SRGB_010_GP.PNG',\n",
       " 'tot_benchmark_cut/0024_NOISY_RAW_010_N6.MAT',\n",
       " 'tot_benchmark_cut/0024_NOISY_RAW_010_N6_3120x4208.npy',\n",
       " 'tot_benchmark_cut/0024_NOISY_SRGB_010_N6.PNG',\n",
       " 'tot_benchmark_cut/0026_NOISY_RAW_010_G4.MAT',\n",
       " 'tot_benchmark_cut/0026_NOISY_RAW_010_G4_2988x5312.npy',\n",
       " 'tot_benchmark_cut/0026_NOISY_SRGB_010_G4.PNG',\n",
       " 'tot_benchmark_cut/0031_NOISY_RAW_010_IP.MAT',\n",
       " 'tot_benchmark_cut/0031_NOISY_RAW_010_IP_3024x4032.npy',\n",
       " 'tot_benchmark_cut/0031_NOISY_SRGB_010_IP.PNG',\n",
       " 'tot_benchmark_cut/0037_NOISY_RAW_010_GP.MAT',\n",
       " 'tot_benchmark_cut/0037_NOISY_RAW_010_GP_3044x4048.npy',\n",
       " 'tot_benchmark_cut/0037_NOISY_SRGB_010_GP.PNG',\n",
       " 'tot_benchmark_cut/0041_NOISY_RAW_010_IP.MAT',\n",
       " 'tot_benchmark_cut/0041_NOISY_RAW_010_IP_3024x4032.npy',\n",
       " 'tot_benchmark_cut/0041_NOISY_SRGB_010_IP.PNG',\n",
       " 'tot_benchmark_cut/0046_NOISY_RAW_010_G4.MAT',\n",
       " 'tot_benchmark_cut/0046_NOISY_RAW_010_G4_2988x5312.npy',\n",
       " 'tot_benchmark_cut/0046_NOISY_SRGB_010_G4.PNG',\n",
       " 'tot_benchmark_cut/0049_NOISY_RAW_010_N6.MAT',\n",
       " 'tot_benchmark_cut/0049_NOISY_RAW_010_N6_3120x4208.npy',\n",
       " 'tot_benchmark_cut/0049_NOISY_SRGB_010_N6.PNG',\n",
       " 'tot_benchmark_cut/0053_NOISY_RAW_010_S6.MAT',\n",
       " 'tot_benchmark_cut/0053_NOISY_RAW_010_S6_3000x5328.npy',\n",
       " 'tot_benchmark_cut/0053_NOISY_SRGB_010_S6.PNG',\n",
       " 'tot_benchmark_cut/0056_NOISY_RAW_010_N6.MAT',\n",
       " 'tot_benchmark_cut/0056_NOISY_RAW_010_N6_3120x4208.npy',\n",
       " 'tot_benchmark_cut/0056_NOISY_SRGB_010_N6.PNG',\n",
       " 'tot_benchmark_cut/0058_NOISY_RAW_010_G4.MAT',\n",
       " 'tot_benchmark_cut/0058_NOISY_RAW_010_G4_2988x5312.npy',\n",
       " 'tot_benchmark_cut/0058_NOISY_SRGB_010_G4.PNG',\n",
       " 'tot_benchmark_cut/0061_NOISY_RAW_010_S6.MAT',\n",
       " 'tot_benchmark_cut/0061_NOISY_RAW_010_S6_3000x5328.npy',\n",
       " 'tot_benchmark_cut/0061_NOISY_SRGB_010_S6.PNG',\n",
       " 'tot_benchmark_cut/0067_NOISY_RAW_010_GP.MAT',\n",
       " 'tot_benchmark_cut/0067_NOISY_RAW_010_GP_3044x4048.npy',\n",
       " 'tot_benchmark_cut/0067_NOISY_SRGB_010_GP.PNG',\n",
       " 'tot_benchmark_cut/0071_NOISY_RAW_010_IP.MAT',\n",
       " 'tot_benchmark_cut/0071_NOISY_RAW_010_IP_3024x4032.npy',\n",
       " 'tot_benchmark_cut/0071_NOISY_SRGB_010_IP.PNG',\n",
       " 'tot_benchmark_cut/0074_NOISY_RAW_010_N6.MAT',\n",
       " 'tot_benchmark_cut/0074_NOISY_RAW_010_N6_3120x4208.npy',\n",
       " 'tot_benchmark_cut/0074_NOISY_SRGB_010_N6.PNG',\n",
       " 'tot_benchmark_cut/0079_NOISY_RAW_010_G4.MAT',\n",
       " 'tot_benchmark_cut/0079_NOISY_RAW_010_G4_2988x5312.npy',\n",
       " 'tot_benchmark_cut/0079_NOISY_SRGB_010_G4.PNG',\n",
       " 'tot_benchmark_cut/0082_NOISY_RAW_010_S6.MAT',\n",
       " 'tot_benchmark_cut/0082_NOISY_RAW_010_S6_3000x5328.npy',\n",
       " 'tot_benchmark_cut/0082_NOISY_SRGB_010_S6.PNG',\n",
       " 'tot_benchmark_cut/0085_NOISY_RAW_010_GP.MAT',\n",
       " 'tot_benchmark_cut/0085_NOISY_RAW_010_GP_3044x4048.npy',\n",
       " 'tot_benchmark_cut/0085_NOISY_SRGB_010_GP.PNG',\n",
       " 'tot_benchmark_cut/0093_NOISY_RAW_010_IP.MAT',\n",
       " 'tot_benchmark_cut/0093_NOISY_RAW_010_IP_3024x4032.npy',\n",
       " 'tot_benchmark_cut/0093_NOISY_SRGB_010_IP.PNG',\n",
       " 'tot_benchmark_cut/0095_NOISY_RAW_010_N6.MAT',\n",
       " 'tot_benchmark_cut/0095_NOISY_RAW_010_N6_3120x4208.npy',\n",
       " 'tot_benchmark_cut/0095_NOISY_SRGB_010_N6.PNG',\n",
       " 'tot_benchmark_cut/0100_NOISY_RAW_010_G4.MAT',\n",
       " 'tot_benchmark_cut/0100_NOISY_RAW_010_G4_2988x5312.npy',\n",
       " 'tot_benchmark_cut/0100_NOISY_SRGB_010_G4.PNG',\n",
       " 'tot_benchmark_cut/0103_NOISY_RAW_010_S6.MAT',\n",
       " 'tot_benchmark_cut/0103_NOISY_RAW_010_S6_3000x5328.npy',\n",
       " 'tot_benchmark_cut/0103_NOISY_SRGB_010_S6.PNG',\n",
       " 'tot_benchmark_cut/0109_NOISY_RAW_010_GP.MAT',\n",
       " 'tot_benchmark_cut/0109_NOISY_RAW_010_GP_3044x4048.npy',\n",
       " 'tot_benchmark_cut/0109_NOISY_SRGB_010_GP.PNG',\n",
       " 'tot_benchmark_cut/0112_NOISY_RAW_010_IP.MAT',\n",
       " 'tot_benchmark_cut/0112_NOISY_RAW_010_IP_3024x4032.npy',\n",
       " 'tot_benchmark_cut/0112_NOISY_SRGB_010_IP.PNG',\n",
       " 'tot_benchmark_cut/0119_NOISY_RAW_010_N6.MAT',\n",
       " 'tot_benchmark_cut/0119_NOISY_RAW_010_N6_3120x4208.npy',\n",
       " 'tot_benchmark_cut/0119_NOISY_SRGB_010_N6.PNG',\n",
       " 'tot_benchmark_cut/0124_NOISY_RAW_010_G4.MAT',\n",
       " 'tot_benchmark_cut/0124_NOISY_RAW_010_G4_2988x5312.npy',\n",
       " 'tot_benchmark_cut/0124_NOISY_SRGB_010_G4.PNG',\n",
       " 'tot_benchmark_cut/0128_NOISY_RAW_010_S6.MAT',\n",
       " 'tot_benchmark_cut/0128_NOISY_RAW_010_S6_3000x5328.npy',\n",
       " 'tot_benchmark_cut/0128_NOISY_SRGB_010_S6.PNG',\n",
       " 'tot_benchmark_cut/0131_NOISY_RAW_010_GP.MAT',\n",
       " 'tot_benchmark_cut/0131_NOISY_RAW_010_GP_3044x4048.npy',\n",
       " 'tot_benchmark_cut/0131_NOISY_SRGB_010_GP.PNG',\n",
       " 'tot_benchmark_cut/0141_NOISY_RAW_010_IP.MAT',\n",
       " 'tot_benchmark_cut/0141_NOISY_RAW_010_IP_3024x4032.npy',\n",
       " 'tot_benchmark_cut/0141_NOISY_SRGB_010_IP.PNG',\n",
       " 'tot_benchmark_cut/0143_NOISY_RAW_010_N6.MAT',\n",
       " 'tot_benchmark_cut/0143_NOISY_RAW_010_N6_3120x4208.npy',\n",
       " 'tot_benchmark_cut/0143_NOISY_SRGB_010_N6.PNG',\n",
       " 'tot_benchmark_cut/0148_NOISY_RAW_010_G4.MAT',\n",
       " 'tot_benchmark_cut/0148_NOISY_RAW_010_G4_2988x5312.npy',\n",
       " 'tot_benchmark_cut/0148_NOISY_SRGB_010_G4.PNG',\n",
       " 'tot_benchmark_cut/0153_NOISY_RAW_010_S6.MAT',\n",
       " 'tot_benchmark_cut/0153_NOISY_RAW_010_S6_3000x5328.npy',\n",
       " 'tot_benchmark_cut/0153_NOISY_SRGB_010_S6.PNG',\n",
       " 'tot_benchmark_cut/0158_NOISY_RAW_010_GP.MAT',\n",
       " 'tot_benchmark_cut/0158_NOISY_RAW_010_GP_3044x4048.npy',\n",
       " 'tot_benchmark_cut/0158_NOISY_SRGB_010_GP.PNG',\n",
       " 'tot_benchmark_cut/0162_NOISY_RAW_010_IP.MAT',\n",
       " 'tot_benchmark_cut/0162_NOISY_RAW_010_IP_3024x4032.npy',\n",
       " 'tot_benchmark_cut/0162_NOISY_SRGB_010_IP.PNG',\n",
       " 'tot_benchmark_cut/0171_NOISY_RAW_010_N6.MAT',\n",
       " 'tot_benchmark_cut/0171_NOISY_RAW_010_N6_3120x4208.npy',\n",
       " 'tot_benchmark_cut/0171_NOISY_SRGB_010_N6.PNG',\n",
       " 'tot_benchmark_cut/0174_NOISY_RAW_010_G4.MAT',\n",
       " 'tot_benchmark_cut/0174_NOISY_RAW_010_G4_2988x5312.npy',\n",
       " 'tot_benchmark_cut/0174_NOISY_SRGB_010_G4.PNG',\n",
       " 'tot_benchmark_cut/0176_NOISY_RAW_010_S6.MAT',\n",
       " 'tot_benchmark_cut/0176_NOISY_RAW_010_S6_3000x5328.npy',\n",
       " 'tot_benchmark_cut/0176_NOISY_SRGB_010_S6.PNG',\n",
       " 'tot_benchmark_cut/0183_NOISY_RAW_010_GP.MAT',\n",
       " 'tot_benchmark_cut/0183_NOISY_RAW_010_GP_3044x4048.npy',\n",
       " 'tot_benchmark_cut/0183_NOISY_SRGB_010_GP.PNG',\n",
       " 'tot_benchmark_cut/0187_NOISY_RAW_010_IP.MAT',\n",
       " 'tot_benchmark_cut/0187_NOISY_RAW_010_IP_3024x4032.npy',\n",
       " 'tot_benchmark_cut/0187_NOISY_SRGB_010_IP.PNG']"
      ]
     },
     "execution_count": 29,
     "metadata": {},
     "output_type": "execute_result"
    }
   ],
   "source": [
    "files"
   ]
  },
  {
   "cell_type": "code",
   "execution_count": 23,
   "id": "06d9dc42",
   "metadata": {
    "ExecuteTime": {
     "end_time": "2022-09-14T16:33:34.569761Z",
     "start_time": "2022-09-14T16:33:34.561590Z"
    }
   },
   "outputs": [
    {
     "name": "stdout",
     "output_type": "stream",
     "text": [
      "5\n"
     ]
    }
   ],
   "source": [
    "files.sort()\n",
    "files = [f for f in files if '.npy' in f or '.PNG' in f ]\n",
    "# for f in files:\n",
    "#     print(f)\n",
    "\n",
    "files = files[:10]\n",
    "\n",
    "lenfiles = len(files) // 2\n",
    "\n",
    "orders = list(range(lenfiles))\n",
    "# random.shuffle(orders)\n",
    "# for f in files:\n",
    "#     print(f)\n",
    "print(len(orders))"
   ]
  },
  {
   "cell_type": "code",
   "execution_count": 146,
   "id": "6ae54ec4",
   "metadata": {
    "ExecuteTime": {
     "end_time": "2022-09-13T19:22:11.204826Z",
     "start_time": "2022-09-13T19:22:11.198120Z"
    }
   },
   "outputs": [
    {
     "data": {
      "text/plain": [
       "[0, 1, 2, 3, 4]"
      ]
     },
     "execution_count": 146,
     "metadata": {},
     "output_type": "execute_result"
    }
   ],
   "source": [
    "orders"
   ]
  },
  {
   "cell_type": "code",
   "execution_count": 27,
   "id": "6613c0df",
   "metadata": {
    "ExecuteTime": {
     "end_time": "2022-09-14T16:34:19.687810Z",
     "start_time": "2022-09-14T16:34:19.678210Z"
    },
    "scrolled": true
   },
   "outputs": [
    {
     "data": {
      "text/plain": [
       "['tot_benchmark_cut/0171_NOISY_RAW_010_N6_3120x4208.npy',\n",
       " 'tot_benchmark_cut/0119_NOISY_RAW_010_N6.MAT',\n",
       " 'tot_benchmark_cut/0061_NOISY_RAW_010_S6.MAT',\n",
       " 'tot_benchmark_cut/0187_NOISY_RAW_010_IP.MAT',\n",
       " 'tot_benchmark_cut/0024_NOISY_SRGB_010_N6.PNG',\n",
       " 'tot_benchmark_cut/0058_NOISY_RAW_010_G4.MAT',\n",
       " 'tot_benchmark_cut/0183_NOISY_RAW_010_GP.MAT',\n",
       " 'tot_benchmark_cut/0109_NOISY_RAW_010_GP.MAT',\n",
       " 'tot_benchmark_cut/0037_NOISY_SRGB_010_GP.PNG',\n",
       " 'tot_benchmark_cut/0082_NOISY_SRGB_010_S6.PNG',\n",
       " 'tot_benchmark_cut/0031_NOISY_RAW_010_IP_3024x4032.npy',\n",
       " 'tot_benchmark_cut/0158_NOISY_SRGB_010_GP.PNG',\n",
       " 'tot_benchmark_cut/0176_NOISY_RAW_010_S6.MAT',\n",
       " 'tot_benchmark_cut/0085_NOISY_SRGB_010_GP.PNG',\n",
       " 'tot_benchmark_cut/0124_NOISY_RAW_010_G4_2988x5312.npy',\n",
       " 'tot_benchmark_cut/0071_NOISY_SRGB_010_IP.PNG',\n",
       " 'tot_benchmark_cut/0071_NOISY_RAW_010_IP.MAT',\n",
       " 'tot_benchmark_cut/0162_NOISY_RAW_010_IP_3024x4032.npy',\n",
       " 'tot_benchmark_cut/0112_NOISY_RAW_010_IP_3024x4032.npy',\n",
       " 'tot_benchmark_cut/0100_NOISY_SRGB_010_G4.PNG',\n",
       " 'tot_benchmark_cut/0141_NOISY_SRGB_010_IP.PNG',\n",
       " 'tot_benchmark_cut/0119_NOISY_SRGB_010_N6.PNG',\n",
       " 'tot_benchmark_cut/0046_NOISY_RAW_010_G4_2988x5312.npy',\n",
       " 'tot_benchmark_cut/0053_NOISY_SRGB_010_S6.PNG',\n",
       " 'tot_benchmark_cut/0141_NOISY_RAW_010_IP.MAT',\n",
       " 'tot_benchmark_cut/0009_NOISY_SRGB_010_S6.PNG',\n",
       " 'tot_benchmark_cut/0058_NOISY_RAW_010_G4_2988x5312.npy',\n",
       " 'tot_benchmark_cut/0128_NOISY_RAW_010_S6.MAT',\n",
       " 'tot_benchmark_cut/0109_NOISY_RAW_010_GP_3044x4048.npy',\n",
       " 'tot_benchmark_cut/0183_NOISY_SRGB_010_GP.PNG',\n",
       " 'tot_benchmark_cut/0119_NOISY_RAW_010_N6_3120x4208.npy',\n",
       " 'tot_benchmark_cut/0026_NOISY_SRGB_010_G4.PNG',\n",
       " 'tot_benchmark_cut/0143_NOISY_SRGB_010_N6.PNG',\n",
       " 'tot_benchmark_cut/0174_NOISY_RAW_010_G4.MAT',\n",
       " 'tot_benchmark_cut/0093_NOISY_RAW_010_IP_3024x4032.npy',\n",
       " 'tot_benchmark_cut/0153_NOISY_SRGB_010_S6.PNG',\n",
       " 'tot_benchmark_cut/0046_NOISY_RAW_010_G4.MAT',\n",
       " 'tot_benchmark_cut/0153_NOISY_RAW_010_S6.MAT',\n",
       " 'tot_benchmark_cut/0158_NOISY_RAW_010_GP_3044x4048.npy',\n",
       " 'tot_benchmark_cut/0103_NOISY_RAW_010_S6.MAT',\n",
       " 'tot_benchmark_cut/0095_NOISY_SRGB_010_N6.PNG',\n",
       " 'tot_benchmark_cut/0131_NOISY_RAW_010_GP.MAT',\n",
       " 'tot_benchmark_cut/0171_NOISY_SRGB_010_N6.PNG',\n",
       " 'tot_benchmark_cut/0162_NOISY_RAW_010_IP.MAT',\n",
       " 'tot_benchmark_cut/0103_NOISY_RAW_010_S6_3000x5328.npy',\n",
       " 'tot_benchmark_cut/0124_NOISY_RAW_010_G4.MAT',\n",
       " 'tot_benchmark_cut/0061_NOISY_SRGB_010_S6.PNG',\n",
       " 'tot_benchmark_cut/0061_NOISY_RAW_010_S6_3000x5328.npy',\n",
       " 'tot_benchmark_cut/0131_NOISY_RAW_010_GP_3044x4048.npy',\n",
       " 'tot_benchmark_cut/0143_NOISY_RAW_010_N6.MAT',\n",
       " 'tot_benchmark_cut/0067_NOISY_RAW_010_GP_3044x4048.npy',\n",
       " 'tot_benchmark_cut/0095_NOISY_RAW_010_N6_3120x4208.npy',\n",
       " 'tot_benchmark_cut/0053_NOISY_RAW_010_S6_3000x5328.npy',\n",
       " 'tot_benchmark_cut/0024_NOISY_RAW_010_N6.MAT',\n",
       " 'tot_benchmark_cut/0024_NOISY_RAW_010_N6_3120x4208.npy',\n",
       " 'tot_benchmark_cut/0046_NOISY_SRGB_010_G4.PNG',\n",
       " 'tot_benchmark_cut/0085_NOISY_RAW_010_GP.MAT',\n",
       " 'tot_benchmark_cut/0176_NOISY_RAW_010_S6_3000x5328.npy',\n",
       " 'tot_benchmark_cut/0079_NOISY_RAW_010_G4_2988x5312.npy',\n",
       " 'tot_benchmark_cut/0021_NOISY_SRGB_010_GP.PNG',\n",
       " 'tot_benchmark_cut/0131_NOISY_SRGB_010_GP.PNG',\n",
       " 'tot_benchmark_cut/0056_NOISY_SRGB_010_N6.PNG',\n",
       " 'tot_benchmark_cut/0031_NOISY_RAW_010_IP.MAT',\n",
       " 'tot_benchmark_cut/0082_NOISY_RAW_010_S6_3000x5328.npy',\n",
       " 'tot_benchmark_cut/0053_NOISY_RAW_010_S6.MAT',\n",
       " 'tot_benchmark_cut/0100_NOISY_RAW_010_G4_2988x5312.npy',\n",
       " 'tot_benchmark_cut/0128_NOISY_SRGB_010_S6.PNG',\n",
       " 'tot_benchmark_cut/0187_NOISY_SRGB_010_IP.PNG',\n",
       " 'tot_benchmark_cut/0026_NOISY_RAW_010_G4_2988x5312.npy',\n",
       " 'tot_benchmark_cut/0049_NOISY_SRGB_010_N6.PNG',\n",
       " 'tot_benchmark_cut/0067_NOISY_RAW_010_GP.MAT',\n",
       " 'tot_benchmark_cut/0041_NOISY_SRGB_010_IP.PNG',\n",
       " 'tot_benchmark_cut/0049_NOISY_RAW_010_N6.MAT',\n",
       " 'tot_benchmark_cut/0056_NOISY_RAW_010_N6_3120x4208.npy',\n",
       " 'tot_benchmark_cut/0148_NOISY_RAW_010_G4.MAT',\n",
       " 'tot_benchmark_cut/0056_NOISY_RAW_010_N6.MAT',\n",
       " 'tot_benchmark_cut/0141_NOISY_RAW_010_IP_3024x4032.npy',\n",
       " 'tot_benchmark_cut/0128_NOISY_RAW_010_S6_3000x5328.npy',\n",
       " 'tot_benchmark_cut/0143_NOISY_RAW_010_N6_3120x4208.npy',\n",
       " 'tot_benchmark_cut/0041_NOISY_RAW_010_IP_3024x4032.npy',\n",
       " 'tot_benchmark_cut/0095_NOISY_RAW_010_N6.MAT',\n",
       " 'tot_benchmark_cut/0049_NOISY_RAW_010_N6_3120x4208.npy',\n",
       " 'tot_benchmark_cut/0148_NOISY_SRGB_010_G4.PNG',\n",
       " 'tot_benchmark_cut/0187_NOISY_RAW_010_IP_3024x4032.npy',\n",
       " 'tot_benchmark_cut/0009_NOISY_RAW_010_S6.MAT',\n",
       " 'tot_benchmark_cut/0026_NOISY_RAW_010_G4.MAT',\n",
       " 'tot_benchmark_cut/0162_NOISY_SRGB_010_IP.PNG',\n",
       " 'tot_benchmark_cut/0148_NOISY_RAW_010_G4_2988x5312.npy',\n",
       " 'tot_benchmark_cut/0009_NOISY_RAW_010_S6_3000x5328.npy',\n",
       " 'tot_benchmark_cut/0021_NOISY_RAW_010_GP_3044x4048.npy',\n",
       " 'tot_benchmark_cut/0079_NOISY_SRGB_010_G4.PNG',\n",
       " 'tot_benchmark_cut/0112_NOISY_SRGB_010_IP.PNG',\n",
       " 'tot_benchmark_cut/0174_NOISY_RAW_010_G4_2988x5312.npy',\n",
       " 'tot_benchmark_cut/0021_NOISY_RAW_010_GP.MAT',\n",
       " 'tot_benchmark_cut/0085_NOISY_RAW_010_GP_3044x4048.npy',\n",
       " 'tot_benchmark_cut/0079_NOISY_RAW_010_G4.MAT',\n",
       " 'tot_benchmark_cut/0041_NOISY_RAW_010_IP.MAT',\n",
       " 'tot_benchmark_cut/0037_NOISY_RAW_010_GP_3044x4048.npy',\n",
       " 'tot_benchmark_cut/0071_NOISY_RAW_010_IP_3024x4032.npy',\n",
       " 'tot_benchmark_cut/0100_NOISY_RAW_010_G4.MAT',\n",
       " 'tot_benchmark_cut/0074_NOISY_RAW_010_N6.MAT',\n",
       " 'tot_benchmark_cut/0183_NOISY_RAW_010_GP_3044x4048.npy',\n",
       " 'tot_benchmark_cut/0103_NOISY_SRGB_010_S6.PNG',\n",
       " 'tot_benchmark_cut/0031_NOISY_SRGB_010_IP.PNG',\n",
       " 'tot_benchmark_cut/0093_NOISY_RAW_010_IP.MAT',\n",
       " 'tot_benchmark_cut/0067_NOISY_SRGB_010_GP.PNG',\n",
       " 'tot_benchmark_cut/0074_NOISY_SRGB_010_N6.PNG',\n",
       " 'tot_benchmark_cut/0093_NOISY_SRGB_010_IP.PNG',\n",
       " 'tot_benchmark_cut/0109_NOISY_SRGB_010_GP.PNG',\n",
       " 'tot_benchmark_cut/0124_NOISY_SRGB_010_G4.PNG',\n",
       " 'tot_benchmark_cut/0082_NOISY_RAW_010_S6.MAT',\n",
       " 'tot_benchmark_cut/0176_NOISY_SRGB_010_S6.PNG',\n",
       " 'tot_benchmark_cut/0037_NOISY_RAW_010_GP.MAT',\n",
       " 'tot_benchmark_cut/0153_NOISY_RAW_010_S6_3000x5328.npy',\n",
       " 'tot_benchmark_cut/0158_NOISY_RAW_010_GP.MAT',\n",
       " 'tot_benchmark_cut/0174_NOISY_SRGB_010_G4.PNG',\n",
       " 'tot_benchmark_cut/0058_NOISY_SRGB_010_G4.PNG',\n",
       " 'tot_benchmark_cut/0074_NOISY_RAW_010_N6_3120x4208.npy',\n",
       " 'tot_benchmark_cut/0171_NOISY_RAW_010_N6.MAT',\n",
       " 'tot_benchmark_cut/0112_NOISY_RAW_010_IP.MAT']"
      ]
     },
     "execution_count": 27,
     "metadata": {},
     "output_type": "execute_result"
    }
   ],
   "source": [
    "files"
   ]
  },
  {
   "cell_type": "code",
   "execution_count": 149,
   "id": "da04e822",
   "metadata": {
    "ExecuteTime": {
     "end_time": "2022-09-13T19:25:23.463987Z",
     "start_time": "2022-09-13T19:25:21.043201Z"
    }
   },
   "outputs": [
    {
     "name": "stdout",
     "output_type": "stream",
     "text": [
      "OHNO -->. tfrecord (tfrecords_cut/sidd_viz_medium_000.tfrecords) exists\n"
     ]
    },
    {
     "name": "stderr",
     "output_type": "stream",
     "text": [
      "\r",
      "  0%|          | 0/5 [00:00<?, ?it/s]"
     ]
    },
    {
     "name": "stdout",
     "output_type": "stream",
     "text": [
      "tot_benchmark_cut/0009_NOISY_RAW_010_S6_3000x5328.npy\n"
     ]
    },
    {
     "name": "stderr",
     "output_type": "stream",
     "text": [
      "/usr/local/lib/python3.6/dist-packages/ipykernel_launcher.py:83: DeprecationWarning: tostring() is deprecated. Use tobytes() instead.\n",
      "/usr/local/lib/python3.6/dist-packages/ipykernel_launcher.py:86: DeprecationWarning: tostring() is deprecated. Use tobytes() instead.\n",
      "\r",
      " 20%|██        | 1/5 [00:00<00:02,  1.44it/s]"
     ]
    },
    {
     "name": "stdout",
     "output_type": "stream",
     "text": [
      "tot_benchmark_cut/0021_NOISY_RAW_010_GP_3044x4048.npy\n"
     ]
    },
    {
     "name": "stderr",
     "output_type": "stream",
     "text": [
      "\r",
      " 40%|████      | 2/5 [00:01<00:01,  1.83it/s]"
     ]
    },
    {
     "name": "stdout",
     "output_type": "stream",
     "text": [
      "tot_benchmark_cut/0024_NOISY_RAW_010_N6_3120x4208.npy\n"
     ]
    },
    {
     "name": "stderr",
     "output_type": "stream",
     "text": [
      "\r",
      " 60%|██████    | 3/5 [00:01<00:00,  2.06it/s]"
     ]
    },
    {
     "name": "stdout",
     "output_type": "stream",
     "text": [
      "tot_benchmark_cut/0026_NOISY_RAW_010_G4_2988x5312.npy\n"
     ]
    },
    {
     "name": "stderr",
     "output_type": "stream",
     "text": [
      "\r",
      " 80%|████████  | 4/5 [00:02<00:00,  2.07it/s]"
     ]
    },
    {
     "name": "stdout",
     "output_type": "stream",
     "text": [
      "tot_benchmark_cut/0031_NOISY_RAW_010_IP_3024x4032.npy\n"
     ]
    },
    {
     "name": "stderr",
     "output_type": "stream",
     "text": [
      "100%|██████████| 5/5 [00:02<00:00,  2.09it/s]\n"
     ]
    }
   ],
   "source": [
    "\n",
    "\n",
    "\n",
    "\n",
    "output_path='tfrecords_cut'\n",
    "tfrecords_name = 'sidd_viz_medium_000.tfrecords'\n",
    "tfrecords_name = os.path.join(output_path, tfrecords_name)\n",
    "\n",
    "if os.path.isfile(tfrecords_name):\n",
    "    print('OHNO -->. tfrecord (%s) exists' % tfrecords_name)\n",
    "#     break\n",
    "#     return\n",
    "\n",
    "\n",
    "writer = tf.io.TFRecordWriter(tfrecords_name)\n",
    "\n",
    "patch_size=128\n",
    "for idx, order in enumerate(tqdm.tqdm(orders)):\n",
    "#     print(idx+1 , '/' ,  len(orders))\n",
    "    \n",
    "    idx = order*2\n",
    "#     print(files[idx:idx+4])\n",
    "    fname_noisy_raw  = files[idx]\n",
    "    fname_noisy_srgb = files[idx+1]\n",
    "    print(fname_noisy_raw)\n",
    "    \n",
    "    noisy_srgb = Image.open(fname_noisy_srgb)\n",
    "    \n",
    "    \n",
    "    # convert as np array\n",
    "    arr_noisy_srgb = np.array(noisy_srgb)\n",
    "    arr_noisy_raw  = np.load(fname_noisy_raw)\n",
    "    \n",
    "    # quantize to 16 bits\n",
    "    arr_noisy_raw = arr_noisy_raw * (2**16 - 1)\n",
    "    arr_noisy_raw = arr_noisy_raw.astype(np.uint16)\n",
    "    \n",
    "    \n",
    "    # make all bayer patterns to GRBG\n",
    "    tag = '-_-'\n",
    "    if '_S6' in fname_noisy_raw:\n",
    "        tag = 'S6'\n",
    "        pass\n",
    "    elif '_IP' in fname_noisy_raw:\n",
    "        tag = 'IP'\n",
    "        arr_noisy_srgb = arr_noisy_srgb[:, 1:-1]\n",
    "        arr_noisy_raw  = arr_noisy_raw[:, 1:-1]\n",
    "    elif '_GP' in fname_noisy_raw:\n",
    "        tag = 'GP'\n",
    "        arr_noisy_srgb = arr_noisy_srgb[1:-1, :]\n",
    "        arr_noisy_raw  = arr_noisy_raw[1:-1, :]\n",
    "    elif '_N6' in fname_noisy_raw:\n",
    "        tag = 'N6'\n",
    "        arr_noisy_srgb = arr_noisy_srgb[1:-1, :]\n",
    "        arr_noisy_raw  = arr_noisy_raw[1:-1, :]\n",
    "    elif '_G4' in fname_noisy_raw:\n",
    "        tag = 'G4'\n",
    "        arr_noisy_srgb = arr_noisy_srgb[1:-1, :]\n",
    "        arr_noisy_raw  = arr_noisy_raw[1:-1, :]\n",
    "    else:\n",
    "        print('unknown class')\n",
    "        break\n",
    "     \n",
    "    \n",
    "    arr_y = arr_noisy_srgb\n",
    "    arr_x = arr_noisy_raw\n",
    "    \n",
    "    arr_x = arr_x[..., np.newaxis]\n",
    "    \n",
    "\n",
    "    assert len(arr_x.shape) == len(arr_y.shape)\n",
    "    \n",
    "    shape = arr_x.shape\n",
    "    \n",
    "#     writer = tf.io.TFRecordWriter(tfrecords_name)\n",
    "    \n",
    "    \n",
    "    idxy = shape[0]//2\n",
    "    idxx = shape[1]//2\n",
    "    \n",
    "    xp = arr_x[idxy:idxy+patch_size, idxx:idxx+patch_size,:]\n",
    "    yp = arr_y[idxy:idxy+patch_size, idxx:idxx+patch_size,:]\n",
    "\n",
    "    example = tf.train.Example(\n",
    "        features=tf.train.Features(feature={\n",
    "            'raw': tf.train.Feature(\n",
    "                    bytes_list=tf.train.BytesList(value=[xp.tostring()])\n",
    "                    ),\n",
    "            'srgb': tf.train.Feature(\n",
    "                    bytes_list=tf.train.BytesList(value=[yp.tostring()])\n",
    "                    )\n",
    "        })\n",
    "    )\n",
    "\n",
    "    writer.write(example.SerializeToString()) \n",
    "#     input()\n",
    "    \n",
    "        \n",
    "\n",
    "writer.close()  \n",
    "      "
   ]
  },
  {
   "cell_type": "code",
   "execution_count": 118,
   "id": "be7bbf8d",
   "metadata": {
    "ExecuteTime": {
     "end_time": "2022-09-13T18:32:42.919908Z",
     "start_time": "2022-09-13T18:32:42.261925Z"
    }
   },
   "outputs": [
    {
     "name": "stdout",
     "output_type": "stream",
     "text": [
      " BenchmarkNoisyBlocksRaw.mat    SIDD_Validation\t\t    tot\r\n",
      " BenchmarkNoisyBlocksSrgb.mat  'data extractor.ipynb'\t    tot_benchmark_cut\r\n",
      " SIDD_Benchmark_Data\t        sidd_data_alnalysis.ipynb   tot_cut\r\n",
      " SIDD_Medium_Raw\t        sidd_tfrecords.ipynb\r\n",
      " SIDD_Medium_Srgb\t        tfrecords_cut\r\n"
     ]
    }
   ],
   "source": [
    "!ls"
   ]
  },
  {
   "cell_type": "markdown",
   "id": "ff5f2e5d",
   "metadata": {},
   "source": [
    "# tfrecords test"
   ]
  },
  {
   "cell_type": "code",
   "execution_count": 16,
   "id": "ecca6bf1",
   "metadata": {
    "ExecuteTime": {
     "end_time": "2022-09-14T16:32:35.042956Z",
     "start_time": "2022-09-14T16:32:35.038919Z"
    }
   },
   "outputs": [],
   "source": [
    "fname = 'tfrecords_cut/sidd_viz_medium_000.tfrecords'"
   ]
  },
  {
   "cell_type": "code",
   "execution_count": 17,
   "id": "29f02251",
   "metadata": {
    "ExecuteTime": {
     "end_time": "2022-09-14T16:32:39.312140Z",
     "start_time": "2022-09-14T16:32:37.153022Z"
    }
   },
   "outputs": [],
   "source": [
    "dataset = tf.data.TFRecordDataset(fname)"
   ]
  },
  {
   "cell_type": "code",
   "execution_count": 18,
   "id": "2961a1d0",
   "metadata": {
    "ExecuteTime": {
     "end_time": "2022-09-14T16:32:40.146803Z",
     "start_time": "2022-09-14T16:32:40.138533Z"
    }
   },
   "outputs": [
    {
     "data": {
      "text/plain": [
       "<TFRecordDatasetV2 shapes: (), types: tf.string>"
      ]
     },
     "execution_count": 18,
     "metadata": {},
     "output_type": "execute_result"
    }
   ],
   "source": [
    "dataset"
   ]
  },
  {
   "cell_type": "code",
   "execution_count": 19,
   "id": "b5c9364c",
   "metadata": {
    "ExecuteTime": {
     "end_time": "2022-09-14T16:32:43.192497Z",
     "start_time": "2022-09-14T16:32:43.184412Z"
    }
   },
   "outputs": [],
   "source": [
    "feature = {\n",
    "            'raw':  tf.io.FixedLenFeature([], tf.string),\n",
    "            'srgb': tf.io.FixedLenFeature([], tf.string)\n",
    "        }\n",
    "def _parse_function(example_proto):\n",
    "  return tf.io.parse_single_example(example_proto, feature)"
   ]
  },
  {
   "cell_type": "code",
   "execution_count": 20,
   "id": "cd66df78",
   "metadata": {
    "ExecuteTime": {
     "end_time": "2022-09-14T16:32:48.319079Z",
     "start_time": "2022-09-14T16:32:48.254669Z"
    }
   },
   "outputs": [],
   "source": [
    "image = dataset.map(_parse_function).batch(2)"
   ]
  },
  {
   "cell_type": "code",
   "execution_count": 21,
   "id": "705f4d3f",
   "metadata": {
    "ExecuteTime": {
     "end_time": "2022-09-14T16:32:49.030491Z",
     "start_time": "2022-09-14T16:32:48.969073Z"
    }
   },
   "outputs": [
    {
     "data": {
      "text/plain": [
       "3"
      ]
     },
     "execution_count": 21,
     "metadata": {},
     "output_type": "execute_result"
    }
   ],
   "source": [
    "len(list(image))"
   ]
  },
  {
   "cell_type": "code",
   "execution_count": 141,
   "id": "45adb779",
   "metadata": {
    "ExecuteTime": {
     "end_time": "2022-09-13T19:02:22.649313Z",
     "start_time": "2022-09-13T19:02:22.644489Z"
    }
   },
   "outputs": [],
   "source": [
    "import matplotlib.pyplot as plt"
   ]
  },
  {
   "cell_type": "code",
   "execution_count": null,
   "id": "83b5ada1",
   "metadata": {},
   "outputs": [],
   "source": [
    "crop_size = 128\n",
    "cfa_pattern = 1\n",
    "\n",
    "idx_R = np.tile(\n",
    "            np.concatenate((np.concatenate((np.zeros((cfa_pattern, cfa_pattern)), np.ones((cfa_pattern, cfa_pattern))), axis=1),\n",
    "                            np.concatenate((np.zeros((cfa_pattern, cfa_pattern)), np.zeros((cfa_pattern, cfa_pattern))), axis=1)), axis=0),\n",
    "              (crop_size // 2 // cfa_pattern, crop_size // 2 // cfa_pattern))\n",
    "\n",
    "\n",
    "idx_B = np.tile(\n",
    "        np.concatenate((np.concatenate((np.zeros((cfa_pattern, cfa_pattern)), np.zeros((cfa_pattern, cfa_pattern))), axis=1),\n",
    "                        np.concatenate((np.ones((cfa_pattern, cfa_pattern)), np.zeros((cfa_pattern, cfa_pattern))), axis=1)), axis=0),\n",
    "          (crop_size // 2 // cfa_pattern, crop_size // 2 // cfa_pattern))\n",
    "\n",
    "idx_G = np.tile(\n",
    "        np.concatenate((np.concatenate((np.ones((cfa_pattern, cfa_pattern)), np.zeros((cfa_pattern, cfa_pattern))), axis=1),\n",
    "                        np.concatenate((np.zeros((cfa_pattern, cfa_pattern)), np.ones((cfa_pattern, cfa_pattern))), axis=1)), axis=0),\n",
    "          (crop_size // 2 // cfa_pattern, crop_size // 2 // cfa_pattern))\n",
    "\n",
    "print(idx_R.shape)"
   ]
  },
  {
   "cell_type": "code",
   "execution_count": null,
   "id": "b71b8916",
   "metadata": {},
   "outputs": [],
   "source": [
    "def get_patternized_1ch_to_3ch_image(image):\n",
    "\n",
    "        dtype = tf.float32\n",
    "\n",
    "\n",
    "        tf_R = tf.constant(idx_R[...,np.newaxis] , dtype=dtype)\n",
    "        tf_G = tf.constant(idx_G[...,np.newaxis] , dtype=dtype)\n",
    "        tf_B = tf.constant(idx_B[...,np.newaxis] , dtype=dtype)\n",
    "\n",
    "\n",
    "        # non_shrink\n",
    "        R  = tf.math.multiply(image, tf_R)\n",
    "        G  = tf.math.multiply(image, tf_G)\n",
    "        B  = tf.math.multiply(image, tf_B)\n",
    "        \n",
    "        print('-------------------> image.shape', image.shape)\n",
    "        print('-------------------> R.shape', R.shape)\n",
    "\n",
    "\n",
    "\n",
    "#         pattenrized = tf.concat((tf.expand_dims(R, axis=-1),\n",
    "#                                  tf.expand_dims(G, axis=-1),\n",
    "#                                  tf.expand_dims(B, axis=-1)),\n",
    "#                                 axis=-1)\n",
    "        pattenrized = tf.concat((R, G, B), axis=-1)\n",
    "#         pattenrized = tf.concat((tf_R, tf_G, tf_B), axis=-1)\n",
    "\n",
    "        return pattenrized"
   ]
  },
  {
   "cell_type": "code",
   "execution_count": 142,
   "id": "73091672",
   "metadata": {
    "ExecuteTime": {
     "end_time": "2022-09-13T19:02:23.625248Z",
     "start_time": "2022-09-13T19:02:23.318024Z"
    },
    "scrolled": false
   },
   "outputs": [
    {
     "name": "stdout",
     "output_type": "stream",
     "text": [
      "<class 'tensorflow.python.framework.ops.EagerTensor'> <dtype: 'uint8'> <class 'tensorflow.python.framework.ops.EagerTensor'>\n",
      "-------------------> image.shape (128, 128, 1)\n",
      "-------------------> R.shape (128, 128, 1)\n",
      "(128, 128, 3) (128, 128, 3)\n",
      "0.0 0.76721525\n"
     ]
    },
    {
     "data": {
      "image/png": "[encoded data removed]",
      "text/plain": [
       "<Figure size 1152x1152 with 2 Axes>"
      ]
     },
     "metadata": {
      "needs_background": "light"
     },
     "output_type": "display_data"
    }
   ],
   "source": [
    "for i in image:\n",
    "    srgb = tf.io.decode_raw(i['srgb'], 'uint8')\n",
    "    raw  = tf.io.decode_raw(i['raw'], 'uint16')\n",
    "    print(type(srgb), srgb.dtype, type(raw))\n",
    "    srgb = tf.reshape(srgb, (128,128,3))\n",
    "    raw  = tf.reshape(raw, (128,128, 1))\n",
    "    \n",
    "    srgb = tf.cast(srgb, tf.float32) / 255\n",
    "    raw = tf.cast(raw, tf.float32) / (65535) \n",
    "    raw = raw**(1/2.2)\n",
    "    \n",
    "    raw = get_patternized_1ch_to_3ch_image(raw)\n",
    "    print(srgb.shape, raw.shape)\n",
    "    print(np.amin(raw), np.amax(raw))\n",
    "    \n",
    "    \n",
    "    plt.figure(figsize=(16,16))\n",
    "    plt.subplot(1,2,1)\n",
    "    plt.imshow(srgb)\n",
    "    plt.subplot(1,2,2) \n",
    "    plt.imshow(raw)\n",
    "    plt.show()\n",
    "    \n",
    "#     break"
   ]
  },
  {
   "cell_type": "code",
   "execution_count": 76,
   "id": "6b03dd63",
   "metadata": {
    "ExecuteTime": {
     "end_time": "2022-09-13T07:39:20.324580Z",
     "start_time": "2022-09-13T07:39:20.305634Z"
    }
   },
   "outputs": [
    {
     "name": "stdout",
     "output_type": "stream",
     "text": [
      "(128, 128)\n"
     ]
    }
   ],
   "source": [
    "crop_size = 128\n",
    "cfa_pattern = 1\n",
    "\n",
    "idx_R = np.tile(\n",
    "            np.concatenate((np.concatenate((np.zeros((cfa_pattern, cfa_pattern)), np.ones((cfa_pattern, cfa_pattern))), axis=1),\n",
    "                            np.concatenate((np.zeros((cfa_pattern, cfa_pattern)), np.zeros((cfa_pattern, cfa_pattern))), axis=1)), axis=0),\n",
    "              (crop_size // 2 // cfa_pattern, crop_size // 2 // cfa_pattern))\n",
    "\n",
    "\n",
    "idx_B = np.tile(\n",
    "        np.concatenate((np.concatenate((np.zeros((cfa_pattern, cfa_pattern)), np.zeros((cfa_pattern, cfa_pattern))), axis=1),\n",
    "                        np.concatenate((np.ones((cfa_pattern, cfa_pattern)), np.zeros((cfa_pattern, cfa_pattern))), axis=1)), axis=0),\n",
    "          (crop_size // 2 // cfa_pattern, crop_size // 2 // cfa_pattern))\n",
    "\n",
    "idx_G = np.tile(\n",
    "        np.concatenate((np.concatenate((np.ones((cfa_pattern, cfa_pattern)), np.zeros((cfa_pattern, cfa_pattern))), axis=1),\n",
    "                        np.concatenate((np.zeros((cfa_pattern, cfa_pattern)), np.ones((cfa_pattern, cfa_pattern))), axis=1)), axis=0),\n",
    "          (crop_size // 2 // cfa_pattern, crop_size // 2 // cfa_pattern))\n",
    "\n",
    "print(idx_R.shape)"
   ]
  },
  {
   "cell_type": "code",
   "execution_count": 102,
   "id": "cf917970",
   "metadata": {
    "ExecuteTime": {
     "end_time": "2022-09-13T07:49:08.471701Z",
     "start_time": "2022-09-13T07:49:08.456833Z"
    }
   },
   "outputs": [],
   "source": [
    "def get_patternized_1ch_to_3ch_image(image):\n",
    "\n",
    "        dtype = tf.float32\n",
    "\n",
    "\n",
    "        tf_R = tf.constant(idx_R[...,np.newaxis] , dtype=dtype)\n",
    "        tf_G = tf.constant(idx_G[...,np.newaxis] , dtype=dtype)\n",
    "        tf_B = tf.constant(idx_B[...,np.newaxis] , dtype=dtype)\n",
    "\n",
    "\n",
    "        # non_shrink\n",
    "        R  = tf.math.multiply(image, tf_R)\n",
    "        G  = tf.math.multiply(image, tf_G)\n",
    "        B  = tf.math.multiply(image, tf_B)\n",
    "        \n",
    "        print('-------------------> image.shape', image.shape)\n",
    "        print('-------------------> R.shape', R.shape)\n",
    "\n",
    "\n",
    "\n",
    "#         pattenrized = tf.concat((tf.expand_dims(R, axis=-1),\n",
    "#                                  tf.expand_dims(G, axis=-1),\n",
    "#                                  tf.expand_dims(B, axis=-1)),\n",
    "#                                 axis=-1)\n",
    "        pattenrized = tf.concat((R, G, B), axis=-1)\n",
    "#         pattenrized = tf.concat((tf_R, tf_G, tf_B), axis=-1)\n",
    "\n",
    "        return pattenrized"
   ]
  },
  {
   "cell_type": "code",
   "execution_count": null,
   "id": "ae0d38c2",
   "metadata": {},
   "outputs": [],
   "source": []
  },
  {
   "cell_type": "code",
   "execution_count": 114,
   "id": "21c6714f",
   "metadata": {
    "ExecuteTime": {
     "end_time": "2022-09-13T08:20:23.927706Z",
     "start_time": "2022-09-13T08:20:23.883265Z"
    }
   },
   "outputs": [
    {
     "ename": "InvalidArgumentError",
     "evalue": "shape must be a vector of {int32,int64}, got shape [] [Op:RandomStandardNormal]",
     "output_type": "error",
     "traceback": [
      "\u001b[0;31m---------------------------------------------------------------------------\u001b[0m",
      "\u001b[0;31mInvalidArgumentError\u001b[0m                      Traceback (most recent call last)",
      "\u001b[0;32m<ipython-input-114-90b0964c0bb9>\u001b[0m in \u001b[0;36m<module>\u001b[0;34m\u001b[0m\n\u001b[0;32m----> 1\u001b[0;31m \u001b[0mr\u001b[0m \u001b[0;34m=\u001b[0m \u001b[0mtf\u001b[0m\u001b[0;34m.\u001b[0m\u001b[0mrandom\u001b[0m\u001b[0;34m.\u001b[0m\u001b[0mnormal\u001b[0m\u001b[0;34m(\u001b[0m\u001b[0;36m1\u001b[0m\u001b[0;34m)\u001b[0m\u001b[0;34m\u001b[0m\u001b[0;34m\u001b[0m\u001b[0m\n\u001b[0m",
      "\u001b[0;32m/usr/local/lib/python3.6/dist-packages/tensorflow/python/util/dispatch.py\u001b[0m in \u001b[0;36mwrapper\u001b[0;34m(*args, **kwargs)\u001b[0m\n\u001b[1;32m    199\u001b[0m     \u001b[0;34m\"\"\"Call target, and fall back on dispatchers if there is a TypeError.\"\"\"\u001b[0m\u001b[0;34m\u001b[0m\u001b[0;34m\u001b[0m\u001b[0m\n\u001b[1;32m    200\u001b[0m     \u001b[0;32mtry\u001b[0m\u001b[0;34m:\u001b[0m\u001b[0;34m\u001b[0m\u001b[0;34m\u001b[0m\u001b[0m\n\u001b[0;32m--> 201\u001b[0;31m       \u001b[0;32mreturn\u001b[0m \u001b[0mtarget\u001b[0m\u001b[0;34m(\u001b[0m\u001b[0;34m*\u001b[0m\u001b[0margs\u001b[0m\u001b[0;34m,\u001b[0m \u001b[0;34m**\u001b[0m\u001b[0mkwargs\u001b[0m\u001b[0;34m)\u001b[0m\u001b[0;34m\u001b[0m\u001b[0;34m\u001b[0m\u001b[0m\n\u001b[0m\u001b[1;32m    202\u001b[0m     \u001b[0;32mexcept\u001b[0m \u001b[0;34m(\u001b[0m\u001b[0mTypeError\u001b[0m\u001b[0;34m,\u001b[0m \u001b[0mValueError\u001b[0m\u001b[0;34m)\u001b[0m\u001b[0;34m:\u001b[0m\u001b[0;34m\u001b[0m\u001b[0;34m\u001b[0m\u001b[0m\n\u001b[1;32m    203\u001b[0m       \u001b[0;31m# Note: convert_to_eager_tensor currently raises a ValueError, not a\u001b[0m\u001b[0;34m\u001b[0m\u001b[0;34m\u001b[0m\u001b[0;34m\u001b[0m\u001b[0m\n",
      "\u001b[0;32m/usr/local/lib/python3.6/dist-packages/tensorflow/python/ops/random_ops.py\u001b[0m in \u001b[0;36mrandom_normal\u001b[0;34m(shape, mean, stddev, dtype, seed, name)\u001b[0m\n\u001b[1;32m     93\u001b[0m     \u001b[0mseed1\u001b[0m\u001b[0;34m,\u001b[0m \u001b[0mseed2\u001b[0m \u001b[0;34m=\u001b[0m \u001b[0mrandom_seed\u001b[0m\u001b[0;34m.\u001b[0m\u001b[0mget_seed\u001b[0m\u001b[0;34m(\u001b[0m\u001b[0mseed\u001b[0m\u001b[0;34m)\u001b[0m\u001b[0;34m\u001b[0m\u001b[0;34m\u001b[0m\u001b[0m\n\u001b[1;32m     94\u001b[0m     rnd = gen_random_ops.random_standard_normal(\n\u001b[0;32m---> 95\u001b[0;31m         shape_tensor, dtype, seed=seed1, seed2=seed2)\n\u001b[0m\u001b[1;32m     96\u001b[0m     \u001b[0mmul\u001b[0m \u001b[0;34m=\u001b[0m \u001b[0mrnd\u001b[0m \u001b[0;34m*\u001b[0m \u001b[0mstddev_tensor\u001b[0m\u001b[0;34m\u001b[0m\u001b[0;34m\u001b[0m\u001b[0m\n\u001b[1;32m     97\u001b[0m     \u001b[0mvalue\u001b[0m \u001b[0;34m=\u001b[0m \u001b[0mmath_ops\u001b[0m\u001b[0;34m.\u001b[0m\u001b[0madd\u001b[0m\u001b[0;34m(\u001b[0m\u001b[0mmul\u001b[0m\u001b[0;34m,\u001b[0m \u001b[0mmean_tensor\u001b[0m\u001b[0;34m,\u001b[0m \u001b[0mname\u001b[0m\u001b[0;34m=\u001b[0m\u001b[0mname\u001b[0m\u001b[0;34m)\u001b[0m\u001b[0;34m\u001b[0m\u001b[0;34m\u001b[0m\u001b[0m\n",
      "\u001b[0;32m/usr/local/lib/python3.6/dist-packages/tensorflow/python/ops/gen_random_ops.py\u001b[0m in \u001b[0;36mrandom_standard_normal\u001b[0;34m(shape, dtype, seed, seed2, name)\u001b[0m\n\u001b[1;32m    635\u001b[0m       \u001b[0;32mreturn\u001b[0m \u001b[0m_result\u001b[0m\u001b[0;34m\u001b[0m\u001b[0;34m\u001b[0m\u001b[0m\n\u001b[1;32m    636\u001b[0m     \u001b[0;32mexcept\u001b[0m \u001b[0m_core\u001b[0m\u001b[0;34m.\u001b[0m\u001b[0m_NotOkStatusException\u001b[0m \u001b[0;32mas\u001b[0m \u001b[0me\u001b[0m\u001b[0;34m:\u001b[0m\u001b[0;34m\u001b[0m\u001b[0;34m\u001b[0m\u001b[0m\n\u001b[0;32m--> 637\u001b[0;31m       \u001b[0m_ops\u001b[0m\u001b[0;34m.\u001b[0m\u001b[0mraise_from_not_ok_status\u001b[0m\u001b[0;34m(\u001b[0m\u001b[0me\u001b[0m\u001b[0;34m,\u001b[0m \u001b[0mname\u001b[0m\u001b[0;34m)\u001b[0m\u001b[0;34m\u001b[0m\u001b[0;34m\u001b[0m\u001b[0m\n\u001b[0m\u001b[1;32m    638\u001b[0m     \u001b[0;32mexcept\u001b[0m \u001b[0m_core\u001b[0m\u001b[0;34m.\u001b[0m\u001b[0m_FallbackException\u001b[0m\u001b[0;34m:\u001b[0m\u001b[0;34m\u001b[0m\u001b[0;34m\u001b[0m\u001b[0m\n\u001b[1;32m    639\u001b[0m       \u001b[0;32mpass\u001b[0m\u001b[0;34m\u001b[0m\u001b[0;34m\u001b[0m\u001b[0m\n",
      "\u001b[0;32m/usr/local/lib/python3.6/dist-packages/tensorflow/python/framework/ops.py\u001b[0m in \u001b[0;36mraise_from_not_ok_status\u001b[0;34m(e, name)\u001b[0m\n\u001b[1;32m   6860\u001b[0m   \u001b[0mmessage\u001b[0m \u001b[0;34m=\u001b[0m \u001b[0me\u001b[0m\u001b[0;34m.\u001b[0m\u001b[0mmessage\u001b[0m \u001b[0;34m+\u001b[0m \u001b[0;34m(\u001b[0m\u001b[0;34m\" name: \"\u001b[0m \u001b[0;34m+\u001b[0m \u001b[0mname\u001b[0m \u001b[0;32mif\u001b[0m \u001b[0mname\u001b[0m \u001b[0;32mis\u001b[0m \u001b[0;32mnot\u001b[0m \u001b[0;32mNone\u001b[0m \u001b[0;32melse\u001b[0m \u001b[0;34m\"\"\u001b[0m\u001b[0;34m)\u001b[0m\u001b[0;34m\u001b[0m\u001b[0;34m\u001b[0m\u001b[0m\n\u001b[1;32m   6861\u001b[0m   \u001b[0;31m# pylint: disable=protected-access\u001b[0m\u001b[0;34m\u001b[0m\u001b[0;34m\u001b[0m\u001b[0;34m\u001b[0m\u001b[0m\n\u001b[0;32m-> 6862\u001b[0;31m   \u001b[0msix\u001b[0m\u001b[0;34m.\u001b[0m\u001b[0mraise_from\u001b[0m\u001b[0;34m(\u001b[0m\u001b[0mcore\u001b[0m\u001b[0;34m.\u001b[0m\u001b[0m_status_to_exception\u001b[0m\u001b[0;34m(\u001b[0m\u001b[0me\u001b[0m\u001b[0;34m.\u001b[0m\u001b[0mcode\u001b[0m\u001b[0;34m,\u001b[0m \u001b[0mmessage\u001b[0m\u001b[0;34m)\u001b[0m\u001b[0;34m,\u001b[0m \u001b[0;32mNone\u001b[0m\u001b[0;34m)\u001b[0m\u001b[0;34m\u001b[0m\u001b[0;34m\u001b[0m\u001b[0m\n\u001b[0m\u001b[1;32m   6863\u001b[0m   \u001b[0;31m# pylint: enable=protected-access\u001b[0m\u001b[0;34m\u001b[0m\u001b[0;34m\u001b[0m\u001b[0;34m\u001b[0m\u001b[0m\n\u001b[1;32m   6864\u001b[0m \u001b[0;34m\u001b[0m\u001b[0m\n",
      "\u001b[0;32m/usr/local/lib/python3.6/dist-packages/six.py\u001b[0m in \u001b[0;36mraise_from\u001b[0;34m(value, from_value)\u001b[0m\n",
      "\u001b[0;31mInvalidArgumentError\u001b[0m: shape must be a vector of {int32,int64}, got shape [] [Op:RandomStandardNormal]"
     ]
    }
   ],
   "source": [
    "r = tf.random.normal([1])"
   ]
  },
  {
   "cell_type": "code",
   "execution_count": 111,
   "id": "0cc665f8",
   "metadata": {
    "ExecuteTime": {
     "end_time": "2022-09-13T08:19:54.063652Z",
     "start_time": "2022-09-13T08:19:54.057983Z"
    }
   },
   "outputs": [
    {
     "data": {
      "text/plain": [
       "<tf.Tensor: shape=(1,), dtype=float32, numpy=array([1.0132891], dtype=float32)>"
      ]
     },
     "execution_count": 111,
     "metadata": {},
     "output_type": "execute_result"
    }
   ],
   "source": [
    "r"
   ]
  },
  {
   "cell_type": "code",
   "execution_count": 113,
   "id": "2372aac6",
   "metadata": {
    "ExecuteTime": {
     "end_time": "2022-09-13T08:20:18.548764Z",
     "start_time": "2022-09-13T08:20:18.539832Z"
    }
   },
   "outputs": [
    {
     "data": {
      "text/plain": [
       "array([ True])"
      ]
     },
     "execution_count": 113,
     "metadata": {},
     "output_type": "execute_result"
    }
   ],
   "source": [
    "(r>0).numpy()"
   ]
  },
  {
   "cell_type": "code",
   "execution_count": null,
   "id": "f5251931",
   "metadata": {},
   "outputs": [],
   "source": []
  }
 ],
 "metadata": {
  "kernelspec": {
   "display_name": "Python 3",
   "language": "python",
   "name": "python3"
  },
  "language_info": {
   "codemirror_mode": {
    "name": "ipython",
    "version": 3
   },
   "file_extension": ".py",
   "mimetype": "text/x-python",
   "name": "python",
   "nbconvert_exporter": "python",
   "pygments_lexer": "ipython3",
   "version": "3.6.9"
  },
  "varInspector": {
   "cols": {
    "lenName": 16,
    "lenType": 16,
    "lenVar": 40
   },
   "kernels_config": {
    "python": {
     "delete_cmd_postfix": "",
     "delete_cmd_prefix": "del ",
     "library": "var_list.py",
     "varRefreshCmd": "print(var_dic_list())"
    },
    "r": {
     "delete_cmd_postfix": ") ",
     "delete_cmd_prefix": "rm(",
     "library": "var_list.r",
     "varRefreshCmd": "cat(var_dic_list()) "
    }
   },
   "types_to_exclude": [
    "module",
    "function",
    "builtin_function_or_method",
    "instance",
    "_Feature"
   ],
   "window_display": false
  }
 },
 "nbformat": 4,
 "nbformat_minor": 5
}
