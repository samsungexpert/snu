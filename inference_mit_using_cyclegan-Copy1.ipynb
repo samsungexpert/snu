{
 "cells": [
  {
   "cell_type": "code",
   "execution_count": 1,
   "id": "f233c9e0",
   "metadata": {
    "ExecuteTime": {
     "end_time": "2022-09-20T06:56:05.767165Z",
     "start_time": "2022-09-20T06:56:05.761994Z"
    }
   },
   "outputs": [],
   "source": [
    "import os\n",
    "os.environ[\"CUDA_VISIBLE_DEVICES\"]=\"1\""
   ]
  },
  {
   "cell_type": "code",
   "execution_count": 2,
   "id": "be35f1ab",
   "metadata": {
    "ExecuteTime": {
     "end_time": "2022-09-20T06:56:08.453102Z",
     "start_time": "2022-09-20T06:56:08.438981Z"
    }
   },
   "outputs": [],
   "source": [
    "import glob, tqdm"
   ]
  },
  {
   "cell_type": "code",
   "execution_count": 3,
   "id": "917011ec",
   "metadata": {
    "ExecuteTime": {
     "end_time": "2022-09-20T06:56:10.545120Z",
     "start_time": "2022-09-20T06:56:09.110251Z"
    }
   },
   "outputs": [],
   "source": [
    "import tensorflow as tf\n",
    "import tensorflow_addons as tfa\n",
    "import numpy as np\n",
    "import PIL.Image as Image"
   ]
  },
  {
   "cell_type": "code",
   "execution_count": 12,
   "id": "2c8466cd",
   "metadata": {
    "ExecuteTime": {
     "end_time": "2022-09-20T06:58:47.862515Z",
     "start_time": "2022-09-20T06:58:47.822745Z"
    }
   },
   "outputs": [
    {
     "name": "stdout",
     "output_type": "stream",
     "text": [
      "/home/team01/datasets/mit/images/val\n",
      "['/home/team01/datasets/mit/images/val/hdrvdp/000', '/home/team01/datasets/mit/images/val/moire/000']\n",
      "/home/team01/datasets/mit/images/val/hdrvdp/000\n",
      "/home/team01/datasets/mit/images/val/moire/000\n",
      "/home/team01/datasets/mit/images/val/moire/000/000694.png\n",
      "4000\n"
     ]
    }
   ],
   "source": [
    "model_name = 'unetv2'\n",
    "model_sig  = 'mit_unp'\n",
    "base_dir  = '/home/team01/datasets/mit'\n",
    "\n",
    "# mytype = 'train'\n",
    "mytype = 'val'\n",
    "# mytype = 'test'\n",
    "\n",
    "\n",
    "## find trining dataset\n",
    "src_dir = os.path.join(base_dir, 'images', mytype)\n",
    "folders = glob.glob(os.path.join(src_dir, '**', '**'))\n",
    "files = []\n",
    "folders.sort()\n",
    "print(src_dir)\n",
    "print(folders)\n",
    "for temp in folders:\n",
    "    folder_num = temp.split('/')[-1]\n",
    "    if mytype == 'train':\n",
    "        print(temp, folder_num)\n",
    "        if int(folder_num) % 10 == 1:\n",
    "            print(temp)\n",
    "            files += glob.glob(os.path.join(temp, '**/**.png'), recursive=True)\n",
    "    else:\n",
    "        print(temp)\n",
    "        files += glob.glob(os.path.join(temp, '**/**.png'), recursive=True)\n",
    "        \n",
    "\n",
    "print(files[-1])\n",
    "print(len(files))"
   ]
  },
  {
   "cell_type": "code",
   "execution_count": 13,
   "id": "72cd9e8c",
   "metadata": {
    "ExecuteTime": {
     "end_time": "2022-09-20T06:58:48.740394Z",
     "start_time": "2022-09-20T06:58:48.732071Z"
    }
   },
   "outputs": [
    {
     "name": "stdout",
     "output_type": "stream",
     "text": [
      "0 hdrvdp\n",
      "1 moire\n"
     ]
    }
   ],
   "source": [
    "dirs = os.listdir(src_dir)\n",
    "for idx, d in enumerate(dirs):\n",
    "    print(idx, d)"
   ]
  },
  {
   "cell_type": "code",
   "execution_count": 14,
   "id": "f1928fc7",
   "metadata": {
    "ExecuteTime": {
     "end_time": "2022-09-20T06:58:49.278955Z",
     "start_time": "2022-09-20T06:58:49.272236Z"
    }
   },
   "outputs": [],
   "source": [
    "# target folders\n",
    "new_name = 'images' + '_'  +  model_name + '_' + model_sig\n",
    "target_dir = os.path.join(base_dir,new_name, mytype)\n",
    "os.makedirs(target_dir, mode=777, exist_ok=True)"
   ]
  },
  {
   "cell_type": "code",
   "execution_count": 15,
   "id": "2b9a2916",
   "metadata": {
    "ExecuteTime": {
     "end_time": "2022-09-20T06:58:51.192088Z",
     "start_time": "2022-09-20T06:58:51.184202Z"
    }
   },
   "outputs": [
    {
     "data": {
      "text/plain": [
       "'/home/team01/datasets/mit/images_unetv2_mit_unp/val'"
      ]
     },
     "execution_count": 15,
     "metadata": {},
     "output_type": "execute_result"
    }
   ],
   "source": [
    "target_dir"
   ]
  },
  {
   "cell_type": "code",
   "execution_count": 16,
   "id": "a91478e1",
   "metadata": {
    "ExecuteTime": {
     "end_time": "2022-09-20T06:58:52.003247Z",
     "start_time": "2022-09-20T06:58:51.993376Z"
    }
   },
   "outputs": [
    {
     "name": "stdout",
     "output_type": "stream",
     "text": [
      "/home/team01/datasets/mit/images/val\n",
      "/home/team01/datasets/mit/images_unetv2_mit_unp/val\n",
      "model_dir/checkpoint/unetv2_model_structure.h5\n",
      "model_dir/checkpoint/unetv2_mit_unp\n"
     ]
    }
   ],
   "source": [
    "## model\n",
    "print(src_dir)\n",
    "print(target_dir)\n",
    "\n",
    "name_structure = os.path.join('model_dir', 'checkpoint', model_name + '_model_structure.h5')\n",
    "ckpt_path = os.path.join('model_dir', 'checkpoint',  model_name+'_'+model_sig )\n",
    "print(name_structure)\n",
    "print(ckpt_path)\n",
    "checkpoints = glob.glob(os.path.join(ckpt_path, '*.h5'))\n",
    "checkpoints.sort()"
   ]
  },
  {
   "cell_type": "code",
   "execution_count": 17,
   "id": "625c3a77",
   "metadata": {
    "ExecuteTime": {
     "end_time": "2022-09-20T06:58:53.780380Z",
     "start_time": "2022-09-20T06:58:52.806051Z"
    }
   },
   "outputs": [
    {
     "name": "stdout",
     "output_type": "stream",
     "text": [
      "WARNING:tensorflow:No training configuration found in the save file, so the model was *not* compiled. Compile it manually.\n",
      "Model: \"unet\"\n",
      "__________________________________________________________________________________________________\n",
      "Layer (type)                    Output Shape         Param #     Connected to                     \n",
      "==================================================================================================\n",
      "unet_input (InputLayer)         [(None, 128, 128, 3) 0                                            \n",
      "__________________________________________________________________________________________________\n",
      "sequential (Sequential)         (None, 64, 64, 64)   3136        unet_input[0][0]                 \n",
      "__________________________________________________________________________________________________\n",
      "sequential_1 (Sequential)       (None, 32, 32, 128)  131712      sequential[0][0]                 \n",
      "__________________________________________________________________________________________________\n",
      "sequential_2 (Sequential)       (None, 16, 16, 256)  525568      sequential_1[0][0]               \n",
      "__________________________________________________________________________________________________\n",
      "sequential_3 (Sequential)       (None, 8, 8, 512)    2099712     sequential_2[0][0]               \n",
      "__________________________________________________________________________________________________\n",
      "sequential_4 (Sequential)       (None, 4, 4, 512)    4196864     sequential_3[0][0]               \n",
      "__________________________________________________________________________________________________\n",
      "sequential_5 (Sequential)       (None, 2, 2, 512)    4196864     sequential_4[0][0]               \n",
      "__________________________________________________________________________________________________\n",
      "sequential_6 (Sequential)       (None, 1, 1, 512)    4196864     sequential_5[0][0]               \n",
      "__________________________________________________________________________________________________\n",
      "sequential_7 (Sequential)       (None, 2, 2, 512)    4196864     sequential_6[0][0]               \n",
      "__________________________________________________________________________________________________\n",
      "concatenate_1 (Concatenate)     (None, 2, 2, 1024)   0           sequential_7[0][0]               \n",
      "                                                                 sequential_5[0][0]               \n",
      "__________________________________________________________________________________________________\n",
      "sequential_8 (Sequential)       (None, 4, 4, 512)    8391168     concatenate_1[0][0]              \n",
      "__________________________________________________________________________________________________\n",
      "concatenate_2 (Concatenate)     (None, 4, 4, 1024)   0           sequential_8[0][0]               \n",
      "                                                                 sequential_4[0][0]               \n",
      "__________________________________________________________________________________________________\n",
      "sequential_9 (Sequential)       (None, 8, 8, 512)    8391168     concatenate_2[0][0]              \n",
      "__________________________________________________________________________________________________\n",
      "concatenate_3 (Concatenate)     (None, 8, 8, 1024)   0           sequential_9[0][0]               \n",
      "                                                                 sequential_3[0][0]               \n",
      "__________________________________________________________________________________________________\n",
      "sequential_10 (Sequential)      (None, 16, 16, 256)  4195584     concatenate_3[0][0]              \n",
      "__________________________________________________________________________________________________\n",
      "concatenate_4 (Concatenate)     (None, 16, 16, 512)  0           sequential_10[0][0]              \n",
      "                                                                 sequential_2[0][0]               \n",
      "__________________________________________________________________________________________________\n",
      "sequential_11 (Sequential)      (None, 32, 32, 128)  1049216     concatenate_4[0][0]              \n",
      "__________________________________________________________________________________________________\n",
      "concatenate_5 (Concatenate)     (None, 32, 32, 256)  0           sequential_11[0][0]              \n",
      "                                                                 sequential_1[0][0]               \n",
      "__________________________________________________________________________________________________\n",
      "sequential_12 (Sequential)      (None, 64, 64, 64)   262464      concatenate_5[0][0]              \n",
      "__________________________________________________________________________________________________\n",
      "concatenate_6 (Concatenate)     (None, 64, 64, 128)  0           sequential_12[0][0]              \n",
      "                                                                 sequential[0][0]                 \n",
      "__________________________________________________________________________________________________\n",
      "conv2d_transpose_6 (Conv2DTrans (None, 128, 128, 64) 131136      concatenate_6[0][0]              \n",
      "__________________________________________________________________________________________________\n",
      "unet_last (Conv2D)              (None, 128, 128, 3)  1731        conv2d_transpose_6[0][0]         \n",
      "==================================================================================================\n",
      "Total params: 41,970,051\n",
      "Trainable params: 41,961,219\n",
      "Non-trainable params: 8,832\n",
      "__________________________________________________________________________________________________\n",
      "model_dir/checkpoint/unetv2_mit_unp/00428_unetv2_mit_unp_3.68636e+03.h5\n"
     ]
    }
   ],
   "source": [
    "model = tf.keras.models.load_model(name_structure, custom_objects={'tf':tf, \"InstanceNormalization\":tfa.layers.InstanceNormalization})\n",
    "model.load_weights(checkpoints[-1])\n",
    "model.summary()\n",
    "print(checkpoints[-1])"
   ]
  },
  {
   "cell_type": "code",
   "execution_count": 18,
   "id": "c519ade3",
   "metadata": {
    "ExecuteTime": {
     "end_time": "2022-09-20T06:58:54.547742Z",
     "start_time": "2022-09-20T06:58:54.537807Z"
    }
   },
   "outputs": [
    {
     "name": "stdout",
     "output_type": "stream",
     "text": [
      "model_dir/checkpoint/unetv2_mit_unp/00428_unetv2_mit_unp_3.68636e+03.h5\n"
     ]
    }
   ],
   "source": [
    "print(checkpoints[-1])"
   ]
  },
  {
   "cell_type": "code",
   "execution_count": 19,
   "id": "af34dd81",
   "metadata": {
    "ExecuteTime": {
     "end_time": "2022-09-20T07:02:50.351921Z",
     "start_time": "2022-09-20T06:58:58.998116Z"
    }
   },
   "outputs": [
    {
     "name": "stderr",
     "output_type": "stream",
     "text": [
      "4000it [03:51, 17.29it/s]\n"
     ]
    }
   ],
   "source": [
    "# inference & save\n",
    "ntot = len(files)\n",
    "for idx, f in tqdm.tqdm(enumerate(files)):\n",
    "    name = f.split(mytype)[-1]\n",
    "    fsave = os.path.join(target_dir, name[0:])\n",
    "    fsave = target_dir + name[:-4]\n",
    "#     print('---->', name)\n",
    "#     print('====>', fsave)\n",
    "#     print('=-=->', target_dir)\n",
    "\n",
    "#     break\n",
    "\n",
    "    image = Image.open(f)\n",
    "    arr = np.array(image)\n",
    "#     print(arr.shape, np.amin(arr), np.amax(arr))\n",
    "\n",
    "    # normalize\n",
    "    arr = arr.astype(np.float32) / 255.\n",
    "    arr = arr*2 -1\n",
    "\n",
    "    # inference\n",
    "    pred = model.predict(arr[np.newaxis,...]) # (-1, 1) --> (-1, 1)\n",
    "\n",
    "    # expand (-1, 1) -> (0, 65535)\n",
    "    pred = pred[0]\n",
    "    pred = (pred +1) / 2 # (-1, 1) -> (0, 1)\n",
    "    pred = pred * 65535\n",
    "    pred = pred.astype(np.uint16)\n",
    "#     print('>>>>> ',fsave[:-7])\n",
    "#     print(pred.shape, np.amin(pred), np.amax(pred), pred.dtype)\n",
    "\n",
    "    os.makedirs(fsave[:-7], mode=777, exist_ok=True)\n",
    "    np.save(fsave, pred)\n",
    "\n",
    "\n",
    "#     break"
   ]
  },
  {
   "cell_type": "code",
   "execution_count": 28,
   "id": "f0e1c272",
   "metadata": {
    "ExecuteTime": {
     "end_time": "2022-09-17T15:49:02.550792Z",
     "start_time": "2022-09-17T15:49:00.042758Z"
    }
   },
   "outputs": [
    {
     "name": "stdout",
     "output_type": "stream",
     "text": [
      "Requirement already satisfied: tqdm in /usr/local/lib/python3.6/dist-packages (4.64.1)\n",
      "Requirement already satisfied: importlib-resources in /usr/local/lib/python3.6/dist-packages (from tqdm) (5.4.0)\n",
      "Requirement already satisfied: zipp>=3.1.0 in /usr/local/lib/python3.6/dist-packages (from importlib-resources->tqdm) (3.5.0)\n",
      "\u001b[33mWARNING: Running pip as the 'root' user can result in broken permissions and conflicting behaviour with the system package manager. It is recommended to use a virtual environment instead: https://pip.pypa.io/warnings/venv\u001b[0m\n"
     ]
    }
   ],
   "source": [
    "!pip install tqdm"
   ]
  },
  {
   "cell_type": "code",
   "execution_count": null,
   "id": "6f9e8a6b",
   "metadata": {},
   "outputs": [],
   "source": []
  },
  {
   "cell_type": "code",
   "execution_count": null,
   "id": "8eadd65c",
   "metadata": {},
   "outputs": [],
   "source": []
  },
  {
   "cell_type": "code",
   "execution_count": null,
   "id": "07155cb6",
   "metadata": {},
   "outputs": [],
   "source": []
  },
  {
   "cell_type": "code",
   "execution_count": null,
   "id": "fa8cc936",
   "metadata": {},
   "outputs": [],
   "source": []
  },
  {
   "cell_type": "code",
   "execution_count": null,
   "id": "9931f823",
   "metadata": {},
   "outputs": [],
   "source": []
  },
  {
   "cell_type": "code",
   "execution_count": null,
   "id": "f9aafbff",
   "metadata": {},
   "outputs": [],
   "source": []
  },
  {
   "cell_type": "code",
   "execution_count": null,
   "id": "295b6c62",
   "metadata": {},
   "outputs": [],
   "source": []
  },
  {
   "cell_type": "code",
   "execution_count": null,
   "id": "4c6d4fa3",
   "metadata": {},
   "outputs": [],
   "source": []
  },
  {
   "cell_type": "code",
   "execution_count": null,
   "id": "915d6ed2",
   "metadata": {},
   "outputs": [],
   "source": []
  },
  {
   "cell_type": "code",
   "execution_count": null,
   "id": "976feb01",
   "metadata": {},
   "outputs": [],
   "source": []
  },
  {
   "cell_type": "code",
   "execution_count": null,
   "id": "a73fa34d",
   "metadata": {},
   "outputs": [],
   "source": []
  }
 ],
 "metadata": {
  "kernelspec": {
   "display_name": "Python 3",
   "language": "python",
   "name": "python3"
  },
  "varInspector": {
   "cols": {
    "lenName": 16,
    "lenType": 16,
    "lenVar": 40
   },
   "kernels_config": {
    "python": {
     "delete_cmd_postfix": "",
     "delete_cmd_prefix": "del ",
     "library": "var_list.py",
     "varRefreshCmd": "print(var_dic_list())"
    },
    "r": {
     "delete_cmd_postfix": ") ",
     "delete_cmd_prefix": "rm(",
     "library": "var_list.r",
     "varRefreshCmd": "cat(var_dic_list()) "
    }
   },
   "types_to_exclude": [
    "module",
    "function",
    "builtin_function_or_method",
    "instance",
    "_Feature"
   ],
   "window_display": false
  }
 },
 "nbformat": 4,
 "nbformat_minor": 5
}
