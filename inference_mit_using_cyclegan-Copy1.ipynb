{
 "cells": [
  {
   "cell_type": "code",
   "execution_count": 1,
   "id": "f233c9e0",
   "metadata": {
    "ExecuteTime": {
     "end_time": "2022-09-18T04:16:01.377879Z",
     "start_time": "2022-09-18T04:16:01.374899Z"
    }
   },
   "outputs": [],
   "source": [
    "import os\n",
    "os.environ[\"CUDA_VISIBLE_DEVICES\"]=\"1\""
   ]
  },
  {
   "cell_type": "code",
   "execution_count": 2,
   "id": "be35f1ab",
   "metadata": {
    "ExecuteTime": {
     "end_time": "2022-09-18T04:16:02.496024Z",
     "start_time": "2022-09-18T04:16:02.481603Z"
    }
   },
   "outputs": [],
   "source": [
    "import glob, tqdm"
   ]
  },
  {
   "cell_type": "code",
   "execution_count": 3,
   "id": "917011ec",
   "metadata": {
    "ExecuteTime": {
     "end_time": "2022-09-18T04:16:05.253301Z",
     "start_time": "2022-09-18T04:16:03.842643Z"
    }
   },
   "outputs": [],
   "source": [
    "import tensorflow as tf\n",
    "import tensorflow_addons as tfa\n",
    "import numpy as np\n",
    "import PIL.Image as Image"
   ]
  },
  {
   "cell_type": "code",
   "execution_count": 5,
   "id": "2c8466cd",
   "metadata": {
    "ExecuteTime": {
     "end_time": "2022-09-18T04:16:17.081578Z",
     "start_time": "2022-09-18T04:16:17.054368Z"
    }
   },
   "outputs": [
    {
     "name": "stdout",
     "output_type": "stream",
     "text": [
      "/home/team01/datasets/mit/images/test\n",
      "['/home/team01/datasets/mit/images/test/hdrvdp/000', '/home/team01/datasets/mit/images/test/moire/000']\n",
      "/home/team01/datasets/mit/images/test/hdrvdp/000\n",
      "/home/team01/datasets/mit/images/test/moire/000\n",
      "/home/team01/datasets/mit/images/test/moire/000/000694.png\n"
     ]
    }
   ],
   "source": [
    "model_name = 'cycle_gan'\n",
    "model_sig  = 'bayer'\n",
    "base_dir  = '/home/team01/datasets/mit'\n",
    "\n",
    "mytype = 'train'\n",
    "# mytype = 'val'\n",
    "mytype = 'test'\n",
    "\n",
    "\n",
    "## find trining dataset\n",
    "src_dir = os.path.join(base_dir, 'images', mytype)\n",
    "folders = glob.glob(os.path.join(src_dir, '**', '**'))\n",
    "files = []\n",
    "folders.sort()\n",
    "print(src_dir)\n",
    "print(folders)\n",
    "for temp in folders:\n",
    "    folder_num = temp.split('/')[-1]\n",
    "    if mytype == 'train':\n",
    "        print(temp, folder_num)\n",
    "        if int(folder_num) % 10 == 1:\n",
    "            print(temp)\n",
    "            files += glob.glob(os.path.join(temp, '**/**.png'), recursive=True)\n",
    "    else:\n",
    "        print(temp)\n",
    "        files += glob.glob(os.path.join(temp, '**/**.png'), recursive=True)\n",
    "        \n",
    "\n",
    "print(files[-1])"
   ]
  },
  {
   "cell_type": "code",
   "execution_count": 6,
   "id": "72cd9e8c",
   "metadata": {
    "ExecuteTime": {
     "end_time": "2022-09-18T04:16:22.044367Z",
     "start_time": "2022-09-18T04:16:22.034910Z"
    }
   },
   "outputs": [
    {
     "name": "stdout",
     "output_type": "stream",
     "text": [
      "0 filelist.txt\n",
      "1 hdrvdp\n",
      "2 moire\n"
     ]
    }
   ],
   "source": [
    "dirs = os.listdir(src_dir)\n",
    "for idx, d in enumerate(dirs):\n",
    "    print(idx, d)"
   ]
  },
  {
   "cell_type": "code",
   "execution_count": 7,
   "id": "f1928fc7",
   "metadata": {
    "ExecuteTime": {
     "end_time": "2022-09-18T04:16:23.286875Z",
     "start_time": "2022-09-18T04:16:23.279112Z"
    }
   },
   "outputs": [],
   "source": [
    "# target folders\n",
    "new_name = 'images' + '_'  +  model_name + '_' + model_sig\n",
    "target_dir = os.path.join(base_dir,new_name, mytype)\n",
    "os.makedirs(target_dir, mode=777, exist_ok=True)"
   ]
  },
  {
   "cell_type": "code",
   "execution_count": 8,
   "id": "2b9a2916",
   "metadata": {
    "ExecuteTime": {
     "end_time": "2022-09-18T04:16:24.178716Z",
     "start_time": "2022-09-18T04:16:24.160753Z"
    }
   },
   "outputs": [
    {
     "data": {
      "text/plain": [
       "'/home/team01/datasets/mit/images_cycle_gan_bayer/test'"
      ]
     },
     "execution_count": 8,
     "metadata": {},
     "output_type": "execute_result"
    }
   ],
   "source": [
    "target_dir"
   ]
  },
  {
   "cell_type": "code",
   "execution_count": 9,
   "id": "a91478e1",
   "metadata": {
    "ExecuteTime": {
     "end_time": "2022-09-18T04:16:30.662383Z",
     "start_time": "2022-09-18T04:16:30.652671Z"
    }
   },
   "outputs": [
    {
     "name": "stdout",
     "output_type": "stream",
     "text": [
      "/home/team01/datasets/mit/images/test\n",
      "/home/team01/datasets/mit/images_cycle_gan_bayer/test\n",
      "model_dir/checkpoint/cycle_gan_G_model_structure.h5\n",
      "model_dir/checkpoint/cycle_gan_bayer\n"
     ]
    }
   ],
   "source": [
    "## model\n",
    "print(src_dir)\n",
    "print(target_dir)\n",
    "\n",
    "name_structure = os.path.join('model_dir', 'checkpoint', model_name + '_G_model_structure.h5')\n",
    "ckpt_path = os.path.join('model_dir', 'checkpoint',  model_name+'_'+model_sig )\n",
    "print(name_structure)\n",
    "print(ckpt_path)\n",
    "checkpoints = glob.glob(os.path.join(ckpt_path, '*.h5'))\n",
    "checkpoints.sort()"
   ]
  },
  {
   "cell_type": "code",
   "execution_count": 10,
   "id": "625c3a77",
   "metadata": {
    "ExecuteTime": {
     "end_time": "2022-09-18T04:16:35.676986Z",
     "start_time": "2022-09-18T04:16:31.642092Z"
    }
   },
   "outputs": [
    {
     "name": "stderr",
     "output_type": "stream",
     "text": [
      "WARNING:root:The given value for groups will be overwritten.\n",
      "WARNING:root:The given value for groups will be overwritten.\n",
      "WARNING:root:The given value for groups will be overwritten.\n",
      "WARNING:root:The given value for groups will be overwritten.\n",
      "WARNING:root:The given value for groups will be overwritten.\n",
      "WARNING:root:The given value for groups will be overwritten.\n",
      "WARNING:root:The given value for groups will be overwritten.\n",
      "WARNING:root:The given value for groups will be overwritten.\n",
      "WARNING:root:The given value for groups will be overwritten.\n",
      "WARNING:root:The given value for groups will be overwritten.\n",
      "WARNING:root:The given value for groups will be overwritten.\n",
      "WARNING:root:The given value for groups will be overwritten.\n",
      "WARNING:root:The given value for groups will be overwritten.\n",
      "WARNING:root:The given value for groups will be overwritten.\n",
      "WARNING:root:The given value for groups will be overwritten.\n",
      "WARNING:root:The given value for groups will be overwritten.\n",
      "WARNING:root:The given value for groups will be overwritten.\n",
      "WARNING:root:The given value for groups will be overwritten.\n",
      "WARNING:root:The given value for groups will be overwritten.\n",
      "WARNING:root:The given value for groups will be overwritten.\n",
      "WARNING:root:The given value for groups will be overwritten.\n",
      "WARNING:root:The given value for groups will be overwritten.\n",
      "WARNING:root:The given value for groups will be overwritten.\n"
     ]
    },
    {
     "name": "stdout",
     "output_type": "stream",
     "text": [
      "WARNING:tensorflow:No training configuration found in the save file, so the model was *not* compiled. Compile it manually.\n"
     ]
    },
    {
     "name": "stderr",
     "output_type": "stream",
     "text": [
      "WARNING:tensorflow:No training configuration found in the save file, so the model was *not* compiled. Compile it manually.\n"
     ]
    },
    {
     "name": "stdout",
     "output_type": "stream",
     "text": [
      "Model: \"generator_G\"\n",
      "__________________________________________________________________________________________________\n",
      "Layer (type)                    Output Shape         Param #     Connected to                     \n",
      "==================================================================================================\n",
      "generator_G_img_input (InputLay [(None, 128, 128, 3) 0                                            \n",
      "__________________________________________________________________________________________________\n",
      "conv2d (Conv2D)                 (None, 128, 128, 64) 9408        generator_G_img_input[0][0]      \n",
      "__________________________________________________________________________________________________\n",
      "instance_normalization (Instanc (None, 128, 128, 64) 128         conv2d[0][0]                     \n",
      "__________________________________________________________________________________________________\n",
      "activation (Activation)         (None, 128, 128, 64) 0           instance_normalization[0][0]     \n",
      "__________________________________________________________________________________________________\n",
      "conv2d_1 (Conv2D)               (None, 64, 64, 128)  73728       activation[0][0]                 \n",
      "__________________________________________________________________________________________________\n",
      "instance_normalization_1 (Insta (None, 64, 64, 128)  256         conv2d_1[0][0]                   \n",
      "__________________________________________________________________________________________________\n",
      "activation_1 (Activation)       (None, 64, 64, 128)  0           instance_normalization_1[0][0]   \n",
      "__________________________________________________________________________________________________\n",
      "conv2d_2 (Conv2D)               (None, 32, 32, 256)  294912      activation_1[0][0]               \n",
      "__________________________________________________________________________________________________\n",
      "instance_normalization_2 (Insta (None, 32, 32, 256)  512         conv2d_2[0][0]                   \n",
      "__________________________________________________________________________________________________\n",
      "activation_2 (Activation)       (None, 32, 32, 256)  0           instance_normalization_2[0][0]   \n",
      "__________________________________________________________________________________________________\n",
      "conv2d_3 (Conv2D)               (None, 32, 32, 256)  589824      activation_2[0][0]               \n",
      "__________________________________________________________________________________________________\n",
      "instance_normalization_3 (Insta (None, 32, 32, 256)  512         conv2d_3[0][0]                   \n",
      "__________________________________________________________________________________________________\n",
      "activation_3 (Activation)       (None, 32, 32, 256)  0           instance_normalization_3[0][0]   \n",
      "__________________________________________________________________________________________________\n",
      "conv2d_4 (Conv2D)               (None, 32, 32, 256)  589824      activation_3[0][0]               \n",
      "__________________________________________________________________________________________________\n",
      "instance_normalization_4 (Insta (None, 32, 32, 256)  512         conv2d_4[0][0]                   \n",
      "__________________________________________________________________________________________________\n",
      "add (Add)                       (None, 32, 32, 256)  0           activation_2[0][0]               \n",
      "                                                                 instance_normalization_4[0][0]   \n",
      "__________________________________________________________________________________________________\n",
      "conv2d_5 (Conv2D)               (None, 32, 32, 256)  589824      add[0][0]                        \n",
      "__________________________________________________________________________________________________\n",
      "instance_normalization_5 (Insta (None, 32, 32, 256)  512         conv2d_5[0][0]                   \n",
      "__________________________________________________________________________________________________\n",
      "activation_4 (Activation)       (None, 32, 32, 256)  0           instance_normalization_5[0][0]   \n",
      "__________________________________________________________________________________________________\n",
      "conv2d_6 (Conv2D)               (None, 32, 32, 256)  589824      activation_4[0][0]               \n",
      "__________________________________________________________________________________________________\n",
      "instance_normalization_6 (Insta (None, 32, 32, 256)  512         conv2d_6[0][0]                   \n",
      "__________________________________________________________________________________________________\n",
      "add_1 (Add)                     (None, 32, 32, 256)  0           add[0][0]                        \n",
      "                                                                 instance_normalization_6[0][0]   \n",
      "__________________________________________________________________________________________________\n",
      "conv2d_7 (Conv2D)               (None, 32, 32, 256)  589824      add_1[0][0]                      \n",
      "__________________________________________________________________________________________________\n",
      "instance_normalization_7 (Insta (None, 32, 32, 256)  512         conv2d_7[0][0]                   \n",
      "__________________________________________________________________________________________________\n",
      "activation_5 (Activation)       (None, 32, 32, 256)  0           instance_normalization_7[0][0]   \n",
      "__________________________________________________________________________________________________\n",
      "conv2d_8 (Conv2D)               (None, 32, 32, 256)  589824      activation_5[0][0]               \n",
      "__________________________________________________________________________________________________\n",
      "instance_normalization_8 (Insta (None, 32, 32, 256)  512         conv2d_8[0][0]                   \n",
      "__________________________________________________________________________________________________\n",
      "add_2 (Add)                     (None, 32, 32, 256)  0           add_1[0][0]                      \n",
      "                                                                 instance_normalization_8[0][0]   \n",
      "__________________________________________________________________________________________________\n",
      "conv2d_9 (Conv2D)               (None, 32, 32, 256)  589824      add_2[0][0]                      \n",
      "__________________________________________________________________________________________________\n",
      "instance_normalization_9 (Insta (None, 32, 32, 256)  512         conv2d_9[0][0]                   \n",
      "__________________________________________________________________________________________________\n",
      "activation_6 (Activation)       (None, 32, 32, 256)  0           instance_normalization_9[0][0]   \n",
      "__________________________________________________________________________________________________\n",
      "conv2d_10 (Conv2D)              (None, 32, 32, 256)  589824      activation_6[0][0]               \n",
      "__________________________________________________________________________________________________\n",
      "instance_normalization_10 (Inst (None, 32, 32, 256)  512         conv2d_10[0][0]                  \n",
      "__________________________________________________________________________________________________\n",
      "add_3 (Add)                     (None, 32, 32, 256)  0           add_2[0][0]                      \n",
      "                                                                 instance_normalization_10[0][0]  \n",
      "__________________________________________________________________________________________________\n",
      "conv2d_11 (Conv2D)              (None, 32, 32, 256)  589824      add_3[0][0]                      \n",
      "__________________________________________________________________________________________________\n",
      "instance_normalization_11 (Inst (None, 32, 32, 256)  512         conv2d_11[0][0]                  \n",
      "__________________________________________________________________________________________________\n",
      "activation_7 (Activation)       (None, 32, 32, 256)  0           instance_normalization_11[0][0]  \n",
      "__________________________________________________________________________________________________\n",
      "conv2d_12 (Conv2D)              (None, 32, 32, 256)  589824      activation_7[0][0]               \n",
      "__________________________________________________________________________________________________\n",
      "instance_normalization_12 (Inst (None, 32, 32, 256)  512         conv2d_12[0][0]                  \n",
      "__________________________________________________________________________________________________\n",
      "add_4 (Add)                     (None, 32, 32, 256)  0           add_3[0][0]                      \n",
      "                                                                 instance_normalization_12[0][0]  \n",
      "__________________________________________________________________________________________________\n",
      "conv2d_13 (Conv2D)              (None, 32, 32, 256)  589824      add_4[0][0]                      \n",
      "__________________________________________________________________________________________________\n",
      "instance_normalization_13 (Inst (None, 32, 32, 256)  512         conv2d_13[0][0]                  \n",
      "__________________________________________________________________________________________________\n",
      "activation_8 (Activation)       (None, 32, 32, 256)  0           instance_normalization_13[0][0]  \n",
      "__________________________________________________________________________________________________\n",
      "conv2d_14 (Conv2D)              (None, 32, 32, 256)  589824      activation_8[0][0]               \n",
      "__________________________________________________________________________________________________\n",
      "instance_normalization_14 (Inst (None, 32, 32, 256)  512         conv2d_14[0][0]                  \n",
      "__________________________________________________________________________________________________\n",
      "add_5 (Add)                     (None, 32, 32, 256)  0           add_4[0][0]                      \n",
      "                                                                 instance_normalization_14[0][0]  \n",
      "__________________________________________________________________________________________________\n",
      "conv2d_15 (Conv2D)              (None, 32, 32, 256)  589824      add_5[0][0]                      \n",
      "__________________________________________________________________________________________________\n",
      "instance_normalization_15 (Inst (None, 32, 32, 256)  512         conv2d_15[0][0]                  \n",
      "__________________________________________________________________________________________________\n",
      "activation_9 (Activation)       (None, 32, 32, 256)  0           instance_normalization_15[0][0]  \n",
      "__________________________________________________________________________________________________\n",
      "conv2d_16 (Conv2D)              (None, 32, 32, 256)  589824      activation_9[0][0]               \n",
      "__________________________________________________________________________________________________\n",
      "instance_normalization_16 (Inst (None, 32, 32, 256)  512         conv2d_16[0][0]                  \n",
      "__________________________________________________________________________________________________\n",
      "add_6 (Add)                     (None, 32, 32, 256)  0           add_5[0][0]                      \n",
      "                                                                 instance_normalization_16[0][0]  \n",
      "__________________________________________________________________________________________________\n",
      "conv2d_17 (Conv2D)              (None, 32, 32, 256)  589824      add_6[0][0]                      \n",
      "__________________________________________________________________________________________________\n",
      "instance_normalization_17 (Inst (None, 32, 32, 256)  512         conv2d_17[0][0]                  \n",
      "__________________________________________________________________________________________________\n",
      "activation_10 (Activation)      (None, 32, 32, 256)  0           instance_normalization_17[0][0]  \n",
      "__________________________________________________________________________________________________\n",
      "conv2d_18 (Conv2D)              (None, 32, 32, 256)  589824      activation_10[0][0]              \n",
      "__________________________________________________________________________________________________\n",
      "instance_normalization_18 (Inst (None, 32, 32, 256)  512         conv2d_18[0][0]                  \n",
      "__________________________________________________________________________________________________\n",
      "add_7 (Add)                     (None, 32, 32, 256)  0           add_6[0][0]                      \n",
      "                                                                 instance_normalization_18[0][0]  \n",
      "__________________________________________________________________________________________________\n",
      "conv2d_19 (Conv2D)              (None, 32, 32, 256)  589824      add_7[0][0]                      \n",
      "__________________________________________________________________________________________________\n",
      "instance_normalization_19 (Inst (None, 32, 32, 256)  512         conv2d_19[0][0]                  \n",
      "__________________________________________________________________________________________________\n",
      "activation_11 (Activation)      (None, 32, 32, 256)  0           instance_normalization_19[0][0]  \n",
      "__________________________________________________________________________________________________\n",
      "conv2d_20 (Conv2D)              (None, 32, 32, 256)  589824      activation_11[0][0]              \n",
      "__________________________________________________________________________________________________\n",
      "instance_normalization_20 (Inst (None, 32, 32, 256)  512         conv2d_20[0][0]                  \n",
      "__________________________________________________________________________________________________\n",
      "add_8 (Add)                     (None, 32, 32, 256)  0           add_7[0][0]                      \n",
      "                                                                 instance_normalization_20[0][0]  \n",
      "__________________________________________________________________________________________________\n",
      "conv2d_transpose (Conv2DTranspo (None, 64, 64, 128)  294912      add_8[0][0]                      \n",
      "__________________________________________________________________________________________________\n",
      "instance_normalization_21 (Inst (None, 64, 64, 128)  256         conv2d_transpose[0][0]           \n",
      "__________________________________________________________________________________________________\n",
      "activation_12 (Activation)      (None, 64, 64, 128)  0           instance_normalization_21[0][0]  \n",
      "__________________________________________________________________________________________________\n",
      "conv2d_transpose_1 (Conv2DTrans (None, 128, 128, 64) 73728       activation_12[0][0]              \n",
      "__________________________________________________________________________________________________\n",
      "instance_normalization_22 (Inst (None, 128, 128, 64) 128         conv2d_transpose_1[0][0]         \n",
      "__________________________________________________________________________________________________\n",
      "activation_13 (Activation)      (None, 128, 128, 64) 0           instance_normalization_22[0][0]  \n",
      "__________________________________________________________________________________________________\n",
      "conv2d_21 (Conv2D)              (None, 128, 128, 3)  9411        activation_13[0][0]              \n",
      "__________________________________________________________________________________________________\n",
      "activation_14 (Activation)      (None, 128, 128, 3)  0           conv2d_21[0][0]                  \n",
      "==================================================================================================\n",
      "Total params: 11,383,427\n",
      "Trainable params: 11,383,427\n",
      "Non-trainable params: 0\n",
      "__________________________________________________________________________________________________\n",
      "model_dir/checkpoint/cycle_gan_bayer/G_00523_cycle_gan_bayer_7.82073e-01.h5\n"
     ]
    }
   ],
   "source": [
    "model = tf.keras.models.load_model(name_structure, custom_objects={'tf':tf, \"InstanceNormalization\":tfa.layers.InstanceNormalization})\n",
    "model.load_weights(checkpoints[-1])\n",
    "model.summary()\n",
    "print(checkpoints[-1])"
   ]
  },
  {
   "cell_type": "code",
   "execution_count": 11,
   "id": "c519ade3",
   "metadata": {
    "ExecuteTime": {
     "end_time": "2022-09-18T04:16:37.725642Z",
     "start_time": "2022-09-18T04:16:37.718385Z"
    }
   },
   "outputs": [
    {
     "name": "stdout",
     "output_type": "stream",
     "text": [
      "model_dir/checkpoint/cycle_gan_bayer/G_00523_cycle_gan_bayer_7.82073e-01.h5\n"
     ]
    }
   ],
   "source": [
    "print(checkpoints[-1])"
   ]
  },
  {
   "cell_type": "code",
   "execution_count": 12,
   "id": "af34dd81",
   "metadata": {
    "ExecuteTime": {
     "end_time": "2022-09-18T04:18:56.960291Z",
     "start_time": "2022-09-18T04:16:43.590127Z"
    }
   },
   "outputs": [
    {
     "name": "stderr",
     "output_type": "stream",
     "text": [
      "2000it [02:13, 15.00it/s]\n"
     ]
    }
   ],
   "source": [
    "# inference & save\n",
    "ntot = len(files)\n",
    "for idx, f in tqdm.tqdm(enumerate(files)):\n",
    "    name = f.split(mytype)[-1]\n",
    "    fsave = os.path.join(target_dir, name[0:])\n",
    "    fsave = target_dir + name[:-4]\n",
    "#     print('---->', name)\n",
    "#     print('====>', fsave)\n",
    "#     print('=-=->', target_dir)\n",
    "\n",
    "#     break\n",
    "\n",
    "    image = Image.open(f)\n",
    "    arr = np.array(image)\n",
    "#     print(arr.shape, np.amin(arr), np.amax(arr))\n",
    "\n",
    "    # normalize\n",
    "    arr = arr.astype(np.float32) / 255.\n",
    "    arr = arr*2 -1\n",
    "\n",
    "    # inference\n",
    "    pred = model.predict(arr[np.newaxis,...]) # (-1, 1) --> (-1, 1)\n",
    "\n",
    "    # expand (-1, 1) -> (0, 65535)\n",
    "    pred = pred[0]\n",
    "    pred = (pred +1) / 2 # (-1, 1) -> (0, 1)\n",
    "    pred = pred * 65535\n",
    "    pred = pred.astype(np.uint16)\n",
    "#     print('>>>>> ',fsave[:-7])\n",
    "#     print(pred.shape, np.amin(pred), np.amax(pred), pred.dtype)\n",
    "\n",
    "    os.makedirs(fsave[:-7], mode=777, exist_ok=True)\n",
    "    np.save(fsave, pred)\n",
    "\n",
    "\n",
    "#     break"
   ]
  },
  {
   "cell_type": "code",
   "execution_count": 28,
   "id": "f0e1c272",
   "metadata": {
    "ExecuteTime": {
     "end_time": "2022-09-17T15:49:02.550792Z",
     "start_time": "2022-09-17T15:49:00.042758Z"
    }
   },
   "outputs": [
    {
     "name": "stdout",
     "output_type": "stream",
     "text": [
      "Requirement already satisfied: tqdm in /usr/local/lib/python3.6/dist-packages (4.64.1)\n",
      "Requirement already satisfied: importlib-resources in /usr/local/lib/python3.6/dist-packages (from tqdm) (5.4.0)\n",
      "Requirement already satisfied: zipp>=3.1.0 in /usr/local/lib/python3.6/dist-packages (from importlib-resources->tqdm) (3.5.0)\n",
      "\u001b[33mWARNING: Running pip as the 'root' user can result in broken permissions and conflicting behaviour with the system package manager. It is recommended to use a virtual environment instead: https://pip.pypa.io/warnings/venv\u001b[0m\n"
     ]
    }
   ],
   "source": [
    "!pip install tqdm"
   ]
  },
  {
   "cell_type": "code",
   "execution_count": null,
   "id": "6f9e8a6b",
   "metadata": {},
   "outputs": [],
   "source": []
  },
  {
   "cell_type": "code",
   "execution_count": null,
   "id": "8eadd65c",
   "metadata": {},
   "outputs": [],
   "source": []
  },
  {
   "cell_type": "code",
   "execution_count": null,
   "id": "07155cb6",
   "metadata": {},
   "outputs": [],
   "source": []
  },
  {
   "cell_type": "code",
   "execution_count": null,
   "id": "fa8cc936",
   "metadata": {},
   "outputs": [],
   "source": []
  },
  {
   "cell_type": "code",
   "execution_count": null,
   "id": "9931f823",
   "metadata": {},
   "outputs": [],
   "source": []
  },
  {
   "cell_type": "code",
   "execution_count": null,
   "id": "f9aafbff",
   "metadata": {},
   "outputs": [],
   "source": []
  },
  {
   "cell_type": "code",
   "execution_count": null,
   "id": "295b6c62",
   "metadata": {},
   "outputs": [],
   "source": []
  },
  {
   "cell_type": "code",
   "execution_count": null,
   "id": "4c6d4fa3",
   "metadata": {},
   "outputs": [],
   "source": []
  },
  {
   "cell_type": "code",
   "execution_count": null,
   "id": "915d6ed2",
   "metadata": {},
   "outputs": [],
   "source": []
  },
  {
   "cell_type": "code",
   "execution_count": null,
   "id": "976feb01",
   "metadata": {},
   "outputs": [],
   "source": []
  },
  {
   "cell_type": "code",
   "execution_count": null,
   "id": "a73fa34d",
   "metadata": {},
   "outputs": [],
   "source": []
  }
 ],
 "metadata": {
  "kernelspec": {
   "display_name": "Python 3",
   "language": "python",
   "name": "python3"
  },
  "language_info": {
   "codemirror_mode": {
    "name": "ipython",
    "version": 3
   },
   "file_extension": ".py",
   "mimetype": "text/x-python",
   "name": "python",
   "nbconvert_exporter": "python",
   "pygments_lexer": "ipython3",
   "version": "3.6.9"
  },
  "varInspector": {
   "cols": {
    "lenName": 16,
    "lenType": 16,
    "lenVar": 40
   },
   "kernels_config": {
    "python": {
     "delete_cmd_postfix": "",
     "delete_cmd_prefix": "del ",
     "library": "var_list.py",
     "varRefreshCmd": "print(var_dic_list())"
    },
    "r": {
     "delete_cmd_postfix": ") ",
     "delete_cmd_prefix": "rm(",
     "library": "var_list.r",
     "varRefreshCmd": "cat(var_dic_list()) "
    }
   },
   "types_to_exclude": [
    "module",
    "function",
    "builtin_function_or_method",
    "instance",
    "_Feature"
   ],
   "window_display": false
  }
 },
 "nbformat": 4,
 "nbformat_minor": 5
}
