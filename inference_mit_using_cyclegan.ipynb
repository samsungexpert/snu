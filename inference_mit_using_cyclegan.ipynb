{
 "cells": [
  {
   "cell_type": "code",
   "execution_count": 4,
   "id": "f233c9e0",
   "metadata": {
    "ExecuteTime": {
     "end_time": "2022-09-20T06:54:55.225882Z",
     "start_time": "2022-09-20T06:54:55.220729Z"
    }
   },
   "outputs": [],
   "source": [
    "import os\n",
    "os.environ[\"CUDA_VISIBLE_DEVICES\"]=\"0\""
   ]
  },
  {
   "cell_type": "code",
   "execution_count": 5,
   "id": "be35f1ab",
   "metadata": {
    "ExecuteTime": {
     "end_time": "2022-09-20T06:54:55.757292Z",
     "start_time": "2022-09-20T06:54:55.746970Z"
    }
   },
   "outputs": [],
   "source": [
    "import glob, tqdm"
   ]
  },
  {
   "cell_type": "code",
   "execution_count": 6,
   "id": "917011ec",
   "metadata": {
    "ExecuteTime": {
     "end_time": "2022-09-20T06:54:58.050869Z",
     "start_time": "2022-09-20T06:54:56.335679Z"
    }
   },
   "outputs": [],
   "source": [
    "import tensorflow as tf\n",
    "import tensorflow_addons as tfa\n",
    "import numpy as np\n",
    "import PIL.Image as Image"
   ]
  },
  {
   "cell_type": "code",
   "execution_count": 7,
   "id": "2c8466cd",
   "metadata": {
    "ExecuteTime": {
     "end_time": "2022-09-20T06:54:59.649341Z",
     "start_time": "2022-09-20T06:54:58.065988Z"
    }
   },
   "outputs": [
    {
     "name": "stdout",
     "output_type": "stream",
     "text": [
      "/home/team01/datasets/mit/images/train\n",
      "['/home/team01/datasets/mit/images/train/hdrvdp/000', '/home/team01/datasets/mit/images/train/hdrvdp/001', '/home/team01/datasets/mit/images/train/hdrvdp/002', '/home/team01/datasets/mit/images/train/hdrvdp/003', '/home/team01/datasets/mit/images/train/hdrvdp/004', '/home/team01/datasets/mit/images/train/hdrvdp/005', '/home/team01/datasets/mit/images/train/hdrvdp/006', '/home/team01/datasets/mit/images/train/hdrvdp/007', '/home/team01/datasets/mit/images/train/hdrvdp/008', '/home/team01/datasets/mit/images/train/hdrvdp/009', '/home/team01/datasets/mit/images/train/hdrvdp/010', '/home/team01/datasets/mit/images/train/hdrvdp/011', '/home/team01/datasets/mit/images/train/hdrvdp/012', '/home/team01/datasets/mit/images/train/hdrvdp/013', '/home/team01/datasets/mit/images/train/hdrvdp/014', '/home/team01/datasets/mit/images/train/hdrvdp/015', '/home/team01/datasets/mit/images/train/hdrvdp/016', '/home/team01/datasets/mit/images/train/hdrvdp/017', '/home/team01/datasets/mit/images/train/hdrvdp/018', '/home/team01/datasets/mit/images/train/hdrvdp/019', '/home/team01/datasets/mit/images/train/hdrvdp/020', '/home/team01/datasets/mit/images/train/hdrvdp/021', '/home/team01/datasets/mit/images/train/hdrvdp/022', '/home/team01/datasets/mit/images/train/hdrvdp/023', '/home/team01/datasets/mit/images/train/hdrvdp/024', '/home/team01/datasets/mit/images/train/hdrvdp/025', '/home/team01/datasets/mit/images/train/hdrvdp/026', '/home/team01/datasets/mit/images/train/hdrvdp/027', '/home/team01/datasets/mit/images/train/hdrvdp/028', '/home/team01/datasets/mit/images/train/hdrvdp/029', '/home/team01/datasets/mit/images/train/hdrvdp/030', '/home/team01/datasets/mit/images/train/hdrvdp/031', '/home/team01/datasets/mit/images/train/hdrvdp/032', '/home/team01/datasets/mit/images/train/hdrvdp/033', '/home/team01/datasets/mit/images/train/hdrvdp/034', '/home/team01/datasets/mit/images/train/hdrvdp/035', '/home/team01/datasets/mit/images/train/hdrvdp/036', '/home/team01/datasets/mit/images/train/hdrvdp/037', '/home/team01/datasets/mit/images/train/hdrvdp/038', '/home/team01/datasets/mit/images/train/hdrvdp/039', '/home/team01/datasets/mit/images/train/hdrvdp/040', '/home/team01/datasets/mit/images/train/hdrvdp/041', '/home/team01/datasets/mit/images/train/hdrvdp/042', '/home/team01/datasets/mit/images/train/hdrvdp/043', '/home/team01/datasets/mit/images/train/hdrvdp/044', '/home/team01/datasets/mit/images/train/hdrvdp/045', '/home/team01/datasets/mit/images/train/hdrvdp/046', '/home/team01/datasets/mit/images/train/hdrvdp/047', '/home/team01/datasets/mit/images/train/hdrvdp/048', '/home/team01/datasets/mit/images/train/hdrvdp/049', '/home/team01/datasets/mit/images/train/hdrvdp/050', '/home/team01/datasets/mit/images/train/hdrvdp/051', '/home/team01/datasets/mit/images/train/hdrvdp/052', '/home/team01/datasets/mit/images/train/hdrvdp/053', '/home/team01/datasets/mit/images/train/hdrvdp/054', '/home/team01/datasets/mit/images/train/hdrvdp/055', '/home/team01/datasets/mit/images/train/hdrvdp/056', '/home/team01/datasets/mit/images/train/hdrvdp/057', '/home/team01/datasets/mit/images/train/hdrvdp/058', '/home/team01/datasets/mit/images/train/hdrvdp/059', '/home/team01/datasets/mit/images/train/hdrvdp/060', '/home/team01/datasets/mit/images/train/hdrvdp/061', '/home/team01/datasets/mit/images/train/hdrvdp/062', '/home/team01/datasets/mit/images/train/hdrvdp/063', '/home/team01/datasets/mit/images/train/hdrvdp/064', '/home/team01/datasets/mit/images/train/hdrvdp/065', '/home/team01/datasets/mit/images/train/hdrvdp/066', '/home/team01/datasets/mit/images/train/hdrvdp/067', '/home/team01/datasets/mit/images/train/hdrvdp/068', '/home/team01/datasets/mit/images/train/hdrvdp/069', '/home/team01/datasets/mit/images/train/hdrvdp/070', '/home/team01/datasets/mit/images/train/hdrvdp/071', '/home/team01/datasets/mit/images/train/hdrvdp/072', '/home/team01/datasets/mit/images/train/hdrvdp/073', '/home/team01/datasets/mit/images/train/hdrvdp/074', '/home/team01/datasets/mit/images/train/hdrvdp/075', '/home/team01/datasets/mit/images/train/hdrvdp/076', '/home/team01/datasets/mit/images/train/hdrvdp/077', '/home/team01/datasets/mit/images/train/hdrvdp/078', '/home/team01/datasets/mit/images/train/hdrvdp/079', '/home/team01/datasets/mit/images/train/hdrvdp/080', '/home/team01/datasets/mit/images/train/hdrvdp/081', '/home/team01/datasets/mit/images/train/hdrvdp/082', '/home/team01/datasets/mit/images/train/hdrvdp/083', '/home/team01/datasets/mit/images/train/hdrvdp/084', '/home/team01/datasets/mit/images/train/hdrvdp/085', '/home/team01/datasets/mit/images/train/hdrvdp/086', '/home/team01/datasets/mit/images/train/hdrvdp/087', '/home/team01/datasets/mit/images/train/hdrvdp/088', '/home/team01/datasets/mit/images/train/hdrvdp/089', '/home/team01/datasets/mit/images/train/hdrvdp/090', '/home/team01/datasets/mit/images/train/hdrvdp/091', '/home/team01/datasets/mit/images/train/hdrvdp/092', '/home/team01/datasets/mit/images/train/hdrvdp/093', '/home/team01/datasets/mit/images/train/hdrvdp/094', '/home/team01/datasets/mit/images/train/hdrvdp/095', '/home/team01/datasets/mit/images/train/hdrvdp/096', '/home/team01/datasets/mit/images/train/hdrvdp/097', '/home/team01/datasets/mit/images/train/hdrvdp/098', '/home/team01/datasets/mit/images/train/hdrvdp/099', '/home/team01/datasets/mit/images/train/hdrvdp/100', '/home/team01/datasets/mit/images/train/hdrvdp/101', '/home/team01/datasets/mit/images/train/hdrvdp/102', '/home/team01/datasets/mit/images/train/hdrvdp/103', '/home/team01/datasets/mit/images/train/hdrvdp/104', '/home/team01/datasets/mit/images/train/hdrvdp/105', '/home/team01/datasets/mit/images/train/hdrvdp/106', '/home/team01/datasets/mit/images/train/hdrvdp/107', '/home/team01/datasets/mit/images/train/hdrvdp/108', '/home/team01/datasets/mit/images/train/hdrvdp/109', '/home/team01/datasets/mit/images/train/hdrvdp/110', '/home/team01/datasets/mit/images/train/hdrvdp/111', '/home/team01/datasets/mit/images/train/hdrvdp/112', '/home/team01/datasets/mit/images/train/hdrvdp/113', '/home/team01/datasets/mit/images/train/hdrvdp/114', '/home/team01/datasets/mit/images/train/hdrvdp/115', '/home/team01/datasets/mit/images/train/hdrvdp/116', '/home/team01/datasets/mit/images/train/hdrvdp/117', '/home/team01/datasets/mit/images/train/hdrvdp/118', '/home/team01/datasets/mit/images/train/hdrvdp/119', '/home/team01/datasets/mit/images/train/hdrvdp/120', '/home/team01/datasets/mit/images/train/hdrvdp/121', '/home/team01/datasets/mit/images/train/hdrvdp/122', '/home/team01/datasets/mit/images/train/hdrvdp/123', '/home/team01/datasets/mit/images/train/hdrvdp/124', '/home/team01/datasets/mit/images/train/hdrvdp/125', '/home/team01/datasets/mit/images/train/hdrvdp/126', '/home/team01/datasets/mit/images/train/hdrvdp/127', '/home/team01/datasets/mit/images/train/hdrvdp/128', '/home/team01/datasets/mit/images/train/hdrvdp/129', '/home/team01/datasets/mit/images/train/hdrvdp/130', '/home/team01/datasets/mit/images/train/hdrvdp/131', '/home/team01/datasets/mit/images/train/hdrvdp/132', '/home/team01/datasets/mit/images/train/hdrvdp/133', '/home/team01/datasets/mit/images/train/hdrvdp/134', '/home/team01/datasets/mit/images/train/hdrvdp/135', '/home/team01/datasets/mit/images/train/hdrvdp/136', '/home/team01/datasets/mit/images/train/hdrvdp/137', '/home/team01/datasets/mit/images/train/hdrvdp/138', '/home/team01/datasets/mit/images/train/hdrvdp/139', '/home/team01/datasets/mit/images/train/hdrvdp/140', '/home/team01/datasets/mit/images/train/hdrvdp/141', '/home/team01/datasets/mit/images/train/hdrvdp/142', '/home/team01/datasets/mit/images/train/hdrvdp/143', '/home/team01/datasets/mit/images/train/hdrvdp/144', '/home/team01/datasets/mit/images/train/hdrvdp/145', '/home/team01/datasets/mit/images/train/hdrvdp/146', '/home/team01/datasets/mit/images/train/hdrvdp/147', '/home/team01/datasets/mit/images/train/hdrvdp/148', '/home/team01/datasets/mit/images/train/hdrvdp/149', '/home/team01/datasets/mit/images/train/hdrvdp/150', '/home/team01/datasets/mit/images/train/hdrvdp/151', '/home/team01/datasets/mit/images/train/hdrvdp/152', '/home/team01/datasets/mit/images/train/hdrvdp/153', '/home/team01/datasets/mit/images/train/hdrvdp/154', '/home/team01/datasets/mit/images/train/hdrvdp/155', '/home/team01/datasets/mit/images/train/hdrvdp/156', '/home/team01/datasets/mit/images/train/hdrvdp/157', '/home/team01/datasets/mit/images/train/hdrvdp/158', '/home/team01/datasets/mit/images/train/hdrvdp/159', '/home/team01/datasets/mit/images/train/hdrvdp/160', '/home/team01/datasets/mit/images/train/hdrvdp/161', '/home/team01/datasets/mit/images/train/hdrvdp/162', '/home/team01/datasets/mit/images/train/hdrvdp/163', '/home/team01/datasets/mit/images/train/hdrvdp/164', '/home/team01/datasets/mit/images/train/hdrvdp/165', '/home/team01/datasets/mit/images/train/hdrvdp/166', '/home/team01/datasets/mit/images/train/hdrvdp/167', '/home/team01/datasets/mit/images/train/hdrvdp/168', '/home/team01/datasets/mit/images/train/hdrvdp/169', '/home/team01/datasets/mit/images/train/hdrvdp/170', '/home/team01/datasets/mit/images/train/hdrvdp/171', '/home/team01/datasets/mit/images/train/hdrvdp/172', '/home/team01/datasets/mit/images/train/hdrvdp/173', '/home/team01/datasets/mit/images/train/hdrvdp/174', '/home/team01/datasets/mit/images/train/hdrvdp/175', '/home/team01/datasets/mit/images/train/hdrvdp/176', '/home/team01/datasets/mit/images/train/hdrvdp/177', '/home/team01/datasets/mit/images/train/hdrvdp/178', '/home/team01/datasets/mit/images/train/hdrvdp/179', '/home/team01/datasets/mit/images/train/hdrvdp/180', '/home/team01/datasets/mit/images/train/hdrvdp/181', '/home/team01/datasets/mit/images/train/hdrvdp/182', '/home/team01/datasets/mit/images/train/hdrvdp/183', '/home/team01/datasets/mit/images/train/hdrvdp/184', '/home/team01/datasets/mit/images/train/hdrvdp/185', '/home/team01/datasets/mit/images/train/hdrvdp/186', '/home/team01/datasets/mit/images/train/hdrvdp/187', '/home/team01/datasets/mit/images/train/hdrvdp/188', '/home/team01/datasets/mit/images/train/hdrvdp/189', '/home/team01/datasets/mit/images/train/hdrvdp/190', '/home/team01/datasets/mit/images/train/hdrvdp/191', '/home/team01/datasets/mit/images/train/hdrvdp/192', '/home/team01/datasets/mit/images/train/hdrvdp/193', '/home/team01/datasets/mit/images/train/hdrvdp/194', '/home/team01/datasets/mit/images/train/hdrvdp/195', '/home/team01/datasets/mit/images/train/hdrvdp/196', '/home/team01/datasets/mit/images/train/hdrvdp/197', '/home/team01/datasets/mit/images/train/hdrvdp/198', '/home/team01/datasets/mit/images/train/hdrvdp/199', '/home/team01/datasets/mit/images/train/hdrvdp/200', '/home/team01/datasets/mit/images/train/hdrvdp/201', '/home/team01/datasets/mit/images/train/hdrvdp/202', '/home/team01/datasets/mit/images/train/hdrvdp/203', '/home/team01/datasets/mit/images/train/hdrvdp/204', '/home/team01/datasets/mit/images/train/hdrvdp/205', '/home/team01/datasets/mit/images/train/hdrvdp/206', '/home/team01/datasets/mit/images/train/hdrvdp/207', '/home/team01/datasets/mit/images/train/hdrvdp/208', '/home/team01/datasets/mit/images/train/hdrvdp/209', '/home/team01/datasets/mit/images/train/hdrvdp/210', '/home/team01/datasets/mit/images/train/hdrvdp/211', '/home/team01/datasets/mit/images/train/hdrvdp/212', '/home/team01/datasets/mit/images/train/hdrvdp/213', '/home/team01/datasets/mit/images/train/hdrvdp/214', '/home/team01/datasets/mit/images/train/hdrvdp/215', '/home/team01/datasets/mit/images/train/hdrvdp/216', '/home/team01/datasets/mit/images/train/hdrvdp/217', '/home/team01/datasets/mit/images/train/hdrvdp/218', '/home/team01/datasets/mit/images/train/hdrvdp/219', '/home/team01/datasets/mit/images/train/hdrvdp/220', '/home/team01/datasets/mit/images/train/hdrvdp/221', '/home/team01/datasets/mit/images/train/hdrvdp/222', '/home/team01/datasets/mit/images/train/hdrvdp/223', '/home/team01/datasets/mit/images/train/hdrvdp/224', '/home/team01/datasets/mit/images/train/hdrvdp/225', '/home/team01/datasets/mit/images/train/hdrvdp/226', '/home/team01/datasets/mit/images/train/hdrvdp/227', '/home/team01/datasets/mit/images/train/hdrvdp/228', '/home/team01/datasets/mit/images/train/hdrvdp/229', '/home/team01/datasets/mit/images/train/hdrvdp/230', '/home/team01/datasets/mit/images/train/hdrvdp/231', '/home/team01/datasets/mit/images/train/hdrvdp/232', '/home/team01/datasets/mit/images/train/hdrvdp/233', '/home/team01/datasets/mit/images/train/hdrvdp/234', '/home/team01/datasets/mit/images/train/hdrvdp/235', '/home/team01/datasets/mit/images/train/hdrvdp/236', '/home/team01/datasets/mit/images/train/hdrvdp/237', '/home/team01/datasets/mit/images/train/hdrvdp/238', '/home/team01/datasets/mit/images/train/hdrvdp/239', '/home/team01/datasets/mit/images/train/hdrvdp/240', '/home/team01/datasets/mit/images/train/hdrvdp/241', '/home/team01/datasets/mit/images/train/hdrvdp/242', '/home/team01/datasets/mit/images/train/hdrvdp/243', '/home/team01/datasets/mit/images/train/hdrvdp/244', '/home/team01/datasets/mit/images/train/hdrvdp/245', '/home/team01/datasets/mit/images/train/hdrvdp/246', '/home/team01/datasets/mit/images/train/hdrvdp/247', '/home/team01/datasets/mit/images/train/hdrvdp/248', '/home/team01/datasets/mit/images/train/moire/000', '/home/team01/datasets/mit/images/train/moire/001', '/home/team01/datasets/mit/images/train/moire/002', '/home/team01/datasets/mit/images/train/moire/003', '/home/team01/datasets/mit/images/train/moire/004', '/home/team01/datasets/mit/images/train/moire/005', '/home/team01/datasets/mit/images/train/moire/006', '/home/team01/datasets/mit/images/train/moire/007', '/home/team01/datasets/mit/images/train/moire/008', '/home/team01/datasets/mit/images/train/moire/009', '/home/team01/datasets/mit/images/train/moire/010']\n",
      "/home/team01/datasets/mit/images/train/hdrvdp/000 000\n",
      "/home/team01/datasets/mit/images/train/hdrvdp/001 001\n",
      "/home/team01/datasets/mit/images/train/hdrvdp/001\n",
      "/home/team01/datasets/mit/images/train/hdrvdp/002 002\n",
      "/home/team01/datasets/mit/images/train/hdrvdp/003 003\n",
      "/home/team01/datasets/mit/images/train/hdrvdp/004 004\n",
      "/home/team01/datasets/mit/images/train/hdrvdp/005 005\n",
      "/home/team01/datasets/mit/images/train/hdrvdp/006 006\n",
      "/home/team01/datasets/mit/images/train/hdrvdp/007 007\n",
      "/home/team01/datasets/mit/images/train/hdrvdp/008 008\n",
      "/home/team01/datasets/mit/images/train/hdrvdp/009 009\n",
      "/home/team01/datasets/mit/images/train/hdrvdp/010 010\n",
      "/home/team01/datasets/mit/images/train/hdrvdp/011 011\n",
      "/home/team01/datasets/mit/images/train/hdrvdp/011\n",
      "/home/team01/datasets/mit/images/train/hdrvdp/012 012\n",
      "/home/team01/datasets/mit/images/train/hdrvdp/013 013\n",
      "/home/team01/datasets/mit/images/train/hdrvdp/014 014\n",
      "/home/team01/datasets/mit/images/train/hdrvdp/015 015\n",
      "/home/team01/datasets/mit/images/train/hdrvdp/016 016\n",
      "/home/team01/datasets/mit/images/train/hdrvdp/017 017\n",
      "/home/team01/datasets/mit/images/train/hdrvdp/018 018\n",
      "/home/team01/datasets/mit/images/train/hdrvdp/019 019\n",
      "/home/team01/datasets/mit/images/train/hdrvdp/020 020\n",
      "/home/team01/datasets/mit/images/train/hdrvdp/021 021\n",
      "/home/team01/datasets/mit/images/train/hdrvdp/021\n",
      "/home/team01/datasets/mit/images/train/hdrvdp/022 022\n",
      "/home/team01/datasets/mit/images/train/hdrvdp/023 023\n",
      "/home/team01/datasets/mit/images/train/hdrvdp/024 024\n",
      "/home/team01/datasets/mit/images/train/hdrvdp/025 025\n",
      "/home/team01/datasets/mit/images/train/hdrvdp/026 026\n",
      "/home/team01/datasets/mit/images/train/hdrvdp/027 027\n",
      "/home/team01/datasets/mit/images/train/hdrvdp/028 028\n",
      "/home/team01/datasets/mit/images/train/hdrvdp/029 029\n",
      "/home/team01/datasets/mit/images/train/hdrvdp/030 030\n",
      "/home/team01/datasets/mit/images/train/hdrvdp/031 031\n",
      "/home/team01/datasets/mit/images/train/hdrvdp/031\n"
     ]
    },
    {
     "name": "stdout",
     "output_type": "stream",
     "text": [
      "/home/team01/datasets/mit/images/train/hdrvdp/032 032\n",
      "/home/team01/datasets/mit/images/train/hdrvdp/033 033\n",
      "/home/team01/datasets/mit/images/train/hdrvdp/034 034\n",
      "/home/team01/datasets/mit/images/train/hdrvdp/035 035\n",
      "/home/team01/datasets/mit/images/train/hdrvdp/036 036\n",
      "/home/team01/datasets/mit/images/train/hdrvdp/037 037\n",
      "/home/team01/datasets/mit/images/train/hdrvdp/038 038\n",
      "/home/team01/datasets/mit/images/train/hdrvdp/039 039\n",
      "/home/team01/datasets/mit/images/train/hdrvdp/040 040\n",
      "/home/team01/datasets/mit/images/train/hdrvdp/041 041\n",
      "/home/team01/datasets/mit/images/train/hdrvdp/041\n",
      "/home/team01/datasets/mit/images/train/hdrvdp/042 042\n",
      "/home/team01/datasets/mit/images/train/hdrvdp/043 043\n",
      "/home/team01/datasets/mit/images/train/hdrvdp/044 044\n",
      "/home/team01/datasets/mit/images/train/hdrvdp/045 045\n",
      "/home/team01/datasets/mit/images/train/hdrvdp/046 046\n",
      "/home/team01/datasets/mit/images/train/hdrvdp/047 047\n",
      "/home/team01/datasets/mit/images/train/hdrvdp/048 048\n",
      "/home/team01/datasets/mit/images/train/hdrvdp/049 049\n",
      "/home/team01/datasets/mit/images/train/hdrvdp/050 050\n",
      "/home/team01/datasets/mit/images/train/hdrvdp/051 051\n",
      "/home/team01/datasets/mit/images/train/hdrvdp/051\n",
      "/home/team01/datasets/mit/images/train/hdrvdp/052 052\n",
      "/home/team01/datasets/mit/images/train/hdrvdp/053 053\n",
      "/home/team01/datasets/mit/images/train/hdrvdp/054 054\n",
      "/home/team01/datasets/mit/images/train/hdrvdp/055 055\n",
      "/home/team01/datasets/mit/images/train/hdrvdp/056 056\n",
      "/home/team01/datasets/mit/images/train/hdrvdp/057 057\n",
      "/home/team01/datasets/mit/images/train/hdrvdp/058 058\n",
      "/home/team01/datasets/mit/images/train/hdrvdp/059 059\n",
      "/home/team01/datasets/mit/images/train/hdrvdp/060 060\n",
      "/home/team01/datasets/mit/images/train/hdrvdp/061 061\n",
      "/home/team01/datasets/mit/images/train/hdrvdp/061\n",
      "/home/team01/datasets/mit/images/train/hdrvdp/062 062\n",
      "/home/team01/datasets/mit/images/train/hdrvdp/063 063\n",
      "/home/team01/datasets/mit/images/train/hdrvdp/064 064\n",
      "/home/team01/datasets/mit/images/train/hdrvdp/065 065\n",
      "/home/team01/datasets/mit/images/train/hdrvdp/066 066\n",
      "/home/team01/datasets/mit/images/train/hdrvdp/067 067\n",
      "/home/team01/datasets/mit/images/train/hdrvdp/068 068\n",
      "/home/team01/datasets/mit/images/train/hdrvdp/069 069\n",
      "/home/team01/datasets/mit/images/train/hdrvdp/070 070\n",
      "/home/team01/datasets/mit/images/train/hdrvdp/071 071\n",
      "/home/team01/datasets/mit/images/train/hdrvdp/071\n",
      "/home/team01/datasets/mit/images/train/hdrvdp/072 072\n",
      "/home/team01/datasets/mit/images/train/hdrvdp/073 073\n",
      "/home/team01/datasets/mit/images/train/hdrvdp/074 074\n",
      "/home/team01/datasets/mit/images/train/hdrvdp/075 075\n",
      "/home/team01/datasets/mit/images/train/hdrvdp/076 076\n",
      "/home/team01/datasets/mit/images/train/hdrvdp/077 077\n",
      "/home/team01/datasets/mit/images/train/hdrvdp/078 078\n",
      "/home/team01/datasets/mit/images/train/hdrvdp/079 079\n",
      "/home/team01/datasets/mit/images/train/hdrvdp/080 080\n",
      "/home/team01/datasets/mit/images/train/hdrvdp/081 081\n",
      "/home/team01/datasets/mit/images/train/hdrvdp/081\n",
      "/home/team01/datasets/mit/images/train/hdrvdp/082 082\n",
      "/home/team01/datasets/mit/images/train/hdrvdp/083 083\n",
      "/home/team01/datasets/mit/images/train/hdrvdp/084 084\n",
      "/home/team01/datasets/mit/images/train/hdrvdp/085 085\n",
      "/home/team01/datasets/mit/images/train/hdrvdp/086 086\n",
      "/home/team01/datasets/mit/images/train/hdrvdp/087 087\n",
      "/home/team01/datasets/mit/images/train/hdrvdp/088 088\n",
      "/home/team01/datasets/mit/images/train/hdrvdp/089 089\n",
      "/home/team01/datasets/mit/images/train/hdrvdp/090 090\n",
      "/home/team01/datasets/mit/images/train/hdrvdp/091 091\n",
      "/home/team01/datasets/mit/images/train/hdrvdp/091\n",
      "/home/team01/datasets/mit/images/train/hdrvdp/092 092\n",
      "/home/team01/datasets/mit/images/train/hdrvdp/093 093\n",
      "/home/team01/datasets/mit/images/train/hdrvdp/094 094\n",
      "/home/team01/datasets/mit/images/train/hdrvdp/095 095\n",
      "/home/team01/datasets/mit/images/train/hdrvdp/096 096\n",
      "/home/team01/datasets/mit/images/train/hdrvdp/097 097\n",
      "/home/team01/datasets/mit/images/train/hdrvdp/098 098\n",
      "/home/team01/datasets/mit/images/train/hdrvdp/099 099\n",
      "/home/team01/datasets/mit/images/train/hdrvdp/100 100\n",
      "/home/team01/datasets/mit/images/train/hdrvdp/101 101\n",
      "/home/team01/datasets/mit/images/train/hdrvdp/101\n",
      "/home/team01/datasets/mit/images/train/hdrvdp/102 102\n",
      "/home/team01/datasets/mit/images/train/hdrvdp/103 103\n",
      "/home/team01/datasets/mit/images/train/hdrvdp/104 104\n",
      "/home/team01/datasets/mit/images/train/hdrvdp/105 105\n",
      "/home/team01/datasets/mit/images/train/hdrvdp/106 106\n",
      "/home/team01/datasets/mit/images/train/hdrvdp/107 107\n",
      "/home/team01/datasets/mit/images/train/hdrvdp/108 108\n",
      "/home/team01/datasets/mit/images/train/hdrvdp/109 109\n",
      "/home/team01/datasets/mit/images/train/hdrvdp/110 110\n",
      "/home/team01/datasets/mit/images/train/hdrvdp/111 111\n",
      "/home/team01/datasets/mit/images/train/hdrvdp/111\n",
      "/home/team01/datasets/mit/images/train/hdrvdp/112 112\n",
      "/home/team01/datasets/mit/images/train/hdrvdp/113 113\n",
      "/home/team01/datasets/mit/images/train/hdrvdp/114 114\n",
      "/home/team01/datasets/mit/images/train/hdrvdp/115 115\n",
      "/home/team01/datasets/mit/images/train/hdrvdp/116 116\n",
      "/home/team01/datasets/mit/images/train/hdrvdp/117 117\n",
      "/home/team01/datasets/mit/images/train/hdrvdp/118 118\n",
      "/home/team01/datasets/mit/images/train/hdrvdp/119 119\n",
      "/home/team01/datasets/mit/images/train/hdrvdp/120 120\n",
      "/home/team01/datasets/mit/images/train/hdrvdp/121 121\n",
      "/home/team01/datasets/mit/images/train/hdrvdp/121\n",
      "/home/team01/datasets/mit/images/train/hdrvdp/122 122\n",
      "/home/team01/datasets/mit/images/train/hdrvdp/123 123\n",
      "/home/team01/datasets/mit/images/train/hdrvdp/124 124\n",
      "/home/team01/datasets/mit/images/train/hdrvdp/125 125\n",
      "/home/team01/datasets/mit/images/train/hdrvdp/126 126\n",
      "/home/team01/datasets/mit/images/train/hdrvdp/127 127\n",
      "/home/team01/datasets/mit/images/train/hdrvdp/128 128\n",
      "/home/team01/datasets/mit/images/train/hdrvdp/129 129\n",
      "/home/team01/datasets/mit/images/train/hdrvdp/130 130\n",
      "/home/team01/datasets/mit/images/train/hdrvdp/131 131\n",
      "/home/team01/datasets/mit/images/train/hdrvdp/131\n",
      "/home/team01/datasets/mit/images/train/hdrvdp/132 132\n",
      "/home/team01/datasets/mit/images/train/hdrvdp/133 133\n",
      "/home/team01/datasets/mit/images/train/hdrvdp/134 134\n",
      "/home/team01/datasets/mit/images/train/hdrvdp/135 135\n",
      "/home/team01/datasets/mit/images/train/hdrvdp/136 136\n",
      "/home/team01/datasets/mit/images/train/hdrvdp/137 137\n",
      "/home/team01/datasets/mit/images/train/hdrvdp/138 138\n",
      "/home/team01/datasets/mit/images/train/hdrvdp/139 139\n",
      "/home/team01/datasets/mit/images/train/hdrvdp/140 140\n",
      "/home/team01/datasets/mit/images/train/hdrvdp/141 141\n",
      "/home/team01/datasets/mit/images/train/hdrvdp/141\n",
      "/home/team01/datasets/mit/images/train/hdrvdp/142 142\n",
      "/home/team01/datasets/mit/images/train/hdrvdp/143 143\n",
      "/home/team01/datasets/mit/images/train/hdrvdp/144 144\n",
      "/home/team01/datasets/mit/images/train/hdrvdp/145 145\n",
      "/home/team01/datasets/mit/images/train/hdrvdp/146 146\n",
      "/home/team01/datasets/mit/images/train/hdrvdp/147 147\n",
      "/home/team01/datasets/mit/images/train/hdrvdp/148 148\n",
      "/home/team01/datasets/mit/images/train/hdrvdp/149 149\n",
      "/home/team01/datasets/mit/images/train/hdrvdp/150 150\n",
      "/home/team01/datasets/mit/images/train/hdrvdp/151 151\n",
      "/home/team01/datasets/mit/images/train/hdrvdp/151\n",
      "/home/team01/datasets/mit/images/train/hdrvdp/152 152\n",
      "/home/team01/datasets/mit/images/train/hdrvdp/153 153\n",
      "/home/team01/datasets/mit/images/train/hdrvdp/154 154\n",
      "/home/team01/datasets/mit/images/train/hdrvdp/155 155\n",
      "/home/team01/datasets/mit/images/train/hdrvdp/156 156\n",
      "/home/team01/datasets/mit/images/train/hdrvdp/157 157\n",
      "/home/team01/datasets/mit/images/train/hdrvdp/158 158\n",
      "/home/team01/datasets/mit/images/train/hdrvdp/159 159\n",
      "/home/team01/datasets/mit/images/train/hdrvdp/160 160\n",
      "/home/team01/datasets/mit/images/train/hdrvdp/161 161\n",
      "/home/team01/datasets/mit/images/train/hdrvdp/161\n",
      "/home/team01/datasets/mit/images/train/hdrvdp/162 162\n",
      "/home/team01/datasets/mit/images/train/hdrvdp/163 163\n",
      "/home/team01/datasets/mit/images/train/hdrvdp/164 164\n",
      "/home/team01/datasets/mit/images/train/hdrvdp/165 165\n",
      "/home/team01/datasets/mit/images/train/hdrvdp/166 166\n",
      "/home/team01/datasets/mit/images/train/hdrvdp/167 167\n",
      "/home/team01/datasets/mit/images/train/hdrvdp/168 168\n",
      "/home/team01/datasets/mit/images/train/hdrvdp/169 169\n",
      "/home/team01/datasets/mit/images/train/hdrvdp/170 170\n",
      "/home/team01/datasets/mit/images/train/hdrvdp/171 171\n",
      "/home/team01/datasets/mit/images/train/hdrvdp/171\n",
      "/home/team01/datasets/mit/images/train/hdrvdp/172 172\n",
      "/home/team01/datasets/mit/images/train/hdrvdp/173 173\n",
      "/home/team01/datasets/mit/images/train/hdrvdp/174 174\n",
      "/home/team01/datasets/mit/images/train/hdrvdp/175 175\n",
      "/home/team01/datasets/mit/images/train/hdrvdp/176 176\n",
      "/home/team01/datasets/mit/images/train/hdrvdp/177 177\n",
      "/home/team01/datasets/mit/images/train/hdrvdp/178 178\n",
      "/home/team01/datasets/mit/images/train/hdrvdp/179 179\n",
      "/home/team01/datasets/mit/images/train/hdrvdp/180 180\n",
      "/home/team01/datasets/mit/images/train/hdrvdp/181 181\n",
      "/home/team01/datasets/mit/images/train/hdrvdp/181\n",
      "/home/team01/datasets/mit/images/train/hdrvdp/182 182\n",
      "/home/team01/datasets/mit/images/train/hdrvdp/183 183\n",
      "/home/team01/datasets/mit/images/train/hdrvdp/184 184\n",
      "/home/team01/datasets/mit/images/train/hdrvdp/185 185\n",
      "/home/team01/datasets/mit/images/train/hdrvdp/186 186\n",
      "/home/team01/datasets/mit/images/train/hdrvdp/187 187\n",
      "/home/team01/datasets/mit/images/train/hdrvdp/188 188\n",
      "/home/team01/datasets/mit/images/train/hdrvdp/189 189\n",
      "/home/team01/datasets/mit/images/train/hdrvdp/190 190\n",
      "/home/team01/datasets/mit/images/train/hdrvdp/191 191\n",
      "/home/team01/datasets/mit/images/train/hdrvdp/191\n"
     ]
    },
    {
     "name": "stdout",
     "output_type": "stream",
     "text": [
      "/home/team01/datasets/mit/images/train/hdrvdp/192 192\n",
      "/home/team01/datasets/mit/images/train/hdrvdp/193 193\n",
      "/home/team01/datasets/mit/images/train/hdrvdp/194 194\n",
      "/home/team01/datasets/mit/images/train/hdrvdp/195 195\n",
      "/home/team01/datasets/mit/images/train/hdrvdp/196 196\n",
      "/home/team01/datasets/mit/images/train/hdrvdp/197 197\n",
      "/home/team01/datasets/mit/images/train/hdrvdp/198 198\n",
      "/home/team01/datasets/mit/images/train/hdrvdp/199 199\n",
      "/home/team01/datasets/mit/images/train/hdrvdp/200 200\n",
      "/home/team01/datasets/mit/images/train/hdrvdp/201 201\n",
      "/home/team01/datasets/mit/images/train/hdrvdp/201\n",
      "/home/team01/datasets/mit/images/train/hdrvdp/202 202\n",
      "/home/team01/datasets/mit/images/train/hdrvdp/203 203\n",
      "/home/team01/datasets/mit/images/train/hdrvdp/204 204\n",
      "/home/team01/datasets/mit/images/train/hdrvdp/205 205\n",
      "/home/team01/datasets/mit/images/train/hdrvdp/206 206\n",
      "/home/team01/datasets/mit/images/train/hdrvdp/207 207\n",
      "/home/team01/datasets/mit/images/train/hdrvdp/208 208\n",
      "/home/team01/datasets/mit/images/train/hdrvdp/209 209\n",
      "/home/team01/datasets/mit/images/train/hdrvdp/210 210\n",
      "/home/team01/datasets/mit/images/train/hdrvdp/211 211\n",
      "/home/team01/datasets/mit/images/train/hdrvdp/211\n",
      "/home/team01/datasets/mit/images/train/hdrvdp/212 212\n",
      "/home/team01/datasets/mit/images/train/hdrvdp/213 213\n",
      "/home/team01/datasets/mit/images/train/hdrvdp/214 214\n",
      "/home/team01/datasets/mit/images/train/hdrvdp/215 215\n",
      "/home/team01/datasets/mit/images/train/hdrvdp/216 216\n",
      "/home/team01/datasets/mit/images/train/hdrvdp/217 217\n",
      "/home/team01/datasets/mit/images/train/hdrvdp/218 218\n",
      "/home/team01/datasets/mit/images/train/hdrvdp/219 219\n",
      "/home/team01/datasets/mit/images/train/hdrvdp/220 220\n",
      "/home/team01/datasets/mit/images/train/hdrvdp/221 221\n",
      "/home/team01/datasets/mit/images/train/hdrvdp/221\n",
      "/home/team01/datasets/mit/images/train/hdrvdp/222 222\n",
      "/home/team01/datasets/mit/images/train/hdrvdp/223 223\n",
      "/home/team01/datasets/mit/images/train/hdrvdp/224 224\n",
      "/home/team01/datasets/mit/images/train/hdrvdp/225 225\n",
      "/home/team01/datasets/mit/images/train/hdrvdp/226 226\n",
      "/home/team01/datasets/mit/images/train/hdrvdp/227 227\n",
      "/home/team01/datasets/mit/images/train/hdrvdp/228 228\n",
      "/home/team01/datasets/mit/images/train/hdrvdp/229 229\n",
      "/home/team01/datasets/mit/images/train/hdrvdp/230 230\n",
      "/home/team01/datasets/mit/images/train/hdrvdp/231 231\n",
      "/home/team01/datasets/mit/images/train/hdrvdp/231\n",
      "/home/team01/datasets/mit/images/train/hdrvdp/232 232\n",
      "/home/team01/datasets/mit/images/train/hdrvdp/233 233\n",
      "/home/team01/datasets/mit/images/train/hdrvdp/234 234\n",
      "/home/team01/datasets/mit/images/train/hdrvdp/235 235\n",
      "/home/team01/datasets/mit/images/train/hdrvdp/236 236\n",
      "/home/team01/datasets/mit/images/train/hdrvdp/237 237\n",
      "/home/team01/datasets/mit/images/train/hdrvdp/238 238\n",
      "/home/team01/datasets/mit/images/train/hdrvdp/239 239\n",
      "/home/team01/datasets/mit/images/train/hdrvdp/240 240\n",
      "/home/team01/datasets/mit/images/train/hdrvdp/241 241\n",
      "/home/team01/datasets/mit/images/train/hdrvdp/241\n",
      "/home/team01/datasets/mit/images/train/hdrvdp/242 242\n",
      "/home/team01/datasets/mit/images/train/hdrvdp/243 243\n",
      "/home/team01/datasets/mit/images/train/hdrvdp/244 244\n",
      "/home/team01/datasets/mit/images/train/hdrvdp/245 245\n",
      "/home/team01/datasets/mit/images/train/hdrvdp/246 246\n",
      "/home/team01/datasets/mit/images/train/hdrvdp/247 247\n",
      "/home/team01/datasets/mit/images/train/hdrvdp/248 248\n",
      "/home/team01/datasets/mit/images/train/moire/000 000\n",
      "/home/team01/datasets/mit/images/train/moire/001 001\n",
      "/home/team01/datasets/mit/images/train/moire/001\n",
      "/home/team01/datasets/mit/images/train/moire/002 002\n",
      "/home/team01/datasets/mit/images/train/moire/003 003\n",
      "/home/team01/datasets/mit/images/train/moire/004 004\n",
      "/home/team01/datasets/mit/images/train/moire/005 005\n",
      "/home/team01/datasets/mit/images/train/moire/006 006\n",
      "/home/team01/datasets/mit/images/train/moire/007 007\n",
      "/home/team01/datasets/mit/images/train/moire/008 008\n",
      "/home/team01/datasets/mit/images/train/moire/009 009\n",
      "/home/team01/datasets/mit/images/train/moire/010 010\n",
      "/home/team01/datasets/mit/images/train/moire/001/017004.png\n"
     ]
    }
   ],
   "source": [
    "model_name = 'unetv2'\n",
    "model_sig  = 'mit_unp'\n",
    "base_dir  = '/home/team01/datasets/mit'\n",
    "\n",
    "mytype = 'train'\n",
    "# mytype = 'val'\n",
    "# mytype = 'train'\n",
    "\n",
    "\n",
    "## find trining dataset\n",
    "src_dir = os.path.join(base_dir, 'images', mytype)\n",
    "folders = glob.glob(os.path.join(src_dir, '**', '**'))\n",
    "files = []\n",
    "folders.sort()\n",
    "print(src_dir)\n",
    "print(folders)\n",
    "for temp in folders:\n",
    "    folder_num = temp.split('/')[-1]\n",
    "    if mytype == 'train':\n",
    "        print(temp, folder_num)\n",
    "        if int(folder_num) % 10 == 1:\n",
    "            print(temp)\n",
    "            files += glob.glob(os.path.join(temp, '**/**.png'), recursive=True)\n",
    "    else:\n",
    "        print(temp)\n",
    "        files += glob.glob(os.path.join(temp, '**/**.png'), recursive=True)\n",
    "        \n",
    "\n",
    "print(files[-1])"
   ]
  },
  {
   "cell_type": "code",
   "execution_count": 8,
   "id": "72cd9e8c",
   "metadata": {
    "ExecuteTime": {
     "end_time": "2022-09-20T06:54:59.852675Z",
     "start_time": "2022-09-20T06:54:59.844923Z"
    }
   },
   "outputs": [
    {
     "name": "stdout",
     "output_type": "stream",
     "text": [
      "0 filelist.txt\n",
      "1 hdrvdp\n",
      "2 moire\n",
      "3 check.py\n"
     ]
    }
   ],
   "source": [
    "dirs = os.listdir(src_dir)\n",
    "for idx, d in enumerate(dirs):\n",
    "    print(idx, d)"
   ]
  },
  {
   "cell_type": "code",
   "execution_count": 9,
   "id": "f1928fc7",
   "metadata": {
    "ExecuteTime": {
     "end_time": "2022-09-20T06:55:00.049029Z",
     "start_time": "2022-09-20T06:55:00.044563Z"
    }
   },
   "outputs": [],
   "source": [
    "# target folders\n",
    "new_name = 'images' + '_'  +  model_name + '_' + model_sig\n",
    "target_dir = os.path.join(base_dir,new_name, mytype)\n",
    "os.makedirs(target_dir, mode=777, exist_ok=True)"
   ]
  },
  {
   "cell_type": "code",
   "execution_count": 10,
   "id": "2b9a2916",
   "metadata": {
    "ExecuteTime": {
     "end_time": "2022-09-20T06:55:00.247741Z",
     "start_time": "2022-09-20T06:55:00.234889Z"
    }
   },
   "outputs": [
    {
     "data": {
      "text/plain": [
       "'/home/team01/datasets/mit/images_unetv2_mit_unp/train'"
      ]
     },
     "execution_count": 10,
     "metadata": {},
     "output_type": "execute_result"
    }
   ],
   "source": [
    "target_dir"
   ]
  },
  {
   "cell_type": "code",
   "execution_count": 11,
   "id": "a91478e1",
   "metadata": {
    "ExecuteTime": {
     "end_time": "2022-09-20T06:55:42.371873Z",
     "start_time": "2022-09-20T06:55:42.360009Z"
    }
   },
   "outputs": [
    {
     "name": "stdout",
     "output_type": "stream",
     "text": [
      "/home/team01/datasets/mit/images/train\n",
      "/home/team01/datasets/mit/images_unetv2_mit_unp/train\n",
      "model_dir/checkpoint/unetv2_model_structure.h5\n",
      "model_dir/checkpoint/unetv2_mit_unp\n"
     ]
    }
   ],
   "source": [
    "## model\n",
    "print(src_dir)\n",
    "print(target_dir)\n",
    "\n",
    "name_structure = os.path.join('model_dir', 'checkpoint', model_name + '_model_structure.h5')\n",
    "ckpt_path = os.path.join('model_dir', 'checkpoint',  model_name+'_'+model_sig )\n",
    "print(name_structure)\n",
    "print(ckpt_path)\n",
    "checkpoints = glob.glob(os.path.join(ckpt_path, '*.h5'))\n",
    "checkpoints.sort()"
   ]
  },
  {
   "cell_type": "code",
   "execution_count": 12,
   "id": "625c3a77",
   "metadata": {
    "ExecuteTime": {
     "end_time": "2022-09-20T06:55:47.100603Z",
     "start_time": "2022-09-20T06:55:43.032928Z"
    }
   },
   "outputs": [
    {
     "name": "stdout",
     "output_type": "stream",
     "text": [
      "WARNING:tensorflow:No training configuration found in the save file, so the model was *not* compiled. Compile it manually.\n",
      "Model: \"unet\"\n",
      "__________________________________________________________________________________________________\n",
      "Layer (type)                    Output Shape         Param #     Connected to                     \n",
      "==================================================================================================\n",
      "unet_input (InputLayer)         [(None, 128, 128, 3) 0                                            \n",
      "__________________________________________________________________________________________________\n",
      "sequential (Sequential)         (None, 64, 64, 64)   3136        unet_input[0][0]                 \n",
      "__________________________________________________________________________________________________\n",
      "sequential_1 (Sequential)       (None, 32, 32, 128)  131712      sequential[0][0]                 \n",
      "__________________________________________________________________________________________________\n",
      "sequential_2 (Sequential)       (None, 16, 16, 256)  525568      sequential_1[0][0]               \n",
      "__________________________________________________________________________________________________\n",
      "sequential_3 (Sequential)       (None, 8, 8, 512)    2099712     sequential_2[0][0]               \n",
      "__________________________________________________________________________________________________\n",
      "sequential_4 (Sequential)       (None, 4, 4, 512)    4196864     sequential_3[0][0]               \n",
      "__________________________________________________________________________________________________\n",
      "sequential_5 (Sequential)       (None, 2, 2, 512)    4196864     sequential_4[0][0]               \n",
      "__________________________________________________________________________________________________\n",
      "sequential_6 (Sequential)       (None, 1, 1, 512)    4196864     sequential_5[0][0]               \n",
      "__________________________________________________________________________________________________\n",
      "sequential_7 (Sequential)       (None, 2, 2, 512)    4196864     sequential_6[0][0]               \n",
      "__________________________________________________________________________________________________\n",
      "concatenate_1 (Concatenate)     (None, 2, 2, 1024)   0           sequential_7[0][0]               \n",
      "                                                                 sequential_5[0][0]               \n",
      "__________________________________________________________________________________________________\n",
      "sequential_8 (Sequential)       (None, 4, 4, 512)    8391168     concatenate_1[0][0]              \n",
      "__________________________________________________________________________________________________\n",
      "concatenate_2 (Concatenate)     (None, 4, 4, 1024)   0           sequential_8[0][0]               \n",
      "                                                                 sequential_4[0][0]               \n",
      "__________________________________________________________________________________________________\n",
      "sequential_9 (Sequential)       (None, 8, 8, 512)    8391168     concatenate_2[0][0]              \n",
      "__________________________________________________________________________________________________\n",
      "concatenate_3 (Concatenate)     (None, 8, 8, 1024)   0           sequential_9[0][0]               \n",
      "                                                                 sequential_3[0][0]               \n",
      "__________________________________________________________________________________________________\n",
      "sequential_10 (Sequential)      (None, 16, 16, 256)  4195584     concatenate_3[0][0]              \n",
      "__________________________________________________________________________________________________\n",
      "concatenate_4 (Concatenate)     (None, 16, 16, 512)  0           sequential_10[0][0]              \n",
      "                                                                 sequential_2[0][0]               \n",
      "__________________________________________________________________________________________________\n",
      "sequential_11 (Sequential)      (None, 32, 32, 128)  1049216     concatenate_4[0][0]              \n",
      "__________________________________________________________________________________________________\n",
      "concatenate_5 (Concatenate)     (None, 32, 32, 256)  0           sequential_11[0][0]              \n",
      "                                                                 sequential_1[0][0]               \n",
      "__________________________________________________________________________________________________\n",
      "sequential_12 (Sequential)      (None, 64, 64, 64)   262464      concatenate_5[0][0]              \n",
      "__________________________________________________________________________________________________\n",
      "concatenate_6 (Concatenate)     (None, 64, 64, 128)  0           sequential_12[0][0]              \n",
      "                                                                 sequential[0][0]                 \n",
      "__________________________________________________________________________________________________\n",
      "conv2d_transpose_6 (Conv2DTrans (None, 128, 128, 64) 131136      concatenate_6[0][0]              \n",
      "__________________________________________________________________________________________________\n",
      "unet_last (Conv2D)              (None, 128, 128, 3)  1731        conv2d_transpose_6[0][0]         \n",
      "==================================================================================================\n",
      "Total params: 41,970,051\n",
      "Trainable params: 41,961,219\n",
      "Non-trainable params: 8,832\n",
      "__________________________________________________________________________________________________\n",
      "model_dir/checkpoint/unetv2_mit_unp/00428_unetv2_mit_unp_3.68636e+03.h5\n"
     ]
    }
   ],
   "source": [
    "model = tf.keras.models.load_model(name_structure, custom_objects={'tf':tf, \"InstanceNormalization\":tfa.layers.InstanceNormalization})\n",
    "model.load_weights(checkpoints[-1])\n",
    "model.summary()\n",
    "print(checkpoints[-1])"
   ]
  },
  {
   "cell_type": "code",
   "execution_count": 13,
   "id": "c519ade3",
   "metadata": {
    "ExecuteTime": {
     "end_time": "2022-09-20T06:55:49.864532Z",
     "start_time": "2022-09-20T06:55:49.858910Z"
    }
   },
   "outputs": [
    {
     "name": "stdout",
     "output_type": "stream",
     "text": [
      "model_dir/checkpoint/unetv2_mit_unp/00428_unetv2_mit_unp_3.68636e+03.h5\n"
     ]
    }
   ],
   "source": [
    "print(checkpoints[-1])"
   ]
  },
  {
   "cell_type": "code",
   "execution_count": 14,
   "id": "af34dd81",
   "metadata": {
    "ExecuteTime": {
     "end_time": "2022-09-20T11:19:27.077840Z",
     "start_time": "2022-09-20T06:55:52.056619Z"
    }
   },
   "outputs": [
    {
     "name": "stderr",
     "output_type": "stream",
     "text": [
      "260000it [4:23:34, 16.44it/s]\n"
     ]
    }
   ],
   "source": [
    "# inference & save\n",
    "ntot = len(files)\n",
    "for idx, f in tqdm.tqdm(enumerate(files)):\n",
    "    name = f.split(mytype)[-1]\n",
    "    fsave = os.path.join(target_dir, name[0:])\n",
    "    fsave = target_dir + name[:-4]\n",
    "#     print('---->', name)\n",
    "#     print('====>', fsave)\n",
    "#     print('=-=->', target_dir)\n",
    "\n",
    "#     break\n",
    "\n",
    "    image = Image.open(f)\n",
    "    arr = np.array(image)\n",
    "#     print(arr.shape, np.amin(arr), np.amax(arr))\n",
    "\n",
    "    # normalize\n",
    "    arr = arr.astype(np.float32) / 255.\n",
    "    arr = arr*2 -1\n",
    "\n",
    "    # inference\n",
    "    pred = model.predict(arr[np.newaxis,...]) # (-1, 1) --> (-1, 1)\n",
    "#     print('pred.min', np.amin(pred), ', pred.max', np.amax(pred))\n",
    "#     break\n",
    "\n",
    "    # expand (-1, 1) -> (0, 65535)\n",
    "    pred = pred[0]\n",
    "    pred = (pred +1) / 2 # (-1, 1) -> (0, 1)\n",
    "    pred = pred * 65535\n",
    "    pred = pred.astype(np.uint16)\n",
    "#     print('>>>>> ',fsave[:-7])\n",
    "#     print(pred.shape, np.amin(pred), np.amax(pred), pred.dtype)\n",
    "\n",
    "    os.makedirs(fsave[:-7], mode=777, exist_ok=True)\n",
    "    np.save(fsave, pred)\n",
    "\n",
    "\n",
    "#     break"
   ]
  },
  {
   "cell_type": "code",
   "execution_count": 28,
   "id": "f0e1c272",
   "metadata": {
    "ExecuteTime": {
     "end_time": "2022-09-17T15:49:02.550792Z",
     "start_time": "2022-09-17T15:49:00.042758Z"
    }
   },
   "outputs": [
    {
     "name": "stdout",
     "output_type": "stream",
     "text": [
      "Requirement already satisfied: tqdm in /usr/local/lib/python3.6/dist-packages (4.64.1)\n",
      "Requirement already satisfied: importlib-resources in /usr/local/lib/python3.6/dist-packages (from tqdm) (5.4.0)\n",
      "Requirement already satisfied: zipp>=3.1.0 in /usr/local/lib/python3.6/dist-packages (from importlib-resources->tqdm) (3.5.0)\n",
      "\u001b[33mWARNING: Running pip as the 'root' user can result in broken permissions and conflicting behaviour with the system package manager. It is recommended to use a virtual environment instead: https://pip.pypa.io/warnings/venv\u001b[0m\n"
     ]
    }
   ],
   "source": [
    "!pip install tqdm"
   ]
  },
  {
   "cell_type": "code",
   "execution_count": 28,
   "id": "6f9e8a6b",
   "metadata": {
    "ExecuteTime": {
     "end_time": "2022-09-18T04:19:22.697309Z",
     "start_time": "2022-09-18T04:19:22.692256Z"
    }
   },
   "outputs": [],
   "source": [
    "f = files[-1]"
   ]
  },
  {
   "cell_type": "code",
   "execution_count": 29,
   "id": "8eadd65c",
   "metadata": {
    "ExecuteTime": {
     "end_time": "2022-09-18T04:19:28.832737Z",
     "start_time": "2022-09-18T04:19:28.824843Z"
    }
   },
   "outputs": [
    {
     "data": {
      "text/plain": [
       "'/home/team01/datasets/mit/images/val/moire/000/000694.png'"
      ]
     },
     "execution_count": 29,
     "metadata": {},
     "output_type": "execute_result"
    }
   ],
   "source": [
    "f"
   ]
  },
  {
   "cell_type": "code",
   "execution_count": 31,
   "id": "07155cb6",
   "metadata": {
    "ExecuteTime": {
     "end_time": "2022-09-18T04:20:06.077416Z",
     "start_time": "2022-09-18T04:20:06.072636Z"
    }
   },
   "outputs": [],
   "source": [
    "fn = '/home/team01/datasets/mit/images_cycle_gan_bayer/val/moire/000/000694.npy'"
   ]
  },
  {
   "cell_type": "code",
   "execution_count": 32,
   "id": "fa8cc936",
   "metadata": {
    "ExecuteTime": {
     "end_time": "2022-09-18T04:20:13.789600Z",
     "start_time": "2022-09-18T04:20:13.780898Z"
    }
   },
   "outputs": [],
   "source": [
    "arr = np.load(fn)"
   ]
  },
  {
   "cell_type": "code",
   "execution_count": 33,
   "id": "31f46a18",
   "metadata": {
    "ExecuteTime": {
     "end_time": "2022-09-18T04:20:16.795703Z",
     "start_time": "2022-09-18T04:20:16.789323Z"
    }
   },
   "outputs": [
    {
     "data": {
      "text/plain": [
       "(128, 128, 3)"
      ]
     },
     "execution_count": 33,
     "metadata": {},
     "output_type": "execute_result"
    }
   ],
   "source": [
    "arr.shape"
   ]
  },
  {
   "cell_type": "code",
   "execution_count": 34,
   "id": "9931f823",
   "metadata": {
    "ExecuteTime": {
     "end_time": "2022-09-18T04:20:25.386797Z",
     "start_time": "2022-09-18T04:20:25.379462Z"
    }
   },
   "outputs": [
    {
     "data": {
      "text/plain": [
       "dtype('uint16')"
      ]
     },
     "execution_count": 34,
     "metadata": {},
     "output_type": "execute_result"
    }
   ],
   "source": [
    "arr.dtype"
   ]
  },
  {
   "cell_type": "code",
   "execution_count": 35,
   "id": "f9aafbff",
   "metadata": {
    "ExecuteTime": {
     "end_time": "2022-09-18T04:20:47.074849Z",
     "start_time": "2022-09-18T04:20:47.069662Z"
    }
   },
   "outputs": [],
   "source": [
    "img = arr/(2**16-1)"
   ]
  },
  {
   "cell_type": "code",
   "execution_count": 37,
   "id": "295b6c62",
   "metadata": {
    "ExecuteTime": {
     "end_time": "2022-09-18T04:21:04.647650Z",
     "start_time": "2022-09-18T04:21:04.372647Z"
    }
   },
   "outputs": [],
   "source": [
    "import matplotlib.pyplot as plt"
   ]
  },
  {
   "cell_type": "code",
   "execution_count": 38,
   "id": "4c6d4fa3",
   "metadata": {
    "ExecuteTime": {
     "end_time": "2022-09-18T04:21:29.414263Z",
     "start_time": "2022-09-18T04:21:29.088589Z"
    }
   },
   "outputs": [
    {
     "data": {
      "text/plain": [
       "<matplotlib.image.AxesImage at 0x7f3e18923cc0>"
      ]
     },
     "execution_count": 38,
     "metadata": {},
     "output_type": "execute_result"
    },
    {
     "data": {
      "image/png": "[encoded data removed]",
      "text/plain": [
       "<Figure size 432x288 with 1 Axes>"
      ]
     },
     "metadata": {
      "needs_background": "light"
     },
     "output_type": "display_data"
    }
   ],
   "source": [
    "plt.imshow(img)"
   ]
  },
  {
   "cell_type": "code",
   "execution_count": 39,
   "id": "915d6ed2",
   "metadata": {
    "ExecuteTime": {
     "end_time": "2022-09-18T04:28:42.690447Z",
     "start_time": "2022-09-18T04:28:42.679187Z"
    }
   },
   "outputs": [
    {
     "data": {
      "text/plain": [
       "array([[    2,     0,     0,     0],\n",
       "       [    0,     0,     0,     0],\n",
       "       [19371, 32665,     0,     0],\n",
       "       [33964, 40746,     0,     0]], dtype=uint16)"
      ]
     },
     "execution_count": 39,
     "metadata": {},
     "output_type": "execute_result"
    }
   ],
   "source": [
    "arr[:4,:4, 0]"
   ]
  },
  {
   "cell_type": "code",
   "execution_count": 40,
   "id": "976feb01",
   "metadata": {
    "ExecuteTime": {
     "end_time": "2022-09-18T04:29:02.481368Z",
     "start_time": "2022-09-18T04:29:02.475465Z"
    }
   },
   "outputs": [
    {
     "data": {
      "text/plain": [
       "array([[13709, 33980,     1,     0],\n",
       "       [37462, 38640,     0,    20],\n",
       "       [    6,     0, 17049, 31068],\n",
       "       [    0,     0, 39541, 40174]], dtype=uint16)"
      ]
     },
     "execution_count": 40,
     "metadata": {},
     "output_type": "execute_result"
    }
   ],
   "source": [
    "arr[:4,:4, 1]"
   ]
  },
  {
   "cell_type": "code",
   "execution_count": 41,
   "id": "a73fa34d",
   "metadata": {
    "ExecuteTime": {
     "end_time": "2022-09-18T04:29:09.927980Z",
     "start_time": "2022-09-18T04:29:09.922975Z"
    }
   },
   "outputs": [
    {
     "data": {
      "text/plain": [
       "array([[   67,    94, 14410, 31756],\n",
       "       [    2,     1, 36992, 30044],\n",
       "       [    0,     0,     6,     0],\n",
       "       [    0,     0,     0,     0]], dtype=uint16)"
      ]
     },
     "execution_count": 41,
     "metadata": {},
     "output_type": "execute_result"
    }
   ],
   "source": [
    "arr[:4,:4, 2]"
   ]
  },
  {
   "cell_type": "code",
   "execution_count": null,
   "id": "7e31f338",
   "metadata": {},
   "outputs": [],
   "source": []
  }
 ],
 "metadata": {
  "kernelspec": {
   "display_name": "Python 3",
   "language": "python",
   "name": "python3"
  },
  "language_info": {
   "codemirror_mode": {
    "name": "ipython",
    "version": 3
   },
   "file_extension": ".py",
   "mimetype": "text/x-python",
   "name": "python",
   "nbconvert_exporter": "python",
   "pygments_lexer": "ipython3",
   "version": "3.6.9"
  },
  "varInspector": {
   "cols": {
    "lenName": 16,
    "lenType": 16,
    "lenVar": 40
   },
   "kernels_config": {
    "python": {
     "delete_cmd_postfix": "",
     "delete_cmd_prefix": "del ",
     "library": "var_list.py",
     "varRefreshCmd": "print(var_dic_list())"
    },
    "r": {
     "delete_cmd_postfix": ") ",
     "delete_cmd_prefix": "rm(",
     "library": "var_list.r",
     "varRefreshCmd": "cat(var_dic_list()) "
    }
   },
   "types_to_exclude": [
    "module",
    "function",
    "builtin_function_or_method",
    "instance",
    "_Feature"
   ],
   "window_display": false
  }
 },
 "nbformat": 4,
 "nbformat_minor": 5
}
