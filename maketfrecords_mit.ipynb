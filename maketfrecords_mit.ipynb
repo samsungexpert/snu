{
 "cells": [
  {
   "cell_type": "markdown",
   "id": "fdbf6acd",
   "metadata": {
    "colab_type": "text",
    "id": "view-in-github"
   },
   "source": [
    "<a href=\"https://colab.research.google.com/github/hellobwjung/colab/blob/master/maketfrecords.ipynb\" target=\"_parent\"><img src=\"https://colab.research.google.com/assets/colab-badge.svg\" alt=\"Open In Colab\"/></a>"
   ]
  },
  {
   "cell_type": "code",
   "execution_count": 1,
   "id": "118c30ce",
   "metadata": {
    "ExecuteTime": {
     "end_time": "2022-10-31T11:34:27.460141Z",
     "start_time": "2022-10-31T11:34:27.457696Z"
    },
    "id": "118c30ce"
   },
   "outputs": [],
   "source": [
    "import os, glob\n",
    "os.environ[\"CUDA_VISIBLE_DEVICES\"]=\"-1\""
   ]
  },
  {
   "cell_type": "code",
   "execution_count": 32,
   "id": "8d79554e",
   "metadata": {
    "ExecuteTime": {
     "end_time": "2022-10-31T11:50:19.590715Z",
     "start_time": "2022-10-31T11:50:19.588200Z"
    },
    "id": "8d79554e"
   },
   "outputs": [],
   "source": [
    "import glob\n",
    "import random\n",
    "import tqdm\n",
    "import shutil"
   ]
  },
  {
   "cell_type": "code",
   "execution_count": 3,
   "id": "a9c5ff16",
   "metadata": {
    "ExecuteTime": {
     "end_time": "2022-10-31T11:34:40.976083Z",
     "start_time": "2022-10-31T11:34:40.286668Z"
    },
    "id": "a9c5ff16"
   },
   "outputs": [],
   "source": [
    "import numpy as np\n",
    "import matplotlib.pyplot as plt\n",
    "import PIL.Image as Image"
   ]
  },
  {
   "cell_type": "code",
   "execution_count": 4,
   "id": "5e01152e",
   "metadata": {
    "ExecuteTime": {
     "end_time": "2022-10-31T11:34:43.483088Z",
     "start_time": "2022-10-31T11:34:41.614380Z"
    },
    "colab": {
     "base_uri": "https://localhost:8080/",
     "height": 36
    },
    "id": "5e01152e",
    "outputId": "2b11189f-a2d5-4490-8299-dcf9ed3fb82b"
   },
   "outputs": [
    {
     "data": {
      "text/plain": [
       "'2.10.0'"
      ]
     },
     "execution_count": 4,
     "metadata": {},
     "output_type": "execute_result"
    }
   ],
   "source": [
    "import tensorflow as tf\n",
    "tf.__version__"
   ]
  },
  {
   "cell_type": "markdown",
   "id": "fd7935e4",
   "metadata": {},
   "source": [
    "# copy 1/10 dataset "
   ]
  },
  {
   "cell_type": "code",
   "execution_count": 10,
   "id": "e61df977",
   "metadata": {
    "ExecuteTime": {
     "end_time": "2022-10-31T11:38:46.761842Z",
     "start_time": "2022-10-31T11:38:46.758303Z"
    }
   },
   "outputs": [
    {
     "data": {
      "text/plain": [
       "'/home/bw.jung/code/core'"
      ]
     },
     "execution_count": 10,
     "metadata": {},
     "output_type": "execute_result"
    }
   ],
   "source": [
    "%pwd"
   ]
  },
  {
   "cell_type": "markdown",
   "id": "948c1d4b",
   "metadata": {},
   "source": [
    "# glob 1/10 of mit traning data"
   ]
  },
  {
   "cell_type": "code",
   "execution_count": 34,
   "id": "c2d0d39b",
   "metadata": {
    "ExecuteTime": {
     "end_time": "2022-10-31T11:52:10.380565Z",
     "start_time": "2022-10-31T11:52:09.299279Z"
    },
    "id": "c2d0d39b"
   },
   "outputs": [
    {
     "name": "stdout",
     "output_type": "stream",
     "text": [
      "/dataset/MIT/imgs/images/train/moire/001/010188.png\n",
      "len(files) 260000\n",
      "/dataset/MIT/imgs/images/train\n",
      "/dataset/MIT/imgs/images_sub10/train\n"
     ]
    }
   ],
   "source": [
    "\n",
    "## find trining dataset\n",
    "base_dir = '/dataset/MIT/imgs'\n",
    "src_dir = os.path.join(base_dir, 'images', 'train')\n",
    "folders = glob.glob(os.path.join(src_dir, '**', '**'))\n",
    "# print(os.listdir(base_dir))\n",
    "# print(src_dir)\n",
    "# print(folders)\n",
    "\n",
    "files = []\n",
    "folders.sort()\n",
    "folders_src = []\n",
    "for temp in folders:\n",
    "    folder_num = temp.split('/')[-1]\n",
    "#     print(temp, folder_num)\n",
    "    if int(folder_num) % 10 == 1:\n",
    "        folders_src.append(temp)\n",
    "#         print(temp)\n",
    "        files += glob.glob(os.path.join(temp, '**/**.png'), recursive=True)\n",
    "\n",
    "print(files[-1])\n",
    "print('len(files)', len(files))\n",
    "\n",
    "# dirs = os.listdir(src_dir)\n",
    "# for idx, d in enumerate(dirs):\n",
    "#     print(idx, d)\n",
    "\n",
    "# target folders\n",
    "new_name = 'images_sub10'\n",
    "target_dir = os.path.join(base_dir, new_name, 'train')\n",
    "os.makedirs(target_dir, mode=777, exist_ok=True)\n",
    "\n",
    "# ## model\n",
    "print(src_dir)\n",
    "print(target_dir)\n",
    "\n"
   ]
  },
  {
   "cell_type": "code",
   "execution_count": 35,
   "id": "f21b267d",
   "metadata": {
    "ExecuteTime": {
     "end_time": "2022-10-31T11:52:20.624169Z",
     "start_time": "2022-10-31T11:52:20.619605Z"
    }
   },
   "outputs": [
    {
     "data": {
      "text/plain": [
       "['/dataset/MIT/imgs/images/train/hdrvdp/001',\n",
       " '/dataset/MIT/imgs/images/train/hdrvdp/011',\n",
       " '/dataset/MIT/imgs/images/train/hdrvdp/021',\n",
       " '/dataset/MIT/imgs/images/train/hdrvdp/031',\n",
       " '/dataset/MIT/imgs/images/train/hdrvdp/041',\n",
       " '/dataset/MIT/imgs/images/train/hdrvdp/051',\n",
       " '/dataset/MIT/imgs/images/train/hdrvdp/061',\n",
       " '/dataset/MIT/imgs/images/train/hdrvdp/071',\n",
       " '/dataset/MIT/imgs/images/train/hdrvdp/081',\n",
       " '/dataset/MIT/imgs/images/train/hdrvdp/091',\n",
       " '/dataset/MIT/imgs/images/train/hdrvdp/101',\n",
       " '/dataset/MIT/imgs/images/train/hdrvdp/111',\n",
       " '/dataset/MIT/imgs/images/train/hdrvdp/121',\n",
       " '/dataset/MIT/imgs/images/train/hdrvdp/131',\n",
       " '/dataset/MIT/imgs/images/train/hdrvdp/141',\n",
       " '/dataset/MIT/imgs/images/train/hdrvdp/151',\n",
       " '/dataset/MIT/imgs/images/train/hdrvdp/161',\n",
       " '/dataset/MIT/imgs/images/train/hdrvdp/171',\n",
       " '/dataset/MIT/imgs/images/train/hdrvdp/181',\n",
       " '/dataset/MIT/imgs/images/train/hdrvdp/191',\n",
       " '/dataset/MIT/imgs/images/train/hdrvdp/201',\n",
       " '/dataset/MIT/imgs/images/train/hdrvdp/211',\n",
       " '/dataset/MIT/imgs/images/train/hdrvdp/221',\n",
       " '/dataset/MIT/imgs/images/train/hdrvdp/231',\n",
       " '/dataset/MIT/imgs/images/train/hdrvdp/241',\n",
       " '/dataset/MIT/imgs/images/train/moire/001']"
      ]
     },
     "execution_count": 35,
     "metadata": {},
     "output_type": "execute_result"
    }
   ],
   "source": [
    "folders_src"
   ]
  },
  {
   "cell_type": "markdown",
   "id": "a9a6edf0",
   "metadata": {},
   "source": [
    "# copy 1/10 data to new folder"
   ]
  },
  {
   "cell_type": "code",
   "execution_count": 31,
   "id": "0134f9c8",
   "metadata": {
    "ExecuteTime": {
     "end_time": "2022-10-31T11:49:53.051139Z",
     "start_time": "2022-10-31T11:49:52.533811Z"
    }
   },
   "outputs": [
    {
     "name": "stdout",
     "output_type": "stream",
     "text": [
      "/dataset/MIT/imgs\n",
      "total 87455932\n",
      "drwxr-xr-x  4 1005 1005        4096 Oct 31 11:43 \u001b[0m\u001b[01;34m.\u001b[0m/\n",
      "drwxrwxrwx 14 1005 1005        4096 Mar 27  2022 \u001b[34;42m..\u001b[0m/\n",
      "drwxr-xr-x  5 1005 1005        4096 Jan 26  2017 \u001b[01;34mimages\u001b[0m/\n",
      "drwxr-xr-x  5 root root        4096 Oct 31 11:45 \u001b[01;34mimages_sub10\u001b[0m/\n",
      "-rwxrwxrwx  1 1007 1007 89554845825 Dec 14  2019 \u001b[01;32mjoined.zip\u001b[0m*\n"
     ]
    }
   ],
   "source": [
    "%cd $base_dir\n",
    "%ls -la"
   ]
  },
  {
   "cell_type": "code",
   "execution_count": 43,
   "id": "36ed82ed",
   "metadata": {
    "ExecuteTime": {
     "end_time": "2022-10-31T11:58:50.035833Z",
     "start_time": "2022-10-31T11:58:25.094034Z"
    }
   },
   "outputs": [
    {
     "name": "stdout",
     "output_type": "stream",
     "text": [
      "0 ]  images/train/hdrvdp/001 --> images_sub10/train/hdrvdp/001\n",
      "1 ]  images/train/hdrvdp/011 --> images_sub10/train/hdrvdp/011\n",
      "2 ]  images/train/hdrvdp/021 --> images_sub10/train/hdrvdp/021\n",
      "3 ]  images/train/hdrvdp/031 --> images_sub10/train/hdrvdp/031\n",
      "4 ]  images/train/hdrvdp/041 --> images_sub10/train/hdrvdp/041\n",
      "5 ]  images/train/hdrvdp/051 --> images_sub10/train/hdrvdp/051\n",
      "6 ]  images/train/hdrvdp/061 --> images_sub10/train/hdrvdp/061\n",
      "7 ]  images/train/hdrvdp/071 --> images_sub10/train/hdrvdp/071\n",
      "8 ]  images/train/hdrvdp/081 --> images_sub10/train/hdrvdp/081\n",
      "9 ]  images/train/hdrvdp/091 --> images_sub10/train/hdrvdp/091\n",
      "10 ]  images/train/hdrvdp/101 --> images_sub10/train/hdrvdp/101\n",
      "11 ]  images/train/hdrvdp/111 --> images_sub10/train/hdrvdp/111\n",
      "12 ]  images/train/hdrvdp/121 --> images_sub10/train/hdrvdp/121\n",
      "13 ]  images/train/hdrvdp/131 --> images_sub10/train/hdrvdp/131\n",
      "14 ]  images/train/hdrvdp/141 --> images_sub10/train/hdrvdp/141\n",
      "15 ]  images/train/hdrvdp/151 --> images_sub10/train/hdrvdp/151\n",
      "16 ]  images/train/hdrvdp/161 --> images_sub10/train/hdrvdp/161\n",
      "17 ]  images/train/hdrvdp/171 --> images_sub10/train/hdrvdp/171\n",
      "18 ]  images/train/hdrvdp/181 --> images_sub10/train/hdrvdp/181\n",
      "19 ]  images/train/hdrvdp/191 --> images_sub10/train/hdrvdp/191\n",
      "20 ]  images/train/hdrvdp/201 --> images_sub10/train/hdrvdp/201\n",
      "21 ]  images/train/hdrvdp/211 --> images_sub10/train/hdrvdp/211\n",
      "22 ]  images/train/hdrvdp/221 --> images_sub10/train/hdrvdp/221\n",
      "23 ]  images/train/hdrvdp/231 --> images_sub10/train/hdrvdp/231\n",
      "24 ]  images/train/hdrvdp/241 --> images_sub10/train/hdrvdp/241\n",
      "25 ]  images/train/moire/001 --> images_sub10/train/moire/001\n"
     ]
    }
   ],
   "source": [
    "from distutils.dir_util import copy_tree\n",
    "\n",
    "for idx, f in enumerate(folders_src):\n",
    "    src = '/'.join(f.split('/')[4:])\n",
    "    dst = 'images_sub10/' + '/'.join(f.split('/')[5:])\n",
    "    copy_tree(src, dst)\n",
    "    print(idx, '] ', src, '-->', dst)\n",
    "    \n",
    "#     break\n",
    "    "
   ]
  },
  {
   "cell_type": "markdown",
   "id": "f394f07e",
   "metadata": {},
   "source": [
    "# check if training files are same"
   ]
  },
  {
   "cell_type": "code",
   "execution_count": 46,
   "id": "897a89bc",
   "metadata": {
    "ExecuteTime": {
     "end_time": "2022-10-31T12:00:42.872186Z",
     "start_time": "2022-10-31T12:00:41.772508Z"
    }
   },
   "outputs": [
    {
     "data": {
      "text/plain": [
       "260000"
      ]
     },
     "execution_count": 46,
     "metadata": {},
     "output_type": "execute_result"
    }
   ],
   "source": [
    "files_dst = glob.glob(os.path.join('/dataset/MIT/imgs/images_sub10/train', '**/**.png'), recursive=True)\n",
    "len(files_dst)"
   ]
  },
  {
   "cell_type": "markdown",
   "id": "5a770ffd",
   "metadata": {},
   "source": [
    "# Make tfrecords"
   ]
  },
  {
   "cell_type": "code",
   "execution_count": 47,
   "id": "a60f4500",
   "metadata": {
    "ExecuteTime": {
     "end_time": "2022-10-31T12:07:25.060588Z",
     "start_time": "2022-10-31T12:07:23.944021Z"
    },
    "id": "a60f4500"
   },
   "outputs": [
    {
     "name": "stdout",
     "output_type": "stream",
     "text": [
      "260000\n",
      "6000\n"
     ]
    }
   ],
   "source": [
    "base_dir = \"/dataset/MIT/imgs/images_sub10\"\n",
    "\n",
    "files_train = glob.glob(os.path.join(base_dir, 'train', '**/**.png'), recursive=True)\n",
    "files_valid  = glob.glob(os.path.join(base_dir, 'test', '**/**.png'), recursive=True)\n",
    "files_valid += glob.glob(os.path.join(base_dir,  'val', '**/**.png'), recursive=True)\n",
    "print(len(files_train))\n",
    "print(len(files_valid))"
   ]
  },
  {
   "cell_type": "markdown",
   "id": "76f8d33a",
   "metadata": {
    "ExecuteTime": {
     "end_time": "2022-09-20T13:36:43.524729Z",
     "start_time": "2022-09-20T13:36:43.491504Z"
    },
    "id": "b61e7b7e"
   },
   "source": [
    "## shuffle files"
   ]
  },
  {
   "cell_type": "code",
   "execution_count": 52,
   "id": "af4d16c6",
   "metadata": {
    "ExecuteTime": {
     "end_time": "2022-10-31T12:16:00.009133Z",
     "start_time": "2022-10-31T12:15:59.809749Z"
    },
    "id": "af4d16c6"
   },
   "outputs": [],
   "source": [
    "random.shuffle(files_train)\n",
    "random.shuffle(files_valid)"
   ]
  },
  {
   "cell_type": "markdown",
   "id": "d31a0e85",
   "metadata": {},
   "source": [
    "## tfrecords helper function"
   ]
  },
  {
   "cell_type": "code",
   "execution_count": 57,
   "id": "89aae085",
   "metadata": {
    "ExecuteTime": {
     "end_time": "2022-10-31T12:23:01.223564Z",
     "start_time": "2022-10-31T12:23:01.217096Z"
    },
    "id": "89aae085"
   },
   "outputs": [],
   "source": [
    "def write_tfrecords(file_list, idx_split, dataset_name, output_path):\n",
    "\n",
    "    ext = file_list[0].split('.')[-1]\n",
    "\n",
    "    tfrecords_name = '%s_%03d.tfrecords' % (dataset_name, idx_split)\n",
    "    tfrecords_name = os.path.join(output_path, tfrecords_name)\n",
    "\n",
    "    if os.path.isfile(tfrecords_name):\n",
    "        print('OHNO -->. tfrecord (%s) exists' % tfrecords_name)\n",
    "        #return\n",
    "\n",
    "    print('tfrecord not exists')\n",
    "    print('--->', tfrecords_name)\n",
    "\n",
    "    writer = tf.io.TFRecordWriter(tfrecords_name)\n",
    "\n",
    "    for index, file_name in enumerate(tqdm.tqdm(file_list)):\n",
    "#         print('%d / %d' % (index+1, len(file_list)))\n",
    "        \n",
    "    \n",
    "        # for png        \n",
    "        if ext == 'npy':            \n",
    "            image_arr = np.load(file_name)\n",
    "        else: \n",
    "            image = Image.open(file_name)\n",
    "            image_arr = np.array(image)\n",
    "        \n",
    "        image_byte = image_arr.tobytes()\n",
    "\n",
    "        example = tf.train.Example(\n",
    "                features=tf.train.Features(feature={\n",
    "                    'image': tf.train.Feature(\n",
    "                            bytes_list=tf.train.BytesList(value=[image_byte])\n",
    "                    )\n",
    "                })\n",
    "        )\n",
    "\n",
    "\n",
    "\n",
    "        writer.write(example.SerializeToString())\n",
    "    writer.close()\n",
    "\n",
    "\n"
   ]
  },
  {
   "cell_type": "code",
   "execution_count": 58,
   "id": "b1f069e8",
   "metadata": {
    "ExecuteTime": {
     "end_time": "2022-10-31T12:23:01.705927Z",
     "start_time": "2022-10-31T12:23:01.700545Z"
    },
    "id": "b1f069e8"
   },
   "outputs": [],
   "source": [
    "def make_tfrecords(flist, num_splits, dataset_name, output_path='.'):\n",
    "\n",
    " \n",
    "\n",
    "    assert len(flist) > 0, f'no file is found'\n",
    "    random.shuffle(flist)\n",
    "    random.shuffle(flist)\n",
    "\n",
    "    total_len = len(flist)\n",
    "    split_len = total_len // num_splits\n",
    "\n",
    "    print(total_len, split_len)\n",
    "    start_idx = np.array(list(range(num_splits)) )* split_len\n",
    "    finish_idx= (np.array((list(range(num_splits)) )) + 1) * split_len\n",
    "\n",
    "    print(start_idx)\n",
    "    print(finish_idx)\n",
    "    finish_idx[-1] = total_len\n",
    "\n",
    "    # exit()\n",
    "    # print(start_idx)\n",
    "    # print(finish_idx)\n",
    "\n",
    "    for idx_split in range(num_splits):\n",
    "        print(f'... {idx_split+1} / {num_splits}')\n",
    "        idx_s = start_idx[idx_split]\n",
    "        idx_f = finish_idx[idx_split]\n",
    "        write_tfrecords(flist[idx_s:idx_f], idx_split, dataset_name, output_path)\n",
    "\n",
    "    print('done make_tfrecords')"
   ]
  },
  {
   "cell_type": "code",
   "execution_count": 59,
   "id": "b662ca47",
   "metadata": {
    "ExecuteTime": {
     "end_time": "2022-10-31T12:23:03.120754Z",
     "start_time": "2022-10-31T12:23:03.116929Z"
    }
   },
   "outputs": [
    {
     "data": {
      "text/plain": [
       "'/dataset/MIT/imgs'"
      ]
     },
     "execution_count": 59,
     "metadata": {},
     "output_type": "execute_result"
    }
   ],
   "source": [
    "%pwd"
   ]
  },
  {
   "cell_type": "code",
   "execution_count": 61,
   "id": "9f1efb54",
   "metadata": {
    "ExecuteTime": {
     "end_time": "2022-10-31T12:28:05.055447Z",
     "start_time": "2022-10-31T12:28:00.081589Z"
    },
    "id": "9f1efb54",
    "outputId": "148db9d3-f393-4324-f4b8-c0a5a23c410e"
   },
   "outputs": [
    {
     "name": "stdout",
     "output_type": "stream",
     "text": [
      "6000 6000\n",
      "[0]\n",
      "[6000]\n",
      "... 1 / 1\n",
      "OHNO -->. tfrecord (/dataset/MIT/tfrecords_sub10/mit_sub10_valid_test_260000_000.tfrecords) exists\n",
      "tfrecord not exists\n",
      "---> /dataset/MIT/tfrecords_sub10/mit_sub10_valid_test_260000_000.tfrecords\n"
     ]
    },
    {
     "name": "stderr",
     "output_type": "stream",
     "text": [
      "100%|██████████| 6000/6000 [00:04<00:00, 1311.89it/s]\n"
     ]
    },
    {
     "name": "stdout",
     "output_type": "stream",
     "text": [
      "done make_tfrecords\n"
     ]
    }
   ],
   "source": [
    "## make tfrecords\n",
    "output_path = '/dataset/MIT/tfrecords_sub10'\n",
    "\n",
    "# train files\n",
    "# num_of_splits = 20\n",
    "# make_tfrecords(flist=files_train, num_splits=num_of_splits, dataset_name='mit_sub10_train_%d'%(len(files_train)//num_of_splits), output_path=output_path)\n",
    "\n",
    "num_of_splits = 1\n",
    "make_tfrecords(flist=files_valid, num_splits=num_of_splits, dataset_name='mit_sub10_valid_test_%d'%(len(files_train)), output_path=output_path)\n"
   ]
  },
  {
   "cell_type": "code",
   "execution_count": null,
   "id": "23ca969d",
   "metadata": {
    "ExecuteTime": {
     "end_time": "2022-09-20T14:14:44.778409Z",
     "start_time": "2022-09-20T14:14:44.768874Z"
    },
    "id": "23ca969d",
    "outputId": "fa205ff9-bcfe-4baf-fab9-b27a689ce4d7"
   },
   "outputs": [
    {
     "data": {
      "text/plain": [
       "'/data03/team01/mit'"
      ]
     },
     "execution_count": 17,
     "metadata": {},
     "output_type": "execute_result"
    }
   ],
   "source": [
    "%pwd"
   ]
  },
  {
   "cell_type": "code",
   "execution_count": null,
   "id": "c8a57408",
   "metadata": {
    "ExecuteTime": {
     "end_time": "2022-09-20T14:14:46.047863Z",
     "start_time": "2022-09-20T14:14:46.044583Z"
    },
    "id": "c8a57408"
   },
   "outputs": [],
   "source": [
    "# !rm tfrecords/*"
   ]
  },
  {
   "cell_type": "code",
   "execution_count": null,
   "id": "641a7944",
   "metadata": {
    "id": "641a7944"
   },
   "outputs": [],
   "source": []
  },
  {
   "cell_type": "code",
   "execution_count": null,
   "id": "b162b4bf",
   "metadata": {
    "id": "b162b4bf"
   },
   "outputs": [],
   "source": []
  },
  {
   "cell_type": "markdown",
   "id": "8c34a693",
   "metadata": {
    "id": "8c34a693"
   },
   "source": [
    "# val/teat images"
   ]
  },
  {
   "cell_type": "code",
   "execution_count": null,
   "id": "8b3f75ea",
   "metadata": {
    "ExecuteTime": {
     "end_time": "2022-09-20T14:15:39.273134Z",
     "start_time": "2022-09-20T14:15:39.214866Z"
    },
    "id": "8b3f75ea",
    "outputId": "a2d6f473-42ff-404d-aa0e-803664e63377"
   },
   "outputs": [
    {
     "name": "stdout",
     "output_type": "stream",
     "text": [
      "/data03/team01/mit/images_unetv2_mit_unp/val/moire/000/001761.npy\n",
      "len(files) 4000\n",
      "/data03/team01/mit/images_unetv2_mit_unp/test/moire/000/000895.npy\n",
      "len(files) 6000\n"
     ]
    }
   ],
   "source": [
    "mydir = 'images'\n",
    "mydir = 'images_unetv2_mit_unp'\n",
    "# mydir = 'images_cycle_gan_bayer/'\n",
    "\n",
    "src_dir = os.path.join(base_dir, mydir, 'val')\n",
    "folders = glob.glob(os.path.join(src_dir, '**', '**'))\n",
    "files = []\n",
    "folders.sort()\n",
    "for temp in folders:\n",
    "    files += glob.glob(os.path.join(temp, '**/**.npy'), recursive=True)     \n",
    "print(files[-1])\n",
    "print('len(files)', len(files))\n",
    "\n",
    "\n",
    "src_dir = os.path.join(base_dir, mydir, 'test')\n",
    "folders = glob.glob(os.path.join(src_dir, '**', '**'))\n",
    "folders.sort()\n",
    "for temp in folders:\n",
    "    files += glob.glob(os.path.join(temp, '**/**.npy'), recursive=True)     \n",
    "print(files[-1])\n",
    "print('len(files)', len(files))\n",
    "\n",
    " "
   ]
  },
  {
   "cell_type": "code",
   "execution_count": null,
   "id": "5ff95aec",
   "metadata": {
    "ExecuteTime": {
     "end_time": "2022-09-20T14:15:51.610421Z",
     "start_time": "2022-09-20T14:15:44.614881Z"
    },
    "id": "5ff95aec",
    "outputId": "20a584ee-9b83-4652-92dc-848573adbf30"
   },
   "outputs": [
    {
     "name": "stdout",
     "output_type": "stream",
     "text": [
      "6000 6000\n",
      "[0]\n",
      "[6000]\n",
      "... 1 / 1\n",
      "OHNO -->. tfrecord (tfrecords/mit_cyclegan_test_valid_000.tfrecords) exists\n",
      "tfrecord not exists\n",
      "---> tfrecords/mit_cyclegan_test_valid_000.tfrecords\n"
     ]
    },
    {
     "name": "stderr",
     "output_type": "stream",
     "text": [
      "100%|██████████| 6000/6000 [00:04<00:00, 1334.70it/s]\n"
     ]
    },
    {
     "name": "stdout",
     "output_type": "stream",
     "text": [
      "done make_tfrecords\n"
     ]
    }
   ],
   "source": [
    "## make tfrecords\n",
    "num_of_splits = 1\n",
    "make_tfrecords(flist=files, num_splits=num_of_splits, dataset_name='mit_cyclegan_test_valid', output_path='tfrecords')"
   ]
  },
  {
   "cell_type": "markdown",
   "id": "22a5e657",
   "metadata": {
    "id": "22a5e657"
   },
   "source": [
    "# viz"
   ]
  },
  {
   "cell_type": "code",
   "execution_count": null,
   "id": "b51ade55",
   "metadata": {
    "ExecuteTime": {
     "end_time": "2022-09-20T14:16:32.649430Z",
     "start_time": "2022-09-20T14:16:32.604789Z"
    },
    "id": "b51ade55",
    "outputId": "eb1435f1-37c5-420a-bdca-7f7af3733401"
   },
   "outputs": [
    {
     "name": "stdout",
     "output_type": "stream",
     "text": [
      "/data03/team01/mit/images_cycle_gan_bayer/test/hdrvdp/000/000509.npy\n",
      "len(files) 8\n",
      "8 8\n",
      "[0]\n",
      "[8]\n",
      "... 1 / 1\n",
      "tfrecord not exists\n",
      "---> tfrecords/mit_cyclegan_old_viz_000.tfrecords\n"
     ]
    },
    {
     "name": "stderr",
     "output_type": "stream",
     "text": [
      "100%|██████████| 8/8 [00:00<00:00, 749.90it/s]"
     ]
    },
    {
     "name": "stdout",
     "output_type": "stream",
     "text": [
      "done make_tfrecords\n"
     ]
    },
    {
     "name": "stderr",
     "output_type": "stream",
     "text": [
      "\n"
     ]
    }
   ],
   "source": [
    "\n",
    "mydir = 'images'\n",
    "mydir = 'images_cycle_gan_bayer'\n",
    "mydir = 'images_unetv2_mit_unp'\n",
    "mydir = 'images_unetv2_mit_unp'\n",
    "mydir = 'images_cycle_gan_bayer'\n",
    "\n",
    "files = [] \n",
    "src_dir = os.path.join(base_dir, mydir, 'test')\n",
    "folders = glob.glob(os.path.join(src_dir, '**', '**'))\n",
    "folders.sort()\n",
    "\n",
    "for temp in folders:\n",
    "    files += glob.glob(os.path.join(temp, '**/**.npy'), recursive=True)     \n",
    "files = files[:8]\n",
    "print(files[-1])\n",
    "print('len(files)', len(files))\n",
    "\n",
    " ## make tfrecords\n",
    "num_of_splits = 1\n",
    "make_tfrecords(flist=files, num_splits=num_of_splits, dataset_name='mit_cyclegan_old_viz', output_path='tfrecords')"
   ]
  },
  {
   "cell_type": "code",
   "execution_count": null,
   "id": "5fa25352",
   "metadata": {
    "id": "5fa25352"
   },
   "outputs": [],
   "source": []
  },
  {
   "cell_type": "code",
   "execution_count": null,
   "id": "7a348d68",
   "metadata": {
    "ExecuteTime": {
     "end_time": "2022-09-09T11:17:51.991968Z",
     "start_time": "2022-09-09T11:17:51.983467Z"
    },
    "id": "7a348d68",
    "outputId": "6af1b43d-0fee-4c0a-a609-979e9aa722a1"
   },
   "outputs": [
    {
     "data": {
      "text/plain": [
       "128.0"
      ]
     },
     "execution_count": 63,
     "metadata": {},
     "output_type": "execute_result"
    }
   ],
   "source": [
    "16384/128"
   ]
  },
  {
   "cell_type": "code",
   "execution_count": null,
   "id": "22225cd8",
   "metadata": {
    "ExecuteTime": {
     "end_time": "2022-09-09T11:18:17.570613Z",
     "start_time": "2022-09-09T11:18:17.561546Z"
    },
    "id": "22225cd8",
    "outputId": "46a13f3a-255a-4480-d50a-ccfa498747c1"
   },
   "outputs": [
    {
     "data": {
      "text/plain": [
       "3.0"
      ]
     },
     "execution_count": 64,
     "metadata": {},
     "output_type": "execute_result"
    }
   ],
   "source": [
    "49152 / 16384"
   ]
  },
  {
   "cell_type": "code",
   "execution_count": null,
   "id": "ffa657f4",
   "metadata": {
    "id": "ffa657f4"
   },
   "outputs": [],
   "source": []
  },
  {
   "cell_type": "code",
   "execution_count": null,
   "id": "5df74f45",
   "metadata": {
    "id": "5df74f45"
   },
   "outputs": [],
   "source": []
  },
  {
   "cell_type": "code",
   "execution_count": null,
   "id": "76b08c7d",
   "metadata": {
    "id": "76b08c7d"
   },
   "outputs": [],
   "source": []
  },
  {
   "cell_type": "code",
   "execution_count": null,
   "id": "22a4c29b",
   "metadata": {
    "id": "22a4c29b"
   },
   "outputs": [],
   "source": []
  },
  {
   "cell_type": "code",
   "execution_count": null,
   "id": "26897664",
   "metadata": {
    "id": "26897664"
   },
   "outputs": [],
   "source": []
  },
  {
   "cell_type": "code",
   "execution_count": null,
   "id": "6e12ed10",
   "metadata": {
    "id": "6e12ed10"
   },
   "outputs": [],
   "source": []
  },
  {
   "cell_type": "code",
   "execution_count": null,
   "id": "55348693",
   "metadata": {
    "id": "55348693"
   },
   "outputs": [],
   "source": []
  }
 ],
 "metadata": {
  "colab": {
   "collapsed_sections": [],
   "include_colab_link": true,
   "provenance": []
  },
  "kernelspec": {
   "display_name": "Python 3",
   "language": "python",
   "name": "python3"
  },
  "language_info": {
   "codemirror_mode": {
    "name": "ipython",
    "version": 3
   },
   "file_extension": ".py",
   "mimetype": "text/x-python",
   "name": "python",
   "nbconvert_exporter": "python",
   "pygments_lexer": "ipython3",
   "version": "3.8.10"
  },
  "varInspector": {
   "cols": {
    "lenName": 16,
    "lenType": 16,
    "lenVar": 40
   },
   "kernels_config": {
    "python": {
     "delete_cmd_postfix": "",
     "delete_cmd_prefix": "del ",
     "library": "var_list.py",
     "varRefreshCmd": "print(var_dic_list())"
    },
    "r": {
     "delete_cmd_postfix": ") ",
     "delete_cmd_prefix": "rm(",
     "library": "var_list.r",
     "varRefreshCmd": "cat(var_dic_list()) "
    }
   },
   "types_to_exclude": [
    "module",
    "function",
    "builtin_function_or_method",
    "instance",
    "_Feature"
   ],
   "window_display": false
  }
 },
 "nbformat": 4,
 "nbformat_minor": 5
}
